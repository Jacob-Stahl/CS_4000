{
 "cells": [
  {
   "cell_type": "code",
   "execution_count": 1,
   "metadata": {},
   "outputs": [],
   "source": [
    "import pandas as pd\n",
    "import numpy as np\n",
    "import numerapi\n",
    "import os\n",
    "import plotly.express as px\n",
    "import plotly.graph_objects as go\n",
    "import catboost\n",
    "import optuna"
   ]
  },
  {
   "cell_type": "code",
   "execution_count": 2,
   "metadata": {},
   "outputs": [],
   "source": [
    "training_set = pd.read_parquet(\"data/numerai_training_data.parquet\")\n",
    "feature_names = [f for f in training_set.columns if \"feature_\" in f]"
   ]
  },
  {
   "cell_type": "code",
   "execution_count": 3,
   "metadata": {},
   "outputs": [
    {
     "name": "stdout",
     "output_type": "stream",
     "text": [
      "['0001' '0002' '0003' '0004' '0005' '0006' '0007' '0008' '0009' '0010'\n",
      " '0011' '0012' '0013' '0014' '0015' '0016' '0017' '0018' '0019' '0020'\n",
      " '0021' '0022' '0023' '0024' '0025' '0026' '0027' '0028' '0029' '0030'\n",
      " '0031' '0032' '0033' '0034' '0035' '0036' '0037' '0038' '0039' '0040'\n",
      " '0041' '0042' '0043' '0044' '0045' '0046' '0047' '0048' '0049' '0050'\n",
      " '0051' '0052' '0053' '0054' '0055' '0056' '0057' '0058' '0059' '0060'\n",
      " '0061' '0062' '0063' '0064' '0065' '0066' '0067' '0068' '0069' '0070'\n",
      " '0071' '0072' '0073' '0074' '0075' '0076' '0077' '0078' '0079' '0080'\n",
      " '0081' '0082' '0083' '0084' '0085' '0086' '0087' '0088' '0089' '0090'\n",
      " '0091' '0092' '0093' '0094' '0095' '0096' '0097' '0098' '0099' '0100'\n",
      " '0101' '0102' '0103' '0104' '0105' '0106' '0107' '0108' '0109' '0110'\n",
      " '0111' '0112' '0113' '0114' '0115' '0116' '0117' '0118' '0119' '0120'\n",
      " '0121' '0122' '0123' '0124' '0125' '0126' '0127' '0128' '0129' '0130'\n",
      " '0131' '0132' '0133' '0134' '0135' '0136' '0137' '0138' '0139' '0140'\n",
      " '0141' '0142' '0143' '0144' '0145' '0146' '0147' '0148' '0149' '0150'\n",
      " '0151' '0152' '0153' '0154' '0155' '0156' '0157' '0158' '0159' '0160'\n",
      " '0161' '0162' '0163' '0164' '0165' '0166' '0167' '0168' '0169' '0170'\n",
      " '0171' '0172' '0173' '0174' '0175' '0176' '0177' '0178' '0179' '0180'\n",
      " '0181' '0182' '0183' '0184' '0185' '0186' '0187' '0188' '0189' '0190'\n",
      " '0191' '0192' '0193' '0194' '0195' '0196' '0197' '0198' '0199' '0200'\n",
      " '0201' '0202' '0203' '0204' '0205' '0206' '0207' '0208' '0209' '0210'\n",
      " '0211' '0212' '0213' '0214' '0215' '0216' '0217' '0218' '0219' '0220'\n",
      " '0221' '0222' '0223' '0224' '0225' '0226' '0227' '0228' '0229' '0230'\n",
      " '0231' '0232' '0233' '0234' '0235' '0236' '0237' '0238' '0239' '0240'\n",
      " '0241' '0242' '0243' '0244' '0245' '0246' '0247' '0248' '0249' '0250'\n",
      " '0251' '0252' '0253' '0254' '0255' '0256' '0257' '0258' '0259' '0260'\n",
      " '0261' '0262' '0263' '0264' '0265' '0266' '0267' '0268' '0269' '0270'\n",
      " '0271' '0272' '0273' '0274' '0275' '0276' '0277' '0278' '0279' '0280'\n",
      " '0281' '0282' '0283' '0284' '0285' '0286' '0287' '0288' '0289' '0290'\n",
      " '0291' '0292' '0293' '0294' '0295' '0296' '0297' '0298' '0299' '0300'\n",
      " '0301' '0302' '0303' '0304' '0305' '0306' '0307' '0308' '0309' '0310'\n",
      " '0311' '0312' '0313' '0314' '0315' '0316' '0317' '0318' '0319' '0320'\n",
      " '0321' '0322' '0323' '0324' '0325' '0326' '0327' '0328' '0329' '0330'\n",
      " '0331' '0332' '0333' '0334' '0335' '0336' '0337' '0338' '0339' '0340'\n",
      " '0341' '0342' '0343' '0344' '0345' '0346' '0347' '0348' '0349' '0350'\n",
      " '0351' '0352' '0353' '0354' '0355' '0356' '0357' '0358' '0359' '0360'\n",
      " '0361' '0362' '0363' '0364' '0365' '0366' '0367' '0368' '0369' '0370'\n",
      " '0371' '0372' '0373' '0374' '0375' '0376' '0377' '0378' '0379' '0380'\n",
      " '0381' '0382' '0383' '0384' '0385' '0386' '0387' '0388' '0389' '0390'\n",
      " '0391' '0392' '0393' '0394' '0395' '0396' '0397' '0398' '0399' '0400'\n",
      " '0401' '0402' '0403' '0404' '0405' '0406' '0407' '0408' '0409' '0410'\n",
      " '0411' '0412' '0413' '0414' '0415' '0416' '0417' '0418' '0419' '0420'\n",
      " '0421' '0422' '0423' '0424' '0425' '0426' '0427' '0428' '0429' '0430'\n",
      " '0431' '0432' '0433' '0434' '0435' '0436' '0437' '0438' '0439' '0440'\n",
      " '0441' '0442' '0443' '0444' '0445' '0446' '0447' '0448' '0449' '0450'\n",
      " '0451' '0452' '0453' '0454' '0455' '0456' '0457' '0458' '0459' '0460'\n",
      " '0461' '0462' '0463' '0464' '0465' '0466' '0467' '0468' '0469' '0470'\n",
      " '0471' '0472' '0473' '0474' '0475' '0476' '0477' '0478' '0479' '0480'\n",
      " '0481' '0482' '0483' '0484' '0485' '0486' '0487' '0488' '0489' '0490'\n",
      " '0491' '0492' '0493' '0494' '0495' '0496' '0497' '0498' '0499' '0500'\n",
      " '0501' '0502' '0503' '0504' '0505' '0506' '0507' '0508' '0509' '0510'\n",
      " '0511' '0512' '0513' '0514' '0515' '0516' '0517' '0518' '0519' '0520'\n",
      " '0521' '0522' '0523' '0524' '0525' '0526' '0527' '0528' '0529' '0530'\n",
      " '0531' '0532' '0533' '0534' '0535' '0536' '0537' '0538' '0539' '0540'\n",
      " '0541' '0542' '0543' '0544' '0545' '0546' '0547' '0548' '0549' '0550'\n",
      " '0551' '0552' '0553' '0554' '0555' '0556' '0557' '0558' '0559' '0560'\n",
      " '0561' '0562' '0563' '0564' '0565' '0566' '0567' '0568' '0569' '0570'\n",
      " '0571' '0572' '0573' '0574']\n",
      "574\n"
     ]
    }
   ],
   "source": [
    "eras = training_set.era.unique()\n",
    "\n",
    "NUM_FOLDS = 5\n",
    "FOLD_SIZE = int(len(eras) / NUM_FOLDS)\n",
    "EMBAGO_SIZE = 64"
   ]
  },
  {
   "cell_type": "code",
   "execution_count": 4,
   "metadata": {},
   "outputs": [
    {
     "data": {
      "text/html": [
       "<div>\n",
       "<style scoped>\n",
       "    .dataframe tbody tr th:only-of-type {\n",
       "        vertical-align: middle;\n",
       "    }\n",
       "\n",
       "    .dataframe tbody tr th {\n",
       "        vertical-align: top;\n",
       "    }\n",
       "\n",
       "    .dataframe thead th {\n",
       "        text-align: right;\n",
       "    }\n",
       "</style>\n",
       "<table border=\"1\" class=\"dataframe\">\n",
       "  <thead>\n",
       "    <tr style=\"text-align: right;\">\n",
       "      <th></th>\n",
       "      <th>split_0</th>\n",
       "      <th>split_1</th>\n",
       "      <th>split_2</th>\n",
       "      <th>split_3</th>\n",
       "      <th>split_4</th>\n",
       "    </tr>\n",
       "    <tr>\n",
       "      <th>era</th>\n",
       "      <th></th>\n",
       "      <th></th>\n",
       "      <th></th>\n",
       "      <th></th>\n",
       "      <th></th>\n",
       "    </tr>\n",
       "  </thead>\n",
       "  <tbody>\n",
       "    <tr>\n",
       "      <th>0001</th>\n",
       "      <td>embargo</td>\n",
       "      <td>training</td>\n",
       "      <td>training</td>\n",
       "      <td>training</td>\n",
       "      <td>training</td>\n",
       "    </tr>\n",
       "    <tr>\n",
       "      <th>0002</th>\n",
       "      <td>embargo</td>\n",
       "      <td>training</td>\n",
       "      <td>training</td>\n",
       "      <td>training</td>\n",
       "      <td>training</td>\n",
       "    </tr>\n",
       "    <tr>\n",
       "      <th>0003</th>\n",
       "      <td>embargo</td>\n",
       "      <td>training</td>\n",
       "      <td>training</td>\n",
       "      <td>training</td>\n",
       "      <td>training</td>\n",
       "    </tr>\n",
       "    <tr>\n",
       "      <th>0004</th>\n",
       "      <td>embargo</td>\n",
       "      <td>training</td>\n",
       "      <td>training</td>\n",
       "      <td>training</td>\n",
       "      <td>training</td>\n",
       "    </tr>\n",
       "    <tr>\n",
       "      <th>0005</th>\n",
       "      <td>embargo</td>\n",
       "      <td>training</td>\n",
       "      <td>training</td>\n",
       "      <td>training</td>\n",
       "      <td>training</td>\n",
       "    </tr>\n",
       "    <tr>\n",
       "      <th>...</th>\n",
       "      <td>...</td>\n",
       "      <td>...</td>\n",
       "      <td>...</td>\n",
       "      <td>...</td>\n",
       "      <td>...</td>\n",
       "    </tr>\n",
       "    <tr>\n",
       "      <th>0570</th>\n",
       "      <td>training</td>\n",
       "      <td>training</td>\n",
       "      <td>training</td>\n",
       "      <td>training</td>\n",
       "      <td>embargo</td>\n",
       "    </tr>\n",
       "    <tr>\n",
       "      <th>0571</th>\n",
       "      <td>training</td>\n",
       "      <td>training</td>\n",
       "      <td>training</td>\n",
       "      <td>training</td>\n",
       "      <td>embargo</td>\n",
       "    </tr>\n",
       "    <tr>\n",
       "      <th>0572</th>\n",
       "      <td>training</td>\n",
       "      <td>training</td>\n",
       "      <td>training</td>\n",
       "      <td>training</td>\n",
       "      <td>embargo</td>\n",
       "    </tr>\n",
       "    <tr>\n",
       "      <th>0573</th>\n",
       "      <td>training</td>\n",
       "      <td>training</td>\n",
       "      <td>training</td>\n",
       "      <td>training</td>\n",
       "      <td>embargo</td>\n",
       "    </tr>\n",
       "    <tr>\n",
       "      <th>0574</th>\n",
       "      <td>training</td>\n",
       "      <td>training</td>\n",
       "      <td>training</td>\n",
       "      <td>training</td>\n",
       "      <td>embargo</td>\n",
       "    </tr>\n",
       "  </tbody>\n",
       "</table>\n",
       "<p>574 rows × 5 columns</p>\n",
       "</div>"
      ],
      "text/plain": [
       "       split_0   split_1   split_2   split_3   split_4\n",
       "era                                                   \n",
       "0001   embargo  training  training  training  training\n",
       "0002   embargo  training  training  training  training\n",
       "0003   embargo  training  training  training  training\n",
       "0004   embargo  training  training  training  training\n",
       "0005   embargo  training  training  training  training\n",
       "...        ...       ...       ...       ...       ...\n",
       "0570  training  training  training  training   embargo\n",
       "0571  training  training  training  training   embargo\n",
       "0572  training  training  training  training   embargo\n",
       "0573  training  training  training  training   embargo\n",
       "0574  training  training  training  training   embargo\n",
       "\n",
       "[574 rows x 5 columns]"
      ]
     },
     "execution_count": 4,
     "metadata": {},
     "output_type": "execute_result"
    }
   ],
   "source": [
    "# generate splits\n",
    "splits_df = pd.DataFrame({\n",
    "    'era': eras,\n",
    "}).set_index(\"era\") # list of tuples of validation and training eras\n",
    "\n",
    "step_size = (len(eras) - (FOLD_SIZE + 2 * EMBAGO_SIZE)) // (NUM_FOLDS - 1)\n",
    "for i in range(NUM_FOLDS):\n",
    "    start = i * step_size\n",
    "    end = start + FOLD_SIZE + 2 * EMBAGO_SIZE\n",
    "    validation_eras = eras[(start + EMBAGO_SIZE):(end - EMBAGO_SIZE)]\n",
    "\n",
    "    training_eras = []\n",
    "    if start == 0:\n",
    "        training_eras = eras[end:]\n",
    "    else:\n",
    "        training_eras = eras[:start]\n",
    "        training_eras = np.concatenate([training_eras, eras[end:]])\n",
    "\n",
    "    splits_df['split_{}'.format(i)] = \"embargo\"\n",
    "    splits_df.loc[validation_eras, 'split_{}'.format(i)] = \"validation\"\n",
    "    splits_df.loc[training_eras, 'split_{}'.format(i)] = \"training\"\n",
    "\n",
    "# display splits with plotly table\n",
    "splits_df\n"
   ]
  },
  {
   "cell_type": "code",
   "execution_count": 5,
   "metadata": {},
   "outputs": [
    {
     "data": {
      "application/vnd.plotly.v1+json": {
       "config": {
        "plotlyServerURL": "https://plot.ly"
       },
       "data": [
        {
         "cells": {
          "align": "center",
          "fill": {
           "color": [
            "#FFFFFF",
            "#FFFFFF",
            "#FFFFFF",
            "#FFFFFF",
            "#FFFFFF"
           ]
          },
          "values": [
           [
            "0001",
            "0002",
            "0003",
            "0004",
            "0005",
            "0006",
            "0007",
            "0008",
            "0009",
            "0010",
            "0011",
            "0012",
            "0013",
            "0014",
            "0015",
            "0016",
            "0017",
            "0018",
            "0019",
            "0020",
            "0021",
            "0022",
            "0023",
            "0024",
            "0025",
            "0026",
            "0027",
            "0028",
            "0029",
            "0030",
            "0031",
            "0032",
            "0033",
            "0034",
            "0035",
            "0036",
            "0037",
            "0038",
            "0039",
            "0040",
            "0041",
            "0042",
            "0043",
            "0044",
            "0045",
            "0046",
            "0047",
            "0048",
            "0049",
            "0050",
            "0051",
            "0052",
            "0053",
            "0054",
            "0055",
            "0056",
            "0057",
            "0058",
            "0059",
            "0060",
            "0061",
            "0062",
            "0063",
            "0064",
            "0065",
            "0066",
            "0067",
            "0068",
            "0069",
            "0070",
            "0071",
            "0072",
            "0073",
            "0074",
            "0075",
            "0076",
            "0077",
            "0078",
            "0079",
            "0080",
            "0081",
            "0082",
            "0083",
            "0084",
            "0085",
            "0086",
            "0087",
            "0088",
            "0089",
            "0090",
            "0091",
            "0092",
            "0093",
            "0094",
            "0095",
            "0096",
            "0097",
            "0098",
            "0099",
            "0100",
            "0101",
            "0102",
            "0103",
            "0104",
            "0105",
            "0106",
            "0107",
            "0108",
            "0109",
            "0110",
            "0111",
            "0112",
            "0113",
            "0114",
            "0115",
            "0116",
            "0117",
            "0118",
            "0119",
            "0120",
            "0121",
            "0122",
            "0123",
            "0124",
            "0125",
            "0126",
            "0127",
            "0128",
            "0129",
            "0130",
            "0131",
            "0132",
            "0133",
            "0134",
            "0135",
            "0136",
            "0137",
            "0138",
            "0139",
            "0140",
            "0141",
            "0142",
            "0143",
            "0144",
            "0145",
            "0146",
            "0147",
            "0148",
            "0149",
            "0150",
            "0151",
            "0152",
            "0153",
            "0154",
            "0155",
            "0156",
            "0157",
            "0158",
            "0159",
            "0160",
            "0161",
            "0162",
            "0163",
            "0164",
            "0165",
            "0166",
            "0167",
            "0168",
            "0169",
            "0170",
            "0171",
            "0172",
            "0173",
            "0174",
            "0175",
            "0176",
            "0177",
            "0178",
            "0179",
            "0180",
            "0181",
            "0182",
            "0183",
            "0184",
            "0185",
            "0186",
            "0187",
            "0188",
            "0189",
            "0190",
            "0191",
            "0192",
            "0193",
            "0194",
            "0195",
            "0196",
            "0197",
            "0198",
            "0199",
            "0200",
            "0201",
            "0202",
            "0203",
            "0204",
            "0205",
            "0206",
            "0207",
            "0208",
            "0209",
            "0210",
            "0211",
            "0212",
            "0213",
            "0214",
            "0215",
            "0216",
            "0217",
            "0218",
            "0219",
            "0220",
            "0221",
            "0222",
            "0223",
            "0224",
            "0225",
            "0226",
            "0227",
            "0228",
            "0229",
            "0230",
            "0231",
            "0232",
            "0233",
            "0234",
            "0235",
            "0236",
            "0237",
            "0238",
            "0239",
            "0240",
            "0241",
            "0242",
            "0243",
            "0244",
            "0245",
            "0246",
            "0247",
            "0248",
            "0249",
            "0250",
            "0251",
            "0252",
            "0253",
            "0254",
            "0255",
            "0256",
            "0257",
            "0258",
            "0259",
            "0260",
            "0261",
            "0262",
            "0263",
            "0264",
            "0265",
            "0266",
            "0267",
            "0268",
            "0269",
            "0270",
            "0271",
            "0272",
            "0273",
            "0274",
            "0275",
            "0276",
            "0277",
            "0278",
            "0279",
            "0280",
            "0281",
            "0282",
            "0283",
            "0284",
            "0285",
            "0286",
            "0287",
            "0288",
            "0289",
            "0290",
            "0291",
            "0292",
            "0293",
            "0294",
            "0295",
            "0296",
            "0297",
            "0298",
            "0299",
            "0300",
            "0301",
            "0302",
            "0303",
            "0304",
            "0305",
            "0306",
            "0307",
            "0308",
            "0309",
            "0310",
            "0311",
            "0312",
            "0313",
            "0314",
            "0315",
            "0316",
            "0317",
            "0318",
            "0319",
            "0320",
            "0321",
            "0322",
            "0323",
            "0324",
            "0325",
            "0326",
            "0327",
            "0328",
            "0329",
            "0330",
            "0331",
            "0332",
            "0333",
            "0334",
            "0335",
            "0336",
            "0337",
            "0338",
            "0339",
            "0340",
            "0341",
            "0342",
            "0343",
            "0344",
            "0345",
            "0346",
            "0347",
            "0348",
            "0349",
            "0350",
            "0351",
            "0352",
            "0353",
            "0354",
            "0355",
            "0356",
            "0357",
            "0358",
            "0359",
            "0360",
            "0361",
            "0362",
            "0363",
            "0364",
            "0365",
            "0366",
            "0367",
            "0368",
            "0369",
            "0370",
            "0371",
            "0372",
            "0373",
            "0374",
            "0375",
            "0376",
            "0377",
            "0378",
            "0379",
            "0380",
            "0381",
            "0382",
            "0383",
            "0384",
            "0385",
            "0386",
            "0387",
            "0388",
            "0389",
            "0390",
            "0391",
            "0392",
            "0393",
            "0394",
            "0395",
            "0396",
            "0397",
            "0398",
            "0399",
            "0400",
            "0401",
            "0402",
            "0403",
            "0404",
            "0405",
            "0406",
            "0407",
            "0408",
            "0409",
            "0410",
            "0411",
            "0412",
            "0413",
            "0414",
            "0415",
            "0416",
            "0417",
            "0418",
            "0419",
            "0420",
            "0421",
            "0422",
            "0423",
            "0424",
            "0425",
            "0426",
            "0427",
            "0428",
            "0429",
            "0430",
            "0431",
            "0432",
            "0433",
            "0434",
            "0435",
            "0436",
            "0437",
            "0438",
            "0439",
            "0440",
            "0441",
            "0442",
            "0443",
            "0444",
            "0445",
            "0446",
            "0447",
            "0448",
            "0449",
            "0450",
            "0451",
            "0452",
            "0453",
            "0454",
            "0455",
            "0456",
            "0457",
            "0458",
            "0459",
            "0460",
            "0461",
            "0462",
            "0463",
            "0464",
            "0465",
            "0466",
            "0467",
            "0468",
            "0469",
            "0470",
            "0471",
            "0472",
            "0473",
            "0474",
            "0475",
            "0476",
            "0477",
            "0478",
            "0479",
            "0480",
            "0481",
            "0482",
            "0483",
            "0484",
            "0485",
            "0486",
            "0487",
            "0488",
            "0489",
            "0490",
            "0491",
            "0492",
            "0493",
            "0494",
            "0495",
            "0496",
            "0497",
            "0498",
            "0499",
            "0500",
            "0501",
            "0502",
            "0503",
            "0504",
            "0505",
            "0506",
            "0507",
            "0508",
            "0509",
            "0510",
            "0511",
            "0512",
            "0513",
            "0514",
            "0515",
            "0516",
            "0517",
            "0518",
            "0519",
            "0520",
            "0521",
            "0522",
            "0523",
            "0524",
            "0525",
            "0526",
            "0527",
            "0528",
            "0529",
            "0530",
            "0531",
            "0532",
            "0533",
            "0534",
            "0535",
            "0536",
            "0537",
            "0538",
            "0539",
            "0540",
            "0541",
            "0542",
            "0543",
            "0544",
            "0545",
            "0546",
            "0547",
            "0548",
            "0549",
            "0550",
            "0551",
            "0552",
            "0553",
            "0554",
            "0555",
            "0556",
            "0557",
            "0558",
            "0559",
            "0560",
            "0561",
            "0562",
            "0563",
            "0564",
            "0565",
            "0566",
            "0567",
            "0568",
            "0569",
            "0570",
            "0571",
            "0572",
            "0573",
            "0574"
           ],
           [
            "embargo",
            "embargo",
            "embargo",
            "embargo",
            "embargo",
            "embargo",
            "embargo",
            "embargo",
            "embargo",
            "embargo",
            "embargo",
            "embargo",
            "embargo",
            "embargo",
            "embargo",
            "embargo",
            "embargo",
            "embargo",
            "embargo",
            "embargo",
            "embargo",
            "embargo",
            "embargo",
            "embargo",
            "embargo",
            "embargo",
            "embargo",
            "embargo",
            "embargo",
            "embargo",
            "embargo",
            "embargo",
            "embargo",
            "embargo",
            "embargo",
            "embargo",
            "embargo",
            "embargo",
            "embargo",
            "embargo",
            "embargo",
            "embargo",
            "embargo",
            "embargo",
            "embargo",
            "embargo",
            "embargo",
            "embargo",
            "embargo",
            "embargo",
            "embargo",
            "embargo",
            "embargo",
            "embargo",
            "embargo",
            "embargo",
            "embargo",
            "embargo",
            "embargo",
            "embargo",
            "embargo",
            "embargo",
            "embargo",
            "embargo",
            "validation",
            "validation",
            "validation",
            "validation",
            "validation",
            "validation",
            "validation",
            "validation",
            "validation",
            "validation",
            "validation",
            "validation",
            "validation",
            "validation",
            "validation",
            "validation",
            "validation",
            "validation",
            "validation",
            "validation",
            "validation",
            "validation",
            "validation",
            "validation",
            "validation",
            "validation",
            "validation",
            "validation",
            "validation",
            "validation",
            "validation",
            "validation",
            "validation",
            "validation",
            "validation",
            "validation",
            "validation",
            "validation",
            "validation",
            "validation",
            "validation",
            "validation",
            "validation",
            "validation",
            "validation",
            "validation",
            "validation",
            "validation",
            "validation",
            "validation",
            "validation",
            "validation",
            "validation",
            "validation",
            "validation",
            "validation",
            "validation",
            "validation",
            "validation",
            "validation",
            "validation",
            "validation",
            "validation",
            "validation",
            "validation",
            "validation",
            "validation",
            "validation",
            "validation",
            "validation",
            "validation",
            "validation",
            "validation",
            "validation",
            "validation",
            "validation",
            "validation",
            "validation",
            "validation",
            "validation",
            "validation",
            "validation",
            "validation",
            "validation",
            "validation",
            "validation",
            "validation",
            "validation",
            "validation",
            "validation",
            "validation",
            "validation",
            "validation",
            "validation",
            "validation",
            "validation",
            "validation",
            "validation",
            "validation",
            "validation",
            "validation",
            "validation",
            "validation",
            "validation",
            "validation",
            "validation",
            "validation",
            "validation",
            "validation",
            "validation",
            "validation",
            "validation",
            "validation",
            "validation",
            "embargo",
            "embargo",
            "embargo",
            "embargo",
            "embargo",
            "embargo",
            "embargo",
            "embargo",
            "embargo",
            "embargo",
            "embargo",
            "embargo",
            "embargo",
            "embargo",
            "embargo",
            "embargo",
            "embargo",
            "embargo",
            "embargo",
            "embargo",
            "embargo",
            "embargo",
            "embargo",
            "embargo",
            "embargo",
            "embargo",
            "embargo",
            "embargo",
            "embargo",
            "embargo",
            "embargo",
            "embargo",
            "embargo",
            "embargo",
            "embargo",
            "embargo",
            "embargo",
            "embargo",
            "embargo",
            "embargo",
            "embargo",
            "embargo",
            "embargo",
            "embargo",
            "embargo",
            "embargo",
            "embargo",
            "embargo",
            "embargo",
            "embargo",
            "embargo",
            "embargo",
            "embargo",
            "embargo",
            "embargo",
            "embargo",
            "embargo",
            "embargo",
            "embargo",
            "embargo",
            "embargo",
            "embargo",
            "embargo",
            "embargo",
            "training",
            "training",
            "training",
            "training",
            "training",
            "training",
            "training",
            "training",
            "training",
            "training",
            "training",
            "training",
            "training",
            "training",
            "training",
            "training",
            "training",
            "training",
            "training",
            "training",
            "training",
            "training",
            "training",
            "training",
            "training",
            "training",
            "training",
            "training",
            "training",
            "training",
            "training",
            "training",
            "training",
            "training",
            "training",
            "training",
            "training",
            "training",
            "training",
            "training",
            "training",
            "training",
            "training",
            "training",
            "training",
            "training",
            "training",
            "training",
            "training",
            "training",
            "training",
            "training",
            "training",
            "training",
            "training",
            "training",
            "training",
            "training",
            "training",
            "training",
            "training",
            "training",
            "training",
            "training",
            "training",
            "training",
            "training",
            "training",
            "training",
            "training",
            "training",
            "training",
            "training",
            "training",
            "training",
            "training",
            "training",
            "training",
            "training",
            "training",
            "training",
            "training",
            "training",
            "training",
            "training",
            "training",
            "training",
            "training",
            "training",
            "training",
            "training",
            "training",
            "training",
            "training",
            "training",
            "training",
            "training",
            "training",
            "training",
            "training",
            "training",
            "training",
            "training",
            "training",
            "training",
            "training",
            "training",
            "training",
            "training",
            "training",
            "training",
            "training",
            "training",
            "training",
            "training",
            "training",
            "training",
            "training",
            "training",
            "training",
            "training",
            "training",
            "training",
            "training",
            "training",
            "training",
            "training",
            "training",
            "training",
            "training",
            "training",
            "training",
            "training",
            "training",
            "training",
            "training",
            "training",
            "training",
            "training",
            "training",
            "training",
            "training",
            "training",
            "training",
            "training",
            "training",
            "training",
            "training",
            "training",
            "training",
            "training",
            "training",
            "training",
            "training",
            "training",
            "training",
            "training",
            "training",
            "training",
            "training",
            "training",
            "training",
            "training",
            "training",
            "training",
            "training",
            "training",
            "training",
            "training",
            "training",
            "training",
            "training",
            "training",
            "training",
            "training",
            "training",
            "training",
            "training",
            "training",
            "training",
            "training",
            "training",
            "training",
            "training",
            "training",
            "training",
            "training",
            "training",
            "training",
            "training",
            "training",
            "training",
            "training",
            "training",
            "training",
            "training",
            "training",
            "training",
            "training",
            "training",
            "training",
            "training",
            "training",
            "training",
            "training",
            "training",
            "training",
            "training",
            "training",
            "training",
            "training",
            "training",
            "training",
            "training",
            "training",
            "training",
            "training",
            "training",
            "training",
            "training",
            "training",
            "training",
            "training",
            "training",
            "training",
            "training",
            "training",
            "training",
            "training",
            "training",
            "training",
            "training",
            "training",
            "training",
            "training",
            "training",
            "training",
            "training",
            "training",
            "training",
            "training",
            "training",
            "training",
            "training",
            "training",
            "training",
            "training",
            "training",
            "training",
            "training",
            "training",
            "training",
            "training",
            "training",
            "training",
            "training",
            "training",
            "training",
            "training",
            "training",
            "training",
            "training",
            "training",
            "training",
            "training",
            "training",
            "training",
            "training",
            "training",
            "training",
            "training",
            "training",
            "training",
            "training",
            "training",
            "training",
            "training",
            "training",
            "training",
            "training",
            "training",
            "training",
            "training",
            "training",
            "training",
            "training",
            "training",
            "training",
            "training",
            "training",
            "training",
            "training",
            "training",
            "training",
            "training",
            "training",
            "training",
            "training",
            "training",
            "training",
            "training",
            "training",
            "training",
            "training",
            "training",
            "training",
            "training",
            "training",
            "training",
            "training",
            "training",
            "training",
            "training",
            "training",
            "training",
            "training",
            "training",
            "training",
            "training",
            "training",
            "training",
            "training",
            "training",
            "training",
            "training",
            "training",
            "training",
            "training",
            "training",
            "training",
            "training",
            "training"
           ],
           [
            "training",
            "training",
            "training",
            "training",
            "training",
            "training",
            "training",
            "training",
            "training",
            "training",
            "training",
            "training",
            "training",
            "training",
            "training",
            "training",
            "training",
            "training",
            "training",
            "training",
            "training",
            "training",
            "training",
            "training",
            "training",
            "training",
            "training",
            "training",
            "training",
            "training",
            "training",
            "training",
            "training",
            "training",
            "training",
            "training",
            "training",
            "training",
            "training",
            "training",
            "training",
            "training",
            "training",
            "training",
            "training",
            "training",
            "training",
            "training",
            "training",
            "training",
            "training",
            "training",
            "training",
            "training",
            "training",
            "training",
            "training",
            "training",
            "training",
            "training",
            "training",
            "training",
            "training",
            "training",
            "training",
            "training",
            "training",
            "training",
            "training",
            "training",
            "training",
            "training",
            "training",
            "training",
            "training",
            "training",
            "training",
            "training",
            "training",
            "training",
            "training",
            "training",
            "training",
            "embargo",
            "embargo",
            "embargo",
            "embargo",
            "embargo",
            "embargo",
            "embargo",
            "embargo",
            "embargo",
            "embargo",
            "embargo",
            "embargo",
            "embargo",
            "embargo",
            "embargo",
            "embargo",
            "embargo",
            "embargo",
            "embargo",
            "embargo",
            "embargo",
            "embargo",
            "embargo",
            "embargo",
            "embargo",
            "embargo",
            "embargo",
            "embargo",
            "embargo",
            "embargo",
            "embargo",
            "embargo",
            "embargo",
            "embargo",
            "embargo",
            "embargo",
            "embargo",
            "embargo",
            "embargo",
            "embargo",
            "embargo",
            "embargo",
            "embargo",
            "embargo",
            "embargo",
            "embargo",
            "embargo",
            "embargo",
            "embargo",
            "embargo",
            "embargo",
            "embargo",
            "embargo",
            "embargo",
            "embargo",
            "embargo",
            "embargo",
            "embargo",
            "embargo",
            "embargo",
            "embargo",
            "embargo",
            "embargo",
            "embargo",
            "validation",
            "validation",
            "validation",
            "validation",
            "validation",
            "validation",
            "validation",
            "validation",
            "validation",
            "validation",
            "validation",
            "validation",
            "validation",
            "validation",
            "validation",
            "validation",
            "validation",
            "validation",
            "validation",
            "validation",
            "validation",
            "validation",
            "validation",
            "validation",
            "validation",
            "validation",
            "validation",
            "validation",
            "validation",
            "validation",
            "validation",
            "validation",
            "validation",
            "validation",
            "validation",
            "validation",
            "validation",
            "validation",
            "validation",
            "validation",
            "validation",
            "validation",
            "validation",
            "validation",
            "validation",
            "validation",
            "validation",
            "validation",
            "validation",
            "validation",
            "validation",
            "validation",
            "validation",
            "validation",
            "validation",
            "validation",
            "validation",
            "validation",
            "validation",
            "validation",
            "validation",
            "validation",
            "validation",
            "validation",
            "validation",
            "validation",
            "validation",
            "validation",
            "validation",
            "validation",
            "validation",
            "validation",
            "validation",
            "validation",
            "validation",
            "validation",
            "validation",
            "validation",
            "validation",
            "validation",
            "validation",
            "validation",
            "validation",
            "validation",
            "validation",
            "validation",
            "validation",
            "validation",
            "validation",
            "validation",
            "validation",
            "validation",
            "validation",
            "validation",
            "validation",
            "validation",
            "validation",
            "validation",
            "validation",
            "validation",
            "validation",
            "validation",
            "validation",
            "validation",
            "validation",
            "validation",
            "validation",
            "validation",
            "validation",
            "validation",
            "validation",
            "validation",
            "validation",
            "validation",
            "embargo",
            "embargo",
            "embargo",
            "embargo",
            "embargo",
            "embargo",
            "embargo",
            "embargo",
            "embargo",
            "embargo",
            "embargo",
            "embargo",
            "embargo",
            "embargo",
            "embargo",
            "embargo",
            "embargo",
            "embargo",
            "embargo",
            "embargo",
            "embargo",
            "embargo",
            "embargo",
            "embargo",
            "embargo",
            "embargo",
            "embargo",
            "embargo",
            "embargo",
            "embargo",
            "embargo",
            "embargo",
            "embargo",
            "embargo",
            "embargo",
            "embargo",
            "embargo",
            "embargo",
            "embargo",
            "embargo",
            "embargo",
            "embargo",
            "embargo",
            "embargo",
            "embargo",
            "embargo",
            "embargo",
            "embargo",
            "embargo",
            "embargo",
            "embargo",
            "embargo",
            "embargo",
            "embargo",
            "embargo",
            "embargo",
            "embargo",
            "embargo",
            "embargo",
            "embargo",
            "embargo",
            "embargo",
            "embargo",
            "embargo",
            "training",
            "training",
            "training",
            "training",
            "training",
            "training",
            "training",
            "training",
            "training",
            "training",
            "training",
            "training",
            "training",
            "training",
            "training",
            "training",
            "training",
            "training",
            "training",
            "training",
            "training",
            "training",
            "training",
            "training",
            "training",
            "training",
            "training",
            "training",
            "training",
            "training",
            "training",
            "training",
            "training",
            "training",
            "training",
            "training",
            "training",
            "training",
            "training",
            "training",
            "training",
            "training",
            "training",
            "training",
            "training",
            "training",
            "training",
            "training",
            "training",
            "training",
            "training",
            "training",
            "training",
            "training",
            "training",
            "training",
            "training",
            "training",
            "training",
            "training",
            "training",
            "training",
            "training",
            "training",
            "training",
            "training",
            "training",
            "training",
            "training",
            "training",
            "training",
            "training",
            "training",
            "training",
            "training",
            "training",
            "training",
            "training",
            "training",
            "training",
            "training",
            "training",
            "training",
            "training",
            "training",
            "training",
            "training",
            "training",
            "training",
            "training",
            "training",
            "training",
            "training",
            "training",
            "training",
            "training",
            "training",
            "training",
            "training",
            "training",
            "training",
            "training",
            "training",
            "training",
            "training",
            "training",
            "training",
            "training",
            "training",
            "training",
            "training",
            "training",
            "training",
            "training",
            "training",
            "training",
            "training",
            "training",
            "training",
            "training",
            "training",
            "training",
            "training",
            "training",
            "training",
            "training",
            "training",
            "training",
            "training",
            "training",
            "training",
            "training",
            "training",
            "training",
            "training",
            "training",
            "training",
            "training",
            "training",
            "training",
            "training",
            "training",
            "training",
            "training",
            "training",
            "training",
            "training",
            "training",
            "training",
            "training",
            "training",
            "training",
            "training",
            "training",
            "training",
            "training",
            "training",
            "training",
            "training",
            "training",
            "training",
            "training",
            "training",
            "training",
            "training",
            "training",
            "training",
            "training",
            "training",
            "training",
            "training",
            "training",
            "training",
            "training",
            "training",
            "training",
            "training",
            "training",
            "training",
            "training",
            "training",
            "training",
            "training",
            "training",
            "training",
            "training",
            "training",
            "training",
            "training",
            "training",
            "training",
            "training",
            "training",
            "training",
            "training",
            "training",
            "training",
            "training",
            "training",
            "training",
            "training",
            "training",
            "training",
            "training",
            "training",
            "training",
            "training",
            "training",
            "training",
            "training",
            "training",
            "training",
            "training",
            "training",
            "training",
            "training",
            "training",
            "training",
            "training",
            "training",
            "training",
            "training",
            "training",
            "training",
            "training",
            "training",
            "training",
            "training",
            "training",
            "training",
            "training",
            "training",
            "training",
            "training",
            "training",
            "training",
            "training",
            "training",
            "training",
            "training",
            "training",
            "training",
            "training",
            "training",
            "training",
            "training",
            "training",
            "training",
            "training"
           ],
           [
            "training",
            "training",
            "training",
            "training",
            "training",
            "training",
            "training",
            "training",
            "training",
            "training",
            "training",
            "training",
            "training",
            "training",
            "training",
            "training",
            "training",
            "training",
            "training",
            "training",
            "training",
            "training",
            "training",
            "training",
            "training",
            "training",
            "training",
            "training",
            "training",
            "training",
            "training",
            "training",
            "training",
            "training",
            "training",
            "training",
            "training",
            "training",
            "training",
            "training",
            "training",
            "training",
            "training",
            "training",
            "training",
            "training",
            "training",
            "training",
            "training",
            "training",
            "training",
            "training",
            "training",
            "training",
            "training",
            "training",
            "training",
            "training",
            "training",
            "training",
            "training",
            "training",
            "training",
            "training",
            "training",
            "training",
            "training",
            "training",
            "training",
            "training",
            "training",
            "training",
            "training",
            "training",
            "training",
            "training",
            "training",
            "training",
            "training",
            "training",
            "training",
            "training",
            "training",
            "training",
            "training",
            "training",
            "training",
            "training",
            "training",
            "training",
            "training",
            "training",
            "training",
            "training",
            "training",
            "training",
            "training",
            "training",
            "training",
            "training",
            "training",
            "training",
            "training",
            "training",
            "training",
            "training",
            "training",
            "training",
            "training",
            "training",
            "training",
            "training",
            "training",
            "training",
            "training",
            "training",
            "training",
            "training",
            "training",
            "training",
            "training",
            "training",
            "training",
            "training",
            "training",
            "training",
            "training",
            "training",
            "training",
            "training",
            "training",
            "training",
            "training",
            "training",
            "training",
            "training",
            "training",
            "training",
            "training",
            "training",
            "training",
            "training",
            "training",
            "training",
            "training",
            "training",
            "training",
            "training",
            "training",
            "training",
            "training",
            "training",
            "training",
            "training",
            "training",
            "training",
            "training",
            "training",
            "training",
            "training",
            "training",
            "training",
            "training",
            "training",
            "training",
            "training",
            "embargo",
            "embargo",
            "embargo",
            "embargo",
            "embargo",
            "embargo",
            "embargo",
            "embargo",
            "embargo",
            "embargo",
            "embargo",
            "embargo",
            "embargo",
            "embargo",
            "embargo",
            "embargo",
            "embargo",
            "embargo",
            "embargo",
            "embargo",
            "embargo",
            "embargo",
            "embargo",
            "embargo",
            "embargo",
            "embargo",
            "embargo",
            "embargo",
            "embargo",
            "embargo",
            "embargo",
            "embargo",
            "embargo",
            "embargo",
            "embargo",
            "embargo",
            "embargo",
            "embargo",
            "embargo",
            "embargo",
            "embargo",
            "embargo",
            "embargo",
            "embargo",
            "embargo",
            "embargo",
            "embargo",
            "embargo",
            "embargo",
            "embargo",
            "embargo",
            "embargo",
            "embargo",
            "embargo",
            "embargo",
            "embargo",
            "embargo",
            "embargo",
            "embargo",
            "embargo",
            "embargo",
            "embargo",
            "embargo",
            "embargo",
            "validation",
            "validation",
            "validation",
            "validation",
            "validation",
            "validation",
            "validation",
            "validation",
            "validation",
            "validation",
            "validation",
            "validation",
            "validation",
            "validation",
            "validation",
            "validation",
            "validation",
            "validation",
            "validation",
            "validation",
            "validation",
            "validation",
            "validation",
            "validation",
            "validation",
            "validation",
            "validation",
            "validation",
            "validation",
            "validation",
            "validation",
            "validation",
            "validation",
            "validation",
            "validation",
            "validation",
            "validation",
            "validation",
            "validation",
            "validation",
            "validation",
            "validation",
            "validation",
            "validation",
            "validation",
            "validation",
            "validation",
            "validation",
            "validation",
            "validation",
            "validation",
            "validation",
            "validation",
            "validation",
            "validation",
            "validation",
            "validation",
            "validation",
            "validation",
            "validation",
            "validation",
            "validation",
            "validation",
            "validation",
            "validation",
            "validation",
            "validation",
            "validation",
            "validation",
            "validation",
            "validation",
            "validation",
            "validation",
            "validation",
            "validation",
            "validation",
            "validation",
            "validation",
            "validation",
            "validation",
            "validation",
            "validation",
            "validation",
            "validation",
            "validation",
            "validation",
            "validation",
            "validation",
            "validation",
            "validation",
            "validation",
            "validation",
            "validation",
            "validation",
            "validation",
            "validation",
            "validation",
            "validation",
            "validation",
            "validation",
            "validation",
            "validation",
            "validation",
            "validation",
            "validation",
            "validation",
            "validation",
            "validation",
            "validation",
            "validation",
            "validation",
            "validation",
            "validation",
            "validation",
            "embargo",
            "embargo",
            "embargo",
            "embargo",
            "embargo",
            "embargo",
            "embargo",
            "embargo",
            "embargo",
            "embargo",
            "embargo",
            "embargo",
            "embargo",
            "embargo",
            "embargo",
            "embargo",
            "embargo",
            "embargo",
            "embargo",
            "embargo",
            "embargo",
            "embargo",
            "embargo",
            "embargo",
            "embargo",
            "embargo",
            "embargo",
            "embargo",
            "embargo",
            "embargo",
            "embargo",
            "embargo",
            "embargo",
            "embargo",
            "embargo",
            "embargo",
            "embargo",
            "embargo",
            "embargo",
            "embargo",
            "embargo",
            "embargo",
            "embargo",
            "embargo",
            "embargo",
            "embargo",
            "embargo",
            "embargo",
            "embargo",
            "embargo",
            "embargo",
            "embargo",
            "embargo",
            "embargo",
            "embargo",
            "embargo",
            "embargo",
            "embargo",
            "embargo",
            "embargo",
            "embargo",
            "embargo",
            "embargo",
            "embargo",
            "training",
            "training",
            "training",
            "training",
            "training",
            "training",
            "training",
            "training",
            "training",
            "training",
            "training",
            "training",
            "training",
            "training",
            "training",
            "training",
            "training",
            "training",
            "training",
            "training",
            "training",
            "training",
            "training",
            "training",
            "training",
            "training",
            "training",
            "training",
            "training",
            "training",
            "training",
            "training",
            "training",
            "training",
            "training",
            "training",
            "training",
            "training",
            "training",
            "training",
            "training",
            "training",
            "training",
            "training",
            "training",
            "training",
            "training",
            "training",
            "training",
            "training",
            "training",
            "training",
            "training",
            "training",
            "training",
            "training",
            "training",
            "training",
            "training",
            "training",
            "training",
            "training",
            "training",
            "training",
            "training",
            "training",
            "training",
            "training",
            "training",
            "training",
            "training",
            "training",
            "training",
            "training",
            "training",
            "training",
            "training",
            "training",
            "training",
            "training",
            "training",
            "training",
            "training",
            "training",
            "training",
            "training",
            "training",
            "training",
            "training",
            "training",
            "training",
            "training",
            "training",
            "training",
            "training",
            "training",
            "training",
            "training",
            "training",
            "training",
            "training",
            "training",
            "training",
            "training",
            "training",
            "training",
            "training",
            "training",
            "training",
            "training",
            "training",
            "training",
            "training",
            "training",
            "training",
            "training",
            "training",
            "training",
            "training",
            "training",
            "training",
            "training",
            "training",
            "training",
            "training",
            "training",
            "training",
            "training",
            "training",
            "training",
            "training",
            "training",
            "training",
            "training",
            "training",
            "training",
            "training",
            "training",
            "training",
            "training",
            "training",
            "training",
            "training",
            "training",
            "training",
            "training",
            "training",
            "training",
            "training",
            "training",
            "training",
            "training",
            "training",
            "training",
            "training",
            "training",
            "training",
            "training",
            "training",
            "training",
            "training",
            "training",
            "training",
            "training",
            "training",
            "training"
           ],
           [
            "training",
            "training",
            "training",
            "training",
            "training",
            "training",
            "training",
            "training",
            "training",
            "training",
            "training",
            "training",
            "training",
            "training",
            "training",
            "training",
            "training",
            "training",
            "training",
            "training",
            "training",
            "training",
            "training",
            "training",
            "training",
            "training",
            "training",
            "training",
            "training",
            "training",
            "training",
            "training",
            "training",
            "training",
            "training",
            "training",
            "training",
            "training",
            "training",
            "training",
            "training",
            "training",
            "training",
            "training",
            "training",
            "training",
            "training",
            "training",
            "training",
            "training",
            "training",
            "training",
            "training",
            "training",
            "training",
            "training",
            "training",
            "training",
            "training",
            "training",
            "training",
            "training",
            "training",
            "training",
            "training",
            "training",
            "training",
            "training",
            "training",
            "training",
            "training",
            "training",
            "training",
            "training",
            "training",
            "training",
            "training",
            "training",
            "training",
            "training",
            "training",
            "training",
            "training",
            "training",
            "training",
            "training",
            "training",
            "training",
            "training",
            "training",
            "training",
            "training",
            "training",
            "training",
            "training",
            "training",
            "training",
            "training",
            "training",
            "training",
            "training",
            "training",
            "training",
            "training",
            "training",
            "training",
            "training",
            "training",
            "training",
            "training",
            "training",
            "training",
            "training",
            "training",
            "training",
            "training",
            "training",
            "training",
            "training",
            "training",
            "training",
            "training",
            "training",
            "training",
            "training",
            "training",
            "training",
            "training",
            "training",
            "training",
            "training",
            "training",
            "training",
            "training",
            "training",
            "training",
            "training",
            "training",
            "training",
            "training",
            "training",
            "training",
            "training",
            "training",
            "training",
            "training",
            "training",
            "training",
            "training",
            "training",
            "training",
            "training",
            "training",
            "training",
            "training",
            "training",
            "training",
            "training",
            "training",
            "training",
            "training",
            "training",
            "training",
            "training",
            "training",
            "training",
            "training",
            "training",
            "training",
            "training",
            "training",
            "training",
            "training",
            "training",
            "training",
            "training",
            "training",
            "training",
            "training",
            "training",
            "training",
            "training",
            "training",
            "training",
            "training",
            "training",
            "training",
            "training",
            "training",
            "training",
            "training",
            "training",
            "training",
            "training",
            "training",
            "training",
            "training",
            "training",
            "training",
            "training",
            "training",
            "training",
            "training",
            "training",
            "training",
            "training",
            "training",
            "training",
            "training",
            "training",
            "training",
            "training",
            "training",
            "training",
            "training",
            "training",
            "training",
            "training",
            "training",
            "training",
            "training",
            "training",
            "training",
            "training",
            "training",
            "training",
            "training",
            "training",
            "training",
            "training",
            "training",
            "training",
            "training",
            "training",
            "training",
            "training",
            "training",
            "training",
            "training",
            "training",
            "training",
            "training",
            "training",
            "training",
            "training",
            "training",
            "training",
            "training",
            "training",
            "embargo",
            "embargo",
            "embargo",
            "embargo",
            "embargo",
            "embargo",
            "embargo",
            "embargo",
            "embargo",
            "embargo",
            "embargo",
            "embargo",
            "embargo",
            "embargo",
            "embargo",
            "embargo",
            "embargo",
            "embargo",
            "embargo",
            "embargo",
            "embargo",
            "embargo",
            "embargo",
            "embargo",
            "embargo",
            "embargo",
            "embargo",
            "embargo",
            "embargo",
            "embargo",
            "embargo",
            "embargo",
            "embargo",
            "embargo",
            "embargo",
            "embargo",
            "embargo",
            "embargo",
            "embargo",
            "embargo",
            "embargo",
            "embargo",
            "embargo",
            "embargo",
            "embargo",
            "embargo",
            "embargo",
            "embargo",
            "embargo",
            "embargo",
            "embargo",
            "embargo",
            "embargo",
            "embargo",
            "embargo",
            "embargo",
            "embargo",
            "embargo",
            "embargo",
            "embargo",
            "embargo",
            "embargo",
            "embargo",
            "embargo",
            "validation",
            "validation",
            "validation",
            "validation",
            "validation",
            "validation",
            "validation",
            "validation",
            "validation",
            "validation",
            "validation",
            "validation",
            "validation",
            "validation",
            "validation",
            "validation",
            "validation",
            "validation",
            "validation",
            "validation",
            "validation",
            "validation",
            "validation",
            "validation",
            "validation",
            "validation",
            "validation",
            "validation",
            "validation",
            "validation",
            "validation",
            "validation",
            "validation",
            "validation",
            "validation",
            "validation",
            "validation",
            "validation",
            "validation",
            "validation",
            "validation",
            "validation",
            "validation",
            "validation",
            "validation",
            "validation",
            "validation",
            "validation",
            "validation",
            "validation",
            "validation",
            "validation",
            "validation",
            "validation",
            "validation",
            "validation",
            "validation",
            "validation",
            "validation",
            "validation",
            "validation",
            "validation",
            "validation",
            "validation",
            "validation",
            "validation",
            "validation",
            "validation",
            "validation",
            "validation",
            "validation",
            "validation",
            "validation",
            "validation",
            "validation",
            "validation",
            "validation",
            "validation",
            "validation",
            "validation",
            "validation",
            "validation",
            "validation",
            "validation",
            "validation",
            "validation",
            "validation",
            "validation",
            "validation",
            "validation",
            "validation",
            "validation",
            "validation",
            "validation",
            "validation",
            "validation",
            "validation",
            "validation",
            "validation",
            "validation",
            "validation",
            "validation",
            "validation",
            "validation",
            "validation",
            "validation",
            "validation",
            "validation",
            "validation",
            "validation",
            "validation",
            "validation",
            "validation",
            "validation",
            "embargo",
            "embargo",
            "embargo",
            "embargo",
            "embargo",
            "embargo",
            "embargo",
            "embargo",
            "embargo",
            "embargo",
            "embargo",
            "embargo",
            "embargo",
            "embargo",
            "embargo",
            "embargo",
            "embargo",
            "embargo",
            "embargo",
            "embargo",
            "embargo",
            "embargo",
            "embargo",
            "embargo",
            "embargo",
            "embargo",
            "embargo",
            "embargo",
            "embargo",
            "embargo",
            "embargo",
            "embargo",
            "embargo",
            "embargo",
            "embargo",
            "embargo",
            "embargo",
            "embargo",
            "embargo",
            "embargo",
            "embargo",
            "embargo",
            "embargo",
            "embargo",
            "embargo",
            "embargo",
            "embargo",
            "embargo",
            "embargo",
            "embargo",
            "embargo",
            "embargo",
            "embargo",
            "embargo",
            "embargo",
            "embargo",
            "embargo",
            "embargo",
            "embargo",
            "embargo",
            "embargo",
            "embargo",
            "embargo",
            "embargo",
            "training",
            "training",
            "training",
            "training",
            "training",
            "training",
            "training",
            "training",
            "training",
            "training",
            "training",
            "training",
            "training",
            "training",
            "training",
            "training",
            "training",
            "training",
            "training",
            "training",
            "training",
            "training",
            "training",
            "training",
            "training",
            "training",
            "training",
            "training",
            "training",
            "training",
            "training",
            "training",
            "training",
            "training",
            "training",
            "training",
            "training",
            "training",
            "training",
            "training",
            "training",
            "training",
            "training",
            "training",
            "training",
            "training",
            "training",
            "training",
            "training",
            "training",
            "training",
            "training",
            "training",
            "training",
            "training",
            "training",
            "training",
            "training",
            "training",
            "training",
            "training",
            "training",
            "training",
            "training",
            "training",
            "training",
            "training",
            "training",
            "training",
            "training",
            "training",
            "training",
            "training",
            "training",
            "training",
            "training",
            "training",
            "training",
            "training",
            "training",
            "training",
            "training",
            "training"
           ],
           [
            "training",
            "training",
            "training",
            "training",
            "training",
            "training",
            "training",
            "training",
            "training",
            "training",
            "training",
            "training",
            "training",
            "training",
            "training",
            "training",
            "training",
            "training",
            "training",
            "training",
            "training",
            "training",
            "training",
            "training",
            "training",
            "training",
            "training",
            "training",
            "training",
            "training",
            "training",
            "training",
            "training",
            "training",
            "training",
            "training",
            "training",
            "training",
            "training",
            "training",
            "training",
            "training",
            "training",
            "training",
            "training",
            "training",
            "training",
            "training",
            "training",
            "training",
            "training",
            "training",
            "training",
            "training",
            "training",
            "training",
            "training",
            "training",
            "training",
            "training",
            "training",
            "training",
            "training",
            "training",
            "training",
            "training",
            "training",
            "training",
            "training",
            "training",
            "training",
            "training",
            "training",
            "training",
            "training",
            "training",
            "training",
            "training",
            "training",
            "training",
            "training",
            "training",
            "training",
            "training",
            "training",
            "training",
            "training",
            "training",
            "training",
            "training",
            "training",
            "training",
            "training",
            "training",
            "training",
            "training",
            "training",
            "training",
            "training",
            "training",
            "training",
            "training",
            "training",
            "training",
            "training",
            "training",
            "training",
            "training",
            "training",
            "training",
            "training",
            "training",
            "training",
            "training",
            "training",
            "training",
            "training",
            "training",
            "training",
            "training",
            "training",
            "training",
            "training",
            "training",
            "training",
            "training",
            "training",
            "training",
            "training",
            "training",
            "training",
            "training",
            "training",
            "training",
            "training",
            "training",
            "training",
            "training",
            "training",
            "training",
            "training",
            "training",
            "training",
            "training",
            "training",
            "training",
            "training",
            "training",
            "training",
            "training",
            "training",
            "training",
            "training",
            "training",
            "training",
            "training",
            "training",
            "training",
            "training",
            "training",
            "training",
            "training",
            "training",
            "training",
            "training",
            "training",
            "training",
            "training",
            "training",
            "training",
            "training",
            "training",
            "training",
            "training",
            "training",
            "training",
            "training",
            "training",
            "training",
            "training",
            "training",
            "training",
            "training",
            "training",
            "training",
            "training",
            "training",
            "training",
            "training",
            "training",
            "training",
            "training",
            "training",
            "training",
            "training",
            "training",
            "training",
            "training",
            "training",
            "training",
            "training",
            "training",
            "training",
            "training",
            "training",
            "training",
            "training",
            "training",
            "training",
            "training",
            "training",
            "training",
            "training",
            "training",
            "training",
            "training",
            "training",
            "training",
            "training",
            "training",
            "training",
            "training",
            "training",
            "training",
            "training",
            "training",
            "training",
            "training",
            "training",
            "training",
            "training",
            "training",
            "training",
            "training",
            "training",
            "training",
            "training",
            "training",
            "training",
            "training",
            "training",
            "training",
            "training",
            "training",
            "training",
            "training",
            "training",
            "training",
            "training",
            "training",
            "training",
            "training",
            "training",
            "training",
            "training",
            "training",
            "training",
            "training",
            "training",
            "training",
            "training",
            "training",
            "training",
            "training",
            "training",
            "training",
            "training",
            "training",
            "training",
            "training",
            "training",
            "training",
            "training",
            "training",
            "training",
            "training",
            "training",
            "training",
            "training",
            "training",
            "training",
            "training",
            "training",
            "training",
            "training",
            "training",
            "training",
            "training",
            "training",
            "training",
            "training",
            "training",
            "training",
            "training",
            "training",
            "training",
            "training",
            "training",
            "training",
            "training",
            "training",
            "training",
            "training",
            "training",
            "training",
            "training",
            "training",
            "training",
            "training",
            "training",
            "training",
            "training",
            "training",
            "training",
            "training",
            "training",
            "training",
            "training",
            "training",
            "training",
            "training",
            "training",
            "training",
            "training",
            "training",
            "training",
            "training",
            "training",
            "training",
            "training",
            "training",
            "training",
            "embargo",
            "embargo",
            "embargo",
            "embargo",
            "embargo",
            "embargo",
            "embargo",
            "embargo",
            "embargo",
            "embargo",
            "embargo",
            "embargo",
            "embargo",
            "embargo",
            "embargo",
            "embargo",
            "embargo",
            "embargo",
            "embargo",
            "embargo",
            "embargo",
            "embargo",
            "embargo",
            "embargo",
            "embargo",
            "embargo",
            "embargo",
            "embargo",
            "embargo",
            "embargo",
            "embargo",
            "embargo",
            "embargo",
            "embargo",
            "embargo",
            "embargo",
            "embargo",
            "embargo",
            "embargo",
            "embargo",
            "embargo",
            "embargo",
            "embargo",
            "embargo",
            "embargo",
            "embargo",
            "embargo",
            "embargo",
            "embargo",
            "embargo",
            "embargo",
            "embargo",
            "embargo",
            "embargo",
            "embargo",
            "embargo",
            "embargo",
            "embargo",
            "embargo",
            "embargo",
            "embargo",
            "embargo",
            "embargo",
            "embargo",
            "validation",
            "validation",
            "validation",
            "validation",
            "validation",
            "validation",
            "validation",
            "validation",
            "validation",
            "validation",
            "validation",
            "validation",
            "validation",
            "validation",
            "validation",
            "validation",
            "validation",
            "validation",
            "validation",
            "validation",
            "validation",
            "validation",
            "validation",
            "validation",
            "validation",
            "validation",
            "validation",
            "validation",
            "validation",
            "validation",
            "validation",
            "validation",
            "validation",
            "validation",
            "validation",
            "validation",
            "validation",
            "validation",
            "validation",
            "validation",
            "validation",
            "validation",
            "validation",
            "validation",
            "validation",
            "validation",
            "validation",
            "validation",
            "validation",
            "validation",
            "validation",
            "validation",
            "validation",
            "validation",
            "validation",
            "validation",
            "validation",
            "validation",
            "validation",
            "validation",
            "validation",
            "validation",
            "validation",
            "validation",
            "validation",
            "validation",
            "validation",
            "validation",
            "validation",
            "validation",
            "validation",
            "validation",
            "validation",
            "validation",
            "validation",
            "validation",
            "validation",
            "validation",
            "validation",
            "validation",
            "validation",
            "validation",
            "validation",
            "validation",
            "validation",
            "validation",
            "validation",
            "validation",
            "validation",
            "validation",
            "validation",
            "validation",
            "validation",
            "validation",
            "validation",
            "validation",
            "validation",
            "validation",
            "validation",
            "validation",
            "validation",
            "validation",
            "validation",
            "validation",
            "validation",
            "validation",
            "validation",
            "validation",
            "validation",
            "validation",
            "validation",
            "validation",
            "validation",
            "validation",
            "embargo",
            "embargo",
            "embargo",
            "embargo",
            "embargo",
            "embargo",
            "embargo",
            "embargo",
            "embargo",
            "embargo",
            "embargo",
            "embargo",
            "embargo",
            "embargo",
            "embargo",
            "embargo",
            "embargo",
            "embargo",
            "embargo",
            "embargo",
            "embargo",
            "embargo",
            "embargo",
            "embargo",
            "embargo",
            "embargo",
            "embargo",
            "embargo",
            "embargo",
            "embargo",
            "embargo",
            "embargo",
            "embargo",
            "embargo",
            "embargo",
            "embargo",
            "embargo",
            "embargo",
            "embargo",
            "embargo",
            "embargo",
            "embargo",
            "embargo",
            "embargo",
            "embargo",
            "embargo",
            "embargo",
            "embargo",
            "embargo",
            "embargo",
            "embargo",
            "embargo",
            "embargo",
            "embargo",
            "embargo",
            "embargo",
            "embargo",
            "embargo",
            "embargo",
            "embargo",
            "embargo",
            "embargo",
            "embargo",
            "embargo"
           ]
          ]
         },
         "header": {
          "values": [
           "<b>Era<b>",
           "<b>Split 0<b>",
           "<b>Split 1<b>",
           "<b>Split 2<b>",
           "<b>Split 3<b>",
           "<b>Split 4<b>"
          ]
         },
         "type": "table"
        }
       ],
       "layout": {
        "template": {
         "data": {
          "bar": [
           {
            "error_x": {
             "color": "#2a3f5f"
            },
            "error_y": {
             "color": "#2a3f5f"
            },
            "marker": {
             "line": {
              "color": "#E5ECF6",
              "width": 0.5
             }
            },
            "type": "bar"
           }
          ],
          "barpolar": [
           {
            "marker": {
             "line": {
              "color": "#E5ECF6",
              "width": 0.5
             }
            },
            "type": "barpolar"
           }
          ],
          "carpet": [
           {
            "aaxis": {
             "endlinecolor": "#2a3f5f",
             "gridcolor": "white",
             "linecolor": "white",
             "minorgridcolor": "white",
             "startlinecolor": "#2a3f5f"
            },
            "baxis": {
             "endlinecolor": "#2a3f5f",
             "gridcolor": "white",
             "linecolor": "white",
             "minorgridcolor": "white",
             "startlinecolor": "#2a3f5f"
            },
            "type": "carpet"
           }
          ],
          "choropleth": [
           {
            "colorbar": {
             "outlinewidth": 0,
             "ticks": ""
            },
            "type": "choropleth"
           }
          ],
          "contour": [
           {
            "colorbar": {
             "outlinewidth": 0,
             "ticks": ""
            },
            "colorscale": [
             [
              0,
              "#0d0887"
             ],
             [
              0.1111111111111111,
              "#46039f"
             ],
             [
              0.2222222222222222,
              "#7201a8"
             ],
             [
              0.3333333333333333,
              "#9c179e"
             ],
             [
              0.4444444444444444,
              "#bd3786"
             ],
             [
              0.5555555555555556,
              "#d8576b"
             ],
             [
              0.6666666666666666,
              "#ed7953"
             ],
             [
              0.7777777777777778,
              "#fb9f3a"
             ],
             [
              0.8888888888888888,
              "#fdca26"
             ],
             [
              1,
              "#f0f921"
             ]
            ],
            "type": "contour"
           }
          ],
          "contourcarpet": [
           {
            "colorbar": {
             "outlinewidth": 0,
             "ticks": ""
            },
            "type": "contourcarpet"
           }
          ],
          "heatmap": [
           {
            "colorbar": {
             "outlinewidth": 0,
             "ticks": ""
            },
            "colorscale": [
             [
              0,
              "#0d0887"
             ],
             [
              0.1111111111111111,
              "#46039f"
             ],
             [
              0.2222222222222222,
              "#7201a8"
             ],
             [
              0.3333333333333333,
              "#9c179e"
             ],
             [
              0.4444444444444444,
              "#bd3786"
             ],
             [
              0.5555555555555556,
              "#d8576b"
             ],
             [
              0.6666666666666666,
              "#ed7953"
             ],
             [
              0.7777777777777778,
              "#fb9f3a"
             ],
             [
              0.8888888888888888,
              "#fdca26"
             ],
             [
              1,
              "#f0f921"
             ]
            ],
            "type": "heatmap"
           }
          ],
          "heatmapgl": [
           {
            "colorbar": {
             "outlinewidth": 0,
             "ticks": ""
            },
            "colorscale": [
             [
              0,
              "#0d0887"
             ],
             [
              0.1111111111111111,
              "#46039f"
             ],
             [
              0.2222222222222222,
              "#7201a8"
             ],
             [
              0.3333333333333333,
              "#9c179e"
             ],
             [
              0.4444444444444444,
              "#bd3786"
             ],
             [
              0.5555555555555556,
              "#d8576b"
             ],
             [
              0.6666666666666666,
              "#ed7953"
             ],
             [
              0.7777777777777778,
              "#fb9f3a"
             ],
             [
              0.8888888888888888,
              "#fdca26"
             ],
             [
              1,
              "#f0f921"
             ]
            ],
            "type": "heatmapgl"
           }
          ],
          "histogram": [
           {
            "marker": {
             "colorbar": {
              "outlinewidth": 0,
              "ticks": ""
             }
            },
            "type": "histogram"
           }
          ],
          "histogram2d": [
           {
            "colorbar": {
             "outlinewidth": 0,
             "ticks": ""
            },
            "colorscale": [
             [
              0,
              "#0d0887"
             ],
             [
              0.1111111111111111,
              "#46039f"
             ],
             [
              0.2222222222222222,
              "#7201a8"
             ],
             [
              0.3333333333333333,
              "#9c179e"
             ],
             [
              0.4444444444444444,
              "#bd3786"
             ],
             [
              0.5555555555555556,
              "#d8576b"
             ],
             [
              0.6666666666666666,
              "#ed7953"
             ],
             [
              0.7777777777777778,
              "#fb9f3a"
             ],
             [
              0.8888888888888888,
              "#fdca26"
             ],
             [
              1,
              "#f0f921"
             ]
            ],
            "type": "histogram2d"
           }
          ],
          "histogram2dcontour": [
           {
            "colorbar": {
             "outlinewidth": 0,
             "ticks": ""
            },
            "colorscale": [
             [
              0,
              "#0d0887"
             ],
             [
              0.1111111111111111,
              "#46039f"
             ],
             [
              0.2222222222222222,
              "#7201a8"
             ],
             [
              0.3333333333333333,
              "#9c179e"
             ],
             [
              0.4444444444444444,
              "#bd3786"
             ],
             [
              0.5555555555555556,
              "#d8576b"
             ],
             [
              0.6666666666666666,
              "#ed7953"
             ],
             [
              0.7777777777777778,
              "#fb9f3a"
             ],
             [
              0.8888888888888888,
              "#fdca26"
             ],
             [
              1,
              "#f0f921"
             ]
            ],
            "type": "histogram2dcontour"
           }
          ],
          "mesh3d": [
           {
            "colorbar": {
             "outlinewidth": 0,
             "ticks": ""
            },
            "type": "mesh3d"
           }
          ],
          "parcoords": [
           {
            "line": {
             "colorbar": {
              "outlinewidth": 0,
              "ticks": ""
             }
            },
            "type": "parcoords"
           }
          ],
          "pie": [
           {
            "automargin": true,
            "type": "pie"
           }
          ],
          "scatter": [
           {
            "marker": {
             "colorbar": {
              "outlinewidth": 0,
              "ticks": ""
             }
            },
            "type": "scatter"
           }
          ],
          "scatter3d": [
           {
            "line": {
             "colorbar": {
              "outlinewidth": 0,
              "ticks": ""
             }
            },
            "marker": {
             "colorbar": {
              "outlinewidth": 0,
              "ticks": ""
             }
            },
            "type": "scatter3d"
           }
          ],
          "scattercarpet": [
           {
            "marker": {
             "colorbar": {
              "outlinewidth": 0,
              "ticks": ""
             }
            },
            "type": "scattercarpet"
           }
          ],
          "scattergeo": [
           {
            "marker": {
             "colorbar": {
              "outlinewidth": 0,
              "ticks": ""
             }
            },
            "type": "scattergeo"
           }
          ],
          "scattergl": [
           {
            "marker": {
             "colorbar": {
              "outlinewidth": 0,
              "ticks": ""
             }
            },
            "type": "scattergl"
           }
          ],
          "scattermapbox": [
           {
            "marker": {
             "colorbar": {
              "outlinewidth": 0,
              "ticks": ""
             }
            },
            "type": "scattermapbox"
           }
          ],
          "scatterpolar": [
           {
            "marker": {
             "colorbar": {
              "outlinewidth": 0,
              "ticks": ""
             }
            },
            "type": "scatterpolar"
           }
          ],
          "scatterpolargl": [
           {
            "marker": {
             "colorbar": {
              "outlinewidth": 0,
              "ticks": ""
             }
            },
            "type": "scatterpolargl"
           }
          ],
          "scatterternary": [
           {
            "marker": {
             "colorbar": {
              "outlinewidth": 0,
              "ticks": ""
             }
            },
            "type": "scatterternary"
           }
          ],
          "surface": [
           {
            "colorbar": {
             "outlinewidth": 0,
             "ticks": ""
            },
            "colorscale": [
             [
              0,
              "#0d0887"
             ],
             [
              0.1111111111111111,
              "#46039f"
             ],
             [
              0.2222222222222222,
              "#7201a8"
             ],
             [
              0.3333333333333333,
              "#9c179e"
             ],
             [
              0.4444444444444444,
              "#bd3786"
             ],
             [
              0.5555555555555556,
              "#d8576b"
             ],
             [
              0.6666666666666666,
              "#ed7953"
             ],
             [
              0.7777777777777778,
              "#fb9f3a"
             ],
             [
              0.8888888888888888,
              "#fdca26"
             ],
             [
              1,
              "#f0f921"
             ]
            ],
            "type": "surface"
           }
          ],
          "table": [
           {
            "cells": {
             "fill": {
              "color": "#EBF0F8"
             },
             "line": {
              "color": "white"
             }
            },
            "header": {
             "fill": {
              "color": "#C8D4E3"
             },
             "line": {
              "color": "white"
             }
            },
            "type": "table"
           }
          ]
         },
         "layout": {
          "annotationdefaults": {
           "arrowcolor": "#2a3f5f",
           "arrowhead": 0,
           "arrowwidth": 1
          },
          "autotypenumbers": "strict",
          "coloraxis": {
           "colorbar": {
            "outlinewidth": 0,
            "ticks": ""
           }
          },
          "colorscale": {
           "diverging": [
            [
             0,
             "#8e0152"
            ],
            [
             0.1,
             "#c51b7d"
            ],
            [
             0.2,
             "#de77ae"
            ],
            [
             0.3,
             "#f1b6da"
            ],
            [
             0.4,
             "#fde0ef"
            ],
            [
             0.5,
             "#f7f7f7"
            ],
            [
             0.6,
             "#e6f5d0"
            ],
            [
             0.7,
             "#b8e186"
            ],
            [
             0.8,
             "#7fbc41"
            ],
            [
             0.9,
             "#4d9221"
            ],
            [
             1,
             "#276419"
            ]
           ],
           "sequential": [
            [
             0,
             "#0d0887"
            ],
            [
             0.1111111111111111,
             "#46039f"
            ],
            [
             0.2222222222222222,
             "#7201a8"
            ],
            [
             0.3333333333333333,
             "#9c179e"
            ],
            [
             0.4444444444444444,
             "#bd3786"
            ],
            [
             0.5555555555555556,
             "#d8576b"
            ],
            [
             0.6666666666666666,
             "#ed7953"
            ],
            [
             0.7777777777777778,
             "#fb9f3a"
            ],
            [
             0.8888888888888888,
             "#fdca26"
            ],
            [
             1,
             "#f0f921"
            ]
           ],
           "sequentialminus": [
            [
             0,
             "#0d0887"
            ],
            [
             0.1111111111111111,
             "#46039f"
            ],
            [
             0.2222222222222222,
             "#7201a8"
            ],
            [
             0.3333333333333333,
             "#9c179e"
            ],
            [
             0.4444444444444444,
             "#bd3786"
            ],
            [
             0.5555555555555556,
             "#d8576b"
            ],
            [
             0.6666666666666666,
             "#ed7953"
            ],
            [
             0.7777777777777778,
             "#fb9f3a"
            ],
            [
             0.8888888888888888,
             "#fdca26"
            ],
            [
             1,
             "#f0f921"
            ]
           ]
          },
          "colorway": [
           "#636efa",
           "#EF553B",
           "#00cc96",
           "#ab63fa",
           "#FFA15A",
           "#19d3f3",
           "#FF6692",
           "#B6E880",
           "#FF97FF",
           "#FECB52"
          ],
          "font": {
           "color": "#2a3f5f"
          },
          "geo": {
           "bgcolor": "white",
           "lakecolor": "white",
           "landcolor": "#E5ECF6",
           "showlakes": true,
           "showland": true,
           "subunitcolor": "white"
          },
          "hoverlabel": {
           "align": "left"
          },
          "hovermode": "closest",
          "mapbox": {
           "style": "light"
          },
          "paper_bgcolor": "white",
          "plot_bgcolor": "#E5ECF6",
          "polar": {
           "angularaxis": {
            "gridcolor": "white",
            "linecolor": "white",
            "ticks": ""
           },
           "bgcolor": "#E5ECF6",
           "radialaxis": {
            "gridcolor": "white",
            "linecolor": "white",
            "ticks": ""
           }
          },
          "scene": {
           "xaxis": {
            "backgroundcolor": "#E5ECF6",
            "gridcolor": "white",
            "gridwidth": 2,
            "linecolor": "white",
            "showbackground": true,
            "ticks": "",
            "zerolinecolor": "white"
           },
           "yaxis": {
            "backgroundcolor": "#E5ECF6",
            "gridcolor": "white",
            "gridwidth": 2,
            "linecolor": "white",
            "showbackground": true,
            "ticks": "",
            "zerolinecolor": "white"
           },
           "zaxis": {
            "backgroundcolor": "#E5ECF6",
            "gridcolor": "white",
            "gridwidth": 2,
            "linecolor": "white",
            "showbackground": true,
            "ticks": "",
            "zerolinecolor": "white"
           }
          },
          "shapedefaults": {
           "line": {
            "color": "#2a3f5f"
           }
          },
          "ternary": {
           "aaxis": {
            "gridcolor": "white",
            "linecolor": "white",
            "ticks": ""
           },
           "baxis": {
            "gridcolor": "white",
            "linecolor": "white",
            "ticks": ""
           },
           "bgcolor": "#E5ECF6",
           "caxis": {
            "gridcolor": "white",
            "linecolor": "white",
            "ticks": ""
           }
          },
          "title": {
           "x": 0.05
          },
          "xaxis": {
           "automargin": true,
           "gridcolor": "white",
           "linecolor": "white",
           "ticks": "",
           "title": {
            "standoff": 15
           },
           "zerolinecolor": "white",
           "zerolinewidth": 2
          },
          "yaxis": {
           "automargin": true,
           "gridcolor": "white",
           "linecolor": "white",
           "ticks": "",
           "title": {
            "standoff": 15
           },
           "zerolinecolor": "white",
           "zerolinewidth": 2
          }
         }
        }
       }
      }
     },
     "metadata": {},
     "output_type": "display_data"
    }
   ],
   "source": [
    "# plot splits_df with plotly\n",
    "from plotly.colors import n_colors\n",
    "\n",
    "splits = [s for s in splits_df.columns.tolist() if \"split\" in s]\n",
    "fig = go.Figure(data=[go.Table(\n",
    "    header=dict(values=[\"<b>Era<b>\"] + ['<b>Split {}<b>'.format(i) for i in range(NUM_FOLDS)]),\n",
    "    cells=dict(values=[eras] + [splits_df['split_{}'.format(i)] for i in range(NUM_FOLDS)],\n",
    "        # colors=['#FF0000', '#00FF00', '#0000FF'],\n",
    "        fill_color = [\n",
    "            '#FF0000' if \"embargo\" in splits_df['split_{}'.format(i)] else '#FFFFFF' \n",
    "            for i in range(NUM_FOLDS)\n",
    "        ],\n",
    "        align='center',\n",
    "    ))\n",
    "])\n",
    "\n",
    "fig.show()\n"
   ]
  },
  {
   "cell_type": "code",
   "execution_count": 30,
   "metadata": {},
   "outputs": [
    {
     "name": "stderr",
     "output_type": "stream",
     "text": [
      "\u001b[32m[I 2022-02-20 20:13:35,704]\u001b[0m A new study created in memory with name: catboost_hyper_parameter_tuning\u001b[0m\n",
      "Custom logger is already specified. Specify more than one logger at same time is not thread safe.\u001b[32m[I 2022-02-20 20:15:30,587]\u001b[0m Trial 0 finished with value: 0.05513383984942133 and parameters: {'iterations': 250, 'learning_rate': 0.07114476009343425, 'depth': 6}. Best is trial 0 with value: 0.05513383984942133.\u001b[0m\n",
      "\u001b[32m[I 2022-02-20 20:16:44,432]\u001b[0m Trial 1 finished with value: 0.027973076262303692 and parameters: {'iterations': 340, 'learning_rate': 0.00029380279387035364, 'depth': 2}. Best is trial 0 with value: 0.05513383984942133.\u001b[0m\n",
      "\u001b[32m[I 2022-02-20 20:17:57,492]\u001b[0m Trial 2 finished with value: 0.05088369664486533 and parameters: {'iterations': 123, 'learning_rate': 0.0396760507705299, 'depth': 5}. Best is trial 0 with value: 0.05513383984942133.\u001b[0m\n",
      "\u001b[32m[I 2022-02-20 20:21:02,608]\u001b[0m Trial 3 finished with value: 0.03859770262580047 and parameters: {'iterations': 383, 'learning_rate': 0.00011527987128232407, 'depth': 7}. Best is trial 0 with value: 0.05513383984942133.\u001b[0m\n",
      "\u001b[32m[I 2022-02-20 20:22:22,569]\u001b[0m Trial 4 finished with value: 0.0285121310833056 and parameters: {'iterations': 433, 'learning_rate': 0.0004335281794951569, 'depth': 2}. Best is trial 0 with value: 0.05513383984942133.\u001b[0m\n",
      "\u001b[32m[I 2022-02-20 20:23:33,908]\u001b[0m Trial 5 finished with value: 0.03352456984014271 and parameters: {'iterations': 173, 'learning_rate': 0.0008179499475211679, 'depth': 4}. Best is trial 0 with value: 0.05513383984942133.\u001b[0m\n",
      "\u001b[32m[I 2022-02-20 20:25:15,300]\u001b[0m Trial 6 finished with value: 0.036887283827544935 and parameters: {'iterations': 273, 'learning_rate': 0.0007476312062252305, 'depth': 5}. Best is trial 0 with value: 0.05513383984942133.\u001b[0m\n",
      "\u001b[32m[I 2022-02-20 20:26:18,766]\u001b[0m Trial 7 finished with value: 0.030734834611835706 and parameters: {'iterations': 155, 'learning_rate': 0.0007523742884534858, 'depth': 3}. Best is trial 0 with value: 0.05513383984942133.\u001b[0m\n",
      "\u001b[32m[I 2022-02-20 20:27:27,407]\u001b[0m Trial 8 finished with value: 0.044649464106646886 and parameters: {'iterations': 282, 'learning_rate': 0.0226739865237804, 'depth': 2}. Best is trial 0 with value: 0.05513383984942133.\u001b[0m\n",
      "\u001b[32m[I 2022-02-20 20:28:30,826]\u001b[0m Trial 9 finished with value: 0.03054647266054563 and parameters: {'iterations': 306, 'learning_rate': 0.005987474910461402, 'depth': 1}. Best is trial 0 with value: 0.05513383984942133.\u001b[0m\n",
      "\u001b[32m[I 2022-02-20 20:29:35,438]\u001b[0m Trial 10 finished with value: 0.02462310283456807 and parameters: {'iterations': 343, 'learning_rate': 0.00032476735706274504, 'depth': 1}. Best is trial 0 with value: 0.05513383984942133.\u001b[0m\n",
      "\u001b[32m[I 2022-02-20 20:32:29,733]\u001b[0m Trial 11 finished with value: 0.05491815779314481 and parameters: {'iterations': 480, 'learning_rate': 0.07886714129990492, 'depth': 6}. Best is trial 0 with value: 0.05513383984942133.\u001b[0m\n",
      "\u001b[32m[I 2022-02-20 20:34:03,148]\u001b[0m Trial 12 finished with value: 0.03529641406945882 and parameters: {'iterations': 222, 'learning_rate': 0.00019634341572933326, 'depth': 5}. Best is trial 0 with value: 0.05513383984942133.\u001b[0m\n",
      "\u001b[32m[I 2022-02-20 20:35:31,401]\u001b[0m Trial 13 finished with value: 0.032810826188266695 and parameters: {'iterations': 276, 'learning_rate': 0.00023233503515390126, 'depth': 4}. Best is trial 0 with value: 0.05513383984942133.\u001b[0m\n",
      "\u001b[32m[I 2022-02-20 20:36:25,412]\u001b[0m Trial 14 finished with value: 0.04455079837816729 and parameters: {'iterations': 113, 'learning_rate': 0.053451661106468214, 'depth': 2}. Best is trial 0 with value: 0.05513383984942133.\u001b[0m\n",
      "\u001b[32m[I 2022-02-20 20:38:07,032]\u001b[0m Trial 15 finished with value: 0.035386202921928525 and parameters: {'iterations': 365, 'learning_rate': 0.0008612579192594886, 'depth': 4}. Best is trial 0 with value: 0.05513383984942133.\u001b[0m\n",
      "\u001b[32m[I 2022-02-20 20:40:44,999]\u001b[0m Trial 16 finished with value: 0.03947185462230663 and parameters: {'iterations': 319, 'learning_rate': 0.00035856126103454, 'depth': 7}. Best is trial 0 with value: 0.05513383984942133.\u001b[0m\n",
      "\u001b[32m[I 2022-02-20 20:43:51,858]\u001b[0m Trial 17 finished with value: 0.05413583606515152 and parameters: {'iterations': 410, 'learning_rate': 0.06584106160121614, 'depth': 7}. Best is trial 0 with value: 0.05513383984942133.\u001b[0m\n",
      "\u001b[32m[I 2022-02-20 20:44:56,383]\u001b[0m Trial 18 finished with value: 0.0442102768405202 and parameters: {'iterations': 339, 'learning_rate': 0.058293845429947415, 'depth': 1}. Best is trial 0 with value: 0.05513383984942133.\u001b[0m\n",
      "\u001b[32m[I 2022-02-20 20:46:04,852]\u001b[0m Trial 19 finished with value: 0.0298089654728297 and parameters: {'iterations': 178, 'learning_rate': 0.0001366727291545623, 'depth': 3}. Best is trial 0 with value: 0.05513383984942133.\u001b[0m\n"
     ]
    }
   ],
   "source": [
    "from scipy.stats import gmean\n",
    "\n",
    "# hyper parameter tuning with optuna\n",
    "def objective(trial):\n",
    "\n",
    "    # suggest hyper parameters to try at each iteration\n",
    "    params = {\n",
    "        \"iterations\" : trial.suggest_int(\"iterations\", 100, 2000),\n",
    "        \"learning_rate\" : trial.suggest_loguniform(\"learning_rate\", 1e-4, 1),\n",
    "        \"depth\" : trial.suggest_int(\"depth\", 4, 10),\n",
    "        \"task_type\" : \"GPU\",\n",
    "    }\n",
    "\n",
    "    all_correlations = []\n",
    "\n",
    "    # loop over each cross validation fold\n",
    "    for split in splits:\n",
    "        train_eras = splits_df.loc[splits_df[split] == \"training\"].index\n",
    "        validation_eras = splits_df.loc[splits_df[split] == \"validation\"].index\n",
    "\n",
    "        # creat model with same parameters each fold\n",
    "        model = catboost.CatBoostRegressor(**params)\n",
    "        model.fit(\n",
    "            X=training_set.loc[training_set.era.isin(train_eras)][feature_names],\n",
    "            y=training_set.loc[training_set.era.isin(train_eras)][\"target\"],\n",
    "            verbose=False\n",
    "            )\n",
    "        # make predictions on validation fold\n",
    "        preds_df = pd.DataFrame(\n",
    "            {\n",
    "                \"prediction\" : model.predict(\n",
    "                training_set.loc[training_set.era.isin(validation_eras)][feature_names],\n",
    "                verbose=False,\n",
    "                ),\n",
    "                \"era\" : training_set.loc[training_set.era.isin(validation_eras)][\"era\"],\n",
    "                \"target\" : training_set.loc[training_set.era.isin(validation_eras)][\"target\"],\n",
    "            },\n",
    "            index=training_set.loc[training_set.era.isin(validation_eras)].index, \n",
    "        )\n",
    "\n",
    "        # calculate correlation between prediction and target grouped by era\n",
    "        era_correlations = preds_df.groupby(\"era\").apply(\n",
    "            lambda era: np.corrcoef(era[\"prediction\"], era[\"target\"])[0, 1]\n",
    "        )\n",
    "\n",
    "        # mean accross all eras\n",
    "        mean_correlation = era_correlations.mean()\n",
    "\n",
    "        # append to list of all correlations\n",
    "        all_correlations.append(mean_correlation)\n",
    "\n",
    "    # some splits tend to have higher correlation than others\n",
    "    # geometric mean prevents these splits from skewing the results\n",
    "    geometric_mean_correlation = gmean(all_correlations)\n",
    "\n",
    "    return geometric_mean_correlation\n",
    "\n",
    "# hyper parameter optimization with random search\n",
    "study = optuna.create_study(\n",
    "    direction=\"maximize\",\n",
    "    study_name=\"catboost_hyper_parameter_tuning\",\n",
    "    sampler=optuna.samplers.RandomSampler(seed=42),\n",
    "    )\n",
    "\n",
    "# 20 trials\n",
    "study.optimize(objective, n_trials=30)"
   ]
  },
  {
   "cell_type": "code",
   "execution_count": 31,
   "metadata": {},
   "outputs": [
    {
     "name": "stdout",
     "output_type": "stream",
     "text": [
      "{'iterations': 250, 'learning_rate': 0.07114476009343425, 'depth': 6}\n",
      "0.05513383984942133\n"
     ]
    }
   ],
   "source": [
    "# best params and values\n",
    "print(study.best_params)\n",
    "print(study.best_value)"
   ]
  },
  {
   "cell_type": "code",
   "execution_count": 32,
   "metadata": {},
   "outputs": [
    {
     "data": {
      "application/vnd.plotly.v1+json": {
       "config": {
        "plotlyServerURL": "https://plot.ly"
       },
       "data": [
        {
         "dimensions": [
          {
           "label": "Objective Value",
           "range": [
            0.02462310283456807,
            0.05513383984942133
           ],
           "values": [
            0.05513383984942133,
            0.027973076262303692,
            0.05088369664486533,
            0.03859770262580047,
            0.0285121310833056,
            0.03352456984014271,
            0.036887283827544935,
            0.030734834611835706,
            0.044649464106646886,
            0.03054647266054563,
            0.02462310283456807,
            0.05491815779314481,
            0.03529641406945882,
            0.032810826188266695,
            0.04455079837816729,
            0.035386202921928525,
            0.03947185462230663,
            0.05413583606515152,
            0.0442102768405202,
            0.0298089654728297
           ]
          },
          {
           "label": "depth",
           "range": [
            1,
            7
           ],
           "values": [
            6,
            2,
            5,
            7,
            2,
            4,
            5,
            3,
            2,
            1,
            1,
            6,
            5,
            4,
            2,
            4,
            7,
            7,
            1,
            3
           ]
          },
          {
           "label": "iterations",
           "range": [
            113,
            480
           ],
           "values": [
            250,
            340,
            123,
            383,
            433,
            173,
            273,
            155,
            282,
            306,
            343,
            480,
            222,
            276,
            113,
            365,
            319,
            410,
            339,
            178
           ]
          },
          {
           "label": "learning_rate",
           "range": [
            -3.938246517112592,
            -1.103103900776322
           ],
           "ticktext": [
            "0.000115",
            "0.001",
            "0.01",
            "0.0789"
           ],
           "tickvals": [
            -3.938246517112592,
            -3,
            -2,
            -1.103103900776322
           ],
           "values": [
            -1.147857080770251,
            -3.5319440786726903,
            -1.4014715626751941,
            -3.938246517112592,
            -3.362982667965171,
            -3.0872732711213864,
            -3.126312579405874,
            -3.1235660543943453,
            -1.644472115820959,
            -2.2227562934138723,
            -3.488427628938125,
            -1.103103900776322,
            -3.7069836579808486,
            -3.6338852954656633,
            -1.2720387937636535,
            -3.064866771731767,
            -3.4454366334234185,
            -1.1815031753074323,
            -1.2343772949306493,
            -3.8643181332683856
           ]
          }
         ],
         "labelangle": 30,
         "labelside": "bottom",
         "line": {
          "color": [
           0.05513383984942133,
           0.027973076262303692,
           0.05088369664486533,
           0.03859770262580047,
           0.0285121310833056,
           0.03352456984014271,
           0.036887283827544935,
           0.030734834611835706,
           0.044649464106646886,
           0.03054647266054563,
           0.02462310283456807,
           0.05491815779314481,
           0.03529641406945882,
           0.032810826188266695,
           0.04455079837816729,
           0.035386202921928525,
           0.03947185462230663,
           0.05413583606515152,
           0.0442102768405202,
           0.0298089654728297
          ],
          "colorbar": {
           "title": {
            "text": "Objective Value"
           }
          },
          "colorscale": [
           [
            0,
            "rgb(247,251,255)"
           ],
           [
            0.125,
            "rgb(222,235,247)"
           ],
           [
            0.25,
            "rgb(198,219,239)"
           ],
           [
            0.375,
            "rgb(158,202,225)"
           ],
           [
            0.5,
            "rgb(107,174,214)"
           ],
           [
            0.625,
            "rgb(66,146,198)"
           ],
           [
            0.75,
            "rgb(33,113,181)"
           ],
           [
            0.875,
            "rgb(8,81,156)"
           ],
           [
            1,
            "rgb(8,48,107)"
           ]
          ],
          "reversescale": false,
          "showscale": true
         },
         "type": "parcoords"
        }
       ],
       "layout": {
        "template": {
         "data": {
          "bar": [
           {
            "error_x": {
             "color": "#2a3f5f"
            },
            "error_y": {
             "color": "#2a3f5f"
            },
            "marker": {
             "line": {
              "color": "#E5ECF6",
              "width": 0.5
             }
            },
            "type": "bar"
           }
          ],
          "barpolar": [
           {
            "marker": {
             "line": {
              "color": "#E5ECF6",
              "width": 0.5
             }
            },
            "type": "barpolar"
           }
          ],
          "carpet": [
           {
            "aaxis": {
             "endlinecolor": "#2a3f5f",
             "gridcolor": "white",
             "linecolor": "white",
             "minorgridcolor": "white",
             "startlinecolor": "#2a3f5f"
            },
            "baxis": {
             "endlinecolor": "#2a3f5f",
             "gridcolor": "white",
             "linecolor": "white",
             "minorgridcolor": "white",
             "startlinecolor": "#2a3f5f"
            },
            "type": "carpet"
           }
          ],
          "choropleth": [
           {
            "colorbar": {
             "outlinewidth": 0,
             "ticks": ""
            },
            "type": "choropleth"
           }
          ],
          "contour": [
           {
            "colorbar": {
             "outlinewidth": 0,
             "ticks": ""
            },
            "colorscale": [
             [
              0,
              "#0d0887"
             ],
             [
              0.1111111111111111,
              "#46039f"
             ],
             [
              0.2222222222222222,
              "#7201a8"
             ],
             [
              0.3333333333333333,
              "#9c179e"
             ],
             [
              0.4444444444444444,
              "#bd3786"
             ],
             [
              0.5555555555555556,
              "#d8576b"
             ],
             [
              0.6666666666666666,
              "#ed7953"
             ],
             [
              0.7777777777777778,
              "#fb9f3a"
             ],
             [
              0.8888888888888888,
              "#fdca26"
             ],
             [
              1,
              "#f0f921"
             ]
            ],
            "type": "contour"
           }
          ],
          "contourcarpet": [
           {
            "colorbar": {
             "outlinewidth": 0,
             "ticks": ""
            },
            "type": "contourcarpet"
           }
          ],
          "heatmap": [
           {
            "colorbar": {
             "outlinewidth": 0,
             "ticks": ""
            },
            "colorscale": [
             [
              0,
              "#0d0887"
             ],
             [
              0.1111111111111111,
              "#46039f"
             ],
             [
              0.2222222222222222,
              "#7201a8"
             ],
             [
              0.3333333333333333,
              "#9c179e"
             ],
             [
              0.4444444444444444,
              "#bd3786"
             ],
             [
              0.5555555555555556,
              "#d8576b"
             ],
             [
              0.6666666666666666,
              "#ed7953"
             ],
             [
              0.7777777777777778,
              "#fb9f3a"
             ],
             [
              0.8888888888888888,
              "#fdca26"
             ],
             [
              1,
              "#f0f921"
             ]
            ],
            "type": "heatmap"
           }
          ],
          "heatmapgl": [
           {
            "colorbar": {
             "outlinewidth": 0,
             "ticks": ""
            },
            "colorscale": [
             [
              0,
              "#0d0887"
             ],
             [
              0.1111111111111111,
              "#46039f"
             ],
             [
              0.2222222222222222,
              "#7201a8"
             ],
             [
              0.3333333333333333,
              "#9c179e"
             ],
             [
              0.4444444444444444,
              "#bd3786"
             ],
             [
              0.5555555555555556,
              "#d8576b"
             ],
             [
              0.6666666666666666,
              "#ed7953"
             ],
             [
              0.7777777777777778,
              "#fb9f3a"
             ],
             [
              0.8888888888888888,
              "#fdca26"
             ],
             [
              1,
              "#f0f921"
             ]
            ],
            "type": "heatmapgl"
           }
          ],
          "histogram": [
           {
            "marker": {
             "colorbar": {
              "outlinewidth": 0,
              "ticks": ""
             }
            },
            "type": "histogram"
           }
          ],
          "histogram2d": [
           {
            "colorbar": {
             "outlinewidth": 0,
             "ticks": ""
            },
            "colorscale": [
             [
              0,
              "#0d0887"
             ],
             [
              0.1111111111111111,
              "#46039f"
             ],
             [
              0.2222222222222222,
              "#7201a8"
             ],
             [
              0.3333333333333333,
              "#9c179e"
             ],
             [
              0.4444444444444444,
              "#bd3786"
             ],
             [
              0.5555555555555556,
              "#d8576b"
             ],
             [
              0.6666666666666666,
              "#ed7953"
             ],
             [
              0.7777777777777778,
              "#fb9f3a"
             ],
             [
              0.8888888888888888,
              "#fdca26"
             ],
             [
              1,
              "#f0f921"
             ]
            ],
            "type": "histogram2d"
           }
          ],
          "histogram2dcontour": [
           {
            "colorbar": {
             "outlinewidth": 0,
             "ticks": ""
            },
            "colorscale": [
             [
              0,
              "#0d0887"
             ],
             [
              0.1111111111111111,
              "#46039f"
             ],
             [
              0.2222222222222222,
              "#7201a8"
             ],
             [
              0.3333333333333333,
              "#9c179e"
             ],
             [
              0.4444444444444444,
              "#bd3786"
             ],
             [
              0.5555555555555556,
              "#d8576b"
             ],
             [
              0.6666666666666666,
              "#ed7953"
             ],
             [
              0.7777777777777778,
              "#fb9f3a"
             ],
             [
              0.8888888888888888,
              "#fdca26"
             ],
             [
              1,
              "#f0f921"
             ]
            ],
            "type": "histogram2dcontour"
           }
          ],
          "mesh3d": [
           {
            "colorbar": {
             "outlinewidth": 0,
             "ticks": ""
            },
            "type": "mesh3d"
           }
          ],
          "parcoords": [
           {
            "line": {
             "colorbar": {
              "outlinewidth": 0,
              "ticks": ""
             }
            },
            "type": "parcoords"
           }
          ],
          "pie": [
           {
            "automargin": true,
            "type": "pie"
           }
          ],
          "scatter": [
           {
            "marker": {
             "colorbar": {
              "outlinewidth": 0,
              "ticks": ""
             }
            },
            "type": "scatter"
           }
          ],
          "scatter3d": [
           {
            "line": {
             "colorbar": {
              "outlinewidth": 0,
              "ticks": ""
             }
            },
            "marker": {
             "colorbar": {
              "outlinewidth": 0,
              "ticks": ""
             }
            },
            "type": "scatter3d"
           }
          ],
          "scattercarpet": [
           {
            "marker": {
             "colorbar": {
              "outlinewidth": 0,
              "ticks": ""
             }
            },
            "type": "scattercarpet"
           }
          ],
          "scattergeo": [
           {
            "marker": {
             "colorbar": {
              "outlinewidth": 0,
              "ticks": ""
             }
            },
            "type": "scattergeo"
           }
          ],
          "scattergl": [
           {
            "marker": {
             "colorbar": {
              "outlinewidth": 0,
              "ticks": ""
             }
            },
            "type": "scattergl"
           }
          ],
          "scattermapbox": [
           {
            "marker": {
             "colorbar": {
              "outlinewidth": 0,
              "ticks": ""
             }
            },
            "type": "scattermapbox"
           }
          ],
          "scatterpolar": [
           {
            "marker": {
             "colorbar": {
              "outlinewidth": 0,
              "ticks": ""
             }
            },
            "type": "scatterpolar"
           }
          ],
          "scatterpolargl": [
           {
            "marker": {
             "colorbar": {
              "outlinewidth": 0,
              "ticks": ""
             }
            },
            "type": "scatterpolargl"
           }
          ],
          "scatterternary": [
           {
            "marker": {
             "colorbar": {
              "outlinewidth": 0,
              "ticks": ""
             }
            },
            "type": "scatterternary"
           }
          ],
          "surface": [
           {
            "colorbar": {
             "outlinewidth": 0,
             "ticks": ""
            },
            "colorscale": [
             [
              0,
              "#0d0887"
             ],
             [
              0.1111111111111111,
              "#46039f"
             ],
             [
              0.2222222222222222,
              "#7201a8"
             ],
             [
              0.3333333333333333,
              "#9c179e"
             ],
             [
              0.4444444444444444,
              "#bd3786"
             ],
             [
              0.5555555555555556,
              "#d8576b"
             ],
             [
              0.6666666666666666,
              "#ed7953"
             ],
             [
              0.7777777777777778,
              "#fb9f3a"
             ],
             [
              0.8888888888888888,
              "#fdca26"
             ],
             [
              1,
              "#f0f921"
             ]
            ],
            "type": "surface"
           }
          ],
          "table": [
           {
            "cells": {
             "fill": {
              "color": "#EBF0F8"
             },
             "line": {
              "color": "white"
             }
            },
            "header": {
             "fill": {
              "color": "#C8D4E3"
             },
             "line": {
              "color": "white"
             }
            },
            "type": "table"
           }
          ]
         },
         "layout": {
          "annotationdefaults": {
           "arrowcolor": "#2a3f5f",
           "arrowhead": 0,
           "arrowwidth": 1
          },
          "autotypenumbers": "strict",
          "coloraxis": {
           "colorbar": {
            "outlinewidth": 0,
            "ticks": ""
           }
          },
          "colorscale": {
           "diverging": [
            [
             0,
             "#8e0152"
            ],
            [
             0.1,
             "#c51b7d"
            ],
            [
             0.2,
             "#de77ae"
            ],
            [
             0.3,
             "#f1b6da"
            ],
            [
             0.4,
             "#fde0ef"
            ],
            [
             0.5,
             "#f7f7f7"
            ],
            [
             0.6,
             "#e6f5d0"
            ],
            [
             0.7,
             "#b8e186"
            ],
            [
             0.8,
             "#7fbc41"
            ],
            [
             0.9,
             "#4d9221"
            ],
            [
             1,
             "#276419"
            ]
           ],
           "sequential": [
            [
             0,
             "#0d0887"
            ],
            [
             0.1111111111111111,
             "#46039f"
            ],
            [
             0.2222222222222222,
             "#7201a8"
            ],
            [
             0.3333333333333333,
             "#9c179e"
            ],
            [
             0.4444444444444444,
             "#bd3786"
            ],
            [
             0.5555555555555556,
             "#d8576b"
            ],
            [
             0.6666666666666666,
             "#ed7953"
            ],
            [
             0.7777777777777778,
             "#fb9f3a"
            ],
            [
             0.8888888888888888,
             "#fdca26"
            ],
            [
             1,
             "#f0f921"
            ]
           ],
           "sequentialminus": [
            [
             0,
             "#0d0887"
            ],
            [
             0.1111111111111111,
             "#46039f"
            ],
            [
             0.2222222222222222,
             "#7201a8"
            ],
            [
             0.3333333333333333,
             "#9c179e"
            ],
            [
             0.4444444444444444,
             "#bd3786"
            ],
            [
             0.5555555555555556,
             "#d8576b"
            ],
            [
             0.6666666666666666,
             "#ed7953"
            ],
            [
             0.7777777777777778,
             "#fb9f3a"
            ],
            [
             0.8888888888888888,
             "#fdca26"
            ],
            [
             1,
             "#f0f921"
            ]
           ]
          },
          "colorway": [
           "#636efa",
           "#EF553B",
           "#00cc96",
           "#ab63fa",
           "#FFA15A",
           "#19d3f3",
           "#FF6692",
           "#B6E880",
           "#FF97FF",
           "#FECB52"
          ],
          "font": {
           "color": "#2a3f5f"
          },
          "geo": {
           "bgcolor": "white",
           "lakecolor": "white",
           "landcolor": "#E5ECF6",
           "showlakes": true,
           "showland": true,
           "subunitcolor": "white"
          },
          "hoverlabel": {
           "align": "left"
          },
          "hovermode": "closest",
          "mapbox": {
           "style": "light"
          },
          "paper_bgcolor": "white",
          "plot_bgcolor": "#E5ECF6",
          "polar": {
           "angularaxis": {
            "gridcolor": "white",
            "linecolor": "white",
            "ticks": ""
           },
           "bgcolor": "#E5ECF6",
           "radialaxis": {
            "gridcolor": "white",
            "linecolor": "white",
            "ticks": ""
           }
          },
          "scene": {
           "xaxis": {
            "backgroundcolor": "#E5ECF6",
            "gridcolor": "white",
            "gridwidth": 2,
            "linecolor": "white",
            "showbackground": true,
            "ticks": "",
            "zerolinecolor": "white"
           },
           "yaxis": {
            "backgroundcolor": "#E5ECF6",
            "gridcolor": "white",
            "gridwidth": 2,
            "linecolor": "white",
            "showbackground": true,
            "ticks": "",
            "zerolinecolor": "white"
           },
           "zaxis": {
            "backgroundcolor": "#E5ECF6",
            "gridcolor": "white",
            "gridwidth": 2,
            "linecolor": "white",
            "showbackground": true,
            "ticks": "",
            "zerolinecolor": "white"
           }
          },
          "shapedefaults": {
           "line": {
            "color": "#2a3f5f"
           }
          },
          "ternary": {
           "aaxis": {
            "gridcolor": "white",
            "linecolor": "white",
            "ticks": ""
           },
           "baxis": {
            "gridcolor": "white",
            "linecolor": "white",
            "ticks": ""
           },
           "bgcolor": "#E5ECF6",
           "caxis": {
            "gridcolor": "white",
            "linecolor": "white",
            "ticks": ""
           }
          },
          "title": {
           "x": 0.05
          },
          "xaxis": {
           "automargin": true,
           "gridcolor": "white",
           "linecolor": "white",
           "ticks": "",
           "title": {
            "standoff": 15
           },
           "zerolinecolor": "white",
           "zerolinewidth": 2
          },
          "yaxis": {
           "automargin": true,
           "gridcolor": "white",
           "linecolor": "white",
           "ticks": "",
           "title": {
            "standoff": 15
           },
           "zerolinecolor": "white",
           "zerolinewidth": 2
          }
         }
        },
        "title": {
         "text": "Parallel Coordinate Plot"
        }
       }
      }
     },
     "metadata": {},
     "output_type": "display_data"
    }
   ],
   "source": [
    "fig = optuna.visualization.plot_parallel_coordinate(study)\n",
    "fig.show()"
   ]
  },
  {
   "cell_type": "code",
   "execution_count": 33,
   "metadata": {},
   "outputs": [
    {
     "data": {
      "application/vnd.plotly.v1+json": {
       "config": {
        "plotlyServerURL": "https://plot.ly"
       },
       "data": [
        {
         "cliponaxis": false,
         "hovertemplate": [
          "iterations (IntUniformDistribution): 0.009338051560622116<extra></extra>",
          "depth (IntUniformDistribution): 0.2328856821801873<extra></extra>",
          "learning_rate (LogUniformDistribution): 0.7577762662591906<extra></extra>"
         ],
         "marker": {
          "color": [
           "rgb(8,81,156)",
           "rgb(8,81,156)",
           "rgb(8,48,107)"
          ]
         },
         "orientation": "h",
         "text": [
          "0.009338051560622116",
          "0.2328856821801873",
          "0.7577762662591906"
         ],
         "textposition": "outside",
         "texttemplate": "%{text:.2f}",
         "type": "bar",
         "x": [
          0.009338051560622116,
          0.2328856821801873,
          0.7577762662591906
         ],
         "y": [
          "iterations",
          "depth",
          "learning_rate"
         ]
        }
       ],
       "layout": {
        "showlegend": false,
        "template": {
         "data": {
          "bar": [
           {
            "error_x": {
             "color": "#2a3f5f"
            },
            "error_y": {
             "color": "#2a3f5f"
            },
            "marker": {
             "line": {
              "color": "#E5ECF6",
              "width": 0.5
             }
            },
            "type": "bar"
           }
          ],
          "barpolar": [
           {
            "marker": {
             "line": {
              "color": "#E5ECF6",
              "width": 0.5
             }
            },
            "type": "barpolar"
           }
          ],
          "carpet": [
           {
            "aaxis": {
             "endlinecolor": "#2a3f5f",
             "gridcolor": "white",
             "linecolor": "white",
             "minorgridcolor": "white",
             "startlinecolor": "#2a3f5f"
            },
            "baxis": {
             "endlinecolor": "#2a3f5f",
             "gridcolor": "white",
             "linecolor": "white",
             "minorgridcolor": "white",
             "startlinecolor": "#2a3f5f"
            },
            "type": "carpet"
           }
          ],
          "choropleth": [
           {
            "colorbar": {
             "outlinewidth": 0,
             "ticks": ""
            },
            "type": "choropleth"
           }
          ],
          "contour": [
           {
            "colorbar": {
             "outlinewidth": 0,
             "ticks": ""
            },
            "colorscale": [
             [
              0,
              "#0d0887"
             ],
             [
              0.1111111111111111,
              "#46039f"
             ],
             [
              0.2222222222222222,
              "#7201a8"
             ],
             [
              0.3333333333333333,
              "#9c179e"
             ],
             [
              0.4444444444444444,
              "#bd3786"
             ],
             [
              0.5555555555555556,
              "#d8576b"
             ],
             [
              0.6666666666666666,
              "#ed7953"
             ],
             [
              0.7777777777777778,
              "#fb9f3a"
             ],
             [
              0.8888888888888888,
              "#fdca26"
             ],
             [
              1,
              "#f0f921"
             ]
            ],
            "type": "contour"
           }
          ],
          "contourcarpet": [
           {
            "colorbar": {
             "outlinewidth": 0,
             "ticks": ""
            },
            "type": "contourcarpet"
           }
          ],
          "heatmap": [
           {
            "colorbar": {
             "outlinewidth": 0,
             "ticks": ""
            },
            "colorscale": [
             [
              0,
              "#0d0887"
             ],
             [
              0.1111111111111111,
              "#46039f"
             ],
             [
              0.2222222222222222,
              "#7201a8"
             ],
             [
              0.3333333333333333,
              "#9c179e"
             ],
             [
              0.4444444444444444,
              "#bd3786"
             ],
             [
              0.5555555555555556,
              "#d8576b"
             ],
             [
              0.6666666666666666,
              "#ed7953"
             ],
             [
              0.7777777777777778,
              "#fb9f3a"
             ],
             [
              0.8888888888888888,
              "#fdca26"
             ],
             [
              1,
              "#f0f921"
             ]
            ],
            "type": "heatmap"
           }
          ],
          "heatmapgl": [
           {
            "colorbar": {
             "outlinewidth": 0,
             "ticks": ""
            },
            "colorscale": [
             [
              0,
              "#0d0887"
             ],
             [
              0.1111111111111111,
              "#46039f"
             ],
             [
              0.2222222222222222,
              "#7201a8"
             ],
             [
              0.3333333333333333,
              "#9c179e"
             ],
             [
              0.4444444444444444,
              "#bd3786"
             ],
             [
              0.5555555555555556,
              "#d8576b"
             ],
             [
              0.6666666666666666,
              "#ed7953"
             ],
             [
              0.7777777777777778,
              "#fb9f3a"
             ],
             [
              0.8888888888888888,
              "#fdca26"
             ],
             [
              1,
              "#f0f921"
             ]
            ],
            "type": "heatmapgl"
           }
          ],
          "histogram": [
           {
            "marker": {
             "colorbar": {
              "outlinewidth": 0,
              "ticks": ""
             }
            },
            "type": "histogram"
           }
          ],
          "histogram2d": [
           {
            "colorbar": {
             "outlinewidth": 0,
             "ticks": ""
            },
            "colorscale": [
             [
              0,
              "#0d0887"
             ],
             [
              0.1111111111111111,
              "#46039f"
             ],
             [
              0.2222222222222222,
              "#7201a8"
             ],
             [
              0.3333333333333333,
              "#9c179e"
             ],
             [
              0.4444444444444444,
              "#bd3786"
             ],
             [
              0.5555555555555556,
              "#d8576b"
             ],
             [
              0.6666666666666666,
              "#ed7953"
             ],
             [
              0.7777777777777778,
              "#fb9f3a"
             ],
             [
              0.8888888888888888,
              "#fdca26"
             ],
             [
              1,
              "#f0f921"
             ]
            ],
            "type": "histogram2d"
           }
          ],
          "histogram2dcontour": [
           {
            "colorbar": {
             "outlinewidth": 0,
             "ticks": ""
            },
            "colorscale": [
             [
              0,
              "#0d0887"
             ],
             [
              0.1111111111111111,
              "#46039f"
             ],
             [
              0.2222222222222222,
              "#7201a8"
             ],
             [
              0.3333333333333333,
              "#9c179e"
             ],
             [
              0.4444444444444444,
              "#bd3786"
             ],
             [
              0.5555555555555556,
              "#d8576b"
             ],
             [
              0.6666666666666666,
              "#ed7953"
             ],
             [
              0.7777777777777778,
              "#fb9f3a"
             ],
             [
              0.8888888888888888,
              "#fdca26"
             ],
             [
              1,
              "#f0f921"
             ]
            ],
            "type": "histogram2dcontour"
           }
          ],
          "mesh3d": [
           {
            "colorbar": {
             "outlinewidth": 0,
             "ticks": ""
            },
            "type": "mesh3d"
           }
          ],
          "parcoords": [
           {
            "line": {
             "colorbar": {
              "outlinewidth": 0,
              "ticks": ""
             }
            },
            "type": "parcoords"
           }
          ],
          "pie": [
           {
            "automargin": true,
            "type": "pie"
           }
          ],
          "scatter": [
           {
            "marker": {
             "colorbar": {
              "outlinewidth": 0,
              "ticks": ""
             }
            },
            "type": "scatter"
           }
          ],
          "scatter3d": [
           {
            "line": {
             "colorbar": {
              "outlinewidth": 0,
              "ticks": ""
             }
            },
            "marker": {
             "colorbar": {
              "outlinewidth": 0,
              "ticks": ""
             }
            },
            "type": "scatter3d"
           }
          ],
          "scattercarpet": [
           {
            "marker": {
             "colorbar": {
              "outlinewidth": 0,
              "ticks": ""
             }
            },
            "type": "scattercarpet"
           }
          ],
          "scattergeo": [
           {
            "marker": {
             "colorbar": {
              "outlinewidth": 0,
              "ticks": ""
             }
            },
            "type": "scattergeo"
           }
          ],
          "scattergl": [
           {
            "marker": {
             "colorbar": {
              "outlinewidth": 0,
              "ticks": ""
             }
            },
            "type": "scattergl"
           }
          ],
          "scattermapbox": [
           {
            "marker": {
             "colorbar": {
              "outlinewidth": 0,
              "ticks": ""
             }
            },
            "type": "scattermapbox"
           }
          ],
          "scatterpolar": [
           {
            "marker": {
             "colorbar": {
              "outlinewidth": 0,
              "ticks": ""
             }
            },
            "type": "scatterpolar"
           }
          ],
          "scatterpolargl": [
           {
            "marker": {
             "colorbar": {
              "outlinewidth": 0,
              "ticks": ""
             }
            },
            "type": "scatterpolargl"
           }
          ],
          "scatterternary": [
           {
            "marker": {
             "colorbar": {
              "outlinewidth": 0,
              "ticks": ""
             }
            },
            "type": "scatterternary"
           }
          ],
          "surface": [
           {
            "colorbar": {
             "outlinewidth": 0,
             "ticks": ""
            },
            "colorscale": [
             [
              0,
              "#0d0887"
             ],
             [
              0.1111111111111111,
              "#46039f"
             ],
             [
              0.2222222222222222,
              "#7201a8"
             ],
             [
              0.3333333333333333,
              "#9c179e"
             ],
             [
              0.4444444444444444,
              "#bd3786"
             ],
             [
              0.5555555555555556,
              "#d8576b"
             ],
             [
              0.6666666666666666,
              "#ed7953"
             ],
             [
              0.7777777777777778,
              "#fb9f3a"
             ],
             [
              0.8888888888888888,
              "#fdca26"
             ],
             [
              1,
              "#f0f921"
             ]
            ],
            "type": "surface"
           }
          ],
          "table": [
           {
            "cells": {
             "fill": {
              "color": "#EBF0F8"
             },
             "line": {
              "color": "white"
             }
            },
            "header": {
             "fill": {
              "color": "#C8D4E3"
             },
             "line": {
              "color": "white"
             }
            },
            "type": "table"
           }
          ]
         },
         "layout": {
          "annotationdefaults": {
           "arrowcolor": "#2a3f5f",
           "arrowhead": 0,
           "arrowwidth": 1
          },
          "autotypenumbers": "strict",
          "coloraxis": {
           "colorbar": {
            "outlinewidth": 0,
            "ticks": ""
           }
          },
          "colorscale": {
           "diverging": [
            [
             0,
             "#8e0152"
            ],
            [
             0.1,
             "#c51b7d"
            ],
            [
             0.2,
             "#de77ae"
            ],
            [
             0.3,
             "#f1b6da"
            ],
            [
             0.4,
             "#fde0ef"
            ],
            [
             0.5,
             "#f7f7f7"
            ],
            [
             0.6,
             "#e6f5d0"
            ],
            [
             0.7,
             "#b8e186"
            ],
            [
             0.8,
             "#7fbc41"
            ],
            [
             0.9,
             "#4d9221"
            ],
            [
             1,
             "#276419"
            ]
           ],
           "sequential": [
            [
             0,
             "#0d0887"
            ],
            [
             0.1111111111111111,
             "#46039f"
            ],
            [
             0.2222222222222222,
             "#7201a8"
            ],
            [
             0.3333333333333333,
             "#9c179e"
            ],
            [
             0.4444444444444444,
             "#bd3786"
            ],
            [
             0.5555555555555556,
             "#d8576b"
            ],
            [
             0.6666666666666666,
             "#ed7953"
            ],
            [
             0.7777777777777778,
             "#fb9f3a"
            ],
            [
             0.8888888888888888,
             "#fdca26"
            ],
            [
             1,
             "#f0f921"
            ]
           ],
           "sequentialminus": [
            [
             0,
             "#0d0887"
            ],
            [
             0.1111111111111111,
             "#46039f"
            ],
            [
             0.2222222222222222,
             "#7201a8"
            ],
            [
             0.3333333333333333,
             "#9c179e"
            ],
            [
             0.4444444444444444,
             "#bd3786"
            ],
            [
             0.5555555555555556,
             "#d8576b"
            ],
            [
             0.6666666666666666,
             "#ed7953"
            ],
            [
             0.7777777777777778,
             "#fb9f3a"
            ],
            [
             0.8888888888888888,
             "#fdca26"
            ],
            [
             1,
             "#f0f921"
            ]
           ]
          },
          "colorway": [
           "#636efa",
           "#EF553B",
           "#00cc96",
           "#ab63fa",
           "#FFA15A",
           "#19d3f3",
           "#FF6692",
           "#B6E880",
           "#FF97FF",
           "#FECB52"
          ],
          "font": {
           "color": "#2a3f5f"
          },
          "geo": {
           "bgcolor": "white",
           "lakecolor": "white",
           "landcolor": "#E5ECF6",
           "showlakes": true,
           "showland": true,
           "subunitcolor": "white"
          },
          "hoverlabel": {
           "align": "left"
          },
          "hovermode": "closest",
          "mapbox": {
           "style": "light"
          },
          "paper_bgcolor": "white",
          "plot_bgcolor": "#E5ECF6",
          "polar": {
           "angularaxis": {
            "gridcolor": "white",
            "linecolor": "white",
            "ticks": ""
           },
           "bgcolor": "#E5ECF6",
           "radialaxis": {
            "gridcolor": "white",
            "linecolor": "white",
            "ticks": ""
           }
          },
          "scene": {
           "xaxis": {
            "backgroundcolor": "#E5ECF6",
            "gridcolor": "white",
            "gridwidth": 2,
            "linecolor": "white",
            "showbackground": true,
            "ticks": "",
            "zerolinecolor": "white"
           },
           "yaxis": {
            "backgroundcolor": "#E5ECF6",
            "gridcolor": "white",
            "gridwidth": 2,
            "linecolor": "white",
            "showbackground": true,
            "ticks": "",
            "zerolinecolor": "white"
           },
           "zaxis": {
            "backgroundcolor": "#E5ECF6",
            "gridcolor": "white",
            "gridwidth": 2,
            "linecolor": "white",
            "showbackground": true,
            "ticks": "",
            "zerolinecolor": "white"
           }
          },
          "shapedefaults": {
           "line": {
            "color": "#2a3f5f"
           }
          },
          "ternary": {
           "aaxis": {
            "gridcolor": "white",
            "linecolor": "white",
            "ticks": ""
           },
           "baxis": {
            "gridcolor": "white",
            "linecolor": "white",
            "ticks": ""
           },
           "bgcolor": "#E5ECF6",
           "caxis": {
            "gridcolor": "white",
            "linecolor": "white",
            "ticks": ""
           }
          },
          "title": {
           "x": 0.05
          },
          "xaxis": {
           "automargin": true,
           "gridcolor": "white",
           "linecolor": "white",
           "ticks": "",
           "title": {
            "standoff": 15
           },
           "zerolinecolor": "white",
           "zerolinewidth": 2
          },
          "yaxis": {
           "automargin": true,
           "gridcolor": "white",
           "linecolor": "white",
           "ticks": "",
           "title": {
            "standoff": 15
           },
           "zerolinecolor": "white",
           "zerolinewidth": 2
          }
         }
        },
        "title": {
         "text": "Hyperparameter Importances"
        },
        "xaxis": {
         "title": {
          "text": "Importance for Objective Value"
         }
        },
        "yaxis": {
         "title": {
          "text": "Hyperparameter"
         }
        }
       }
      }
     },
     "metadata": {},
     "output_type": "display_data"
    }
   ],
   "source": [
    "fig = optuna.visualization.plot_param_importances(study)\n",
    "fig.show()"
   ]
  }
 ],
 "metadata": {
  "interpreter": {
   "hash": "767d51c1340bd893661ea55ea3124f6de3c7a262a8b4abca0554b478b1e2ff90"
  },
  "kernelspec": {
   "display_name": "Python 3.8.10 64-bit",
   "language": "python",
   "name": "python3"
  },
  "language_info": {
   "codemirror_mode": {
    "name": "ipython",
    "version": 3
   },
   "file_extension": ".py",
   "mimetype": "text/x-python",
   "name": "python",
   "nbconvert_exporter": "python",
   "pygments_lexer": "ipython3",
   "version": "3.8.10"
  },
  "orig_nbformat": 4
 },
 "nbformat": 4,
 "nbformat_minor": 2
}
