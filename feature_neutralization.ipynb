{
 "cells": [
  {
   "cell_type": "code",
   "execution_count": 18,
   "metadata": {},
   "outputs": [
    {
     "name": "stdout",
     "output_type": "stream",
     "text": [
      "0:\tlearn: 0.2236040\ttotal: 94ms\tremaining: 1m 33s\n",
      "1:\tlearn: 0.2236000\ttotal: 185ms\tremaining: 1m 32s\n",
      "2:\tlearn: 0.2235966\ttotal: 283ms\tremaining: 1m 34s\n",
      "3:\tlearn: 0.2235934\ttotal: 383ms\tremaining: 1m 35s\n",
      "4:\tlearn: 0.2235906\ttotal: 473ms\tremaining: 1m 34s\n",
      "5:\tlearn: 0.2235875\ttotal: 566ms\tremaining: 1m 33s\n",
      "6:\tlearn: 0.2235847\ttotal: 664ms\tremaining: 1m 34s\n",
      "7:\tlearn: 0.2235819\ttotal: 750ms\tremaining: 1m 33s\n",
      "8:\tlearn: 0.2235788\ttotal: 837ms\tremaining: 1m 32s\n",
      "9:\tlearn: 0.2235760\ttotal: 936ms\tremaining: 1m 32s\n",
      "10:\tlearn: 0.2235731\ttotal: 1.03s\tremaining: 1m 32s\n",
      "11:\tlearn: 0.2235704\ttotal: 1.13s\tremaining: 1m 32s\n",
      "12:\tlearn: 0.2235677\ttotal: 1.23s\tremaining: 1m 33s\n",
      "13:\tlearn: 0.2235652\ttotal: 1.32s\tremaining: 1m 33s\n",
      "14:\tlearn: 0.2235624\ttotal: 1.42s\tremaining: 1m 33s\n",
      "15:\tlearn: 0.2235601\ttotal: 1.52s\tremaining: 1m 33s\n",
      "16:\tlearn: 0.2235577\ttotal: 1.61s\tremaining: 1m 33s\n",
      "17:\tlearn: 0.2235552\ttotal: 1.7s\tremaining: 1m 32s\n",
      "18:\tlearn: 0.2235523\ttotal: 1.81s\tremaining: 1m 33s\n",
      "19:\tlearn: 0.2235499\ttotal: 1.91s\tremaining: 1m 33s\n",
      "20:\tlearn: 0.2235474\ttotal: 2.01s\tremaining: 1m 33s\n",
      "21:\tlearn: 0.2235449\ttotal: 2.11s\tremaining: 1m 33s\n",
      "22:\tlearn: 0.2235427\ttotal: 2.2s\tremaining: 1m 33s\n",
      "23:\tlearn: 0.2235402\ttotal: 2.28s\tremaining: 1m 32s\n",
      "24:\tlearn: 0.2235376\ttotal: 2.38s\tremaining: 1m 32s\n",
      "25:\tlearn: 0.2235352\ttotal: 2.48s\tremaining: 1m 32s\n",
      "26:\tlearn: 0.2235328\ttotal: 2.57s\tremaining: 1m 32s\n",
      "27:\tlearn: 0.2235305\ttotal: 2.66s\tremaining: 1m 32s\n",
      "28:\tlearn: 0.2235280\ttotal: 2.76s\tremaining: 1m 32s\n",
      "29:\tlearn: 0.2235258\ttotal: 2.84s\tremaining: 1m 31s\n",
      "30:\tlearn: 0.2235233\ttotal: 2.94s\tremaining: 1m 31s\n",
      "31:\tlearn: 0.2235210\ttotal: 3.04s\tremaining: 1m 31s\n",
      "32:\tlearn: 0.2235189\ttotal: 3.13s\tremaining: 1m 31s\n",
      "33:\tlearn: 0.2235166\ttotal: 3.21s\tremaining: 1m 31s\n",
      "34:\tlearn: 0.2235145\ttotal: 3.3s\tremaining: 1m 31s\n",
      "35:\tlearn: 0.2235120\ttotal: 3.39s\tremaining: 1m 30s\n",
      "36:\tlearn: 0.2235098\ttotal: 3.5s\tremaining: 1m 31s\n",
      "37:\tlearn: 0.2235078\ttotal: 3.59s\tremaining: 1m 30s\n",
      "38:\tlearn: 0.2235055\ttotal: 3.69s\tremaining: 1m 30s\n",
      "39:\tlearn: 0.2235035\ttotal: 3.78s\tremaining: 1m 30s\n",
      "40:\tlearn: 0.2235013\ttotal: 3.87s\tremaining: 1m 30s\n",
      "41:\tlearn: 0.2234993\ttotal: 3.96s\tremaining: 1m 30s\n",
      "42:\tlearn: 0.2234972\ttotal: 4.06s\tremaining: 1m 30s\n",
      "43:\tlearn: 0.2234952\ttotal: 4.17s\tremaining: 1m 30s\n",
      "44:\tlearn: 0.2234930\ttotal: 4.28s\tremaining: 1m 30s\n",
      "45:\tlearn: 0.2234912\ttotal: 4.39s\tremaining: 1m 31s\n",
      "46:\tlearn: 0.2234892\ttotal: 4.48s\tremaining: 1m 30s\n",
      "47:\tlearn: 0.2234874\ttotal: 4.58s\tremaining: 1m 30s\n",
      "48:\tlearn: 0.2234854\ttotal: 4.66s\tremaining: 1m 30s\n",
      "49:\tlearn: 0.2234835\ttotal: 4.74s\tremaining: 1m 30s\n",
      "50:\tlearn: 0.2234818\ttotal: 4.84s\tremaining: 1m 30s\n",
      "51:\tlearn: 0.2234799\ttotal: 4.93s\tremaining: 1m 29s\n",
      "52:\tlearn: 0.2234778\ttotal: 5.02s\tremaining: 1m 29s\n",
      "53:\tlearn: 0.2234759\ttotal: 5.11s\tremaining: 1m 29s\n",
      "54:\tlearn: 0.2234742\ttotal: 5.2s\tremaining: 1m 29s\n",
      "55:\tlearn: 0.2234724\ttotal: 5.31s\tremaining: 1m 29s\n",
      "56:\tlearn: 0.2234703\ttotal: 5.4s\tremaining: 1m 29s\n",
      "57:\tlearn: 0.2234684\ttotal: 5.49s\tremaining: 1m 29s\n",
      "58:\tlearn: 0.2234668\ttotal: 5.6s\tremaining: 1m 29s\n",
      "59:\tlearn: 0.2234651\ttotal: 5.71s\tremaining: 1m 29s\n",
      "60:\tlearn: 0.2234633\ttotal: 5.79s\tremaining: 1m 29s\n",
      "61:\tlearn: 0.2234616\ttotal: 5.87s\tremaining: 1m 28s\n",
      "62:\tlearn: 0.2234598\ttotal: 5.96s\tremaining: 1m 28s\n",
      "63:\tlearn: 0.2234580\ttotal: 6.05s\tremaining: 1m 28s\n",
      "64:\tlearn: 0.2234561\ttotal: 6.13s\tremaining: 1m 28s\n",
      "65:\tlearn: 0.2234543\ttotal: 6.24s\tremaining: 1m 28s\n",
      "66:\tlearn: 0.2234526\ttotal: 6.35s\tremaining: 1m 28s\n",
      "67:\tlearn: 0.2234507\ttotal: 6.46s\tremaining: 1m 28s\n",
      "68:\tlearn: 0.2234489\ttotal: 6.55s\tremaining: 1m 28s\n",
      "69:\tlearn: 0.2234470\ttotal: 6.64s\tremaining: 1m 28s\n",
      "70:\tlearn: 0.2234452\ttotal: 6.75s\tremaining: 1m 28s\n",
      "71:\tlearn: 0.2234437\ttotal: 6.85s\tremaining: 1m 28s\n",
      "72:\tlearn: 0.2234420\ttotal: 6.96s\tremaining: 1m 28s\n",
      "73:\tlearn: 0.2234405\ttotal: 7.07s\tremaining: 1m 28s\n",
      "74:\tlearn: 0.2234385\ttotal: 7.18s\tremaining: 1m 28s\n",
      "75:\tlearn: 0.2234370\ttotal: 7.28s\tremaining: 1m 28s\n",
      "76:\tlearn: 0.2234355\ttotal: 7.36s\tremaining: 1m 28s\n",
      "77:\tlearn: 0.2234339\ttotal: 7.46s\tremaining: 1m 28s\n",
      "78:\tlearn: 0.2234322\ttotal: 7.56s\tremaining: 1m 28s\n",
      "79:\tlearn: 0.2234306\ttotal: 7.64s\tremaining: 1m 27s\n",
      "80:\tlearn: 0.2234290\ttotal: 7.74s\tremaining: 1m 27s\n",
      "81:\tlearn: 0.2234275\ttotal: 7.83s\tremaining: 1m 27s\n",
      "82:\tlearn: 0.2234261\ttotal: 7.92s\tremaining: 1m 27s\n",
      "83:\tlearn: 0.2234246\ttotal: 8s\tremaining: 1m 27s\n",
      "84:\tlearn: 0.2234229\ttotal: 8.1s\tremaining: 1m 27s\n",
      "85:\tlearn: 0.2234213\ttotal: 8.19s\tremaining: 1m 27s\n",
      "86:\tlearn: 0.2234199\ttotal: 8.3s\tremaining: 1m 27s\n",
      "87:\tlearn: 0.2234183\ttotal: 8.4s\tremaining: 1m 27s\n",
      "88:\tlearn: 0.2234168\ttotal: 8.5s\tremaining: 1m 27s\n",
      "89:\tlearn: 0.2234152\ttotal: 8.6s\tremaining: 1m 26s\n",
      "90:\tlearn: 0.2234137\ttotal: 8.68s\tremaining: 1m 26s\n",
      "91:\tlearn: 0.2234125\ttotal: 8.77s\tremaining: 1m 26s\n",
      "92:\tlearn: 0.2234108\ttotal: 8.86s\tremaining: 1m 26s\n",
      "93:\tlearn: 0.2234092\ttotal: 8.95s\tremaining: 1m 26s\n",
      "94:\tlearn: 0.2234078\ttotal: 9.04s\tremaining: 1m 26s\n",
      "95:\tlearn: 0.2234065\ttotal: 9.13s\tremaining: 1m 26s\n",
      "96:\tlearn: 0.2234049\ttotal: 9.22s\tremaining: 1m 25s\n",
      "97:\tlearn: 0.2234035\ttotal: 9.31s\tremaining: 1m 25s\n",
      "98:\tlearn: 0.2234021\ttotal: 9.41s\tremaining: 1m 25s\n",
      "99:\tlearn: 0.2234007\ttotal: 9.51s\tremaining: 1m 25s\n",
      "100:\tlearn: 0.2233995\ttotal: 9.61s\tremaining: 1m 25s\n",
      "101:\tlearn: 0.2233979\ttotal: 9.7s\tremaining: 1m 25s\n",
      "102:\tlearn: 0.2233966\ttotal: 9.8s\tremaining: 1m 25s\n",
      "103:\tlearn: 0.2233951\ttotal: 9.89s\tremaining: 1m 25s\n",
      "104:\tlearn: 0.2233937\ttotal: 10s\tremaining: 1m 25s\n",
      "105:\tlearn: 0.2233924\ttotal: 10.1s\tremaining: 1m 25s\n",
      "106:\tlearn: 0.2233911\ttotal: 10.2s\tremaining: 1m 25s\n",
      "107:\tlearn: 0.2233896\ttotal: 10.3s\tremaining: 1m 25s\n",
      "108:\tlearn: 0.2233880\ttotal: 10.4s\tremaining: 1m 24s\n",
      "109:\tlearn: 0.2233867\ttotal: 10.5s\tremaining: 1m 24s\n",
      "110:\tlearn: 0.2233855\ttotal: 10.6s\tremaining: 1m 24s\n",
      "111:\tlearn: 0.2233842\ttotal: 10.7s\tremaining: 1m 24s\n",
      "112:\tlearn: 0.2233829\ttotal: 10.8s\tremaining: 1m 24s\n",
      "113:\tlearn: 0.2233818\ttotal: 10.9s\tremaining: 1m 24s\n",
      "114:\tlearn: 0.2233804\ttotal: 11s\tremaining: 1m 24s\n",
      "115:\tlearn: 0.2233793\ttotal: 11.1s\tremaining: 1m 24s\n",
      "116:\tlearn: 0.2233780\ttotal: 11.2s\tremaining: 1m 24s\n",
      "117:\tlearn: 0.2233768\ttotal: 11.3s\tremaining: 1m 24s\n",
      "118:\tlearn: 0.2233752\ttotal: 11.4s\tremaining: 1m 24s\n",
      "119:\tlearn: 0.2233741\ttotal: 11.4s\tremaining: 1m 23s\n",
      "120:\tlearn: 0.2233730\ttotal: 11.5s\tremaining: 1m 23s\n",
      "121:\tlearn: 0.2233718\ttotal: 11.6s\tremaining: 1m 23s\n",
      "122:\tlearn: 0.2233705\ttotal: 11.7s\tremaining: 1m 23s\n",
      "123:\tlearn: 0.2233692\ttotal: 11.8s\tremaining: 1m 23s\n",
      "124:\tlearn: 0.2233679\ttotal: 11.9s\tremaining: 1m 23s\n",
      "125:\tlearn: 0.2233668\ttotal: 12s\tremaining: 1m 23s\n",
      "126:\tlearn: 0.2233654\ttotal: 12.1s\tremaining: 1m 23s\n",
      "127:\tlearn: 0.2233641\ttotal: 12.2s\tremaining: 1m 23s\n",
      "128:\tlearn: 0.2233630\ttotal: 12.3s\tremaining: 1m 23s\n",
      "129:\tlearn: 0.2233620\ttotal: 12.4s\tremaining: 1m 23s\n",
      "130:\tlearn: 0.2233608\ttotal: 12.5s\tremaining: 1m 22s\n",
      "131:\tlearn: 0.2233596\ttotal: 12.6s\tremaining: 1m 22s\n",
      "132:\tlearn: 0.2233583\ttotal: 12.7s\tremaining: 1m 22s\n",
      "133:\tlearn: 0.2233569\ttotal: 12.8s\tremaining: 1m 22s\n",
      "134:\tlearn: 0.2233556\ttotal: 12.9s\tremaining: 1m 22s\n",
      "135:\tlearn: 0.2233542\ttotal: 13s\tremaining: 1m 22s\n",
      "136:\tlearn: 0.2233529\ttotal: 13.1s\tremaining: 1m 22s\n",
      "137:\tlearn: 0.2233519\ttotal: 13.2s\tremaining: 1m 22s\n",
      "138:\tlearn: 0.2233505\ttotal: 13.3s\tremaining: 1m 22s\n",
      "139:\tlearn: 0.2233493\ttotal: 13.3s\tremaining: 1m 21s\n",
      "140:\tlearn: 0.2233483\ttotal: 13.4s\tremaining: 1m 21s\n",
      "141:\tlearn: 0.2233470\ttotal: 13.5s\tremaining: 1m 21s\n",
      "142:\tlearn: 0.2233460\ttotal: 13.6s\tremaining: 1m 21s\n",
      "143:\tlearn: 0.2233448\ttotal: 13.7s\tremaining: 1m 21s\n",
      "144:\tlearn: 0.2233438\ttotal: 13.8s\tremaining: 1m 21s\n",
      "145:\tlearn: 0.2233426\ttotal: 13.9s\tremaining: 1m 21s\n",
      "146:\tlearn: 0.2233415\ttotal: 14s\tremaining: 1m 21s\n",
      "147:\tlearn: 0.2233404\ttotal: 14.1s\tremaining: 1m 21s\n",
      "148:\tlearn: 0.2233392\ttotal: 14.2s\tremaining: 1m 21s\n",
      "149:\tlearn: 0.2233379\ttotal: 14.3s\tremaining: 1m 21s\n",
      "150:\tlearn: 0.2233366\ttotal: 14.4s\tremaining: 1m 20s\n",
      "151:\tlearn: 0.2233356\ttotal: 14.5s\tremaining: 1m 20s\n",
      "152:\tlearn: 0.2233348\ttotal: 14.6s\tremaining: 1m 20s\n",
      "153:\tlearn: 0.2233336\ttotal: 14.7s\tremaining: 1m 20s\n",
      "154:\tlearn: 0.2233326\ttotal: 14.8s\tremaining: 1m 20s\n",
      "155:\tlearn: 0.2233315\ttotal: 14.9s\tremaining: 1m 20s\n",
      "156:\tlearn: 0.2233303\ttotal: 15s\tremaining: 1m 20s\n",
      "157:\tlearn: 0.2233292\ttotal: 15.1s\tremaining: 1m 20s\n",
      "158:\tlearn: 0.2233281\ttotal: 15.2s\tremaining: 1m 20s\n",
      "159:\tlearn: 0.2233271\ttotal: 15.3s\tremaining: 1m 20s\n",
      "160:\tlearn: 0.2233259\ttotal: 15.4s\tremaining: 1m 20s\n",
      "161:\tlearn: 0.2233248\ttotal: 15.5s\tremaining: 1m 20s\n",
      "162:\tlearn: 0.2233238\ttotal: 15.6s\tremaining: 1m 19s\n",
      "163:\tlearn: 0.2233229\ttotal: 15.7s\tremaining: 1m 19s\n",
      "164:\tlearn: 0.2233218\ttotal: 15.8s\tremaining: 1m 19s\n",
      "165:\tlearn: 0.2233208\ttotal: 15.8s\tremaining: 1m 19s\n",
      "166:\tlearn: 0.2233196\ttotal: 15.9s\tremaining: 1m 19s\n",
      "167:\tlearn: 0.2233186\ttotal: 16s\tremaining: 1m 19s\n",
      "168:\tlearn: 0.2233177\ttotal: 16.2s\tremaining: 1m 19s\n",
      "169:\tlearn: 0.2233166\ttotal: 16.3s\tremaining: 1m 19s\n",
      "170:\tlearn: 0.2233156\ttotal: 16.4s\tremaining: 1m 19s\n",
      "171:\tlearn: 0.2233145\ttotal: 16.5s\tremaining: 1m 19s\n",
      "172:\tlearn: 0.2233134\ttotal: 16.6s\tremaining: 1m 19s\n",
      "173:\tlearn: 0.2233123\ttotal: 16.7s\tremaining: 1m 19s\n",
      "174:\tlearn: 0.2233112\ttotal: 16.8s\tremaining: 1m 19s\n",
      "175:\tlearn: 0.2233104\ttotal: 16.9s\tremaining: 1m 18s\n",
      "176:\tlearn: 0.2233093\ttotal: 17s\tremaining: 1m 18s\n",
      "177:\tlearn: 0.2233085\ttotal: 17.1s\tremaining: 1m 18s\n",
      "178:\tlearn: 0.2233074\ttotal: 17.2s\tremaining: 1m 18s\n",
      "179:\tlearn: 0.2233065\ttotal: 17.3s\tremaining: 1m 18s\n",
      "180:\tlearn: 0.2233054\ttotal: 17.4s\tremaining: 1m 18s\n",
      "181:\tlearn: 0.2233042\ttotal: 17.5s\tremaining: 1m 18s\n",
      "182:\tlearn: 0.2233032\ttotal: 17.6s\tremaining: 1m 18s\n",
      "183:\tlearn: 0.2233020\ttotal: 17.7s\tremaining: 1m 18s\n",
      "184:\tlearn: 0.2233010\ttotal: 17.8s\tremaining: 1m 18s\n",
      "185:\tlearn: 0.2232999\ttotal: 17.9s\tremaining: 1m 18s\n",
      "186:\tlearn: 0.2232988\ttotal: 18s\tremaining: 1m 18s\n",
      "187:\tlearn: 0.2232979\ttotal: 18.1s\tremaining: 1m 18s\n",
      "188:\tlearn: 0.2232969\ttotal: 18.2s\tremaining: 1m 18s\n",
      "189:\tlearn: 0.2232960\ttotal: 18.3s\tremaining: 1m 18s\n",
      "190:\tlearn: 0.2232950\ttotal: 18.4s\tremaining: 1m 17s\n",
      "191:\tlearn: 0.2232939\ttotal: 18.5s\tremaining: 1m 17s\n",
      "192:\tlearn: 0.2232930\ttotal: 18.6s\tremaining: 1m 17s\n",
      "193:\tlearn: 0.2232918\ttotal: 18.7s\tremaining: 1m 17s\n",
      "194:\tlearn: 0.2232908\ttotal: 18.8s\tremaining: 1m 17s\n",
      "195:\tlearn: 0.2232897\ttotal: 18.9s\tremaining: 1m 17s\n",
      "196:\tlearn: 0.2232887\ttotal: 18.9s\tremaining: 1m 17s\n",
      "197:\tlearn: 0.2232878\ttotal: 19s\tremaining: 1m 17s\n",
      "198:\tlearn: 0.2232869\ttotal: 19.1s\tremaining: 1m 17s\n",
      "199:\tlearn: 0.2232860\ttotal: 19.2s\tremaining: 1m 16s\n",
      "200:\tlearn: 0.2232852\ttotal: 19.3s\tremaining: 1m 16s\n",
      "201:\tlearn: 0.2232843\ttotal: 19.4s\tremaining: 1m 16s\n",
      "202:\tlearn: 0.2232833\ttotal: 19.5s\tremaining: 1m 16s\n",
      "203:\tlearn: 0.2232823\ttotal: 19.6s\tremaining: 1m 16s\n",
      "204:\tlearn: 0.2232814\ttotal: 19.7s\tremaining: 1m 16s\n",
      "205:\tlearn: 0.2232805\ttotal: 19.8s\tremaining: 1m 16s\n",
      "206:\tlearn: 0.2232796\ttotal: 19.9s\tremaining: 1m 16s\n",
      "207:\tlearn: 0.2232786\ttotal: 20s\tremaining: 1m 16s\n",
      "208:\tlearn: 0.2232779\ttotal: 20.1s\tremaining: 1m 16s\n",
      "209:\tlearn: 0.2232769\ttotal: 20.2s\tremaining: 1m 15s\n",
      "210:\tlearn: 0.2232758\ttotal: 20.3s\tremaining: 1m 15s\n",
      "211:\tlearn: 0.2232748\ttotal: 20.4s\tremaining: 1m 15s\n",
      "212:\tlearn: 0.2232738\ttotal: 20.5s\tremaining: 1m 15s\n",
      "213:\tlearn: 0.2232730\ttotal: 20.6s\tremaining: 1m 15s\n",
      "214:\tlearn: 0.2232722\ttotal: 20.7s\tremaining: 1m 15s\n",
      "215:\tlearn: 0.2232711\ttotal: 20.8s\tremaining: 1m 15s\n",
      "216:\tlearn: 0.2232700\ttotal: 20.9s\tremaining: 1m 15s\n",
      "217:\tlearn: 0.2232692\ttotal: 21s\tremaining: 1m 15s\n",
      "218:\tlearn: 0.2232682\ttotal: 21.1s\tremaining: 1m 15s\n",
      "219:\tlearn: 0.2232670\ttotal: 21.2s\tremaining: 1m 15s\n",
      "220:\tlearn: 0.2232661\ttotal: 21.3s\tremaining: 1m 14s\n",
      "221:\tlearn: 0.2232652\ttotal: 21.4s\tremaining: 1m 14s\n",
      "222:\tlearn: 0.2232643\ttotal: 21.5s\tremaining: 1m 14s\n",
      "223:\tlearn: 0.2232636\ttotal: 21.5s\tremaining: 1m 14s\n",
      "224:\tlearn: 0.2232627\ttotal: 21.6s\tremaining: 1m 14s\n",
      "225:\tlearn: 0.2232617\ttotal: 21.8s\tremaining: 1m 14s\n",
      "226:\tlearn: 0.2232607\ttotal: 21.9s\tremaining: 1m 14s\n",
      "227:\tlearn: 0.2232597\ttotal: 21.9s\tremaining: 1m 14s\n",
      "228:\tlearn: 0.2232588\ttotal: 22s\tremaining: 1m 14s\n",
      "229:\tlearn: 0.2232580\ttotal: 22.1s\tremaining: 1m 14s\n",
      "230:\tlearn: 0.2232570\ttotal: 22.2s\tremaining: 1m 14s\n",
      "231:\tlearn: 0.2232562\ttotal: 22.3s\tremaining: 1m 13s\n",
      "232:\tlearn: 0.2232553\ttotal: 22.4s\tremaining: 1m 13s\n",
      "233:\tlearn: 0.2232545\ttotal: 22.5s\tremaining: 1m 13s\n",
      "234:\tlearn: 0.2232536\ttotal: 22.6s\tremaining: 1m 13s\n",
      "235:\tlearn: 0.2232527\ttotal: 22.7s\tremaining: 1m 13s\n",
      "236:\tlearn: 0.2232518\ttotal: 22.8s\tremaining: 1m 13s\n",
      "237:\tlearn: 0.2232509\ttotal: 22.9s\tremaining: 1m 13s\n",
      "238:\tlearn: 0.2232498\ttotal: 23s\tremaining: 1m 13s\n",
      "239:\tlearn: 0.2232488\ttotal: 23.1s\tremaining: 1m 13s\n",
      "240:\tlearn: 0.2232479\ttotal: 23.2s\tremaining: 1m 13s\n",
      "241:\tlearn: 0.2232469\ttotal: 23.3s\tremaining: 1m 13s\n",
      "242:\tlearn: 0.2232458\ttotal: 23.4s\tremaining: 1m 12s\n",
      "243:\tlearn: 0.2232449\ttotal: 23.5s\tremaining: 1m 12s\n",
      "244:\tlearn: 0.2232442\ttotal: 23.6s\tremaining: 1m 12s\n",
      "245:\tlearn: 0.2232431\ttotal: 23.7s\tremaining: 1m 12s\n",
      "246:\tlearn: 0.2232424\ttotal: 23.8s\tremaining: 1m 12s\n",
      "247:\tlearn: 0.2232416\ttotal: 23.9s\tremaining: 1m 12s\n",
      "248:\tlearn: 0.2232408\ttotal: 24s\tremaining: 1m 12s\n",
      "249:\tlearn: 0.2232398\ttotal: 24.1s\tremaining: 1m 12s\n",
      "250:\tlearn: 0.2232388\ttotal: 24.2s\tremaining: 1m 12s\n",
      "251:\tlearn: 0.2232381\ttotal: 24.3s\tremaining: 1m 12s\n",
      "252:\tlearn: 0.2232372\ttotal: 24.4s\tremaining: 1m 11s\n",
      "253:\tlearn: 0.2232363\ttotal: 24.5s\tremaining: 1m 11s\n",
      "254:\tlearn: 0.2232355\ttotal: 24.6s\tremaining: 1m 11s\n",
      "255:\tlearn: 0.2232345\ttotal: 24.7s\tremaining: 1m 11s\n",
      "256:\tlearn: 0.2232337\ttotal: 24.8s\tremaining: 1m 11s\n",
      "257:\tlearn: 0.2232325\ttotal: 24.9s\tremaining: 1m 11s\n",
      "258:\tlearn: 0.2232318\ttotal: 25s\tremaining: 1m 11s\n",
      "259:\tlearn: 0.2232309\ttotal: 25.1s\tremaining: 1m 11s\n",
      "260:\tlearn: 0.2232300\ttotal: 25.2s\tremaining: 1m 11s\n",
      "261:\tlearn: 0.2232291\ttotal: 25.3s\tremaining: 1m 11s\n",
      "262:\tlearn: 0.2232284\ttotal: 25.4s\tremaining: 1m 11s\n",
      "263:\tlearn: 0.2232275\ttotal: 25.5s\tremaining: 1m 10s\n",
      "264:\tlearn: 0.2232266\ttotal: 25.6s\tremaining: 1m 10s\n",
      "265:\tlearn: 0.2232260\ttotal: 25.7s\tremaining: 1m 10s\n",
      "266:\tlearn: 0.2232252\ttotal: 25.8s\tremaining: 1m 10s\n",
      "267:\tlearn: 0.2232242\ttotal: 25.9s\tremaining: 1m 10s\n",
      "268:\tlearn: 0.2232233\ttotal: 25.9s\tremaining: 1m 10s\n",
      "269:\tlearn: 0.2232226\ttotal: 26s\tremaining: 1m 10s\n",
      "270:\tlearn: 0.2232217\ttotal: 26.1s\tremaining: 1m 10s\n",
      "271:\tlearn: 0.2232209\ttotal: 26.2s\tremaining: 1m 10s\n",
      "272:\tlearn: 0.2232201\ttotal: 26.3s\tremaining: 1m 10s\n",
      "273:\tlearn: 0.2232190\ttotal: 26.4s\tremaining: 1m 9s\n",
      "274:\tlearn: 0.2232184\ttotal: 26.5s\tremaining: 1m 9s\n",
      "275:\tlearn: 0.2232177\ttotal: 26.6s\tremaining: 1m 9s\n",
      "276:\tlearn: 0.2232169\ttotal: 26.7s\tremaining: 1m 9s\n",
      "277:\tlearn: 0.2232160\ttotal: 26.8s\tremaining: 1m 9s\n",
      "278:\tlearn: 0.2232151\ttotal: 26.9s\tremaining: 1m 9s\n",
      "279:\tlearn: 0.2232142\ttotal: 27s\tremaining: 1m 9s\n",
      "280:\tlearn: 0.2232133\ttotal: 27.1s\tremaining: 1m 9s\n",
      "281:\tlearn: 0.2232125\ttotal: 27.2s\tremaining: 1m 9s\n",
      "282:\tlearn: 0.2232118\ttotal: 27.3s\tremaining: 1m 9s\n",
      "283:\tlearn: 0.2232111\ttotal: 27.4s\tremaining: 1m 9s\n",
      "284:\tlearn: 0.2232105\ttotal: 27.5s\tremaining: 1m 8s\n",
      "285:\tlearn: 0.2232098\ttotal: 27.6s\tremaining: 1m 8s\n",
      "286:\tlearn: 0.2232090\ttotal: 27.7s\tremaining: 1m 8s\n",
      "287:\tlearn: 0.2232080\ttotal: 27.8s\tremaining: 1m 8s\n",
      "288:\tlearn: 0.2232073\ttotal: 27.9s\tremaining: 1m 8s\n",
      "289:\tlearn: 0.2232066\ttotal: 28s\tremaining: 1m 8s\n",
      "290:\tlearn: 0.2232058\ttotal: 28.1s\tremaining: 1m 8s\n",
      "291:\tlearn: 0.2232048\ttotal: 28.2s\tremaining: 1m 8s\n",
      "292:\tlearn: 0.2232040\ttotal: 28.3s\tremaining: 1m 8s\n",
      "293:\tlearn: 0.2232033\ttotal: 28.4s\tremaining: 1m 8s\n",
      "294:\tlearn: 0.2232024\ttotal: 28.5s\tremaining: 1m 8s\n",
      "295:\tlearn: 0.2232017\ttotal: 28.5s\tremaining: 1m 7s\n",
      "296:\tlearn: 0.2232009\ttotal: 28.6s\tremaining: 1m 7s\n",
      "297:\tlearn: 0.2232001\ttotal: 28.7s\tremaining: 1m 7s\n",
      "298:\tlearn: 0.2231993\ttotal: 28.8s\tremaining: 1m 7s\n",
      "299:\tlearn: 0.2231986\ttotal: 28.9s\tremaining: 1m 7s\n",
      "300:\tlearn: 0.2231979\ttotal: 29s\tremaining: 1m 7s\n",
      "301:\tlearn: 0.2231969\ttotal: 29.1s\tremaining: 1m 7s\n",
      "302:\tlearn: 0.2231964\ttotal: 29.2s\tremaining: 1m 7s\n",
      "303:\tlearn: 0.2231955\ttotal: 29.3s\tremaining: 1m 7s\n",
      "304:\tlearn: 0.2231946\ttotal: 29.4s\tremaining: 1m 6s\n",
      "305:\tlearn: 0.2231938\ttotal: 29.5s\tremaining: 1m 6s\n",
      "306:\tlearn: 0.2231928\ttotal: 29.6s\tremaining: 1m 6s\n",
      "307:\tlearn: 0.2231920\ttotal: 29.7s\tremaining: 1m 6s\n",
      "308:\tlearn: 0.2231912\ttotal: 29.7s\tremaining: 1m 6s\n",
      "309:\tlearn: 0.2231904\ttotal: 29.8s\tremaining: 1m 6s\n",
      "310:\tlearn: 0.2231896\ttotal: 29.9s\tremaining: 1m 6s\n",
      "311:\tlearn: 0.2231889\ttotal: 30s\tremaining: 1m 6s\n",
      "312:\tlearn: 0.2231881\ttotal: 30.1s\tremaining: 1m 6s\n",
      "313:\tlearn: 0.2231875\ttotal: 30.2s\tremaining: 1m 6s\n",
      "314:\tlearn: 0.2231866\ttotal: 30.3s\tremaining: 1m 5s\n",
      "315:\tlearn: 0.2231858\ttotal: 30.4s\tremaining: 1m 5s\n",
      "316:\tlearn: 0.2231850\ttotal: 30.5s\tremaining: 1m 5s\n",
      "317:\tlearn: 0.2231843\ttotal: 30.6s\tremaining: 1m 5s\n",
      "318:\tlearn: 0.2231835\ttotal: 30.7s\tremaining: 1m 5s\n",
      "319:\tlearn: 0.2231827\ttotal: 30.8s\tremaining: 1m 5s\n",
      "320:\tlearn: 0.2231820\ttotal: 30.9s\tremaining: 1m 5s\n",
      "321:\tlearn: 0.2231813\ttotal: 31s\tremaining: 1m 5s\n",
      "322:\tlearn: 0.2231805\ttotal: 31.1s\tremaining: 1m 5s\n",
      "323:\tlearn: 0.2231800\ttotal: 31.2s\tremaining: 1m 5s\n",
      "324:\tlearn: 0.2231790\ttotal: 31.3s\tremaining: 1m 4s\n",
      "325:\tlearn: 0.2231782\ttotal: 31.4s\tremaining: 1m 4s\n",
      "326:\tlearn: 0.2231775\ttotal: 31.5s\tremaining: 1m 4s\n",
      "327:\tlearn: 0.2231766\ttotal: 31.5s\tremaining: 1m 4s\n",
      "328:\tlearn: 0.2231759\ttotal: 31.6s\tremaining: 1m 4s\n",
      "329:\tlearn: 0.2231751\ttotal: 31.7s\tremaining: 1m 4s\n",
      "330:\tlearn: 0.2231744\ttotal: 31.8s\tremaining: 1m 4s\n",
      "331:\tlearn: 0.2231735\ttotal: 31.9s\tremaining: 1m 4s\n",
      "332:\tlearn: 0.2231729\ttotal: 32s\tremaining: 1m 4s\n",
      "333:\tlearn: 0.2231722\ttotal: 32.1s\tremaining: 1m 4s\n",
      "334:\tlearn: 0.2231714\ttotal: 32.2s\tremaining: 1m 3s\n",
      "335:\tlearn: 0.2231708\ttotal: 32.3s\tremaining: 1m 3s\n",
      "336:\tlearn: 0.2231699\ttotal: 32.4s\tremaining: 1m 3s\n",
      "337:\tlearn: 0.2231693\ttotal: 32.5s\tremaining: 1m 3s\n",
      "338:\tlearn: 0.2231684\ttotal: 32.6s\tremaining: 1m 3s\n",
      "339:\tlearn: 0.2231677\ttotal: 32.7s\tremaining: 1m 3s\n",
      "340:\tlearn: 0.2231670\ttotal: 32.8s\tremaining: 1m 3s\n",
      "341:\tlearn: 0.2231662\ttotal: 32.9s\tremaining: 1m 3s\n",
      "342:\tlearn: 0.2231654\ttotal: 33s\tremaining: 1m 3s\n",
      "343:\tlearn: 0.2231645\ttotal: 33.1s\tremaining: 1m 3s\n",
      "344:\tlearn: 0.2231639\ttotal: 33.2s\tremaining: 1m 3s\n",
      "345:\tlearn: 0.2231633\ttotal: 33.3s\tremaining: 1m 3s\n",
      "346:\tlearn: 0.2231625\ttotal: 33.4s\tremaining: 1m 2s\n",
      "347:\tlearn: 0.2231619\ttotal: 33.5s\tremaining: 1m 2s\n",
      "348:\tlearn: 0.2231611\ttotal: 33.6s\tremaining: 1m 2s\n",
      "349:\tlearn: 0.2231604\ttotal: 33.7s\tremaining: 1m 2s\n",
      "350:\tlearn: 0.2231597\ttotal: 33.8s\tremaining: 1m 2s\n",
      "351:\tlearn: 0.2231588\ttotal: 33.9s\tremaining: 1m 2s\n",
      "352:\tlearn: 0.2231580\ttotal: 34s\tremaining: 1m 2s\n",
      "353:\tlearn: 0.2231571\ttotal: 34.1s\tremaining: 1m 2s\n",
      "354:\tlearn: 0.2231562\ttotal: 34.2s\tremaining: 1m 2s\n",
      "355:\tlearn: 0.2231554\ttotal: 34.3s\tremaining: 1m 2s\n",
      "356:\tlearn: 0.2231546\ttotal: 34.4s\tremaining: 1m 1s\n",
      "357:\tlearn: 0.2231537\ttotal: 34.5s\tremaining: 1m 1s\n",
      "358:\tlearn: 0.2231530\ttotal: 34.6s\tremaining: 1m 1s\n",
      "359:\tlearn: 0.2231526\ttotal: 34.7s\tremaining: 1m 1s\n",
      "360:\tlearn: 0.2231518\ttotal: 34.8s\tremaining: 1m 1s\n",
      "361:\tlearn: 0.2231510\ttotal: 34.9s\tremaining: 1m 1s\n",
      "362:\tlearn: 0.2231503\ttotal: 35s\tremaining: 1m 1s\n",
      "363:\tlearn: 0.2231497\ttotal: 35.1s\tremaining: 1m 1s\n",
      "364:\tlearn: 0.2231486\ttotal: 35.2s\tremaining: 1m 1s\n",
      "365:\tlearn: 0.2231478\ttotal: 35.3s\tremaining: 1m 1s\n",
      "366:\tlearn: 0.2231471\ttotal: 35.4s\tremaining: 1m 1s\n",
      "367:\tlearn: 0.2231465\ttotal: 35.5s\tremaining: 1m\n",
      "368:\tlearn: 0.2231459\ttotal: 35.6s\tremaining: 1m\n",
      "369:\tlearn: 0.2231451\ttotal: 35.6s\tremaining: 1m\n",
      "370:\tlearn: 0.2231444\ttotal: 35.7s\tremaining: 1m\n",
      "371:\tlearn: 0.2231436\ttotal: 35.8s\tremaining: 1m\n",
      "372:\tlearn: 0.2231428\ttotal: 35.9s\tremaining: 1m\n",
      "373:\tlearn: 0.2231421\ttotal: 36s\tremaining: 1m\n",
      "374:\tlearn: 0.2231414\ttotal: 36.1s\tremaining: 1m\n",
      "375:\tlearn: 0.2231408\ttotal: 36.2s\tremaining: 1m\n",
      "376:\tlearn: 0.2231401\ttotal: 36.3s\tremaining: 1m\n",
      "377:\tlearn: 0.2231395\ttotal: 36.4s\tremaining: 59.9s\n",
      "378:\tlearn: 0.2231387\ttotal: 36.5s\tremaining: 59.8s\n",
      "379:\tlearn: 0.2231378\ttotal: 36.6s\tremaining: 59.7s\n",
      "380:\tlearn: 0.2231372\ttotal: 36.7s\tremaining: 59.6s\n",
      "381:\tlearn: 0.2231366\ttotal: 36.8s\tremaining: 59.5s\n",
      "382:\tlearn: 0.2231359\ttotal: 36.9s\tremaining: 59.4s\n",
      "383:\tlearn: 0.2231352\ttotal: 37s\tremaining: 59.3s\n",
      "384:\tlearn: 0.2231345\ttotal: 37.1s\tremaining: 59.2s\n",
      "385:\tlearn: 0.2231339\ttotal: 37.2s\tremaining: 59.1s\n",
      "386:\tlearn: 0.2231331\ttotal: 37.3s\tremaining: 59s\n",
      "387:\tlearn: 0.2231323\ttotal: 37.4s\tremaining: 58.9s\n",
      "388:\tlearn: 0.2231316\ttotal: 37.5s\tremaining: 58.8s\n",
      "389:\tlearn: 0.2231308\ttotal: 37.5s\tremaining: 58.7s\n",
      "390:\tlearn: 0.2231300\ttotal: 37.6s\tremaining: 58.6s\n",
      "391:\tlearn: 0.2231294\ttotal: 37.7s\tremaining: 58.5s\n",
      "392:\tlearn: 0.2231286\ttotal: 37.8s\tremaining: 58.5s\n",
      "393:\tlearn: 0.2231280\ttotal: 38s\tremaining: 58.4s\n",
      "394:\tlearn: 0.2231273\ttotal: 38s\tremaining: 58.3s\n",
      "395:\tlearn: 0.2231264\ttotal: 38.1s\tremaining: 58.2s\n",
      "396:\tlearn: 0.2231256\ttotal: 38.2s\tremaining: 58.1s\n",
      "397:\tlearn: 0.2231250\ttotal: 38.3s\tremaining: 58s\n",
      "398:\tlearn: 0.2231243\ttotal: 38.4s\tremaining: 57.9s\n",
      "399:\tlearn: 0.2231239\ttotal: 38.5s\tremaining: 57.8s\n",
      "400:\tlearn: 0.2231231\ttotal: 38.6s\tremaining: 57.7s\n",
      "401:\tlearn: 0.2231226\ttotal: 38.7s\tremaining: 57.6s\n",
      "402:\tlearn: 0.2231219\ttotal: 38.8s\tremaining: 57.5s\n",
      "403:\tlearn: 0.2231213\ttotal: 38.9s\tremaining: 57.4s\n",
      "404:\tlearn: 0.2231207\ttotal: 39s\tremaining: 57.3s\n",
      "405:\tlearn: 0.2231199\ttotal: 39.1s\tremaining: 57.2s\n",
      "406:\tlearn: 0.2231192\ttotal: 39.2s\tremaining: 57.1s\n",
      "407:\tlearn: 0.2231184\ttotal: 39.3s\tremaining: 57s\n",
      "408:\tlearn: 0.2231177\ttotal: 39.4s\tremaining: 56.9s\n",
      "409:\tlearn: 0.2231170\ttotal: 39.5s\tremaining: 56.8s\n",
      "410:\tlearn: 0.2231165\ttotal: 39.6s\tremaining: 56.7s\n",
      "411:\tlearn: 0.2231158\ttotal: 39.7s\tremaining: 56.6s\n",
      "412:\tlearn: 0.2231152\ttotal: 39.8s\tremaining: 56.6s\n",
      "413:\tlearn: 0.2231144\ttotal: 39.9s\tremaining: 56.5s\n",
      "414:\tlearn: 0.2231135\ttotal: 40s\tremaining: 56.4s\n",
      "415:\tlearn: 0.2231130\ttotal: 40.1s\tremaining: 56.3s\n",
      "416:\tlearn: 0.2231123\ttotal: 40.2s\tremaining: 56.2s\n",
      "417:\tlearn: 0.2231117\ttotal: 40.3s\tremaining: 56.1s\n",
      "418:\tlearn: 0.2231111\ttotal: 40.4s\tremaining: 56s\n",
      "419:\tlearn: 0.2231104\ttotal: 40.5s\tremaining: 55.9s\n",
      "420:\tlearn: 0.2231095\ttotal: 40.6s\tremaining: 55.8s\n",
      "421:\tlearn: 0.2231089\ttotal: 40.7s\tremaining: 55.7s\n",
      "422:\tlearn: 0.2231082\ttotal: 40.7s\tremaining: 55.6s\n",
      "423:\tlearn: 0.2231072\ttotal: 40.8s\tremaining: 55.5s\n",
      "424:\tlearn: 0.2231065\ttotal: 40.9s\tremaining: 55.4s\n",
      "425:\tlearn: 0.2231058\ttotal: 41s\tremaining: 55.3s\n",
      "426:\tlearn: 0.2231051\ttotal: 41.1s\tremaining: 55.2s\n",
      "427:\tlearn: 0.2231046\ttotal: 41.2s\tremaining: 55.1s\n",
      "428:\tlearn: 0.2231039\ttotal: 41.3s\tremaining: 55s\n",
      "429:\tlearn: 0.2231031\ttotal: 41.4s\tremaining: 54.9s\n",
      "430:\tlearn: 0.2231025\ttotal: 41.5s\tremaining: 54.8s\n",
      "431:\tlearn: 0.2231018\ttotal: 41.6s\tremaining: 54.7s\n",
      "432:\tlearn: 0.2231012\ttotal: 41.7s\tremaining: 54.6s\n",
      "433:\tlearn: 0.2231005\ttotal: 41.8s\tremaining: 54.5s\n",
      "434:\tlearn: 0.2230998\ttotal: 41.9s\tremaining: 54.4s\n",
      "435:\tlearn: 0.2230991\ttotal: 42s\tremaining: 54.3s\n",
      "436:\tlearn: 0.2230983\ttotal: 42.1s\tremaining: 54.2s\n",
      "437:\tlearn: 0.2230976\ttotal: 42.2s\tremaining: 54.2s\n",
      "438:\tlearn: 0.2230969\ttotal: 42.3s\tremaining: 54.1s\n",
      "439:\tlearn: 0.2230962\ttotal: 42.4s\tremaining: 54s\n",
      "440:\tlearn: 0.2230957\ttotal: 42.5s\tremaining: 53.9s\n",
      "441:\tlearn: 0.2230952\ttotal: 42.6s\tremaining: 53.8s\n",
      "442:\tlearn: 0.2230944\ttotal: 42.7s\tremaining: 53.7s\n",
      "443:\tlearn: 0.2230936\ttotal: 42.8s\tremaining: 53.6s\n",
      "444:\tlearn: 0.2230931\ttotal: 42.9s\tremaining: 53.5s\n",
      "445:\tlearn: 0.2230925\ttotal: 43s\tremaining: 53.4s\n",
      "446:\tlearn: 0.2230918\ttotal: 43.1s\tremaining: 53.3s\n",
      "447:\tlearn: 0.2230911\ttotal: 43.2s\tremaining: 53.2s\n",
      "448:\tlearn: 0.2230904\ttotal: 43.3s\tremaining: 53.1s\n",
      "449:\tlearn: 0.2230897\ttotal: 43.4s\tremaining: 53s\n",
      "450:\tlearn: 0.2230890\ttotal: 43.5s\tremaining: 52.9s\n",
      "451:\tlearn: 0.2230884\ttotal: 43.5s\tremaining: 52.8s\n",
      "452:\tlearn: 0.2230877\ttotal: 43.6s\tremaining: 52.7s\n",
      "453:\tlearn: 0.2230869\ttotal: 43.7s\tremaining: 52.6s\n",
      "454:\tlearn: 0.2230862\ttotal: 43.8s\tremaining: 52.5s\n",
      "455:\tlearn: 0.2230854\ttotal: 43.9s\tremaining: 52.4s\n",
      "456:\tlearn: 0.2230847\ttotal: 44s\tremaining: 52.3s\n",
      "457:\tlearn: 0.2230839\ttotal: 44.1s\tremaining: 52.2s\n",
      "458:\tlearn: 0.2230832\ttotal: 44.2s\tremaining: 52.1s\n",
      "459:\tlearn: 0.2230826\ttotal: 44.3s\tremaining: 52.1s\n",
      "460:\tlearn: 0.2230820\ttotal: 44.4s\tremaining: 52s\n",
      "461:\tlearn: 0.2230813\ttotal: 44.5s\tremaining: 51.9s\n",
      "462:\tlearn: 0.2230808\ttotal: 44.6s\tremaining: 51.8s\n",
      "463:\tlearn: 0.2230800\ttotal: 44.7s\tremaining: 51.7s\n",
      "464:\tlearn: 0.2230792\ttotal: 44.8s\tremaining: 51.5s\n",
      "465:\tlearn: 0.2230787\ttotal: 44.9s\tremaining: 51.4s\n",
      "466:\tlearn: 0.2230782\ttotal: 45s\tremaining: 51.3s\n",
      "467:\tlearn: 0.2230773\ttotal: 45.1s\tremaining: 51.2s\n",
      "468:\tlearn: 0.2230767\ttotal: 45.2s\tremaining: 51.1s\n",
      "469:\tlearn: 0.2230761\ttotal: 45.3s\tremaining: 51s\n",
      "470:\tlearn: 0.2230754\ttotal: 45.4s\tremaining: 51s\n",
      "471:\tlearn: 0.2230747\ttotal: 45.5s\tremaining: 50.9s\n",
      "472:\tlearn: 0.2230739\ttotal: 45.6s\tremaining: 50.8s\n",
      "473:\tlearn: 0.2230734\ttotal: 45.7s\tremaining: 50.7s\n",
      "474:\tlearn: 0.2230725\ttotal: 45.8s\tremaining: 50.6s\n",
      "475:\tlearn: 0.2230720\ttotal: 45.9s\tremaining: 50.5s\n",
      "476:\tlearn: 0.2230713\ttotal: 45.9s\tremaining: 50.4s\n",
      "477:\tlearn: 0.2230706\ttotal: 46s\tremaining: 50.3s\n",
      "478:\tlearn: 0.2230698\ttotal: 46.1s\tremaining: 50.2s\n",
      "479:\tlearn: 0.2230694\ttotal: 46.2s\tremaining: 50.1s\n",
      "480:\tlearn: 0.2230687\ttotal: 46.3s\tremaining: 50s\n",
      "481:\tlearn: 0.2230681\ttotal: 46.4s\tremaining: 49.9s\n",
      "482:\tlearn: 0.2230674\ttotal: 46.5s\tremaining: 49.7s\n",
      "483:\tlearn: 0.2230670\ttotal: 46.6s\tremaining: 49.7s\n",
      "484:\tlearn: 0.2230663\ttotal: 46.7s\tremaining: 49.6s\n",
      "485:\tlearn: 0.2230657\ttotal: 46.8s\tremaining: 49.5s\n",
      "486:\tlearn: 0.2230651\ttotal: 46.9s\tremaining: 49.4s\n",
      "487:\tlearn: 0.2230645\ttotal: 47s\tremaining: 49.3s\n",
      "488:\tlearn: 0.2230637\ttotal: 47s\tremaining: 49.2s\n",
      "489:\tlearn: 0.2230629\ttotal: 47.1s\tremaining: 49.1s\n",
      "490:\tlearn: 0.2230622\ttotal: 47.2s\tremaining: 49s\n",
      "491:\tlearn: 0.2230616\ttotal: 47.3s\tremaining: 48.9s\n",
      "492:\tlearn: 0.2230610\ttotal: 47.4s\tremaining: 48.8s\n",
      "493:\tlearn: 0.2230604\ttotal: 47.5s\tremaining: 48.7s\n",
      "494:\tlearn: 0.2230599\ttotal: 47.6s\tremaining: 48.6s\n",
      "495:\tlearn: 0.2230594\ttotal: 47.7s\tremaining: 48.5s\n",
      "496:\tlearn: 0.2230587\ttotal: 47.8s\tremaining: 48.4s\n",
      "497:\tlearn: 0.2230580\ttotal: 47.9s\tremaining: 48.3s\n",
      "498:\tlearn: 0.2230576\ttotal: 48s\tremaining: 48.2s\n",
      "499:\tlearn: 0.2230569\ttotal: 48.1s\tremaining: 48.1s\n",
      "500:\tlearn: 0.2230562\ttotal: 48.2s\tremaining: 48s\n",
      "501:\tlearn: 0.2230556\ttotal: 48.3s\tremaining: 47.9s\n",
      "502:\tlearn: 0.2230549\ttotal: 48.4s\tremaining: 47.8s\n",
      "503:\tlearn: 0.2230543\ttotal: 48.5s\tremaining: 47.7s\n",
      "504:\tlearn: 0.2230540\ttotal: 48.6s\tremaining: 47.6s\n",
      "505:\tlearn: 0.2230534\ttotal: 48.6s\tremaining: 47.5s\n",
      "506:\tlearn: 0.2230527\ttotal: 48.7s\tremaining: 47.4s\n",
      "507:\tlearn: 0.2230522\ttotal: 48.8s\tremaining: 47.3s\n",
      "508:\tlearn: 0.2230516\ttotal: 49s\tremaining: 47.2s\n",
      "509:\tlearn: 0.2230511\ttotal: 49.1s\tremaining: 47.1s\n",
      "510:\tlearn: 0.2230504\ttotal: 49.1s\tremaining: 47s\n",
      "511:\tlearn: 0.2230496\ttotal: 49.3s\tremaining: 46.9s\n",
      "512:\tlearn: 0.2230490\ttotal: 49.4s\tremaining: 46.9s\n",
      "513:\tlearn: 0.2230484\ttotal: 49.5s\tremaining: 46.8s\n",
      "514:\tlearn: 0.2230478\ttotal: 49.5s\tremaining: 46.7s\n",
      "515:\tlearn: 0.2230471\ttotal: 49.6s\tremaining: 46.6s\n",
      "516:\tlearn: 0.2230464\ttotal: 49.8s\tremaining: 46.5s\n",
      "517:\tlearn: 0.2230458\ttotal: 49.9s\tremaining: 46.4s\n",
      "518:\tlearn: 0.2230453\ttotal: 49.9s\tremaining: 46.3s\n",
      "519:\tlearn: 0.2230446\ttotal: 50s\tremaining: 46.2s\n",
      "520:\tlearn: 0.2230440\ttotal: 50.1s\tremaining: 46.1s\n",
      "521:\tlearn: 0.2230434\ttotal: 50.2s\tremaining: 46s\n",
      "522:\tlearn: 0.2230428\ttotal: 50.3s\tremaining: 45.9s\n",
      "523:\tlearn: 0.2230421\ttotal: 50.4s\tremaining: 45.8s\n",
      "524:\tlearn: 0.2230415\ttotal: 50.5s\tremaining: 45.7s\n",
      "525:\tlearn: 0.2230409\ttotal: 50.6s\tremaining: 45.6s\n",
      "526:\tlearn: 0.2230402\ttotal: 50.7s\tremaining: 45.5s\n",
      "527:\tlearn: 0.2230395\ttotal: 50.8s\tremaining: 45.4s\n",
      "528:\tlearn: 0.2230389\ttotal: 50.9s\tremaining: 45.3s\n",
      "529:\tlearn: 0.2230381\ttotal: 50.9s\tremaining: 45.2s\n",
      "530:\tlearn: 0.2230375\ttotal: 51s\tremaining: 45.1s\n",
      "531:\tlearn: 0.2230366\ttotal: 51.1s\tremaining: 45s\n",
      "532:\tlearn: 0.2230359\ttotal: 51.2s\tremaining: 44.9s\n",
      "533:\tlearn: 0.2230354\ttotal: 51.3s\tremaining: 44.8s\n",
      "534:\tlearn: 0.2230347\ttotal: 51.4s\tremaining: 44.7s\n",
      "535:\tlearn: 0.2230342\ttotal: 51.5s\tremaining: 44.6s\n",
      "536:\tlearn: 0.2230337\ttotal: 51.6s\tremaining: 44.5s\n",
      "537:\tlearn: 0.2230331\ttotal: 51.7s\tremaining: 44.4s\n",
      "538:\tlearn: 0.2230322\ttotal: 51.8s\tremaining: 44.3s\n",
      "539:\tlearn: 0.2230315\ttotal: 51.9s\tremaining: 44.2s\n",
      "540:\tlearn: 0.2230308\ttotal: 52s\tremaining: 44.1s\n",
      "541:\tlearn: 0.2230300\ttotal: 52.1s\tremaining: 44s\n",
      "542:\tlearn: 0.2230294\ttotal: 52.2s\tremaining: 43.9s\n",
      "543:\tlearn: 0.2230288\ttotal: 52.3s\tremaining: 43.8s\n",
      "544:\tlearn: 0.2230284\ttotal: 52.4s\tremaining: 43.7s\n",
      "545:\tlearn: 0.2230278\ttotal: 52.5s\tremaining: 43.6s\n",
      "546:\tlearn: 0.2230273\ttotal: 52.6s\tremaining: 43.5s\n",
      "547:\tlearn: 0.2230266\ttotal: 52.6s\tremaining: 43.4s\n",
      "548:\tlearn: 0.2230259\ttotal: 52.7s\tremaining: 43.3s\n",
      "549:\tlearn: 0.2230252\ttotal: 52.8s\tremaining: 43.2s\n",
      "550:\tlearn: 0.2230247\ttotal: 52.9s\tremaining: 43.1s\n",
      "551:\tlearn: 0.2230240\ttotal: 53s\tremaining: 43s\n",
      "552:\tlearn: 0.2230234\ttotal: 53.1s\tremaining: 42.9s\n",
      "553:\tlearn: 0.2230228\ttotal: 53.2s\tremaining: 42.8s\n",
      "554:\tlearn: 0.2230221\ttotal: 53.3s\tremaining: 42.7s\n",
      "555:\tlearn: 0.2230215\ttotal: 53.4s\tremaining: 42.6s\n",
      "556:\tlearn: 0.2230209\ttotal: 53.5s\tremaining: 42.5s\n",
      "557:\tlearn: 0.2230202\ttotal: 53.6s\tremaining: 42.4s\n",
      "558:\tlearn: 0.2230197\ttotal: 53.7s\tremaining: 42.3s\n",
      "559:\tlearn: 0.2230191\ttotal: 53.8s\tremaining: 42.2s\n",
      "560:\tlearn: 0.2230184\ttotal: 53.9s\tremaining: 42.2s\n",
      "561:\tlearn: 0.2230179\ttotal: 54s\tremaining: 42.1s\n",
      "562:\tlearn: 0.2230172\ttotal: 54s\tremaining: 41.9s\n",
      "563:\tlearn: 0.2230166\ttotal: 54.1s\tremaining: 41.8s\n",
      "564:\tlearn: 0.2230159\ttotal: 54.2s\tremaining: 41.8s\n",
      "565:\tlearn: 0.2230152\ttotal: 54.3s\tremaining: 41.6s\n",
      "566:\tlearn: 0.2230147\ttotal: 54.4s\tremaining: 41.5s\n",
      "567:\tlearn: 0.2230141\ttotal: 54.5s\tremaining: 41.5s\n",
      "568:\tlearn: 0.2230135\ttotal: 54.6s\tremaining: 41.4s\n",
      "569:\tlearn: 0.2230129\ttotal: 54.7s\tremaining: 41.3s\n",
      "570:\tlearn: 0.2230122\ttotal: 54.8s\tremaining: 41.2s\n",
      "571:\tlearn: 0.2230115\ttotal: 54.9s\tremaining: 41.1s\n",
      "572:\tlearn: 0.2230110\ttotal: 55s\tremaining: 41s\n",
      "573:\tlearn: 0.2230104\ttotal: 55.1s\tremaining: 40.9s\n",
      "574:\tlearn: 0.2230098\ttotal: 55.2s\tremaining: 40.8s\n",
      "575:\tlearn: 0.2230091\ttotal: 55.3s\tremaining: 40.7s\n",
      "576:\tlearn: 0.2230086\ttotal: 55.3s\tremaining: 40.6s\n",
      "577:\tlearn: 0.2230081\ttotal: 55.4s\tremaining: 40.5s\n",
      "578:\tlearn: 0.2230074\ttotal: 55.5s\tremaining: 40.4s\n",
      "579:\tlearn: 0.2230069\ttotal: 55.6s\tremaining: 40.3s\n",
      "580:\tlearn: 0.2230064\ttotal: 55.7s\tremaining: 40.2s\n",
      "581:\tlearn: 0.2230055\ttotal: 55.8s\tremaining: 40.1s\n",
      "582:\tlearn: 0.2230049\ttotal: 55.9s\tremaining: 40s\n",
      "583:\tlearn: 0.2230043\ttotal: 56s\tremaining: 39.9s\n",
      "584:\tlearn: 0.2230038\ttotal: 56.1s\tremaining: 39.8s\n",
      "585:\tlearn: 0.2230031\ttotal: 56.2s\tremaining: 39.7s\n",
      "586:\tlearn: 0.2230022\ttotal: 56.3s\tremaining: 39.6s\n",
      "587:\tlearn: 0.2230017\ttotal: 56.4s\tremaining: 39.5s\n",
      "588:\tlearn: 0.2230011\ttotal: 56.5s\tremaining: 39.4s\n",
      "589:\tlearn: 0.2230006\ttotal: 56.6s\tremaining: 39.3s\n",
      "590:\tlearn: 0.2229999\ttotal: 56.7s\tremaining: 39.2s\n",
      "591:\tlearn: 0.2229992\ttotal: 56.8s\tremaining: 39.1s\n",
      "592:\tlearn: 0.2229985\ttotal: 56.9s\tremaining: 39s\n",
      "593:\tlearn: 0.2229979\ttotal: 57s\tremaining: 38.9s\n",
      "594:\tlearn: 0.2229973\ttotal: 57.1s\tremaining: 38.8s\n",
      "595:\tlearn: 0.2229966\ttotal: 57.1s\tremaining: 38.7s\n",
      "596:\tlearn: 0.2229960\ttotal: 57.2s\tremaining: 38.6s\n",
      "597:\tlearn: 0.2229955\ttotal: 57.3s\tremaining: 38.5s\n",
      "598:\tlearn: 0.2229949\ttotal: 57.4s\tremaining: 38.4s\n",
      "599:\tlearn: 0.2229942\ttotal: 57.5s\tremaining: 38.4s\n",
      "600:\tlearn: 0.2229935\ttotal: 57.6s\tremaining: 38.3s\n",
      "601:\tlearn: 0.2229928\ttotal: 57.7s\tremaining: 38.2s\n",
      "602:\tlearn: 0.2229923\ttotal: 57.8s\tremaining: 38.1s\n",
      "603:\tlearn: 0.2229916\ttotal: 57.9s\tremaining: 38s\n",
      "604:\tlearn: 0.2229910\ttotal: 58s\tremaining: 37.9s\n",
      "605:\tlearn: 0.2229905\ttotal: 58.1s\tremaining: 37.8s\n",
      "606:\tlearn: 0.2229899\ttotal: 58.2s\tremaining: 37.7s\n",
      "607:\tlearn: 0.2229893\ttotal: 58.3s\tremaining: 37.6s\n",
      "608:\tlearn: 0.2229887\ttotal: 58.4s\tremaining: 37.5s\n",
      "609:\tlearn: 0.2229882\ttotal: 58.5s\tremaining: 37.4s\n",
      "610:\tlearn: 0.2229875\ttotal: 58.6s\tremaining: 37.3s\n",
      "611:\tlearn: 0.2229869\ttotal: 58.6s\tremaining: 37.2s\n",
      "612:\tlearn: 0.2229861\ttotal: 58.7s\tremaining: 37.1s\n",
      "613:\tlearn: 0.2229856\ttotal: 58.8s\tremaining: 37s\n",
      "614:\tlearn: 0.2229850\ttotal: 58.9s\tremaining: 36.9s\n",
      "615:\tlearn: 0.2229844\ttotal: 59s\tremaining: 36.8s\n",
      "616:\tlearn: 0.2229839\ttotal: 59.1s\tremaining: 36.7s\n",
      "617:\tlearn: 0.2229833\ttotal: 59.2s\tremaining: 36.6s\n",
      "618:\tlearn: 0.2229827\ttotal: 59.3s\tremaining: 36.5s\n",
      "619:\tlearn: 0.2229821\ttotal: 59.4s\tremaining: 36.4s\n",
      "620:\tlearn: 0.2229814\ttotal: 59.5s\tremaining: 36.3s\n",
      "621:\tlearn: 0.2229807\ttotal: 59.6s\tremaining: 36.2s\n",
      "622:\tlearn: 0.2229801\ttotal: 59.7s\tremaining: 36.1s\n",
      "623:\tlearn: 0.2229795\ttotal: 59.8s\tremaining: 36s\n",
      "624:\tlearn: 0.2229788\ttotal: 59.9s\tremaining: 35.9s\n",
      "625:\tlearn: 0.2229783\ttotal: 1m\tremaining: 35.8s\n",
      "626:\tlearn: 0.2229775\ttotal: 1m\tremaining: 35.8s\n",
      "627:\tlearn: 0.2229770\ttotal: 1m\tremaining: 35.7s\n",
      "628:\tlearn: 0.2229763\ttotal: 1m\tremaining: 35.6s\n",
      "629:\tlearn: 0.2229758\ttotal: 1m\tremaining: 35.5s\n",
      "630:\tlearn: 0.2229751\ttotal: 1m\tremaining: 35.4s\n",
      "631:\tlearn: 0.2229746\ttotal: 1m\tremaining: 35.3s\n",
      "632:\tlearn: 0.2229739\ttotal: 1m\tremaining: 35.2s\n",
      "633:\tlearn: 0.2229732\ttotal: 1m\tremaining: 35.1s\n",
      "634:\tlearn: 0.2229726\ttotal: 1m\tremaining: 35s\n",
      "635:\tlearn: 0.2229719\ttotal: 1m 1s\tremaining: 34.9s\n",
      "636:\tlearn: 0.2229714\ttotal: 1m 1s\tremaining: 34.8s\n",
      "637:\tlearn: 0.2229708\ttotal: 1m 1s\tremaining: 34.7s\n",
      "638:\tlearn: 0.2229704\ttotal: 1m 1s\tremaining: 34.6s\n",
      "639:\tlearn: 0.2229699\ttotal: 1m 1s\tremaining: 34.5s\n",
      "640:\tlearn: 0.2229694\ttotal: 1m 1s\tremaining: 34.4s\n",
      "641:\tlearn: 0.2229689\ttotal: 1m 1s\tremaining: 34.3s\n",
      "642:\tlearn: 0.2229682\ttotal: 1m 1s\tremaining: 34.2s\n",
      "643:\tlearn: 0.2229675\ttotal: 1m 1s\tremaining: 34.1s\n",
      "644:\tlearn: 0.2229668\ttotal: 1m 1s\tremaining: 34s\n",
      "645:\tlearn: 0.2229662\ttotal: 1m 1s\tremaining: 34s\n",
      "646:\tlearn: 0.2229656\ttotal: 1m 2s\tremaining: 33.9s\n",
      "647:\tlearn: 0.2229651\ttotal: 1m 2s\tremaining: 33.8s\n",
      "648:\tlearn: 0.2229642\ttotal: 1m 2s\tremaining: 33.7s\n",
      "649:\tlearn: 0.2229638\ttotal: 1m 2s\tremaining: 33.6s\n",
      "650:\tlearn: 0.2229632\ttotal: 1m 2s\tremaining: 33.5s\n",
      "651:\tlearn: 0.2229626\ttotal: 1m 2s\tremaining: 33.4s\n",
      "652:\tlearn: 0.2229622\ttotal: 1m 2s\tremaining: 33.3s\n",
      "653:\tlearn: 0.2229616\ttotal: 1m 2s\tremaining: 33.2s\n",
      "654:\tlearn: 0.2229610\ttotal: 1m 2s\tremaining: 33.1s\n",
      "655:\tlearn: 0.2229602\ttotal: 1m 2s\tremaining: 33s\n",
      "656:\tlearn: 0.2229598\ttotal: 1m 2s\tremaining: 32.9s\n",
      "657:\tlearn: 0.2229591\ttotal: 1m 3s\tremaining: 32.8s\n",
      "658:\tlearn: 0.2229585\ttotal: 1m 3s\tremaining: 32.7s\n",
      "659:\tlearn: 0.2229579\ttotal: 1m 3s\tremaining: 32.6s\n",
      "660:\tlearn: 0.2229575\ttotal: 1m 3s\tremaining: 32.5s\n",
      "661:\tlearn: 0.2229569\ttotal: 1m 3s\tremaining: 32.4s\n",
      "662:\tlearn: 0.2229563\ttotal: 1m 3s\tremaining: 32.3s\n",
      "663:\tlearn: 0.2229557\ttotal: 1m 3s\tremaining: 32.2s\n",
      "664:\tlearn: 0.2229553\ttotal: 1m 3s\tremaining: 32.1s\n",
      "665:\tlearn: 0.2229547\ttotal: 1m 3s\tremaining: 32s\n",
      "666:\tlearn: 0.2229538\ttotal: 1m 3s\tremaining: 31.9s\n",
      "667:\tlearn: 0.2229533\ttotal: 1m 4s\tremaining: 31.8s\n",
      "668:\tlearn: 0.2229527\ttotal: 1m 4s\tremaining: 31.7s\n",
      "669:\tlearn: 0.2229521\ttotal: 1m 4s\tremaining: 31.6s\n",
      "670:\tlearn: 0.2229516\ttotal: 1m 4s\tremaining: 31.5s\n",
      "671:\tlearn: 0.2229509\ttotal: 1m 4s\tremaining: 31.4s\n",
      "672:\tlearn: 0.2229502\ttotal: 1m 4s\tremaining: 31.3s\n",
      "673:\tlearn: 0.2229494\ttotal: 1m 4s\tremaining: 31.2s\n",
      "674:\tlearn: 0.2229488\ttotal: 1m 4s\tremaining: 31.1s\n",
      "675:\tlearn: 0.2229483\ttotal: 1m 4s\tremaining: 31s\n",
      "676:\tlearn: 0.2229477\ttotal: 1m 4s\tremaining: 31s\n",
      "677:\tlearn: 0.2229470\ttotal: 1m 4s\tremaining: 30.9s\n",
      "678:\tlearn: 0.2229465\ttotal: 1m 5s\tremaining: 30.8s\n",
      "679:\tlearn: 0.2229459\ttotal: 1m 5s\tremaining: 30.7s\n",
      "680:\tlearn: 0.2229454\ttotal: 1m 5s\tremaining: 30.6s\n",
      "681:\tlearn: 0.2229447\ttotal: 1m 5s\tremaining: 30.5s\n",
      "682:\tlearn: 0.2229440\ttotal: 1m 5s\tremaining: 30.4s\n",
      "683:\tlearn: 0.2229436\ttotal: 1m 5s\tremaining: 30.3s\n",
      "684:\tlearn: 0.2229429\ttotal: 1m 5s\tremaining: 30.2s\n",
      "685:\tlearn: 0.2229423\ttotal: 1m 5s\tremaining: 30.1s\n",
      "686:\tlearn: 0.2229417\ttotal: 1m 5s\tremaining: 30s\n",
      "687:\tlearn: 0.2229411\ttotal: 1m 5s\tremaining: 29.9s\n",
      "688:\tlearn: 0.2229405\ttotal: 1m 5s\tremaining: 29.8s\n",
      "689:\tlearn: 0.2229400\ttotal: 1m 6s\tremaining: 29.7s\n",
      "690:\tlearn: 0.2229394\ttotal: 1m 6s\tremaining: 29.6s\n",
      "691:\tlearn: 0.2229389\ttotal: 1m 6s\tremaining: 29.5s\n",
      "692:\tlearn: 0.2229383\ttotal: 1m 6s\tremaining: 29.4s\n",
      "693:\tlearn: 0.2229377\ttotal: 1m 6s\tremaining: 29.3s\n",
      "694:\tlearn: 0.2229371\ttotal: 1m 6s\tremaining: 29.2s\n",
      "695:\tlearn: 0.2229366\ttotal: 1m 6s\tremaining: 29.1s\n",
      "696:\tlearn: 0.2229359\ttotal: 1m 6s\tremaining: 29s\n",
      "697:\tlearn: 0.2229353\ttotal: 1m 6s\tremaining: 28.9s\n",
      "698:\tlearn: 0.2229347\ttotal: 1m 6s\tremaining: 28.8s\n",
      "699:\tlearn: 0.2229343\ttotal: 1m 7s\tremaining: 28.7s\n",
      "700:\tlearn: 0.2229336\ttotal: 1m 7s\tremaining: 28.6s\n",
      "701:\tlearn: 0.2229329\ttotal: 1m 7s\tremaining: 28.5s\n",
      "702:\tlearn: 0.2229323\ttotal: 1m 7s\tremaining: 28.4s\n",
      "703:\tlearn: 0.2229319\ttotal: 1m 7s\tremaining: 28.4s\n",
      "704:\tlearn: 0.2229313\ttotal: 1m 7s\tremaining: 28.3s\n",
      "705:\tlearn: 0.2229308\ttotal: 1m 7s\tremaining: 28.2s\n",
      "706:\tlearn: 0.2229302\ttotal: 1m 7s\tremaining: 28.1s\n",
      "707:\tlearn: 0.2229297\ttotal: 1m 7s\tremaining: 28s\n",
      "708:\tlearn: 0.2229290\ttotal: 1m 7s\tremaining: 27.9s\n",
      "709:\tlearn: 0.2229285\ttotal: 1m 8s\tremaining: 27.8s\n",
      "710:\tlearn: 0.2229280\ttotal: 1m 8s\tremaining: 27.7s\n",
      "711:\tlearn: 0.2229274\ttotal: 1m 8s\tremaining: 27.6s\n",
      "712:\tlearn: 0.2229265\ttotal: 1m 8s\tremaining: 27.5s\n",
      "713:\tlearn: 0.2229259\ttotal: 1m 8s\tremaining: 27.4s\n",
      "714:\tlearn: 0.2229254\ttotal: 1m 8s\tremaining: 27.3s\n",
      "715:\tlearn: 0.2229249\ttotal: 1m 8s\tremaining: 27.2s\n",
      "716:\tlearn: 0.2229245\ttotal: 1m 8s\tremaining: 27.1s\n",
      "717:\tlearn: 0.2229238\ttotal: 1m 8s\tremaining: 27s\n",
      "718:\tlearn: 0.2229231\ttotal: 1m 8s\tremaining: 26.9s\n",
      "719:\tlearn: 0.2229227\ttotal: 1m 8s\tremaining: 26.8s\n",
      "720:\tlearn: 0.2229220\ttotal: 1m 9s\tremaining: 26.7s\n",
      "721:\tlearn: 0.2229215\ttotal: 1m 9s\tremaining: 26.6s\n",
      "722:\tlearn: 0.2229210\ttotal: 1m 9s\tremaining: 26.5s\n",
      "723:\tlearn: 0.2229204\ttotal: 1m 9s\tremaining: 26.4s\n",
      "724:\tlearn: 0.2229199\ttotal: 1m 9s\tremaining: 26.3s\n",
      "725:\tlearn: 0.2229192\ttotal: 1m 9s\tremaining: 26.2s\n",
      "726:\tlearn: 0.2229186\ttotal: 1m 9s\tremaining: 26.1s\n",
      "727:\tlearn: 0.2229179\ttotal: 1m 9s\tremaining: 26s\n",
      "728:\tlearn: 0.2229173\ttotal: 1m 9s\tremaining: 25.9s\n",
      "729:\tlearn: 0.2229167\ttotal: 1m 9s\tremaining: 25.8s\n",
      "730:\tlearn: 0.2229160\ttotal: 1m 9s\tremaining: 25.8s\n",
      "731:\tlearn: 0.2229155\ttotal: 1m 10s\tremaining: 25.7s\n",
      "732:\tlearn: 0.2229149\ttotal: 1m 10s\tremaining: 25.6s\n",
      "733:\tlearn: 0.2229145\ttotal: 1m 10s\tremaining: 25.5s\n",
      "734:\tlearn: 0.2229137\ttotal: 1m 10s\tremaining: 25.4s\n",
      "735:\tlearn: 0.2229131\ttotal: 1m 10s\tremaining: 25.3s\n",
      "736:\tlearn: 0.2229126\ttotal: 1m 10s\tremaining: 25.2s\n",
      "737:\tlearn: 0.2229121\ttotal: 1m 10s\tremaining: 25.1s\n",
      "738:\tlearn: 0.2229114\ttotal: 1m 10s\tremaining: 25s\n",
      "739:\tlearn: 0.2229109\ttotal: 1m 10s\tremaining: 24.9s\n",
      "740:\tlearn: 0.2229102\ttotal: 1m 10s\tremaining: 24.8s\n",
      "741:\tlearn: 0.2229097\ttotal: 1m 11s\tremaining: 24.7s\n",
      "742:\tlearn: 0.2229091\ttotal: 1m 11s\tremaining: 24.6s\n",
      "743:\tlearn: 0.2229086\ttotal: 1m 11s\tremaining: 24.5s\n",
      "744:\tlearn: 0.2229081\ttotal: 1m 11s\tremaining: 24.4s\n",
      "745:\tlearn: 0.2229074\ttotal: 1m 11s\tremaining: 24.3s\n",
      "746:\tlearn: 0.2229070\ttotal: 1m 11s\tremaining: 24.2s\n",
      "747:\tlearn: 0.2229063\ttotal: 1m 11s\tremaining: 24.1s\n",
      "748:\tlearn: 0.2229058\ttotal: 1m 11s\tremaining: 24s\n",
      "749:\tlearn: 0.2229051\ttotal: 1m 11s\tremaining: 23.9s\n",
      "750:\tlearn: 0.2229046\ttotal: 1m 11s\tremaining: 23.8s\n",
      "751:\tlearn: 0.2229040\ttotal: 1m 11s\tremaining: 23.7s\n",
      "752:\tlearn: 0.2229036\ttotal: 1m 12s\tremaining: 23.6s\n",
      "753:\tlearn: 0.2229030\ttotal: 1m 12s\tremaining: 23.5s\n",
      "754:\tlearn: 0.2229022\ttotal: 1m 12s\tremaining: 23.4s\n",
      "755:\tlearn: 0.2229017\ttotal: 1m 12s\tremaining: 23.4s\n",
      "756:\tlearn: 0.2229013\ttotal: 1m 12s\tremaining: 23.3s\n",
      "757:\tlearn: 0.2229009\ttotal: 1m 12s\tremaining: 23.2s\n",
      "758:\tlearn: 0.2229005\ttotal: 1m 12s\tremaining: 23.1s\n",
      "759:\tlearn: 0.2228999\ttotal: 1m 12s\tremaining: 23s\n",
      "760:\tlearn: 0.2228994\ttotal: 1m 12s\tremaining: 22.9s\n",
      "761:\tlearn: 0.2228989\ttotal: 1m 12s\tremaining: 22.8s\n",
      "762:\tlearn: 0.2228985\ttotal: 1m 13s\tremaining: 22.7s\n",
      "763:\tlearn: 0.2228978\ttotal: 1m 13s\tremaining: 22.6s\n",
      "764:\tlearn: 0.2228974\ttotal: 1m 13s\tremaining: 22.5s\n",
      "765:\tlearn: 0.2228968\ttotal: 1m 13s\tremaining: 22.4s\n",
      "766:\tlearn: 0.2228962\ttotal: 1m 13s\tremaining: 22.3s\n",
      "767:\tlearn: 0.2228957\ttotal: 1m 13s\tremaining: 22.2s\n",
      "768:\tlearn: 0.2228951\ttotal: 1m 13s\tremaining: 22.1s\n",
      "769:\tlearn: 0.2228947\ttotal: 1m 13s\tremaining: 22s\n",
      "770:\tlearn: 0.2228942\ttotal: 1m 13s\tremaining: 21.9s\n",
      "771:\tlearn: 0.2228937\ttotal: 1m 13s\tremaining: 21.8s\n",
      "772:\tlearn: 0.2228931\ttotal: 1m 13s\tremaining: 21.7s\n",
      "773:\tlearn: 0.2228925\ttotal: 1m 14s\tremaining: 21.6s\n",
      "774:\tlearn: 0.2228919\ttotal: 1m 14s\tremaining: 21.5s\n",
      "775:\tlearn: 0.2228913\ttotal: 1m 14s\tremaining: 21.4s\n",
      "776:\tlearn: 0.2228906\ttotal: 1m 14s\tremaining: 21.3s\n",
      "777:\tlearn: 0.2228901\ttotal: 1m 14s\tremaining: 21.2s\n",
      "778:\tlearn: 0.2228896\ttotal: 1m 14s\tremaining: 21.2s\n",
      "779:\tlearn: 0.2228891\ttotal: 1m 14s\tremaining: 21.1s\n",
      "780:\tlearn: 0.2228884\ttotal: 1m 14s\tremaining: 21s\n",
      "781:\tlearn: 0.2228879\ttotal: 1m 14s\tremaining: 20.9s\n",
      "782:\tlearn: 0.2228875\ttotal: 1m 14s\tremaining: 20.8s\n",
      "783:\tlearn: 0.2228869\ttotal: 1m 15s\tremaining: 20.7s\n",
      "784:\tlearn: 0.2228864\ttotal: 1m 15s\tremaining: 20.6s\n",
      "785:\tlearn: 0.2228859\ttotal: 1m 15s\tremaining: 20.5s\n",
      "786:\tlearn: 0.2228853\ttotal: 1m 15s\tremaining: 20.4s\n",
      "787:\tlearn: 0.2228848\ttotal: 1m 15s\tremaining: 20.3s\n",
      "788:\tlearn: 0.2228842\ttotal: 1m 15s\tremaining: 20.2s\n",
      "789:\tlearn: 0.2228836\ttotal: 1m 15s\tremaining: 20.1s\n",
      "790:\tlearn: 0.2228831\ttotal: 1m 15s\tremaining: 20s\n",
      "791:\tlearn: 0.2228826\ttotal: 1m 15s\tremaining: 19.9s\n",
      "792:\tlearn: 0.2228821\ttotal: 1m 15s\tremaining: 19.8s\n",
      "793:\tlearn: 0.2228817\ttotal: 1m 15s\tremaining: 19.7s\n",
      "794:\tlearn: 0.2228811\ttotal: 1m 16s\tremaining: 19.6s\n",
      "795:\tlearn: 0.2228804\ttotal: 1m 16s\tremaining: 19.5s\n",
      "796:\tlearn: 0.2228799\ttotal: 1m 16s\tremaining: 19.4s\n",
      "797:\tlearn: 0.2228791\ttotal: 1m 16s\tremaining: 19.3s\n",
      "798:\tlearn: 0.2228787\ttotal: 1m 16s\tremaining: 19.2s\n",
      "799:\tlearn: 0.2228782\ttotal: 1m 16s\tremaining: 19.1s\n",
      "800:\tlearn: 0.2228776\ttotal: 1m 16s\tremaining: 19s\n",
      "801:\tlearn: 0.2228769\ttotal: 1m 16s\tremaining: 18.9s\n",
      "802:\tlearn: 0.2228763\ttotal: 1m 16s\tremaining: 18.8s\n",
      "803:\tlearn: 0.2228758\ttotal: 1m 16s\tremaining: 18.8s\n",
      "804:\tlearn: 0.2228753\ttotal: 1m 17s\tremaining: 18.7s\n",
      "805:\tlearn: 0.2228748\ttotal: 1m 17s\tremaining: 18.6s\n",
      "806:\tlearn: 0.2228743\ttotal: 1m 17s\tremaining: 18.5s\n",
      "807:\tlearn: 0.2228736\ttotal: 1m 17s\tremaining: 18.4s\n",
      "808:\tlearn: 0.2228729\ttotal: 1m 17s\tremaining: 18.3s\n",
      "809:\tlearn: 0.2228723\ttotal: 1m 17s\tremaining: 18.2s\n",
      "810:\tlearn: 0.2228719\ttotal: 1m 17s\tremaining: 18.1s\n",
      "811:\tlearn: 0.2228713\ttotal: 1m 17s\tremaining: 18s\n",
      "812:\tlearn: 0.2228707\ttotal: 1m 17s\tremaining: 17.9s\n",
      "813:\tlearn: 0.2228701\ttotal: 1m 17s\tremaining: 17.8s\n",
      "814:\tlearn: 0.2228696\ttotal: 1m 17s\tremaining: 17.7s\n",
      "815:\tlearn: 0.2228691\ttotal: 1m 18s\tremaining: 17.6s\n",
      "816:\tlearn: 0.2228686\ttotal: 1m 18s\tremaining: 17.5s\n",
      "817:\tlearn: 0.2228679\ttotal: 1m 18s\tremaining: 17.4s\n",
      "818:\tlearn: 0.2228675\ttotal: 1m 18s\tremaining: 17.3s\n",
      "819:\tlearn: 0.2228668\ttotal: 1m 18s\tremaining: 17.2s\n",
      "820:\tlearn: 0.2228663\ttotal: 1m 18s\tremaining: 17.1s\n",
      "821:\tlearn: 0.2228656\ttotal: 1m 18s\tremaining: 17s\n",
      "822:\tlearn: 0.2228651\ttotal: 1m 18s\tremaining: 16.9s\n",
      "823:\tlearn: 0.2228646\ttotal: 1m 18s\tremaining: 16.8s\n",
      "824:\tlearn: 0.2228640\ttotal: 1m 18s\tremaining: 16.7s\n",
      "825:\tlearn: 0.2228633\ttotal: 1m 19s\tremaining: 16.6s\n",
      "826:\tlearn: 0.2228629\ttotal: 1m 19s\tremaining: 16.5s\n",
      "827:\tlearn: 0.2228624\ttotal: 1m 19s\tremaining: 16.5s\n",
      "828:\tlearn: 0.2228618\ttotal: 1m 19s\tremaining: 16.4s\n",
      "829:\tlearn: 0.2228614\ttotal: 1m 19s\tremaining: 16.3s\n",
      "830:\tlearn: 0.2228608\ttotal: 1m 19s\tremaining: 16.2s\n",
      "831:\tlearn: 0.2228602\ttotal: 1m 19s\tremaining: 16.1s\n",
      "832:\tlearn: 0.2228595\ttotal: 1m 19s\tremaining: 16s\n",
      "833:\tlearn: 0.2228590\ttotal: 1m 19s\tremaining: 15.9s\n",
      "834:\tlearn: 0.2228585\ttotal: 1m 19s\tremaining: 15.8s\n",
      "835:\tlearn: 0.2228579\ttotal: 1m 19s\tremaining: 15.7s\n",
      "836:\tlearn: 0.2228573\ttotal: 1m 20s\tremaining: 15.6s\n",
      "837:\tlearn: 0.2228568\ttotal: 1m 20s\tremaining: 15.5s\n",
      "838:\tlearn: 0.2228563\ttotal: 1m 20s\tremaining: 15.4s\n",
      "839:\tlearn: 0.2228559\ttotal: 1m 20s\tremaining: 15.3s\n",
      "840:\tlearn: 0.2228553\ttotal: 1m 20s\tremaining: 15.2s\n",
      "841:\tlearn: 0.2228545\ttotal: 1m 20s\tremaining: 15.1s\n",
      "842:\tlearn: 0.2228539\ttotal: 1m 20s\tremaining: 15s\n",
      "843:\tlearn: 0.2228533\ttotal: 1m 20s\tremaining: 14.9s\n",
      "844:\tlearn: 0.2228528\ttotal: 1m 20s\tremaining: 14.8s\n",
      "845:\tlearn: 0.2228521\ttotal: 1m 20s\tremaining: 14.7s\n",
      "846:\tlearn: 0.2228516\ttotal: 1m 21s\tremaining: 14.6s\n",
      "847:\tlearn: 0.2228511\ttotal: 1m 21s\tremaining: 14.5s\n",
      "848:\tlearn: 0.2228507\ttotal: 1m 21s\tremaining: 14.4s\n",
      "849:\tlearn: 0.2228501\ttotal: 1m 21s\tremaining: 14.3s\n",
      "850:\tlearn: 0.2228495\ttotal: 1m 21s\tremaining: 14.3s\n",
      "851:\tlearn: 0.2228490\ttotal: 1m 21s\tremaining: 14.2s\n",
      "852:\tlearn: 0.2228483\ttotal: 1m 21s\tremaining: 14.1s\n",
      "853:\tlearn: 0.2228478\ttotal: 1m 21s\tremaining: 14s\n",
      "854:\tlearn: 0.2228472\ttotal: 1m 21s\tremaining: 13.9s\n",
      "855:\tlearn: 0.2228466\ttotal: 1m 21s\tremaining: 13.8s\n",
      "856:\tlearn: 0.2228461\ttotal: 1m 21s\tremaining: 13.7s\n",
      "857:\tlearn: 0.2228455\ttotal: 1m 22s\tremaining: 13.6s\n",
      "858:\tlearn: 0.2228450\ttotal: 1m 22s\tremaining: 13.5s\n",
      "859:\tlearn: 0.2228444\ttotal: 1m 22s\tremaining: 13.4s\n",
      "860:\tlearn: 0.2228439\ttotal: 1m 22s\tremaining: 13.3s\n",
      "861:\tlearn: 0.2228434\ttotal: 1m 22s\tremaining: 13.2s\n",
      "862:\tlearn: 0.2228429\ttotal: 1m 22s\tremaining: 13.1s\n",
      "863:\tlearn: 0.2228424\ttotal: 1m 22s\tremaining: 13s\n",
      "864:\tlearn: 0.2228418\ttotal: 1m 22s\tremaining: 12.9s\n",
      "865:\tlearn: 0.2228413\ttotal: 1m 22s\tremaining: 12.8s\n",
      "866:\tlearn: 0.2228408\ttotal: 1m 22s\tremaining: 12.7s\n",
      "867:\tlearn: 0.2228401\ttotal: 1m 23s\tremaining: 12.6s\n",
      "868:\tlearn: 0.2228396\ttotal: 1m 23s\tremaining: 12.5s\n",
      "869:\tlearn: 0.2228390\ttotal: 1m 23s\tremaining: 12.4s\n",
      "870:\tlearn: 0.2228384\ttotal: 1m 23s\tremaining: 12.3s\n",
      "871:\tlearn: 0.2228380\ttotal: 1m 23s\tremaining: 12.2s\n",
      "872:\tlearn: 0.2228375\ttotal: 1m 23s\tremaining: 12.1s\n",
      "873:\tlearn: 0.2228370\ttotal: 1m 23s\tremaining: 12.1s\n",
      "874:\tlearn: 0.2228364\ttotal: 1m 23s\tremaining: 12s\n",
      "875:\tlearn: 0.2228358\ttotal: 1m 23s\tremaining: 11.9s\n",
      "876:\tlearn: 0.2228353\ttotal: 1m 23s\tremaining: 11.8s\n",
      "877:\tlearn: 0.2228348\ttotal: 1m 23s\tremaining: 11.7s\n",
      "878:\tlearn: 0.2228342\ttotal: 1m 24s\tremaining: 11.6s\n",
      "879:\tlearn: 0.2228337\ttotal: 1m 24s\tremaining: 11.5s\n",
      "880:\tlearn: 0.2228331\ttotal: 1m 24s\tremaining: 11.4s\n",
      "881:\tlearn: 0.2228327\ttotal: 1m 24s\tremaining: 11.3s\n",
      "882:\tlearn: 0.2228322\ttotal: 1m 24s\tremaining: 11.2s\n",
      "883:\tlearn: 0.2228316\ttotal: 1m 24s\tremaining: 11.1s\n",
      "884:\tlearn: 0.2228312\ttotal: 1m 24s\tremaining: 11s\n",
      "885:\tlearn: 0.2228306\ttotal: 1m 24s\tremaining: 10.9s\n",
      "886:\tlearn: 0.2228298\ttotal: 1m 24s\tremaining: 10.8s\n",
      "887:\tlearn: 0.2228293\ttotal: 1m 24s\tremaining: 10.7s\n",
      "888:\tlearn: 0.2228287\ttotal: 1m 24s\tremaining: 10.6s\n",
      "889:\tlearn: 0.2228282\ttotal: 1m 25s\tremaining: 10.5s\n",
      "890:\tlearn: 0.2228276\ttotal: 1m 25s\tremaining: 10.4s\n",
      "891:\tlearn: 0.2228271\ttotal: 1m 25s\tremaining: 10.3s\n",
      "892:\tlearn: 0.2228264\ttotal: 1m 25s\tremaining: 10.2s\n",
      "893:\tlearn: 0.2228257\ttotal: 1m 25s\tremaining: 10.1s\n",
      "894:\tlearn: 0.2228252\ttotal: 1m 25s\tremaining: 10s\n",
      "895:\tlearn: 0.2228247\ttotal: 1m 25s\tremaining: 9.94s\n",
      "896:\tlearn: 0.2228240\ttotal: 1m 25s\tremaining: 9.84s\n",
      "897:\tlearn: 0.2228235\ttotal: 1m 25s\tremaining: 9.75s\n",
      "898:\tlearn: 0.2228229\ttotal: 1m 25s\tremaining: 9.65s\n",
      "899:\tlearn: 0.2228224\ttotal: 1m 25s\tremaining: 9.55s\n",
      "900:\tlearn: 0.2228217\ttotal: 1m 26s\tremaining: 9.46s\n",
      "901:\tlearn: 0.2228212\ttotal: 1m 26s\tremaining: 9.36s\n",
      "902:\tlearn: 0.2228206\ttotal: 1m 26s\tremaining: 9.26s\n",
      "903:\tlearn: 0.2228200\ttotal: 1m 26s\tremaining: 9.17s\n",
      "904:\tlearn: 0.2228196\ttotal: 1m 26s\tremaining: 9.07s\n",
      "905:\tlearn: 0.2228189\ttotal: 1m 26s\tremaining: 8.97s\n",
      "906:\tlearn: 0.2228186\ttotal: 1m 26s\tremaining: 8.88s\n",
      "907:\tlearn: 0.2228180\ttotal: 1m 26s\tremaining: 8.78s\n",
      "908:\tlearn: 0.2228174\ttotal: 1m 26s\tremaining: 8.69s\n",
      "909:\tlearn: 0.2228170\ttotal: 1m 26s\tremaining: 8.59s\n",
      "910:\tlearn: 0.2228163\ttotal: 1m 27s\tremaining: 8.5s\n",
      "911:\tlearn: 0.2228159\ttotal: 1m 27s\tremaining: 8.4s\n",
      "912:\tlearn: 0.2228152\ttotal: 1m 27s\tremaining: 8.31s\n",
      "913:\tlearn: 0.2228147\ttotal: 1m 27s\tremaining: 8.21s\n",
      "914:\tlearn: 0.2228141\ttotal: 1m 27s\tremaining: 8.12s\n",
      "915:\tlearn: 0.2228137\ttotal: 1m 27s\tremaining: 8.02s\n",
      "916:\tlearn: 0.2228133\ttotal: 1m 27s\tremaining: 7.92s\n",
      "917:\tlearn: 0.2228127\ttotal: 1m 27s\tremaining: 7.83s\n",
      "918:\tlearn: 0.2228121\ttotal: 1m 27s\tremaining: 7.73s\n",
      "919:\tlearn: 0.2228116\ttotal: 1m 27s\tremaining: 7.63s\n",
      "920:\tlearn: 0.2228109\ttotal: 1m 27s\tremaining: 7.54s\n",
      "921:\tlearn: 0.2228105\ttotal: 1m 27s\tremaining: 7.44s\n",
      "922:\tlearn: 0.2228099\ttotal: 1m 28s\tremaining: 7.35s\n",
      "923:\tlearn: 0.2228093\ttotal: 1m 28s\tremaining: 7.25s\n",
      "924:\tlearn: 0.2228088\ttotal: 1m 28s\tremaining: 7.16s\n",
      "925:\tlearn: 0.2228081\ttotal: 1m 28s\tremaining: 7.06s\n",
      "926:\tlearn: 0.2228076\ttotal: 1m 28s\tremaining: 6.97s\n",
      "927:\tlearn: 0.2228073\ttotal: 1m 28s\tremaining: 6.87s\n",
      "928:\tlearn: 0.2228066\ttotal: 1m 28s\tremaining: 6.77s\n",
      "929:\tlearn: 0.2228061\ttotal: 1m 28s\tremaining: 6.68s\n",
      "930:\tlearn: 0.2228056\ttotal: 1m 28s\tremaining: 6.58s\n",
      "931:\tlearn: 0.2228050\ttotal: 1m 28s\tremaining: 6.49s\n",
      "932:\tlearn: 0.2228045\ttotal: 1m 28s\tremaining: 6.39s\n",
      "933:\tlearn: 0.2228040\ttotal: 1m 29s\tremaining: 6.29s\n",
      "934:\tlearn: 0.2228033\ttotal: 1m 29s\tremaining: 6.2s\n",
      "935:\tlearn: 0.2228027\ttotal: 1m 29s\tremaining: 6.1s\n",
      "936:\tlearn: 0.2228022\ttotal: 1m 29s\tremaining: 6.01s\n",
      "937:\tlearn: 0.2228016\ttotal: 1m 29s\tremaining: 5.91s\n",
      "938:\tlearn: 0.2228010\ttotal: 1m 29s\tremaining: 5.82s\n",
      "939:\tlearn: 0.2228006\ttotal: 1m 29s\tremaining: 5.72s\n",
      "940:\tlearn: 0.2228000\ttotal: 1m 29s\tremaining: 5.63s\n",
      "941:\tlearn: 0.2227996\ttotal: 1m 29s\tremaining: 5.53s\n",
      "942:\tlearn: 0.2227990\ttotal: 1m 29s\tremaining: 5.44s\n",
      "943:\tlearn: 0.2227985\ttotal: 1m 30s\tremaining: 5.34s\n",
      "944:\tlearn: 0.2227979\ttotal: 1m 30s\tremaining: 5.25s\n",
      "945:\tlearn: 0.2227974\ttotal: 1m 30s\tremaining: 5.15s\n",
      "946:\tlearn: 0.2227968\ttotal: 1m 30s\tremaining: 5.05s\n",
      "947:\tlearn: 0.2227962\ttotal: 1m 30s\tremaining: 4.96s\n",
      "948:\tlearn: 0.2227956\ttotal: 1m 30s\tremaining: 4.86s\n",
      "949:\tlearn: 0.2227950\ttotal: 1m 30s\tremaining: 4.77s\n",
      "950:\tlearn: 0.2227947\ttotal: 1m 30s\tremaining: 4.67s\n",
      "951:\tlearn: 0.2227941\ttotal: 1m 30s\tremaining: 4.58s\n",
      "952:\tlearn: 0.2227934\ttotal: 1m 30s\tremaining: 4.48s\n",
      "953:\tlearn: 0.2227931\ttotal: 1m 30s\tremaining: 4.39s\n",
      "954:\tlearn: 0.2227926\ttotal: 1m 31s\tremaining: 4.29s\n",
      "955:\tlearn: 0.2227920\ttotal: 1m 31s\tremaining: 4.2s\n",
      "956:\tlearn: 0.2227915\ttotal: 1m 31s\tremaining: 4.1s\n",
      "957:\tlearn: 0.2227910\ttotal: 1m 31s\tremaining: 4s\n",
      "958:\tlearn: 0.2227905\ttotal: 1m 31s\tremaining: 3.91s\n",
      "959:\tlearn: 0.2227900\ttotal: 1m 31s\tremaining: 3.81s\n",
      "960:\tlearn: 0.2227894\ttotal: 1m 31s\tremaining: 3.72s\n",
      "961:\tlearn: 0.2227889\ttotal: 1m 31s\tremaining: 3.62s\n",
      "962:\tlearn: 0.2227884\ttotal: 1m 31s\tremaining: 3.53s\n",
      "963:\tlearn: 0.2227879\ttotal: 1m 31s\tremaining: 3.43s\n",
      "964:\tlearn: 0.2227876\ttotal: 1m 32s\tremaining: 3.34s\n",
      "965:\tlearn: 0.2227871\ttotal: 1m 32s\tremaining: 3.24s\n",
      "966:\tlearn: 0.2227865\ttotal: 1m 32s\tremaining: 3.15s\n",
      "967:\tlearn: 0.2227860\ttotal: 1m 32s\tremaining: 3.05s\n",
      "968:\tlearn: 0.2227856\ttotal: 1m 32s\tremaining: 2.96s\n",
      "969:\tlearn: 0.2227849\ttotal: 1m 32s\tremaining: 2.86s\n",
      "970:\tlearn: 0.2227845\ttotal: 1m 32s\tremaining: 2.77s\n",
      "971:\tlearn: 0.2227840\ttotal: 1m 32s\tremaining: 2.67s\n",
      "972:\tlearn: 0.2227834\ttotal: 1m 32s\tremaining: 2.58s\n",
      "973:\tlearn: 0.2227828\ttotal: 1m 32s\tremaining: 2.48s\n",
      "974:\tlearn: 0.2227825\ttotal: 1m 33s\tremaining: 2.38s\n",
      "975:\tlearn: 0.2227818\ttotal: 1m 33s\tremaining: 2.29s\n",
      "976:\tlearn: 0.2227814\ttotal: 1m 33s\tremaining: 2.19s\n",
      "977:\tlearn: 0.2227808\ttotal: 1m 33s\tremaining: 2.1s\n",
      "978:\tlearn: 0.2227803\ttotal: 1m 33s\tremaining: 2s\n",
      "979:\tlearn: 0.2227798\ttotal: 1m 33s\tremaining: 1.91s\n",
      "980:\tlearn: 0.2227792\ttotal: 1m 33s\tremaining: 1.81s\n",
      "981:\tlearn: 0.2227787\ttotal: 1m 33s\tremaining: 1.72s\n",
      "982:\tlearn: 0.2227780\ttotal: 1m 33s\tremaining: 1.62s\n",
      "983:\tlearn: 0.2227776\ttotal: 1m 33s\tremaining: 1.53s\n",
      "984:\tlearn: 0.2227771\ttotal: 1m 33s\tremaining: 1.43s\n",
      "985:\tlearn: 0.2227767\ttotal: 1m 34s\tremaining: 1.33s\n",
      "986:\tlearn: 0.2227761\ttotal: 1m 34s\tremaining: 1.24s\n",
      "987:\tlearn: 0.2227756\ttotal: 1m 34s\tremaining: 1.14s\n",
      "988:\tlearn: 0.2227750\ttotal: 1m 34s\tremaining: 1.05s\n",
      "989:\tlearn: 0.2227745\ttotal: 1m 34s\tremaining: 954ms\n",
      "990:\tlearn: 0.2227739\ttotal: 1m 34s\tremaining: 859ms\n",
      "991:\tlearn: 0.2227732\ttotal: 1m 34s\tremaining: 763ms\n",
      "992:\tlearn: 0.2227726\ttotal: 1m 34s\tremaining: 668ms\n",
      "993:\tlearn: 0.2227721\ttotal: 1m 34s\tremaining: 573ms\n",
      "994:\tlearn: 0.2227716\ttotal: 1m 34s\tremaining: 477ms\n",
      "995:\tlearn: 0.2227710\ttotal: 1m 35s\tremaining: 382ms\n",
      "996:\tlearn: 0.2227704\ttotal: 1m 35s\tremaining: 286ms\n",
      "997:\tlearn: 0.2227698\ttotal: 1m 35s\tremaining: 191ms\n",
      "998:\tlearn: 0.2227692\ttotal: 1m 35s\tremaining: 95.4ms\n",
      "999:\tlearn: 0.2227687\ttotal: 1m 35s\tremaining: 0us\n"
     ]
    }
   ],
   "source": [
    "import catboost\n",
    "import pandas as pd\n",
    "import numpy as np\n",
    "import plotly_express as px\n",
    "from scipy import stats\n",
    "\n",
    "trainset = pd.read_parquet(\"data/numerai_training_data.parquet\")\n",
    "validset = pd.read_parquet(\"data/numerai_validation_data.parquet\")\n",
    "feature_names = [f for f in trainset.columns if \"feature_\" in f]\n",
    "\n",
    "params = {\n",
    "    \"iterations\":1000,\n",
    "    \"learning_rate\":0.01,\n",
    "    \"depth\":6,\n",
    "    \"task_type\":'GPU',\n",
    "}\n",
    "\n",
    "model = catboost.CatBoostRegressor(**params)\n",
    "model.fit(trainset[feature_names], trainset[\"target\"])\n",
    "validset[\"base_preds\"] = model.predict(validset[feature_names])"
   ]
  },
  {
   "cell_type": "code",
   "execution_count": 19,
   "metadata": {},
   "outputs": [],
   "source": [
    "def get_biggest_change_features(corrs, n):\n",
    "    all_eras = corrs.index.sort_values()\n",
    "    h1_eras = all_eras[:len(all_eras) // 2]\n",
    "    h2_eras = all_eras[len(all_eras) // 2:]\n",
    "\n",
    "    h1_corr_means = corrs.loc[h1_eras, :].mean()\n",
    "    h2_corr_means = corrs.loc[h2_eras, :].mean()\n",
    "\n",
    "    corr_diffs = h2_corr_means - h1_corr_means\n",
    "    worst_n = corr_diffs.abs().sort_values(ascending=False).head(n).index.tolist()\n",
    "    return worst_n\n",
    "    \n",
    "def neutralize(df,\n",
    "               columns,\n",
    "               neutralizers=None,\n",
    "               proportion=1.0,\n",
    "               normalize=True,\n",
    "               era_col=\"era\"):\n",
    "    if neutralizers is None:\n",
    "        neutralizers = []\n",
    "    unique_eras = df[era_col].unique()\n",
    "    computed = []\n",
    "    for u in unique_eras:\n",
    "        df_era = df[df[era_col] == u]\n",
    "        scores = df_era[columns].values\n",
    "        if normalize:\n",
    "            scores2 = []\n",
    "            for x in scores.T:\n",
    "                x = (stats.rankdata(x, method='ordinal') - .5) / len(x)\n",
    "                x = stats.norm.ppf(x)\n",
    "                scores2.append(x)\n",
    "            scores = np.array(scores2).T\n",
    "        exposures = df_era[neutralizers].values\n",
    "\n",
    "        scores -= proportion * exposures.dot(\n",
    "            np.linalg.pinv(exposures.astype(np.float32)).dot(scores.astype(np.float32)))\n",
    "\n",
    "        scores /= scores.std(ddof=0)\n",
    "\n",
    "        computed.append(scores)\n",
    "\n",
    "    return pd.DataFrame(np.concatenate(computed),\n",
    "                        columns=columns,\n",
    "                        index=df.index)"
   ]
  },
  {
   "cell_type": "code",
   "execution_count": 29,
   "metadata": {},
   "outputs": [],
   "source": [
    "neutralization_proportions = [0.1, 0.2, 0.3, 0.4, 0.5, 0.6, 0.7, 0.8, 0.9, 1]\n",
    "n_riskiests = [20, 50, 150, 300, 500, 700, 900, len(feature_names)]\n",
    "\n",
    "all_feature_corrs = validset.groupby(\"era\").apply(\n",
    "    lambda era: era[feature_names].corrwith(era[\"base_preds\"])\n",
    ")\n",
    "\n",
    "y_corr_outputs = []\n",
    "y_sharpe_outputs = []\n",
    "for i, neutralization_proportion in enumerate(neutralization_proportions):\n",
    "    x_corr_outputs = []\n",
    "    x_sharpe_outputs = []\n",
    "    for j, n_riskiest in enumerate(n_riskiests):\n",
    "        riskiest_features = get_biggest_change_features(all_feature_corrs, n_riskiest)\n",
    "        validset[\"modified_preds\"] = neutralize(\n",
    "            validset,\n",
    "            [\"base_preds\"],\n",
    "            neutralizers=riskiest_features,\n",
    "            proportion=neutralization_proportion,\n",
    "            normalize=True,\n",
    "        )\n",
    "\n",
    "        era_wise_correlations = validset.groupby(\"era\").apply(\n",
    "            lambda era: np.corrcoef(era[\"modified_preds\"], era[\"target\"])[0, 1]\n",
    "        )\n",
    "        mean_corr = era_wise_correlations.mean()\n",
    "        # calculate sharpe ratio\n",
    "        sharpe_ratio = (mean_corr) / era_wise_correlations.std()\n",
    "\n",
    "        x_corr_outputs.append(mean_corr)\n",
    "        x_sharpe_outputs.append(sharpe_ratio)\n",
    "\n",
    "    y_corr_outputs.append(x_corr_outputs)\n",
    "    y_sharpe_outputs.append(x_sharpe_outputs)\n",
    "        "
   ]
  },
  {
   "cell_type": "code",
   "execution_count": 34,
   "metadata": {},
   "outputs": [
    {
     "data": {
      "application/vnd.plotly.v1+json": {
       "config": {
        "plotlyServerURL": "https://plot.ly"
       },
       "data": [
        {
         "coloraxis": "coloraxis",
         "hovertemplate": "Risky Features: %{x}<br>Neutralization Proportion: %{y}<br>color: %{z}<extra></extra>",
         "name": "0",
         "type": "heatmap",
         "x": [
          20,
          50,
          150,
          300,
          500,
          700,
          900,
          1050
         ],
         "xaxis": "x",
         "y": [
          0.1,
          0.2,
          0.3,
          0.4,
          0.5,
          0.6,
          0.7,
          0.8,
          0.9,
          1
         ],
         "yaxis": "y",
         "z": [
          [
           0.023301990646160328,
           0.023287126444245063,
           0.023454758345253113,
           0.023248726084116333,
           0.023418751683666632,
           0.023315714828065208,
           0.023274944201499538,
           0.02325592236892865
          ],
          [
           0.023579060635968555,
           0.023543353252596617,
           0.02387442576716944,
           0.023439996201799828,
           0.023834041827847242,
           0.0236245236017223,
           0.023540699563764065,
           0.023501800722766544
          ],
          [
           0.023836369814953254,
           0.02377226220391704,
           0.024256784981873038,
           0.02356207119838043,
           0.024230626492929414,
           0.02391225305646661,
           0.02378359579782354,
           0.023724284467845302
          ],
          [
           0.02407172537618663,
           0.023970037715404124,
           0.02459138760881784,
           0.023592586458446762,
           0.024569056440486525,
           0.024139134398864857,
           0.023964289445811485,
           0.023884299768180395
          ],
          [
           0.024283044865286093,
           0.024132998203106038,
           0.024867348439735707,
           0.023506838927251642,
           0.024784266073689935,
           0.024234872554729923,
           0.024011828049565337,
           0.023910522287706154
          ],
          [
           0.024468409508712125,
           0.024257729518300703,
           0.025073889376426087,
           0.023279580499416336,
           0.02477577132652939,
           0.02408144749246843,
           0.023803728768884768,
           0.023677804027187863
          ],
          [
           0.024626116612353508,
           0.024341224728192674,
           0.02520102578384405,
           0.022887850477974054,
           0.02440296693961607,
           0.023496932402766152,
           0.023144272286109543,
           0.02298194762421261
          ],
          [
           0.02475472958576095,
           0.024381021065490074,
           0.025240341389379837,
           0.022314651856950675,
           0.02349942557535149,
           0.022242682701571086,
           0.021765411463819925,
           0.021536236936701616
          ],
          [
           0.024853120108234185,
           0.024375322148754562,
           0.025185758699449275,
           0.021552810840337215,
           0.021923754992477645,
           0.020097579679874928,
           0.019406929451076815,
           0.019054865147154435
          ],
          [
           0.024920503427230182,
           0.02432309551886272,
           0.025034187925686218,
           0.020607920229748288,
           0.019643469397061655,
           0.01701765790538991,
           0.016013221557018405,
           0.015474841648957648
          ]
         ]
        }
       ],
       "layout": {
        "coloraxis": {
         "colorscale": [
          [
           0,
           "#0d0887"
          ],
          [
           0.1111111111111111,
           "#46039f"
          ],
          [
           0.2222222222222222,
           "#7201a8"
          ],
          [
           0.3333333333333333,
           "#9c179e"
          ],
          [
           0.4444444444444444,
           "#bd3786"
          ],
          [
           0.5555555555555556,
           "#d8576b"
          ],
          [
           0.6666666666666666,
           "#ed7953"
          ],
          [
           0.7777777777777778,
           "#fb9f3a"
          ],
          [
           0.8888888888888888,
           "#fdca26"
          ],
          [
           1,
           "#f0f921"
          ]
         ]
        },
        "height": 800,
        "template": {
         "data": {
          "bar": [
           {
            "error_x": {
             "color": "#2a3f5f"
            },
            "error_y": {
             "color": "#2a3f5f"
            },
            "marker": {
             "line": {
              "color": "#E5ECF6",
              "width": 0.5
             },
             "pattern": {
              "fillmode": "overlay",
              "size": 10,
              "solidity": 0.2
             }
            },
            "type": "bar"
           }
          ],
          "barpolar": [
           {
            "marker": {
             "line": {
              "color": "#E5ECF6",
              "width": 0.5
             },
             "pattern": {
              "fillmode": "overlay",
              "size": 10,
              "solidity": 0.2
             }
            },
            "type": "barpolar"
           }
          ],
          "carpet": [
           {
            "aaxis": {
             "endlinecolor": "#2a3f5f",
             "gridcolor": "white",
             "linecolor": "white",
             "minorgridcolor": "white",
             "startlinecolor": "#2a3f5f"
            },
            "baxis": {
             "endlinecolor": "#2a3f5f",
             "gridcolor": "white",
             "linecolor": "white",
             "minorgridcolor": "white",
             "startlinecolor": "#2a3f5f"
            },
            "type": "carpet"
           }
          ],
          "choropleth": [
           {
            "colorbar": {
             "outlinewidth": 0,
             "ticks": ""
            },
            "type": "choropleth"
           }
          ],
          "contour": [
           {
            "colorbar": {
             "outlinewidth": 0,
             "ticks": ""
            },
            "colorscale": [
             [
              0,
              "#0d0887"
             ],
             [
              0.1111111111111111,
              "#46039f"
             ],
             [
              0.2222222222222222,
              "#7201a8"
             ],
             [
              0.3333333333333333,
              "#9c179e"
             ],
             [
              0.4444444444444444,
              "#bd3786"
             ],
             [
              0.5555555555555556,
              "#d8576b"
             ],
             [
              0.6666666666666666,
              "#ed7953"
             ],
             [
              0.7777777777777778,
              "#fb9f3a"
             ],
             [
              0.8888888888888888,
              "#fdca26"
             ],
             [
              1,
              "#f0f921"
             ]
            ],
            "type": "contour"
           }
          ],
          "contourcarpet": [
           {
            "colorbar": {
             "outlinewidth": 0,
             "ticks": ""
            },
            "type": "contourcarpet"
           }
          ],
          "heatmap": [
           {
            "colorbar": {
             "outlinewidth": 0,
             "ticks": ""
            },
            "colorscale": [
             [
              0,
              "#0d0887"
             ],
             [
              0.1111111111111111,
              "#46039f"
             ],
             [
              0.2222222222222222,
              "#7201a8"
             ],
             [
              0.3333333333333333,
              "#9c179e"
             ],
             [
              0.4444444444444444,
              "#bd3786"
             ],
             [
              0.5555555555555556,
              "#d8576b"
             ],
             [
              0.6666666666666666,
              "#ed7953"
             ],
             [
              0.7777777777777778,
              "#fb9f3a"
             ],
             [
              0.8888888888888888,
              "#fdca26"
             ],
             [
              1,
              "#f0f921"
             ]
            ],
            "type": "heatmap"
           }
          ],
          "heatmapgl": [
           {
            "colorbar": {
             "outlinewidth": 0,
             "ticks": ""
            },
            "colorscale": [
             [
              0,
              "#0d0887"
             ],
             [
              0.1111111111111111,
              "#46039f"
             ],
             [
              0.2222222222222222,
              "#7201a8"
             ],
             [
              0.3333333333333333,
              "#9c179e"
             ],
             [
              0.4444444444444444,
              "#bd3786"
             ],
             [
              0.5555555555555556,
              "#d8576b"
             ],
             [
              0.6666666666666666,
              "#ed7953"
             ],
             [
              0.7777777777777778,
              "#fb9f3a"
             ],
             [
              0.8888888888888888,
              "#fdca26"
             ],
             [
              1,
              "#f0f921"
             ]
            ],
            "type": "heatmapgl"
           }
          ],
          "histogram": [
           {
            "marker": {
             "pattern": {
              "fillmode": "overlay",
              "size": 10,
              "solidity": 0.2
             }
            },
            "type": "histogram"
           }
          ],
          "histogram2d": [
           {
            "colorbar": {
             "outlinewidth": 0,
             "ticks": ""
            },
            "colorscale": [
             [
              0,
              "#0d0887"
             ],
             [
              0.1111111111111111,
              "#46039f"
             ],
             [
              0.2222222222222222,
              "#7201a8"
             ],
             [
              0.3333333333333333,
              "#9c179e"
             ],
             [
              0.4444444444444444,
              "#bd3786"
             ],
             [
              0.5555555555555556,
              "#d8576b"
             ],
             [
              0.6666666666666666,
              "#ed7953"
             ],
             [
              0.7777777777777778,
              "#fb9f3a"
             ],
             [
              0.8888888888888888,
              "#fdca26"
             ],
             [
              1,
              "#f0f921"
             ]
            ],
            "type": "histogram2d"
           }
          ],
          "histogram2dcontour": [
           {
            "colorbar": {
             "outlinewidth": 0,
             "ticks": ""
            },
            "colorscale": [
             [
              0,
              "#0d0887"
             ],
             [
              0.1111111111111111,
              "#46039f"
             ],
             [
              0.2222222222222222,
              "#7201a8"
             ],
             [
              0.3333333333333333,
              "#9c179e"
             ],
             [
              0.4444444444444444,
              "#bd3786"
             ],
             [
              0.5555555555555556,
              "#d8576b"
             ],
             [
              0.6666666666666666,
              "#ed7953"
             ],
             [
              0.7777777777777778,
              "#fb9f3a"
             ],
             [
              0.8888888888888888,
              "#fdca26"
             ],
             [
              1,
              "#f0f921"
             ]
            ],
            "type": "histogram2dcontour"
           }
          ],
          "mesh3d": [
           {
            "colorbar": {
             "outlinewidth": 0,
             "ticks": ""
            },
            "type": "mesh3d"
           }
          ],
          "parcoords": [
           {
            "line": {
             "colorbar": {
              "outlinewidth": 0,
              "ticks": ""
             }
            },
            "type": "parcoords"
           }
          ],
          "pie": [
           {
            "automargin": true,
            "type": "pie"
           }
          ],
          "scatter": [
           {
            "marker": {
             "colorbar": {
              "outlinewidth": 0,
              "ticks": ""
             }
            },
            "type": "scatter"
           }
          ],
          "scatter3d": [
           {
            "line": {
             "colorbar": {
              "outlinewidth": 0,
              "ticks": ""
             }
            },
            "marker": {
             "colorbar": {
              "outlinewidth": 0,
              "ticks": ""
             }
            },
            "type": "scatter3d"
           }
          ],
          "scattercarpet": [
           {
            "marker": {
             "colorbar": {
              "outlinewidth": 0,
              "ticks": ""
             }
            },
            "type": "scattercarpet"
           }
          ],
          "scattergeo": [
           {
            "marker": {
             "colorbar": {
              "outlinewidth": 0,
              "ticks": ""
             }
            },
            "type": "scattergeo"
           }
          ],
          "scattergl": [
           {
            "marker": {
             "colorbar": {
              "outlinewidth": 0,
              "ticks": ""
             }
            },
            "type": "scattergl"
           }
          ],
          "scattermapbox": [
           {
            "marker": {
             "colorbar": {
              "outlinewidth": 0,
              "ticks": ""
             }
            },
            "type": "scattermapbox"
           }
          ],
          "scatterpolar": [
           {
            "marker": {
             "colorbar": {
              "outlinewidth": 0,
              "ticks": ""
             }
            },
            "type": "scatterpolar"
           }
          ],
          "scatterpolargl": [
           {
            "marker": {
             "colorbar": {
              "outlinewidth": 0,
              "ticks": ""
             }
            },
            "type": "scatterpolargl"
           }
          ],
          "scatterternary": [
           {
            "marker": {
             "colorbar": {
              "outlinewidth": 0,
              "ticks": ""
             }
            },
            "type": "scatterternary"
           }
          ],
          "surface": [
           {
            "colorbar": {
             "outlinewidth": 0,
             "ticks": ""
            },
            "colorscale": [
             [
              0,
              "#0d0887"
             ],
             [
              0.1111111111111111,
              "#46039f"
             ],
             [
              0.2222222222222222,
              "#7201a8"
             ],
             [
              0.3333333333333333,
              "#9c179e"
             ],
             [
              0.4444444444444444,
              "#bd3786"
             ],
             [
              0.5555555555555556,
              "#d8576b"
             ],
             [
              0.6666666666666666,
              "#ed7953"
             ],
             [
              0.7777777777777778,
              "#fb9f3a"
             ],
             [
              0.8888888888888888,
              "#fdca26"
             ],
             [
              1,
              "#f0f921"
             ]
            ],
            "type": "surface"
           }
          ],
          "table": [
           {
            "cells": {
             "fill": {
              "color": "#EBF0F8"
             },
             "line": {
              "color": "white"
             }
            },
            "header": {
             "fill": {
              "color": "#C8D4E3"
             },
             "line": {
              "color": "white"
             }
            },
            "type": "table"
           }
          ]
         },
         "layout": {
          "annotationdefaults": {
           "arrowcolor": "#2a3f5f",
           "arrowhead": 0,
           "arrowwidth": 1
          },
          "autotypenumbers": "strict",
          "coloraxis": {
           "colorbar": {
            "outlinewidth": 0,
            "ticks": ""
           }
          },
          "colorscale": {
           "diverging": [
            [
             0,
             "#8e0152"
            ],
            [
             0.1,
             "#c51b7d"
            ],
            [
             0.2,
             "#de77ae"
            ],
            [
             0.3,
             "#f1b6da"
            ],
            [
             0.4,
             "#fde0ef"
            ],
            [
             0.5,
             "#f7f7f7"
            ],
            [
             0.6,
             "#e6f5d0"
            ],
            [
             0.7,
             "#b8e186"
            ],
            [
             0.8,
             "#7fbc41"
            ],
            [
             0.9,
             "#4d9221"
            ],
            [
             1,
             "#276419"
            ]
           ],
           "sequential": [
            [
             0,
             "#0d0887"
            ],
            [
             0.1111111111111111,
             "#46039f"
            ],
            [
             0.2222222222222222,
             "#7201a8"
            ],
            [
             0.3333333333333333,
             "#9c179e"
            ],
            [
             0.4444444444444444,
             "#bd3786"
            ],
            [
             0.5555555555555556,
             "#d8576b"
            ],
            [
             0.6666666666666666,
             "#ed7953"
            ],
            [
             0.7777777777777778,
             "#fb9f3a"
            ],
            [
             0.8888888888888888,
             "#fdca26"
            ],
            [
             1,
             "#f0f921"
            ]
           ],
           "sequentialminus": [
            [
             0,
             "#0d0887"
            ],
            [
             0.1111111111111111,
             "#46039f"
            ],
            [
             0.2222222222222222,
             "#7201a8"
            ],
            [
             0.3333333333333333,
             "#9c179e"
            ],
            [
             0.4444444444444444,
             "#bd3786"
            ],
            [
             0.5555555555555556,
             "#d8576b"
            ],
            [
             0.6666666666666666,
             "#ed7953"
            ],
            [
             0.7777777777777778,
             "#fb9f3a"
            ],
            [
             0.8888888888888888,
             "#fdca26"
            ],
            [
             1,
             "#f0f921"
            ]
           ]
          },
          "colorway": [
           "#636efa",
           "#EF553B",
           "#00cc96",
           "#ab63fa",
           "#FFA15A",
           "#19d3f3",
           "#FF6692",
           "#B6E880",
           "#FF97FF",
           "#FECB52"
          ],
          "font": {
           "color": "#2a3f5f"
          },
          "geo": {
           "bgcolor": "white",
           "lakecolor": "white",
           "landcolor": "#E5ECF6",
           "showlakes": true,
           "showland": true,
           "subunitcolor": "white"
          },
          "hoverlabel": {
           "align": "left"
          },
          "hovermode": "closest",
          "mapbox": {
           "style": "light"
          },
          "paper_bgcolor": "white",
          "plot_bgcolor": "#E5ECF6",
          "polar": {
           "angularaxis": {
            "gridcolor": "white",
            "linecolor": "white",
            "ticks": ""
           },
           "bgcolor": "#E5ECF6",
           "radialaxis": {
            "gridcolor": "white",
            "linecolor": "white",
            "ticks": ""
           }
          },
          "scene": {
           "xaxis": {
            "backgroundcolor": "#E5ECF6",
            "gridcolor": "white",
            "gridwidth": 2,
            "linecolor": "white",
            "showbackground": true,
            "ticks": "",
            "zerolinecolor": "white"
           },
           "yaxis": {
            "backgroundcolor": "#E5ECF6",
            "gridcolor": "white",
            "gridwidth": 2,
            "linecolor": "white",
            "showbackground": true,
            "ticks": "",
            "zerolinecolor": "white"
           },
           "zaxis": {
            "backgroundcolor": "#E5ECF6",
            "gridcolor": "white",
            "gridwidth": 2,
            "linecolor": "white",
            "showbackground": true,
            "ticks": "",
            "zerolinecolor": "white"
           }
          },
          "shapedefaults": {
           "line": {
            "color": "#2a3f5f"
           }
          },
          "ternary": {
           "aaxis": {
            "gridcolor": "white",
            "linecolor": "white",
            "ticks": ""
           },
           "baxis": {
            "gridcolor": "white",
            "linecolor": "white",
            "ticks": ""
           },
           "bgcolor": "#E5ECF6",
           "caxis": {
            "gridcolor": "white",
            "linecolor": "white",
            "ticks": ""
           }
          },
          "title": {
           "x": 0.05
          },
          "xaxis": {
           "automargin": true,
           "gridcolor": "white",
           "linecolor": "white",
           "ticks": "",
           "title": {
            "standoff": 15
           },
           "zerolinecolor": "white",
           "zerolinewidth": 2
          },
          "yaxis": {
           "automargin": true,
           "gridcolor": "white",
           "linecolor": "white",
           "ticks": "",
           "title": {
            "standoff": 15
           },
           "zerolinecolor": "white",
           "zerolinewidth": 2
          }
         }
        },
        "title": {
         "text": "Correlation with Targets"
        },
        "width": 800,
        "xaxis": {
         "anchor": "y",
         "domain": [
          0,
          1
         ],
         "title": {
          "text": "Risky Features"
         }
        },
        "yaxis": {
         "anchor": "x",
         "autorange": "reversed",
         "domain": [
          0,
          1
         ],
         "title": {
          "text": "Neutralization Proportion"
         }
        }
       }
      }
     },
     "metadata": {},
     "output_type": "display_data"
    }
   ],
   "source": [
    "corr_outputs = np.array(y_corr_outputs)\n",
    "sharpe_outputs = np.array(y_sharpe_outputs)\n",
    "\n",
    "# heatmap\n",
    "# aspect ratio square\n",
    "# display values inside each cell\n",
    "fig = px.imshow(corr_outputs,\n",
    "                x=n_riskiests,\n",
    "                y=neutralization_proportions,\n",
    "                color_continuous_scale=px.colors.sequential.Plasma,\n",
    "                title=\"Correlation with Targets\",\n",
    "                labels={\"x\": \"Risky Features\", \"y\": \"Neutralization Proportion\"},\n",
    "                width=800,\n",
    "                height=800,\n",
    "                aspect=1,\n",
    ")\n",
    "fig.show()"
   ]
  },
  {
   "cell_type": "code",
   "execution_count": 36,
   "metadata": {},
   "outputs": [
    {
     "data": {
      "application/vnd.plotly.v1+json": {
       "config": {
        "plotlyServerURL": "https://plot.ly"
       },
       "data": [
        {
         "coloraxis": "coloraxis",
         "hovertemplate": "Risky Features: %{x}<br>Neutralization Proportion: %{y}<br>color: %{z}<extra></extra>",
         "name": "0",
         "type": "heatmap",
         "x": [
          20,
          50,
          150,
          300,
          500,
          700,
          900,
          1050
         ],
         "xaxis": "x",
         "y": [
          0.1,
          0.2,
          0.3,
          0.4,
          0.5,
          0.6,
          0.7,
          0.8,
          0.9,
          1
         ],
         "yaxis": "y",
         "z": [
          [
           0.6834915040626048,
           0.6845671855807837,
           0.697543538351907,
           0.6977186823368112,
           0.6962080762173731,
           0.6947049400635084,
           0.6939141192620719,
           0.6924657427874717
          ],
          [
           0.6900241658334134,
           0.6922859863360096,
           0.7194798156224554,
           0.7208447294392163,
           0.7188019991667365,
           0.7161120905390346,
           0.7145500891206846,
           0.7114220890244914
          ],
          [
           0.696379341718484,
           0.6999289397628069,
           0.7426483557211861,
           0.7464227318876058,
           0.7453013908653878,
           0.7420741685356681,
           0.7398480882419313,
           0.7347814283887795
          ],
          [
           0.7025345652317471,
           0.7074618965533203,
           0.7670645226580545,
           0.7746628895892128,
           0.7765579954280578,
           0.7740378941536937,
           0.7714310092567921,
           0.764173805637861
          ],
          [
           0.7084667869668834,
           0.7148470243037476,
           0.7927116725604818,
           0.805678389339682,
           0.8134815960793096,
           0.8139733282529241,
           0.8116193297998517,
           0.8020473862278642
          ],
          [
           0.7141526099141994,
           0.7220428676021504,
           0.8195266604525712,
           0.8393613208462989,
           0.8567393922500299,
           0.8643886942671429,
           0.8636013286241774,
           0.8521018194653042
          ],
          [
           0.7195685600944197,
           0.7290045382069155,
           0.8473812552243847,
           0.8751613026966361,
           0.9058359415367881,
           0.9276456825706649,
           0.9309298620686672,
           0.9196188268450668
          ],
          [
           0.7246914300834855,
           0.7356840927578652,
           0.8760596481643212,
           0.9117202948828625,
           0.9566155053016465,
           1.0020733933132353,
           1.0130763224942314,
           1.0095676198545875
          ],
          [
           0.7294986031381719,
           0.7420310347631022,
           0.9052327019709778,
           0.9463427746678894,
           0.9955737371382134,
           1.0660570020373474,
           1.0832205304485847,
           1.1089482886139075
          ],
          [
           0.7339684632987291,
           0.7479930528544092,
           0.9344318456749852,
           0.9744118198126946,
           0.9922283965245149,
           1.040667948436148,
           1.031085697356333,
           1.1051839394392162
          ]
         ]
        }
       ],
       "layout": {
        "coloraxis": {
         "colorscale": [
          [
           0,
           "#0d0887"
          ],
          [
           0.1111111111111111,
           "#46039f"
          ],
          [
           0.2222222222222222,
           "#7201a8"
          ],
          [
           0.3333333333333333,
           "#9c179e"
          ],
          [
           0.4444444444444444,
           "#bd3786"
          ],
          [
           0.5555555555555556,
           "#d8576b"
          ],
          [
           0.6666666666666666,
           "#ed7953"
          ],
          [
           0.7777777777777778,
           "#fb9f3a"
          ],
          [
           0.8888888888888888,
           "#fdca26"
          ],
          [
           1,
           "#f0f921"
          ]
         ]
        },
        "height": 800,
        "template": {
         "data": {
          "bar": [
           {
            "error_x": {
             "color": "#2a3f5f"
            },
            "error_y": {
             "color": "#2a3f5f"
            },
            "marker": {
             "line": {
              "color": "#E5ECF6",
              "width": 0.5
             },
             "pattern": {
              "fillmode": "overlay",
              "size": 10,
              "solidity": 0.2
             }
            },
            "type": "bar"
           }
          ],
          "barpolar": [
           {
            "marker": {
             "line": {
              "color": "#E5ECF6",
              "width": 0.5
             },
             "pattern": {
              "fillmode": "overlay",
              "size": 10,
              "solidity": 0.2
             }
            },
            "type": "barpolar"
           }
          ],
          "carpet": [
           {
            "aaxis": {
             "endlinecolor": "#2a3f5f",
             "gridcolor": "white",
             "linecolor": "white",
             "minorgridcolor": "white",
             "startlinecolor": "#2a3f5f"
            },
            "baxis": {
             "endlinecolor": "#2a3f5f",
             "gridcolor": "white",
             "linecolor": "white",
             "minorgridcolor": "white",
             "startlinecolor": "#2a3f5f"
            },
            "type": "carpet"
           }
          ],
          "choropleth": [
           {
            "colorbar": {
             "outlinewidth": 0,
             "ticks": ""
            },
            "type": "choropleth"
           }
          ],
          "contour": [
           {
            "colorbar": {
             "outlinewidth": 0,
             "ticks": ""
            },
            "colorscale": [
             [
              0,
              "#0d0887"
             ],
             [
              0.1111111111111111,
              "#46039f"
             ],
             [
              0.2222222222222222,
              "#7201a8"
             ],
             [
              0.3333333333333333,
              "#9c179e"
             ],
             [
              0.4444444444444444,
              "#bd3786"
             ],
             [
              0.5555555555555556,
              "#d8576b"
             ],
             [
              0.6666666666666666,
              "#ed7953"
             ],
             [
              0.7777777777777778,
              "#fb9f3a"
             ],
             [
              0.8888888888888888,
              "#fdca26"
             ],
             [
              1,
              "#f0f921"
             ]
            ],
            "type": "contour"
           }
          ],
          "contourcarpet": [
           {
            "colorbar": {
             "outlinewidth": 0,
             "ticks": ""
            },
            "type": "contourcarpet"
           }
          ],
          "heatmap": [
           {
            "colorbar": {
             "outlinewidth": 0,
             "ticks": ""
            },
            "colorscale": [
             [
              0,
              "#0d0887"
             ],
             [
              0.1111111111111111,
              "#46039f"
             ],
             [
              0.2222222222222222,
              "#7201a8"
             ],
             [
              0.3333333333333333,
              "#9c179e"
             ],
             [
              0.4444444444444444,
              "#bd3786"
             ],
             [
              0.5555555555555556,
              "#d8576b"
             ],
             [
              0.6666666666666666,
              "#ed7953"
             ],
             [
              0.7777777777777778,
              "#fb9f3a"
             ],
             [
              0.8888888888888888,
              "#fdca26"
             ],
             [
              1,
              "#f0f921"
             ]
            ],
            "type": "heatmap"
           }
          ],
          "heatmapgl": [
           {
            "colorbar": {
             "outlinewidth": 0,
             "ticks": ""
            },
            "colorscale": [
             [
              0,
              "#0d0887"
             ],
             [
              0.1111111111111111,
              "#46039f"
             ],
             [
              0.2222222222222222,
              "#7201a8"
             ],
             [
              0.3333333333333333,
              "#9c179e"
             ],
             [
              0.4444444444444444,
              "#bd3786"
             ],
             [
              0.5555555555555556,
              "#d8576b"
             ],
             [
              0.6666666666666666,
              "#ed7953"
             ],
             [
              0.7777777777777778,
              "#fb9f3a"
             ],
             [
              0.8888888888888888,
              "#fdca26"
             ],
             [
              1,
              "#f0f921"
             ]
            ],
            "type": "heatmapgl"
           }
          ],
          "histogram": [
           {
            "marker": {
             "pattern": {
              "fillmode": "overlay",
              "size": 10,
              "solidity": 0.2
             }
            },
            "type": "histogram"
           }
          ],
          "histogram2d": [
           {
            "colorbar": {
             "outlinewidth": 0,
             "ticks": ""
            },
            "colorscale": [
             [
              0,
              "#0d0887"
             ],
             [
              0.1111111111111111,
              "#46039f"
             ],
             [
              0.2222222222222222,
              "#7201a8"
             ],
             [
              0.3333333333333333,
              "#9c179e"
             ],
             [
              0.4444444444444444,
              "#bd3786"
             ],
             [
              0.5555555555555556,
              "#d8576b"
             ],
             [
              0.6666666666666666,
              "#ed7953"
             ],
             [
              0.7777777777777778,
              "#fb9f3a"
             ],
             [
              0.8888888888888888,
              "#fdca26"
             ],
             [
              1,
              "#f0f921"
             ]
            ],
            "type": "histogram2d"
           }
          ],
          "histogram2dcontour": [
           {
            "colorbar": {
             "outlinewidth": 0,
             "ticks": ""
            },
            "colorscale": [
             [
              0,
              "#0d0887"
             ],
             [
              0.1111111111111111,
              "#46039f"
             ],
             [
              0.2222222222222222,
              "#7201a8"
             ],
             [
              0.3333333333333333,
              "#9c179e"
             ],
             [
              0.4444444444444444,
              "#bd3786"
             ],
             [
              0.5555555555555556,
              "#d8576b"
             ],
             [
              0.6666666666666666,
              "#ed7953"
             ],
             [
              0.7777777777777778,
              "#fb9f3a"
             ],
             [
              0.8888888888888888,
              "#fdca26"
             ],
             [
              1,
              "#f0f921"
             ]
            ],
            "type": "histogram2dcontour"
           }
          ],
          "mesh3d": [
           {
            "colorbar": {
             "outlinewidth": 0,
             "ticks": ""
            },
            "type": "mesh3d"
           }
          ],
          "parcoords": [
           {
            "line": {
             "colorbar": {
              "outlinewidth": 0,
              "ticks": ""
             }
            },
            "type": "parcoords"
           }
          ],
          "pie": [
           {
            "automargin": true,
            "type": "pie"
           }
          ],
          "scatter": [
           {
            "marker": {
             "colorbar": {
              "outlinewidth": 0,
              "ticks": ""
             }
            },
            "type": "scatter"
           }
          ],
          "scatter3d": [
           {
            "line": {
             "colorbar": {
              "outlinewidth": 0,
              "ticks": ""
             }
            },
            "marker": {
             "colorbar": {
              "outlinewidth": 0,
              "ticks": ""
             }
            },
            "type": "scatter3d"
           }
          ],
          "scattercarpet": [
           {
            "marker": {
             "colorbar": {
              "outlinewidth": 0,
              "ticks": ""
             }
            },
            "type": "scattercarpet"
           }
          ],
          "scattergeo": [
           {
            "marker": {
             "colorbar": {
              "outlinewidth": 0,
              "ticks": ""
             }
            },
            "type": "scattergeo"
           }
          ],
          "scattergl": [
           {
            "marker": {
             "colorbar": {
              "outlinewidth": 0,
              "ticks": ""
             }
            },
            "type": "scattergl"
           }
          ],
          "scattermapbox": [
           {
            "marker": {
             "colorbar": {
              "outlinewidth": 0,
              "ticks": ""
             }
            },
            "type": "scattermapbox"
           }
          ],
          "scatterpolar": [
           {
            "marker": {
             "colorbar": {
              "outlinewidth": 0,
              "ticks": ""
             }
            },
            "type": "scatterpolar"
           }
          ],
          "scatterpolargl": [
           {
            "marker": {
             "colorbar": {
              "outlinewidth": 0,
              "ticks": ""
             }
            },
            "type": "scatterpolargl"
           }
          ],
          "scatterternary": [
           {
            "marker": {
             "colorbar": {
              "outlinewidth": 0,
              "ticks": ""
             }
            },
            "type": "scatterternary"
           }
          ],
          "surface": [
           {
            "colorbar": {
             "outlinewidth": 0,
             "ticks": ""
            },
            "colorscale": [
             [
              0,
              "#0d0887"
             ],
             [
              0.1111111111111111,
              "#46039f"
             ],
             [
              0.2222222222222222,
              "#7201a8"
             ],
             [
              0.3333333333333333,
              "#9c179e"
             ],
             [
              0.4444444444444444,
              "#bd3786"
             ],
             [
              0.5555555555555556,
              "#d8576b"
             ],
             [
              0.6666666666666666,
              "#ed7953"
             ],
             [
              0.7777777777777778,
              "#fb9f3a"
             ],
             [
              0.8888888888888888,
              "#fdca26"
             ],
             [
              1,
              "#f0f921"
             ]
            ],
            "type": "surface"
           }
          ],
          "table": [
           {
            "cells": {
             "fill": {
              "color": "#EBF0F8"
             },
             "line": {
              "color": "white"
             }
            },
            "header": {
             "fill": {
              "color": "#C8D4E3"
             },
             "line": {
              "color": "white"
             }
            },
            "type": "table"
           }
          ]
         },
         "layout": {
          "annotationdefaults": {
           "arrowcolor": "#2a3f5f",
           "arrowhead": 0,
           "arrowwidth": 1
          },
          "autotypenumbers": "strict",
          "coloraxis": {
           "colorbar": {
            "outlinewidth": 0,
            "ticks": ""
           }
          },
          "colorscale": {
           "diverging": [
            [
             0,
             "#8e0152"
            ],
            [
             0.1,
             "#c51b7d"
            ],
            [
             0.2,
             "#de77ae"
            ],
            [
             0.3,
             "#f1b6da"
            ],
            [
             0.4,
             "#fde0ef"
            ],
            [
             0.5,
             "#f7f7f7"
            ],
            [
             0.6,
             "#e6f5d0"
            ],
            [
             0.7,
             "#b8e186"
            ],
            [
             0.8,
             "#7fbc41"
            ],
            [
             0.9,
             "#4d9221"
            ],
            [
             1,
             "#276419"
            ]
           ],
           "sequential": [
            [
             0,
             "#0d0887"
            ],
            [
             0.1111111111111111,
             "#46039f"
            ],
            [
             0.2222222222222222,
             "#7201a8"
            ],
            [
             0.3333333333333333,
             "#9c179e"
            ],
            [
             0.4444444444444444,
             "#bd3786"
            ],
            [
             0.5555555555555556,
             "#d8576b"
            ],
            [
             0.6666666666666666,
             "#ed7953"
            ],
            [
             0.7777777777777778,
             "#fb9f3a"
            ],
            [
             0.8888888888888888,
             "#fdca26"
            ],
            [
             1,
             "#f0f921"
            ]
           ],
           "sequentialminus": [
            [
             0,
             "#0d0887"
            ],
            [
             0.1111111111111111,
             "#46039f"
            ],
            [
             0.2222222222222222,
             "#7201a8"
            ],
            [
             0.3333333333333333,
             "#9c179e"
            ],
            [
             0.4444444444444444,
             "#bd3786"
            ],
            [
             0.5555555555555556,
             "#d8576b"
            ],
            [
             0.6666666666666666,
             "#ed7953"
            ],
            [
             0.7777777777777778,
             "#fb9f3a"
            ],
            [
             0.8888888888888888,
             "#fdca26"
            ],
            [
             1,
             "#f0f921"
            ]
           ]
          },
          "colorway": [
           "#636efa",
           "#EF553B",
           "#00cc96",
           "#ab63fa",
           "#FFA15A",
           "#19d3f3",
           "#FF6692",
           "#B6E880",
           "#FF97FF",
           "#FECB52"
          ],
          "font": {
           "color": "#2a3f5f"
          },
          "geo": {
           "bgcolor": "white",
           "lakecolor": "white",
           "landcolor": "#E5ECF6",
           "showlakes": true,
           "showland": true,
           "subunitcolor": "white"
          },
          "hoverlabel": {
           "align": "left"
          },
          "hovermode": "closest",
          "mapbox": {
           "style": "light"
          },
          "paper_bgcolor": "white",
          "plot_bgcolor": "#E5ECF6",
          "polar": {
           "angularaxis": {
            "gridcolor": "white",
            "linecolor": "white",
            "ticks": ""
           },
           "bgcolor": "#E5ECF6",
           "radialaxis": {
            "gridcolor": "white",
            "linecolor": "white",
            "ticks": ""
           }
          },
          "scene": {
           "xaxis": {
            "backgroundcolor": "#E5ECF6",
            "gridcolor": "white",
            "gridwidth": 2,
            "linecolor": "white",
            "showbackground": true,
            "ticks": "",
            "zerolinecolor": "white"
           },
           "yaxis": {
            "backgroundcolor": "#E5ECF6",
            "gridcolor": "white",
            "gridwidth": 2,
            "linecolor": "white",
            "showbackground": true,
            "ticks": "",
            "zerolinecolor": "white"
           },
           "zaxis": {
            "backgroundcolor": "#E5ECF6",
            "gridcolor": "white",
            "gridwidth": 2,
            "linecolor": "white",
            "showbackground": true,
            "ticks": "",
            "zerolinecolor": "white"
           }
          },
          "shapedefaults": {
           "line": {
            "color": "#2a3f5f"
           }
          },
          "ternary": {
           "aaxis": {
            "gridcolor": "white",
            "linecolor": "white",
            "ticks": ""
           },
           "baxis": {
            "gridcolor": "white",
            "linecolor": "white",
            "ticks": ""
           },
           "bgcolor": "#E5ECF6",
           "caxis": {
            "gridcolor": "white",
            "linecolor": "white",
            "ticks": ""
           }
          },
          "title": {
           "x": 0.05
          },
          "xaxis": {
           "automargin": true,
           "gridcolor": "white",
           "linecolor": "white",
           "ticks": "",
           "title": {
            "standoff": 15
           },
           "zerolinecolor": "white",
           "zerolinewidth": 2
          },
          "yaxis": {
           "automargin": true,
           "gridcolor": "white",
           "linecolor": "white",
           "ticks": "",
           "title": {
            "standoff": 15
           },
           "zerolinecolor": "white",
           "zerolinewidth": 2
          }
         }
        },
        "title": {
         "text": "Sharpe Ratios"
        },
        "width": 800,
        "xaxis": {
         "anchor": "y",
         "domain": [
          0,
          1
         ],
         "title": {
          "text": "Risky Features"
         }
        },
        "yaxis": {
         "anchor": "x",
         "autorange": "reversed",
         "domain": [
          0,
          1
         ],
         "title": {
          "text": "Neutralization Proportion"
         }
        }
       }
      }
     },
     "metadata": {},
     "output_type": "display_data"
    }
   ],
   "source": [
    "fig = px.imshow(sharpe_outputs,\n",
    "                x=n_riskiests,\n",
    "                y=neutralization_proportions,\n",
    "                color_continuous_scale=px.colors.sequential.Plasma,\n",
    "                title=\"Sharpe Ratios\",\n",
    "                labels={\"x\": \"Risky Features\", \"y\": \"Neutralization Proportion\"},\n",
    "                width=800,\n",
    "                height=800,\n",
    "                aspect=1,\n",
    ")\n",
    "fig.show()"
   ]
  }
 ],
 "metadata": {
  "interpreter": {
   "hash": "bb17acfa25ba8523e753e24fc20e6d41d9a7c9f458883f2a9bf8d5a6dc695143"
  },
  "kernelspec": {
   "display_name": "Python 3.7.7 ('base')",
   "language": "python",
   "name": "python3"
  },
  "language_info": {
   "codemirror_mode": {
    "name": "ipython",
    "version": 3
   },
   "file_extension": ".py",
   "mimetype": "text/x-python",
   "name": "python",
   "nbconvert_exporter": "python",
   "pygments_lexer": "ipython3",
   "version": "3.7.7"
  },
  "orig_nbformat": 4
 },
 "nbformat": 4,
 "nbformat_minor": 2
}
