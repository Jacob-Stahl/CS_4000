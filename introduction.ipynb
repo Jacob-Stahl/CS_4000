{
 "cells": [
  {
   "cell_type": "code",
   "execution_count": 1,
   "metadata": {},
   "outputs": [
    {
     "name": "stdout",
     "output_type": "stream",
     "text": [
      "Requirement already satisfied: pip in /home/jacobstahl/anaconda3/lib/python3.7/site-packages (21.0.1)\n",
      "Collecting pip\n",
      "  Downloading pip-22.0.3-py3-none-any.whl (2.1 MB)\n",
      "\u001b[K     |████████████████████████████████| 2.1 MB 1.4 MB/s eta 0:00:01\n",
      "\u001b[?25hInstalling collected packages: pip\n",
      "  Attempting uninstall: pip\n",
      "    Found existing installation: pip 21.0.1\n",
      "    Uninstalling pip-21.0.1:\n",
      "      Successfully uninstalled pip-21.0.1\n",
      "Successfully installed pip-22.0.3\n",
      "Collecting numerapi\n",
      "  Downloading numerapi-2.9.4-py3-none-any.whl (26 kB)\n",
      "Requirement already satisfied: python-dateutil in /home/jacobstahl/anaconda3/lib/python3.7/site-packages (from numerapi) (2.8.1)\n",
      "Requirement already satisfied: click>=7.0 in /home/jacobstahl/anaconda3/lib/python3.7/site-packages (from numerapi) (7.1.2)\n",
      "Requirement already satisfied: requests in /home/jacobstahl/anaconda3/lib/python3.7/site-packages (from numerapi) (2.25.1)\n",
      "Requirement already satisfied: pandas>=1.1.0 in /home/jacobstahl/anaconda3/lib/python3.7/site-packages (from numerapi) (1.1.4)\n",
      "Requirement already satisfied: pytz in /home/jacobstahl/anaconda3/lib/python3.7/site-packages (from numerapi) (2021.1)\n",
      "Requirement already satisfied: tqdm>=4.29.1 in /home/jacobstahl/anaconda3/lib/python3.7/site-packages (from numerapi) (4.56.0)\n",
      "Requirement already satisfied: numpy>=1.15.4 in /home/jacobstahl/anaconda3/lib/python3.7/site-packages (from pandas>=1.1.0->numerapi) (1.19.2)\n",
      "Requirement already satisfied: six>=1.5 in /home/jacobstahl/anaconda3/lib/python3.7/site-packages (from python-dateutil->numerapi) (1.15.0)\n",
      "Requirement already satisfied: idna<3,>=2.5 in /home/jacobstahl/anaconda3/lib/python3.7/site-packages (from requests->numerapi) (2.10)\n",
      "Requirement already satisfied: chardet<5,>=3.0.2 in /home/jacobstahl/anaconda3/lib/python3.7/site-packages (from requests->numerapi) (4.0.0)\n",
      "Requirement already satisfied: urllib3<1.27,>=1.21.1 in /home/jacobstahl/anaconda3/lib/python3.7/site-packages (from requests->numerapi) (1.26.3)\n",
      "Requirement already satisfied: certifi>=2017.4.17 in /home/jacobstahl/anaconda3/lib/python3.7/site-packages (from requests->numerapi) (2020.12.5)\n",
      "Installing collected packages: numerapi\n",
      "Successfully installed numerapi-2.9.4\n"
     ]
    }
   ],
   "source": [
    "#install numerapi\n",
    "!pip install --upgrade pip\n",
    "!pip install --upgrade numerapi"
   ]
  },
  {
   "cell_type": "code",
   "execution_count": 3,
   "metadata": {},
   "outputs": [
    {
     "name": "stderr",
     "output_type": "stream",
     "text": [
      "2022-02-04 14:56:46,387 INFO numerapi.utils: starting download\n"
     ]
    }
   ],
   "source": [
    "import pandas as pd\n",
    "import numpy as np\n",
    "import numerapi\n",
    "import os\n",
    "\n",
    "# make /data directory if it doesn't exist\n",
    "if not os.path.exists(\"data\"):\n",
    "    os.mkdir(\"data\")\n",
    "    \n",
    "# download data using numerapi\n",
    "# https://pypi.org/project/numerapi/\n",
    "napi = numerapi.NumerAPI(verbosity=\"info\")\n",
    "napi.download_dataset(\"numerai_training_data.parquet\", \"data/numerai_training_data.parquet\")\n"
   ]
  },
  {
   "cell_type": "code",
   "execution_count": 4,
   "metadata": {},
   "outputs": [
    {
     "name": "stderr",
     "output_type": "stream",
     "text": [
      "data/numerai_training_data.parquet: 1.01GB [04:48, 3.51MB/s]                            \n"
     ]
    }
   ],
   "source": [
    "training_set = pd.read_parquet(\"data/numerai_training_data.parquet\")\n"
   ]
  },
  {
   "cell_type": "code",
   "execution_count": 5,
   "metadata": {},
   "outputs": [
    {
     "data": {
      "text/html": [
       "<div>\n",
       "<style scoped>\n",
       "    .dataframe tbody tr th:only-of-type {\n",
       "        vertical-align: middle;\n",
       "    }\n",
       "\n",
       "    .dataframe tbody tr th {\n",
       "        vertical-align: top;\n",
       "    }\n",
       "\n",
       "    .dataframe thead th {\n",
       "        text-align: right;\n",
       "    }\n",
       "</style>\n",
       "<table border=\"1\" class=\"dataframe\">\n",
       "  <thead>\n",
       "    <tr style=\"text-align: right;\">\n",
       "      <th></th>\n",
       "      <th>era</th>\n",
       "      <th>data_type</th>\n",
       "      <th>feature_dichasial_hammier_spawner</th>\n",
       "      <th>feature_rheumy_epistemic_prancer</th>\n",
       "      <th>feature_pert_performative_hormuz</th>\n",
       "      <th>feature_hillier_unpitied_theobromine</th>\n",
       "      <th>feature_perigean_bewitching_thruster</th>\n",
       "      <th>feature_renegade_undomestic_milord</th>\n",
       "      <th>feature_koranic_rude_corf</th>\n",
       "      <th>feature_demisable_expiring_millepede</th>\n",
       "      <th>...</th>\n",
       "      <th>target_paul_20</th>\n",
       "      <th>target_paul_60</th>\n",
       "      <th>target_george_20</th>\n",
       "      <th>target_george_60</th>\n",
       "      <th>target_william_20</th>\n",
       "      <th>target_william_60</th>\n",
       "      <th>target_arthur_20</th>\n",
       "      <th>target_arthur_60</th>\n",
       "      <th>target_thomas_20</th>\n",
       "      <th>target_thomas_60</th>\n",
       "    </tr>\n",
       "    <tr>\n",
       "      <th>id</th>\n",
       "      <th></th>\n",
       "      <th></th>\n",
       "      <th></th>\n",
       "      <th></th>\n",
       "      <th></th>\n",
       "      <th></th>\n",
       "      <th></th>\n",
       "      <th></th>\n",
       "      <th></th>\n",
       "      <th></th>\n",
       "      <th></th>\n",
       "      <th></th>\n",
       "      <th></th>\n",
       "      <th></th>\n",
       "      <th></th>\n",
       "      <th></th>\n",
       "      <th></th>\n",
       "      <th></th>\n",
       "      <th></th>\n",
       "      <th></th>\n",
       "      <th></th>\n",
       "    </tr>\n",
       "  </thead>\n",
       "  <tbody>\n",
       "    <tr>\n",
       "      <th>n003bba8a98662e4</th>\n",
       "      <td>0001</td>\n",
       "      <td>train</td>\n",
       "      <td>1.0</td>\n",
       "      <td>0.50</td>\n",
       "      <td>1.00</td>\n",
       "      <td>1.00</td>\n",
       "      <td>0.00</td>\n",
       "      <td>0.00</td>\n",
       "      <td>1.00</td>\n",
       "      <td>1.00</td>\n",
       "      <td>...</td>\n",
       "      <td>0.25</td>\n",
       "      <td>0.25</td>\n",
       "      <td>0.25</td>\n",
       "      <td>0.00</td>\n",
       "      <td>0.166667</td>\n",
       "      <td>0.000000</td>\n",
       "      <td>0.166667</td>\n",
       "      <td>0.000000</td>\n",
       "      <td>0.166667</td>\n",
       "      <td>0.000000</td>\n",
       "    </tr>\n",
       "    <tr>\n",
       "      <th>n003bee128c2fcfc</th>\n",
       "      <td>0001</td>\n",
       "      <td>train</td>\n",
       "      <td>0.5</td>\n",
       "      <td>1.00</td>\n",
       "      <td>0.25</td>\n",
       "      <td>0.75</td>\n",
       "      <td>0.00</td>\n",
       "      <td>0.75</td>\n",
       "      <td>0.50</td>\n",
       "      <td>0.75</td>\n",
       "      <td>...</td>\n",
       "      <td>1.00</td>\n",
       "      <td>1.00</td>\n",
       "      <td>1.00</td>\n",
       "      <td>1.00</td>\n",
       "      <td>0.833333</td>\n",
       "      <td>0.666667</td>\n",
       "      <td>0.833333</td>\n",
       "      <td>0.666667</td>\n",
       "      <td>0.833333</td>\n",
       "      <td>0.666667</td>\n",
       "    </tr>\n",
       "    <tr>\n",
       "      <th>n0048ac83aff7194</th>\n",
       "      <td>0001</td>\n",
       "      <td>train</td>\n",
       "      <td>0.5</td>\n",
       "      <td>0.25</td>\n",
       "      <td>0.75</td>\n",
       "      <td>0.00</td>\n",
       "      <td>0.75</td>\n",
       "      <td>0.00</td>\n",
       "      <td>0.75</td>\n",
       "      <td>0.75</td>\n",
       "      <td>...</td>\n",
       "      <td>0.50</td>\n",
       "      <td>0.25</td>\n",
       "      <td>0.25</td>\n",
       "      <td>0.25</td>\n",
       "      <td>0.500000</td>\n",
       "      <td>0.333333</td>\n",
       "      <td>0.500000</td>\n",
       "      <td>0.333333</td>\n",
       "      <td>0.500000</td>\n",
       "      <td>0.333333</td>\n",
       "    </tr>\n",
       "    <tr>\n",
       "      <th>n00691bec80d3e02</th>\n",
       "      <td>0001</td>\n",
       "      <td>train</td>\n",
       "      <td>1.0</td>\n",
       "      <td>0.50</td>\n",
       "      <td>0.50</td>\n",
       "      <td>0.75</td>\n",
       "      <td>0.00</td>\n",
       "      <td>1.00</td>\n",
       "      <td>0.25</td>\n",
       "      <td>1.00</td>\n",
       "      <td>...</td>\n",
       "      <td>0.50</td>\n",
       "      <td>0.50</td>\n",
       "      <td>0.50</td>\n",
       "      <td>0.50</td>\n",
       "      <td>0.666667</td>\n",
       "      <td>0.500000</td>\n",
       "      <td>0.500000</td>\n",
       "      <td>0.500000</td>\n",
       "      <td>0.666667</td>\n",
       "      <td>0.500000</td>\n",
       "    </tr>\n",
       "    <tr>\n",
       "      <th>n00b8720a2fdc4f2</th>\n",
       "      <td>0001</td>\n",
       "      <td>train</td>\n",
       "      <td>1.0</td>\n",
       "      <td>0.75</td>\n",
       "      <td>1.00</td>\n",
       "      <td>1.00</td>\n",
       "      <td>0.00</td>\n",
       "      <td>0.00</td>\n",
       "      <td>1.00</td>\n",
       "      <td>0.50</td>\n",
       "      <td>...</td>\n",
       "      <td>0.50</td>\n",
       "      <td>0.50</td>\n",
       "      <td>0.50</td>\n",
       "      <td>0.50</td>\n",
       "      <td>0.666667</td>\n",
       "      <td>0.500000</td>\n",
       "      <td>0.500000</td>\n",
       "      <td>0.500000</td>\n",
       "      <td>0.666667</td>\n",
       "      <td>0.500000</td>\n",
       "    </tr>\n",
       "  </tbody>\n",
       "</table>\n",
       "<p>5 rows × 1073 columns</p>\n",
       "</div>"
      ],
      "text/plain": [
       "                   era data_type  feature_dichasial_hammier_spawner  \\\n",
       "id                                                                    \n",
       "n003bba8a98662e4  0001     train                                1.0   \n",
       "n003bee128c2fcfc  0001     train                                0.5   \n",
       "n0048ac83aff7194  0001     train                                0.5   \n",
       "n00691bec80d3e02  0001     train                                1.0   \n",
       "n00b8720a2fdc4f2  0001     train                                1.0   \n",
       "\n",
       "                  feature_rheumy_epistemic_prancer  \\\n",
       "id                                                   \n",
       "n003bba8a98662e4                              0.50   \n",
       "n003bee128c2fcfc                              1.00   \n",
       "n0048ac83aff7194                              0.25   \n",
       "n00691bec80d3e02                              0.50   \n",
       "n00b8720a2fdc4f2                              0.75   \n",
       "\n",
       "                  feature_pert_performative_hormuz  \\\n",
       "id                                                   \n",
       "n003bba8a98662e4                              1.00   \n",
       "n003bee128c2fcfc                              0.25   \n",
       "n0048ac83aff7194                              0.75   \n",
       "n00691bec80d3e02                              0.50   \n",
       "n00b8720a2fdc4f2                              1.00   \n",
       "\n",
       "                  feature_hillier_unpitied_theobromine  \\\n",
       "id                                                       \n",
       "n003bba8a98662e4                                  1.00   \n",
       "n003bee128c2fcfc                                  0.75   \n",
       "n0048ac83aff7194                                  0.00   \n",
       "n00691bec80d3e02                                  0.75   \n",
       "n00b8720a2fdc4f2                                  1.00   \n",
       "\n",
       "                  feature_perigean_bewitching_thruster  \\\n",
       "id                                                       \n",
       "n003bba8a98662e4                                  0.00   \n",
       "n003bee128c2fcfc                                  0.00   \n",
       "n0048ac83aff7194                                  0.75   \n",
       "n00691bec80d3e02                                  0.00   \n",
       "n00b8720a2fdc4f2                                  0.00   \n",
       "\n",
       "                  feature_renegade_undomestic_milord  \\\n",
       "id                                                     \n",
       "n003bba8a98662e4                                0.00   \n",
       "n003bee128c2fcfc                                0.75   \n",
       "n0048ac83aff7194                                0.00   \n",
       "n00691bec80d3e02                                1.00   \n",
       "n00b8720a2fdc4f2                                0.00   \n",
       "\n",
       "                  feature_koranic_rude_corf  \\\n",
       "id                                            \n",
       "n003bba8a98662e4                       1.00   \n",
       "n003bee128c2fcfc                       0.50   \n",
       "n0048ac83aff7194                       0.75   \n",
       "n00691bec80d3e02                       0.25   \n",
       "n00b8720a2fdc4f2                       1.00   \n",
       "\n",
       "                  feature_demisable_expiring_millepede  ...  target_paul_20  \\\n",
       "id                                                      ...                   \n",
       "n003bba8a98662e4                                  1.00  ...            0.25   \n",
       "n003bee128c2fcfc                                  0.75  ...            1.00   \n",
       "n0048ac83aff7194                                  0.75  ...            0.50   \n",
       "n00691bec80d3e02                                  1.00  ...            0.50   \n",
       "n00b8720a2fdc4f2                                  0.50  ...            0.50   \n",
       "\n",
       "                  target_paul_60  target_george_20  target_george_60  \\\n",
       "id                                                                     \n",
       "n003bba8a98662e4            0.25              0.25              0.00   \n",
       "n003bee128c2fcfc            1.00              1.00              1.00   \n",
       "n0048ac83aff7194            0.25              0.25              0.25   \n",
       "n00691bec80d3e02            0.50              0.50              0.50   \n",
       "n00b8720a2fdc4f2            0.50              0.50              0.50   \n",
       "\n",
       "                  target_william_20  target_william_60  target_arthur_20  \\\n",
       "id                                                                         \n",
       "n003bba8a98662e4           0.166667           0.000000          0.166667   \n",
       "n003bee128c2fcfc           0.833333           0.666667          0.833333   \n",
       "n0048ac83aff7194           0.500000           0.333333          0.500000   \n",
       "n00691bec80d3e02           0.666667           0.500000          0.500000   \n",
       "n00b8720a2fdc4f2           0.666667           0.500000          0.500000   \n",
       "\n",
       "                  target_arthur_60  target_thomas_20  target_thomas_60  \n",
       "id                                                                      \n",
       "n003bba8a98662e4          0.000000          0.166667          0.000000  \n",
       "n003bee128c2fcfc          0.666667          0.833333          0.666667  \n",
       "n0048ac83aff7194          0.333333          0.500000          0.333333  \n",
       "n00691bec80d3e02          0.500000          0.666667          0.500000  \n",
       "n00b8720a2fdc4f2          0.500000          0.666667          0.500000  \n",
       "\n",
       "[5 rows x 1073 columns]"
      ]
     },
     "execution_count": 5,
     "metadata": {},
     "output_type": "execute_result"
    }
   ],
   "source": [
    "training_set.head()"
   ]
  },
  {
   "cell_type": "code",
   "execution_count": 6,
   "metadata": {},
   "outputs": [
    {
     "name": "stdout",
     "output_type": "stream",
     "text": [
      "number of eras: 574\n",
      "number of rows: 2412105\n"
     ]
    }
   ],
   "source": [
    "print(\"number of eras:\", len(training_set.era.unique()))\n",
    "print(\"number of rows:\", len(training_set))\n",
    "\n",
    "feature_names = [f for f in training_set.columns if \"feature_\" in f]\n",
    "\n",
    "training_set = training_set.sample(100000) # subsample to speed up and save memory"
   ]
  },
  {
   "cell_type": "code",
   "execution_count": 7,
   "metadata": {},
   "outputs": [
    {
     "data": {
      "text/plain": [
       "LinearRegression()"
      ]
     },
     "execution_count": 7,
     "metadata": {},
     "output_type": "execute_result"
    }
   ],
   "source": [
    "# train linear regression model with sklearn as a baseline\n",
    "from sklearn.linear_model import LinearRegression\n",
    "\n",
    "model = LinearRegression()\n",
    "model.fit(training_set[feature_names], training_set[\"target\"])"
   ]
  },
  {
   "cell_type": "code",
   "execution_count": 8,
   "metadata": {},
   "outputs": [
    {
     "name": "stderr",
     "output_type": "stream",
     "text": [
      "2022-02-04 15:11:52,239 INFO numerapi.utils: starting download\n",
      "data/numerai_validation_data.parquet: 228MB [00:44, 5.08MB/s]                           \n"
     ]
    }
   ],
   "source": [
    "# download validation set for testing our models\n",
    "napi.download_dataset(\"numerai_validation_data.parquet\", \"data/numerai_validation_data.parquet\")\n",
    "\n",
    "# load validation set\n",
    "validation_set = pd.read_parquet(\"data/numerai_validation_data.parquet\")"
   ]
  },
  {
   "cell_type": "code",
   "execution_count": 22,
   "metadata": {},
   "outputs": [
    {
     "name": "stdout",
     "output_type": "stream",
     "text": [
      "Requirement already satisfied: plotly in /home/jacobstahl/anaconda3/lib/python3.7/site-packages (5.5.0)\n",
      "Requirement already satisfied: tenacity>=6.2.0 in /home/jacobstahl/anaconda3/lib/python3.7/site-packages (from plotly) (8.0.1)\n",
      "Requirement already satisfied: six in /home/jacobstahl/anaconda3/lib/python3.7/site-packages (from plotly) (1.15.0)\n"
     ]
    },
    {
     "data": {
      "application/vnd.plotly.v1+json": {
       "config": {
        "plotlyServerURL": "https://plot.ly"
       },
       "data": [
        {
         "alignmentgroup": "True",
         "hovertemplate": "variable=0<br>era=%{x}<br>value=%{y}<extra></extra>",
         "legendgroup": "0",
         "marker": {
          "color": "#636efa"
         },
         "name": "0",
         "offsetgroup": "0",
         "orientation": "v",
         "showlegend": true,
         "textposition": "auto",
         "type": "bar",
         "x": [
          "0857",
          "0858",
          "0859",
          "0860",
          "0861",
          "0862",
          "0863",
          "0864",
          "0865",
          "0866",
          "0867",
          "0868",
          "0869",
          "0870",
          "0871",
          "0872",
          "0873",
          "0874",
          "0875",
          "0876",
          "0877",
          "0878",
          "0879",
          "0880",
          "0881",
          "0882",
          "0883",
          "0884",
          "0885",
          "0886",
          "0887",
          "0888",
          "0889",
          "0890",
          "0891",
          "0892",
          "0893",
          "0894",
          "0895",
          "0896",
          "0897",
          "0898",
          "0899",
          "0900",
          "0901",
          "0902",
          "0903",
          "0904",
          "0905",
          "0906",
          "0907",
          "0908",
          "0909",
          "0910",
          "0911",
          "0912",
          "0913",
          "0914",
          "0915",
          "0916",
          "0917",
          "0918",
          "0919",
          "0920",
          "0921",
          "0922",
          "0923",
          "0924",
          "0925",
          "0926",
          "0927",
          "0928",
          "0929",
          "0930",
          "0931",
          "0932",
          "0933",
          "0934",
          "0935",
          "0936",
          "0937",
          "0938",
          "0939",
          "0940",
          "0941",
          "0942",
          "0943",
          "0944",
          "0945",
          "0946",
          "0947",
          "0948",
          "0949",
          "0950",
          "0951",
          "0952",
          "0953",
          "0954",
          "0955",
          "0956",
          "0957",
          "0958",
          "0959",
          "0960",
          "0961"
         ],
         "xaxis": "x",
         "y": [
          0.026457980952834415,
          0.03252600639631155,
          0.03241291908429879,
          0.025255441390322896,
          -0.00816765547510688,
          -0.002548573785533975,
          -0.0010680451552074325,
          -0.01612801506133224,
          -0.008961160870413034,
          -0.02584706664028623,
          -0.011771915465309849,
          -0.019736605387659978,
          -0.008569627333239089,
          -0.010291869017679927,
          0.0005213108650845308,
          0.006097466477215817,
          -0.00264049569090953,
          0.024068162692217968,
          -0.0007065826459310786,
          -0.010908004411294083,
          0.032479914738136134,
          0.029091374649148752,
          0.035900302187821004,
          0.03017403835952985,
          0.018926190760326138,
          0.011315378464722884,
          0.013095635424476138,
          -0.0019513743640602154,
          0.01942089681709165,
          -0.017227423681462205,
          -0.006513970455603082,
          -0.007622804914998143,
          -0.0056517177497783086,
          0.0028777043191050007,
          0.017417070138147868,
          0.005666233816554649,
          -0.009357454470120458,
          0.02298815238126624,
          0.012684907339387902,
          -0.00883753651580104,
          0.007069013949607979,
          0.04023966304895187,
          0.024597981454627466,
          0.04474466341307797,
          0.0312838883255097,
          0.010574822503950785,
          0.01997422794082556,
          0.00719614542003985,
          -0.005892258322769197,
          -0.035496034132756815,
          -0.05200219073051418,
          -0.012669443503043434,
          -0.008463327765347126,
          0.02006014914022253,
          0.02942961358848165,
          0.015601224450621837,
          -0.012208132079128369,
          -0.0057687367172180445,
          -0.013408612575804262,
          0.007605326720042685,
          0.008658238307072401,
          -0.01005528393227858,
          0.012418308034873189,
          -0.0012077101217223705,
          0.00971540409287555,
          0.0033734174948659,
          -0.011234230536996773,
          -0.0067261919654299255,
          -0.014288741443597474,
          -0.017266824267005425,
          -0.00018778955862878028,
          -0.021657188564650712,
          -0.016248584007133034,
          0.0005502866429951793,
          -0.011794466558851812,
          0.020376899539883662,
          0.014460600669490965,
          0.0252696043677499,
          0.00516380503900355,
          0.008154028814304461,
          0.02575081194278096,
          0.009953067266848022,
          0.03882590976208754,
          0.04234668830342262,
          0.023472360907561714,
          0.030028329354419944,
          0.02850129037469959,
          0.015266138679295414,
          0.05330458273559122,
          0.046815389159199035,
          0.03968954517102764,
          0.03256721317461556,
          0.007814146428562686,
          -0.0029159333321633193,
          0.008508128726698979,
          0.02197517665761405,
          0.035414834754193665,
          0.02837019894113267,
          0.049853880454618735,
          0.018409803399383542,
          0.009122818769639808,
          0.017393195259333874,
          -0.0028336442099557036,
          -0.0015453834158491784,
          0.001643300847885591
         ],
         "yaxis": "y"
        }
       ],
       "layout": {
        "barmode": "relative",
        "legend": {
         "title": {
          "text": "variable"
         },
         "tracegroupgap": 0
        },
        "margin": {
         "t": 60
        },
        "template": {
         "data": {
          "bar": [
           {
            "error_x": {
             "color": "#2a3f5f"
            },
            "error_y": {
             "color": "#2a3f5f"
            },
            "marker": {
             "line": {
              "color": "#E5ECF6",
              "width": 0.5
             }
            },
            "type": "bar"
           }
          ],
          "barpolar": [
           {
            "marker": {
             "line": {
              "color": "#E5ECF6",
              "width": 0.5
             }
            },
            "type": "barpolar"
           }
          ],
          "carpet": [
           {
            "aaxis": {
             "endlinecolor": "#2a3f5f",
             "gridcolor": "white",
             "linecolor": "white",
             "minorgridcolor": "white",
             "startlinecolor": "#2a3f5f"
            },
            "baxis": {
             "endlinecolor": "#2a3f5f",
             "gridcolor": "white",
             "linecolor": "white",
             "minorgridcolor": "white",
             "startlinecolor": "#2a3f5f"
            },
            "type": "carpet"
           }
          ],
          "choropleth": [
           {
            "colorbar": {
             "outlinewidth": 0,
             "ticks": ""
            },
            "type": "choropleth"
           }
          ],
          "contour": [
           {
            "colorbar": {
             "outlinewidth": 0,
             "ticks": ""
            },
            "colorscale": [
             [
              0,
              "#0d0887"
             ],
             [
              0.1111111111111111,
              "#46039f"
             ],
             [
              0.2222222222222222,
              "#7201a8"
             ],
             [
              0.3333333333333333,
              "#9c179e"
             ],
             [
              0.4444444444444444,
              "#bd3786"
             ],
             [
              0.5555555555555556,
              "#d8576b"
             ],
             [
              0.6666666666666666,
              "#ed7953"
             ],
             [
              0.7777777777777778,
              "#fb9f3a"
             ],
             [
              0.8888888888888888,
              "#fdca26"
             ],
             [
              1,
              "#f0f921"
             ]
            ],
            "type": "contour"
           }
          ],
          "contourcarpet": [
           {
            "colorbar": {
             "outlinewidth": 0,
             "ticks": ""
            },
            "type": "contourcarpet"
           }
          ],
          "heatmap": [
           {
            "colorbar": {
             "outlinewidth": 0,
             "ticks": ""
            },
            "colorscale": [
             [
              0,
              "#0d0887"
             ],
             [
              0.1111111111111111,
              "#46039f"
             ],
             [
              0.2222222222222222,
              "#7201a8"
             ],
             [
              0.3333333333333333,
              "#9c179e"
             ],
             [
              0.4444444444444444,
              "#bd3786"
             ],
             [
              0.5555555555555556,
              "#d8576b"
             ],
             [
              0.6666666666666666,
              "#ed7953"
             ],
             [
              0.7777777777777778,
              "#fb9f3a"
             ],
             [
              0.8888888888888888,
              "#fdca26"
             ],
             [
              1,
              "#f0f921"
             ]
            ],
            "type": "heatmap"
           }
          ],
          "heatmapgl": [
           {
            "colorbar": {
             "outlinewidth": 0,
             "ticks": ""
            },
            "colorscale": [
             [
              0,
              "#0d0887"
             ],
             [
              0.1111111111111111,
              "#46039f"
             ],
             [
              0.2222222222222222,
              "#7201a8"
             ],
             [
              0.3333333333333333,
              "#9c179e"
             ],
             [
              0.4444444444444444,
              "#bd3786"
             ],
             [
              0.5555555555555556,
              "#d8576b"
             ],
             [
              0.6666666666666666,
              "#ed7953"
             ],
             [
              0.7777777777777778,
              "#fb9f3a"
             ],
             [
              0.8888888888888888,
              "#fdca26"
             ],
             [
              1,
              "#f0f921"
             ]
            ],
            "type": "heatmapgl"
           }
          ],
          "histogram": [
           {
            "marker": {
             "colorbar": {
              "outlinewidth": 0,
              "ticks": ""
             }
            },
            "type": "histogram"
           }
          ],
          "histogram2d": [
           {
            "colorbar": {
             "outlinewidth": 0,
             "ticks": ""
            },
            "colorscale": [
             [
              0,
              "#0d0887"
             ],
             [
              0.1111111111111111,
              "#46039f"
             ],
             [
              0.2222222222222222,
              "#7201a8"
             ],
             [
              0.3333333333333333,
              "#9c179e"
             ],
             [
              0.4444444444444444,
              "#bd3786"
             ],
             [
              0.5555555555555556,
              "#d8576b"
             ],
             [
              0.6666666666666666,
              "#ed7953"
             ],
             [
              0.7777777777777778,
              "#fb9f3a"
             ],
             [
              0.8888888888888888,
              "#fdca26"
             ],
             [
              1,
              "#f0f921"
             ]
            ],
            "type": "histogram2d"
           }
          ],
          "histogram2dcontour": [
           {
            "colorbar": {
             "outlinewidth": 0,
             "ticks": ""
            },
            "colorscale": [
             [
              0,
              "#0d0887"
             ],
             [
              0.1111111111111111,
              "#46039f"
             ],
             [
              0.2222222222222222,
              "#7201a8"
             ],
             [
              0.3333333333333333,
              "#9c179e"
             ],
             [
              0.4444444444444444,
              "#bd3786"
             ],
             [
              0.5555555555555556,
              "#d8576b"
             ],
             [
              0.6666666666666666,
              "#ed7953"
             ],
             [
              0.7777777777777778,
              "#fb9f3a"
             ],
             [
              0.8888888888888888,
              "#fdca26"
             ],
             [
              1,
              "#f0f921"
             ]
            ],
            "type": "histogram2dcontour"
           }
          ],
          "mesh3d": [
           {
            "colorbar": {
             "outlinewidth": 0,
             "ticks": ""
            },
            "type": "mesh3d"
           }
          ],
          "parcoords": [
           {
            "line": {
             "colorbar": {
              "outlinewidth": 0,
              "ticks": ""
             }
            },
            "type": "parcoords"
           }
          ],
          "pie": [
           {
            "automargin": true,
            "type": "pie"
           }
          ],
          "scatter": [
           {
            "marker": {
             "colorbar": {
              "outlinewidth": 0,
              "ticks": ""
             }
            },
            "type": "scatter"
           }
          ],
          "scatter3d": [
           {
            "line": {
             "colorbar": {
              "outlinewidth": 0,
              "ticks": ""
             }
            },
            "marker": {
             "colorbar": {
              "outlinewidth": 0,
              "ticks": ""
             }
            },
            "type": "scatter3d"
           }
          ],
          "scattercarpet": [
           {
            "marker": {
             "colorbar": {
              "outlinewidth": 0,
              "ticks": ""
             }
            },
            "type": "scattercarpet"
           }
          ],
          "scattergeo": [
           {
            "marker": {
             "colorbar": {
              "outlinewidth": 0,
              "ticks": ""
             }
            },
            "type": "scattergeo"
           }
          ],
          "scattergl": [
           {
            "marker": {
             "colorbar": {
              "outlinewidth": 0,
              "ticks": ""
             }
            },
            "type": "scattergl"
           }
          ],
          "scattermapbox": [
           {
            "marker": {
             "colorbar": {
              "outlinewidth": 0,
              "ticks": ""
             }
            },
            "type": "scattermapbox"
           }
          ],
          "scatterpolar": [
           {
            "marker": {
             "colorbar": {
              "outlinewidth": 0,
              "ticks": ""
             }
            },
            "type": "scatterpolar"
           }
          ],
          "scatterpolargl": [
           {
            "marker": {
             "colorbar": {
              "outlinewidth": 0,
              "ticks": ""
             }
            },
            "type": "scatterpolargl"
           }
          ],
          "scatterternary": [
           {
            "marker": {
             "colorbar": {
              "outlinewidth": 0,
              "ticks": ""
             }
            },
            "type": "scatterternary"
           }
          ],
          "surface": [
           {
            "colorbar": {
             "outlinewidth": 0,
             "ticks": ""
            },
            "colorscale": [
             [
              0,
              "#0d0887"
             ],
             [
              0.1111111111111111,
              "#46039f"
             ],
             [
              0.2222222222222222,
              "#7201a8"
             ],
             [
              0.3333333333333333,
              "#9c179e"
             ],
             [
              0.4444444444444444,
              "#bd3786"
             ],
             [
              0.5555555555555556,
              "#d8576b"
             ],
             [
              0.6666666666666666,
              "#ed7953"
             ],
             [
              0.7777777777777778,
              "#fb9f3a"
             ],
             [
              0.8888888888888888,
              "#fdca26"
             ],
             [
              1,
              "#f0f921"
             ]
            ],
            "type": "surface"
           }
          ],
          "table": [
           {
            "cells": {
             "fill": {
              "color": "#EBF0F8"
             },
             "line": {
              "color": "white"
             }
            },
            "header": {
             "fill": {
              "color": "#C8D4E3"
             },
             "line": {
              "color": "white"
             }
            },
            "type": "table"
           }
          ]
         },
         "layout": {
          "annotationdefaults": {
           "arrowcolor": "#2a3f5f",
           "arrowhead": 0,
           "arrowwidth": 1
          },
          "autotypenumbers": "strict",
          "coloraxis": {
           "colorbar": {
            "outlinewidth": 0,
            "ticks": ""
           }
          },
          "colorscale": {
           "diverging": [
            [
             0,
             "#8e0152"
            ],
            [
             0.1,
             "#c51b7d"
            ],
            [
             0.2,
             "#de77ae"
            ],
            [
             0.3,
             "#f1b6da"
            ],
            [
             0.4,
             "#fde0ef"
            ],
            [
             0.5,
             "#f7f7f7"
            ],
            [
             0.6,
             "#e6f5d0"
            ],
            [
             0.7,
             "#b8e186"
            ],
            [
             0.8,
             "#7fbc41"
            ],
            [
             0.9,
             "#4d9221"
            ],
            [
             1,
             "#276419"
            ]
           ],
           "sequential": [
            [
             0,
             "#0d0887"
            ],
            [
             0.1111111111111111,
             "#46039f"
            ],
            [
             0.2222222222222222,
             "#7201a8"
            ],
            [
             0.3333333333333333,
             "#9c179e"
            ],
            [
             0.4444444444444444,
             "#bd3786"
            ],
            [
             0.5555555555555556,
             "#d8576b"
            ],
            [
             0.6666666666666666,
             "#ed7953"
            ],
            [
             0.7777777777777778,
             "#fb9f3a"
            ],
            [
             0.8888888888888888,
             "#fdca26"
            ],
            [
             1,
             "#f0f921"
            ]
           ],
           "sequentialminus": [
            [
             0,
             "#0d0887"
            ],
            [
             0.1111111111111111,
             "#46039f"
            ],
            [
             0.2222222222222222,
             "#7201a8"
            ],
            [
             0.3333333333333333,
             "#9c179e"
            ],
            [
             0.4444444444444444,
             "#bd3786"
            ],
            [
             0.5555555555555556,
             "#d8576b"
            ],
            [
             0.6666666666666666,
             "#ed7953"
            ],
            [
             0.7777777777777778,
             "#fb9f3a"
            ],
            [
             0.8888888888888888,
             "#fdca26"
            ],
            [
             1,
             "#f0f921"
            ]
           ]
          },
          "colorway": [
           "#636efa",
           "#EF553B",
           "#00cc96",
           "#ab63fa",
           "#FFA15A",
           "#19d3f3",
           "#FF6692",
           "#B6E880",
           "#FF97FF",
           "#FECB52"
          ],
          "font": {
           "color": "#2a3f5f"
          },
          "geo": {
           "bgcolor": "white",
           "lakecolor": "white",
           "landcolor": "#E5ECF6",
           "showlakes": true,
           "showland": true,
           "subunitcolor": "white"
          },
          "hoverlabel": {
           "align": "left"
          },
          "hovermode": "closest",
          "mapbox": {
           "style": "light"
          },
          "paper_bgcolor": "white",
          "plot_bgcolor": "#E5ECF6",
          "polar": {
           "angularaxis": {
            "gridcolor": "white",
            "linecolor": "white",
            "ticks": ""
           },
           "bgcolor": "#E5ECF6",
           "radialaxis": {
            "gridcolor": "white",
            "linecolor": "white",
            "ticks": ""
           }
          },
          "scene": {
           "xaxis": {
            "backgroundcolor": "#E5ECF6",
            "gridcolor": "white",
            "gridwidth": 2,
            "linecolor": "white",
            "showbackground": true,
            "ticks": "",
            "zerolinecolor": "white"
           },
           "yaxis": {
            "backgroundcolor": "#E5ECF6",
            "gridcolor": "white",
            "gridwidth": 2,
            "linecolor": "white",
            "showbackground": true,
            "ticks": "",
            "zerolinecolor": "white"
           },
           "zaxis": {
            "backgroundcolor": "#E5ECF6",
            "gridcolor": "white",
            "gridwidth": 2,
            "linecolor": "white",
            "showbackground": true,
            "ticks": "",
            "zerolinecolor": "white"
           }
          },
          "shapedefaults": {
           "line": {
            "color": "#2a3f5f"
           }
          },
          "ternary": {
           "aaxis": {
            "gridcolor": "white",
            "linecolor": "white",
            "ticks": ""
           },
           "baxis": {
            "gridcolor": "white",
            "linecolor": "white",
            "ticks": ""
           },
           "bgcolor": "#E5ECF6",
           "caxis": {
            "gridcolor": "white",
            "linecolor": "white",
            "ticks": ""
           }
          },
          "title": {
           "x": 0.05
          },
          "xaxis": {
           "automargin": true,
           "gridcolor": "white",
           "linecolor": "white",
           "ticks": "",
           "title": {
            "standoff": 15
           },
           "zerolinecolor": "white",
           "zerolinewidth": 2
          },
          "yaxis": {
           "automargin": true,
           "gridcolor": "white",
           "linecolor": "white",
           "ticks": "",
           "title": {
            "standoff": 15
           },
           "zerolinecolor": "white",
           "zerolinewidth": 2
          }
         }
        },
        "xaxis": {
         "anchor": "y",
         "domain": [
          0,
          1
         ],
         "title": {
          "text": "era"
         }
        },
        "yaxis": {
         "anchor": "x",
         "domain": [
          0,
          1
         ],
         "title": {
          "text": "value"
         }
        }
       }
      }
     },
     "metadata": {},
     "output_type": "display_data"
    }
   ],
   "source": [
    "predictions = model.predict(validation_set[feature_names])\n",
    "\n",
    "# validation correlation by era\n",
    "validation_set[\"prediction\"] = predictions\n",
    "era_correlations = validation_set.groupby(\"era\").apply(\n",
    "    lambda era: np.corrcoef(era[\"prediction\"], era[\"target\"])[0, 1]\n",
    ")\n",
    "\n",
    "!pip install --upgrade plotly\n",
    "\n",
    "import plotly.express as px\n",
    "\n",
    "# plot era correlations bar graph, each bar is a correlation between prediction and target by era\n",
    "fig = px.bar(era_correlations)\n",
    "fig.show()"
   ]
  },
  {
   "cell_type": "code",
   "execution_count": 23,
   "metadata": {},
   "outputs": [
    {
     "name": "stderr",
     "output_type": "stream",
     "text": [
      "data/numerai_training_data.parquet:   0%|          | 0.00/1.01G [32:28<?, ?B/s]\n"
     ]
    },
    {
     "data": {
      "application/vnd.plotly.v1+json": {
       "config": {
        "plotlyServerURL": "https://plot.ly"
       },
       "data": [
        {
         "alignmentgroup": "True",
         "hovertemplate": "variable=0<br>era=%{x}<br>value=%{y}<extra></extra>",
         "legendgroup": "0",
         "marker": {
          "color": "#636efa"
         },
         "name": "0",
         "offsetgroup": "0",
         "orientation": "v",
         "showlegend": true,
         "textposition": "auto",
         "type": "bar",
         "x": [
          "0857",
          "0858",
          "0859",
          "0860",
          "0861",
          "0862",
          "0863",
          "0864",
          "0865",
          "0866",
          "0867",
          "0868",
          "0869",
          "0870",
          "0871",
          "0872",
          "0873",
          "0874",
          "0875",
          "0876",
          "0877",
          "0878",
          "0879",
          "0880",
          "0881",
          "0882",
          "0883",
          "0884",
          "0885",
          "0886",
          "0887",
          "0888",
          "0889",
          "0890",
          "0891",
          "0892",
          "0893",
          "0894",
          "0895",
          "0896",
          "0897",
          "0898",
          "0899",
          "0900",
          "0901",
          "0902",
          "0903",
          "0904",
          "0905",
          "0906",
          "0907",
          "0908",
          "0909",
          "0910",
          "0911",
          "0912",
          "0913",
          "0914",
          "0915",
          "0916",
          "0917",
          "0918",
          "0919",
          "0920",
          "0921",
          "0922",
          "0923",
          "0924",
          "0925",
          "0926",
          "0927",
          "0928",
          "0929",
          "0930",
          "0931",
          "0932",
          "0933",
          "0934",
          "0935",
          "0936",
          "0937",
          "0938",
          "0939",
          "0940",
          "0941",
          "0942",
          "0943",
          "0944",
          "0945",
          "0946",
          "0947",
          "0948",
          "0949",
          "0950",
          "0951",
          "0952",
          "0953",
          "0954",
          "0955",
          "0956",
          "0957",
          "0958",
          "0959",
          "0960",
          "0961"
         ],
         "xaxis": "x",
         "y": [
          0.026457980952834415,
          0.058983987349145964,
          0.09139690643344475,
          0.11665234782376765,
          0.10848469234866077,
          0.1059361185631268,
          0.10486807340791937,
          0.08874005834658713,
          0.0797788974761741,
          0.05393183083588787,
          0.042159915370578026,
          0.022423309982918048,
          0.013853682649678959,
          0.0035618136319990317,
          0.004083124497083562,
          0.01018059097429938,
          0.00754009528338985,
          0.03160825797560782,
          0.030901675329676737,
          0.019993670918382653,
          0.05247358565651879,
          0.08156496030566754,
          0.11746526249348854,
          0.1476393008530184,
          0.16656549161334455,
          0.17788087007806744,
          0.19097650550254358,
          0.18902513113848338,
          0.20844602795557504,
          0.19121860427411283,
          0.18470463381850974,
          0.1770818289035116,
          0.1714301111537333,
          0.1743078154728383,
          0.19172488561098616,
          0.1973911194275408,
          0.18803366495742035,
          0.21102181733868658,
          0.22370672467807448,
          0.21486918816227343,
          0.22193820211188142,
          0.2621778651608333,
          0.28677584661546074,
          0.3315205100285387,
          0.36280439835404843,
          0.37337922085799924,
          0.3933534487988248,
          0.4005495942188646,
          0.3946573358960954,
          0.3591613017633386,
          0.30715911103282445,
          0.294489667529781,
          0.28602633976443387,
          0.3060864889046564,
          0.33551610249313807,
          0.3511173269437599,
          0.33890919486463156,
          0.3331404581474135,
          0.3197318455716092,
          0.3273371722916519,
          0.3359954105987243,
          0.32594012666644573,
          0.33835843470131893,
          0.33715072457959655,
          0.3468661286724721,
          0.350239546167338,
          0.3390053156303412,
          0.33227912366491125,
          0.31799038222131376,
          0.30072355795430833,
          0.3005357683956795,
          0.2788785798310288,
          0.2626299958238958,
          0.26318028246689096,
          0.25138581590803916,
          0.2717627154479228,
          0.28622331611741375,
          0.31149292048516364,
          0.3166567255241672,
          0.3248107543384716,
          0.35056156628125257,
          0.3605146335481006,
          0.39934054331018815,
          0.4416872316136108,
          0.4651595925211725,
          0.49518792187559246,
          0.5236892122502921,
          0.5389553509295875,
          0.5922599336651787,
          0.6390753228243777,
          0.6787648679954054,
          0.7113320811700209,
          0.7191462275985836,
          0.7162302942664203,
          0.7247384229931192,
          0.7467135996507333,
          0.782128434404927,
          0.8104986333460596,
          0.8603525138006783,
          0.8787623172000619,
          0.8878851359697018,
          0.9052783312290357,
          0.90244468701908,
          0.9008993036032308,
          0.9025426044511163
         ],
         "yaxis": "y"
        }
       ],
       "layout": {
        "barmode": "relative",
        "legend": {
         "title": {
          "text": "variable"
         },
         "tracegroupgap": 0
        },
        "margin": {
         "t": 60
        },
        "template": {
         "data": {
          "bar": [
           {
            "error_x": {
             "color": "#2a3f5f"
            },
            "error_y": {
             "color": "#2a3f5f"
            },
            "marker": {
             "line": {
              "color": "#E5ECF6",
              "width": 0.5
             }
            },
            "type": "bar"
           }
          ],
          "barpolar": [
           {
            "marker": {
             "line": {
              "color": "#E5ECF6",
              "width": 0.5
             }
            },
            "type": "barpolar"
           }
          ],
          "carpet": [
           {
            "aaxis": {
             "endlinecolor": "#2a3f5f",
             "gridcolor": "white",
             "linecolor": "white",
             "minorgridcolor": "white",
             "startlinecolor": "#2a3f5f"
            },
            "baxis": {
             "endlinecolor": "#2a3f5f",
             "gridcolor": "white",
             "linecolor": "white",
             "minorgridcolor": "white",
             "startlinecolor": "#2a3f5f"
            },
            "type": "carpet"
           }
          ],
          "choropleth": [
           {
            "colorbar": {
             "outlinewidth": 0,
             "ticks": ""
            },
            "type": "choropleth"
           }
          ],
          "contour": [
           {
            "colorbar": {
             "outlinewidth": 0,
             "ticks": ""
            },
            "colorscale": [
             [
              0,
              "#0d0887"
             ],
             [
              0.1111111111111111,
              "#46039f"
             ],
             [
              0.2222222222222222,
              "#7201a8"
             ],
             [
              0.3333333333333333,
              "#9c179e"
             ],
             [
              0.4444444444444444,
              "#bd3786"
             ],
             [
              0.5555555555555556,
              "#d8576b"
             ],
             [
              0.6666666666666666,
              "#ed7953"
             ],
             [
              0.7777777777777778,
              "#fb9f3a"
             ],
             [
              0.8888888888888888,
              "#fdca26"
             ],
             [
              1,
              "#f0f921"
             ]
            ],
            "type": "contour"
           }
          ],
          "contourcarpet": [
           {
            "colorbar": {
             "outlinewidth": 0,
             "ticks": ""
            },
            "type": "contourcarpet"
           }
          ],
          "heatmap": [
           {
            "colorbar": {
             "outlinewidth": 0,
             "ticks": ""
            },
            "colorscale": [
             [
              0,
              "#0d0887"
             ],
             [
              0.1111111111111111,
              "#46039f"
             ],
             [
              0.2222222222222222,
              "#7201a8"
             ],
             [
              0.3333333333333333,
              "#9c179e"
             ],
             [
              0.4444444444444444,
              "#bd3786"
             ],
             [
              0.5555555555555556,
              "#d8576b"
             ],
             [
              0.6666666666666666,
              "#ed7953"
             ],
             [
              0.7777777777777778,
              "#fb9f3a"
             ],
             [
              0.8888888888888888,
              "#fdca26"
             ],
             [
              1,
              "#f0f921"
             ]
            ],
            "type": "heatmap"
           }
          ],
          "heatmapgl": [
           {
            "colorbar": {
             "outlinewidth": 0,
             "ticks": ""
            },
            "colorscale": [
             [
              0,
              "#0d0887"
             ],
             [
              0.1111111111111111,
              "#46039f"
             ],
             [
              0.2222222222222222,
              "#7201a8"
             ],
             [
              0.3333333333333333,
              "#9c179e"
             ],
             [
              0.4444444444444444,
              "#bd3786"
             ],
             [
              0.5555555555555556,
              "#d8576b"
             ],
             [
              0.6666666666666666,
              "#ed7953"
             ],
             [
              0.7777777777777778,
              "#fb9f3a"
             ],
             [
              0.8888888888888888,
              "#fdca26"
             ],
             [
              1,
              "#f0f921"
             ]
            ],
            "type": "heatmapgl"
           }
          ],
          "histogram": [
           {
            "marker": {
             "colorbar": {
              "outlinewidth": 0,
              "ticks": ""
             }
            },
            "type": "histogram"
           }
          ],
          "histogram2d": [
           {
            "colorbar": {
             "outlinewidth": 0,
             "ticks": ""
            },
            "colorscale": [
             [
              0,
              "#0d0887"
             ],
             [
              0.1111111111111111,
              "#46039f"
             ],
             [
              0.2222222222222222,
              "#7201a8"
             ],
             [
              0.3333333333333333,
              "#9c179e"
             ],
             [
              0.4444444444444444,
              "#bd3786"
             ],
             [
              0.5555555555555556,
              "#d8576b"
             ],
             [
              0.6666666666666666,
              "#ed7953"
             ],
             [
              0.7777777777777778,
              "#fb9f3a"
             ],
             [
              0.8888888888888888,
              "#fdca26"
             ],
             [
              1,
              "#f0f921"
             ]
            ],
            "type": "histogram2d"
           }
          ],
          "histogram2dcontour": [
           {
            "colorbar": {
             "outlinewidth": 0,
             "ticks": ""
            },
            "colorscale": [
             [
              0,
              "#0d0887"
             ],
             [
              0.1111111111111111,
              "#46039f"
             ],
             [
              0.2222222222222222,
              "#7201a8"
             ],
             [
              0.3333333333333333,
              "#9c179e"
             ],
             [
              0.4444444444444444,
              "#bd3786"
             ],
             [
              0.5555555555555556,
              "#d8576b"
             ],
             [
              0.6666666666666666,
              "#ed7953"
             ],
             [
              0.7777777777777778,
              "#fb9f3a"
             ],
             [
              0.8888888888888888,
              "#fdca26"
             ],
             [
              1,
              "#f0f921"
             ]
            ],
            "type": "histogram2dcontour"
           }
          ],
          "mesh3d": [
           {
            "colorbar": {
             "outlinewidth": 0,
             "ticks": ""
            },
            "type": "mesh3d"
           }
          ],
          "parcoords": [
           {
            "line": {
             "colorbar": {
              "outlinewidth": 0,
              "ticks": ""
             }
            },
            "type": "parcoords"
           }
          ],
          "pie": [
           {
            "automargin": true,
            "type": "pie"
           }
          ],
          "scatter": [
           {
            "marker": {
             "colorbar": {
              "outlinewidth": 0,
              "ticks": ""
             }
            },
            "type": "scatter"
           }
          ],
          "scatter3d": [
           {
            "line": {
             "colorbar": {
              "outlinewidth": 0,
              "ticks": ""
             }
            },
            "marker": {
             "colorbar": {
              "outlinewidth": 0,
              "ticks": ""
             }
            },
            "type": "scatter3d"
           }
          ],
          "scattercarpet": [
           {
            "marker": {
             "colorbar": {
              "outlinewidth": 0,
              "ticks": ""
             }
            },
            "type": "scattercarpet"
           }
          ],
          "scattergeo": [
           {
            "marker": {
             "colorbar": {
              "outlinewidth": 0,
              "ticks": ""
             }
            },
            "type": "scattergeo"
           }
          ],
          "scattergl": [
           {
            "marker": {
             "colorbar": {
              "outlinewidth": 0,
              "ticks": ""
             }
            },
            "type": "scattergl"
           }
          ],
          "scattermapbox": [
           {
            "marker": {
             "colorbar": {
              "outlinewidth": 0,
              "ticks": ""
             }
            },
            "type": "scattermapbox"
           }
          ],
          "scatterpolar": [
           {
            "marker": {
             "colorbar": {
              "outlinewidth": 0,
              "ticks": ""
             }
            },
            "type": "scatterpolar"
           }
          ],
          "scatterpolargl": [
           {
            "marker": {
             "colorbar": {
              "outlinewidth": 0,
              "ticks": ""
             }
            },
            "type": "scatterpolargl"
           }
          ],
          "scatterternary": [
           {
            "marker": {
             "colorbar": {
              "outlinewidth": 0,
              "ticks": ""
             }
            },
            "type": "scatterternary"
           }
          ],
          "surface": [
           {
            "colorbar": {
             "outlinewidth": 0,
             "ticks": ""
            },
            "colorscale": [
             [
              0,
              "#0d0887"
             ],
             [
              0.1111111111111111,
              "#46039f"
             ],
             [
              0.2222222222222222,
              "#7201a8"
             ],
             [
              0.3333333333333333,
              "#9c179e"
             ],
             [
              0.4444444444444444,
              "#bd3786"
             ],
             [
              0.5555555555555556,
              "#d8576b"
             ],
             [
              0.6666666666666666,
              "#ed7953"
             ],
             [
              0.7777777777777778,
              "#fb9f3a"
             ],
             [
              0.8888888888888888,
              "#fdca26"
             ],
             [
              1,
              "#f0f921"
             ]
            ],
            "type": "surface"
           }
          ],
          "table": [
           {
            "cells": {
             "fill": {
              "color": "#EBF0F8"
             },
             "line": {
              "color": "white"
             }
            },
            "header": {
             "fill": {
              "color": "#C8D4E3"
             },
             "line": {
              "color": "white"
             }
            },
            "type": "table"
           }
          ]
         },
         "layout": {
          "annotationdefaults": {
           "arrowcolor": "#2a3f5f",
           "arrowhead": 0,
           "arrowwidth": 1
          },
          "autotypenumbers": "strict",
          "coloraxis": {
           "colorbar": {
            "outlinewidth": 0,
            "ticks": ""
           }
          },
          "colorscale": {
           "diverging": [
            [
             0,
             "#8e0152"
            ],
            [
             0.1,
             "#c51b7d"
            ],
            [
             0.2,
             "#de77ae"
            ],
            [
             0.3,
             "#f1b6da"
            ],
            [
             0.4,
             "#fde0ef"
            ],
            [
             0.5,
             "#f7f7f7"
            ],
            [
             0.6,
             "#e6f5d0"
            ],
            [
             0.7,
             "#b8e186"
            ],
            [
             0.8,
             "#7fbc41"
            ],
            [
             0.9,
             "#4d9221"
            ],
            [
             1,
             "#276419"
            ]
           ],
           "sequential": [
            [
             0,
             "#0d0887"
            ],
            [
             0.1111111111111111,
             "#46039f"
            ],
            [
             0.2222222222222222,
             "#7201a8"
            ],
            [
             0.3333333333333333,
             "#9c179e"
            ],
            [
             0.4444444444444444,
             "#bd3786"
            ],
            [
             0.5555555555555556,
             "#d8576b"
            ],
            [
             0.6666666666666666,
             "#ed7953"
            ],
            [
             0.7777777777777778,
             "#fb9f3a"
            ],
            [
             0.8888888888888888,
             "#fdca26"
            ],
            [
             1,
             "#f0f921"
            ]
           ],
           "sequentialminus": [
            [
             0,
             "#0d0887"
            ],
            [
             0.1111111111111111,
             "#46039f"
            ],
            [
             0.2222222222222222,
             "#7201a8"
            ],
            [
             0.3333333333333333,
             "#9c179e"
            ],
            [
             0.4444444444444444,
             "#bd3786"
            ],
            [
             0.5555555555555556,
             "#d8576b"
            ],
            [
             0.6666666666666666,
             "#ed7953"
            ],
            [
             0.7777777777777778,
             "#fb9f3a"
            ],
            [
             0.8888888888888888,
             "#fdca26"
            ],
            [
             1,
             "#f0f921"
            ]
           ]
          },
          "colorway": [
           "#636efa",
           "#EF553B",
           "#00cc96",
           "#ab63fa",
           "#FFA15A",
           "#19d3f3",
           "#FF6692",
           "#B6E880",
           "#FF97FF",
           "#FECB52"
          ],
          "font": {
           "color": "#2a3f5f"
          },
          "geo": {
           "bgcolor": "white",
           "lakecolor": "white",
           "landcolor": "#E5ECF6",
           "showlakes": true,
           "showland": true,
           "subunitcolor": "white"
          },
          "hoverlabel": {
           "align": "left"
          },
          "hovermode": "closest",
          "mapbox": {
           "style": "light"
          },
          "paper_bgcolor": "white",
          "plot_bgcolor": "#E5ECF6",
          "polar": {
           "angularaxis": {
            "gridcolor": "white",
            "linecolor": "white",
            "ticks": ""
           },
           "bgcolor": "#E5ECF6",
           "radialaxis": {
            "gridcolor": "white",
            "linecolor": "white",
            "ticks": ""
           }
          },
          "scene": {
           "xaxis": {
            "backgroundcolor": "#E5ECF6",
            "gridcolor": "white",
            "gridwidth": 2,
            "linecolor": "white",
            "showbackground": true,
            "ticks": "",
            "zerolinecolor": "white"
           },
           "yaxis": {
            "backgroundcolor": "#E5ECF6",
            "gridcolor": "white",
            "gridwidth": 2,
            "linecolor": "white",
            "showbackground": true,
            "ticks": "",
            "zerolinecolor": "white"
           },
           "zaxis": {
            "backgroundcolor": "#E5ECF6",
            "gridcolor": "white",
            "gridwidth": 2,
            "linecolor": "white",
            "showbackground": true,
            "ticks": "",
            "zerolinecolor": "white"
           }
          },
          "shapedefaults": {
           "line": {
            "color": "#2a3f5f"
           }
          },
          "ternary": {
           "aaxis": {
            "gridcolor": "white",
            "linecolor": "white",
            "ticks": ""
           },
           "baxis": {
            "gridcolor": "white",
            "linecolor": "white",
            "ticks": ""
           },
           "bgcolor": "#E5ECF6",
           "caxis": {
            "gridcolor": "white",
            "linecolor": "white",
            "ticks": ""
           }
          },
          "title": {
           "x": 0.05
          },
          "xaxis": {
           "automargin": true,
           "gridcolor": "white",
           "linecolor": "white",
           "ticks": "",
           "title": {
            "standoff": 15
           },
           "zerolinecolor": "white",
           "zerolinewidth": 2
          },
          "yaxis": {
           "automargin": true,
           "gridcolor": "white",
           "linecolor": "white",
           "ticks": "",
           "title": {
            "standoff": 15
           },
           "zerolinecolor": "white",
           "zerolinewidth": 2
          }
         }
        },
        "xaxis": {
         "anchor": "y",
         "domain": [
          0,
          1
         ],
         "title": {
          "text": "era"
         }
        },
        "yaxis": {
         "anchor": "x",
         "domain": [
          0,
          1
         ],
         "title": {
          "text": "value"
         }
        }
       }
      }
     },
     "metadata": {},
     "output_type": "display_data"
    }
   ],
   "source": [
    "# cumulative sum of era correlations\n",
    "# era correlations are used to calculate returns\n",
    "# taking the cumulative sum of era correlations can estimate the expected returns without compounding\n",
    "\n",
    "cum_sum = np.cumsum(era_correlations)\n",
    "\n",
    "fig = px.bar(cum_sum)\n",
    "fig.show()"
   ]
  },
  {
   "cell_type": "code",
   "execution_count": 24,
   "metadata": {},
   "outputs": [
    {
     "name": "stdout",
     "output_type": "stream",
     "text": [
      "Collecting catboost\n",
      "  Downloading catboost-1.0.4-cp37-none-manylinux1_x86_64.whl (76.1 MB)\n",
      "\u001b[2K     \u001b[38;2;114;156;31m━━━━━━━━━━━━━━━━━━━━━━━━━━━━━━━━━━━━━━━━\u001b[0m \u001b[32m76.1/76.1 MB\u001b[0m \u001b[31m7.7 MB/s\u001b[0m eta \u001b[36m0:00:00\u001b[0m0m eta \u001b[36m0:00:01\u001b[0m[36m0:00:01\u001b[0m\n",
      "\u001b[?25hRequirement already satisfied: six in /home/jacobstahl/anaconda3/lib/python3.7/site-packages (from catboost) (1.15.0)\n",
      "Requirement already satisfied: matplotlib in /home/jacobstahl/anaconda3/lib/python3.7/site-packages (from catboost) (3.4.3)\n",
      "Collecting graphviz\n",
      "  Downloading graphviz-0.19.1-py3-none-any.whl (46 kB)\n",
      "\u001b[2K     \u001b[38;2;114;156;31m━━━━━━━━━━━━━━━━━━━━━━━━━━━━━━━━━━━━━━━━\u001b[0m \u001b[32m46.3/46.3 KB\u001b[0m \u001b[31m7.0 MB/s\u001b[0m eta \u001b[36m0:00:00\u001b[0m\n",
      "\u001b[?25hRequirement already satisfied: numpy>=1.16.0 in /home/jacobstahl/anaconda3/lib/python3.7/site-packages (from catboost) (1.19.2)\n",
      "Requirement already satisfied: pandas>=0.24.0 in /home/jacobstahl/anaconda3/lib/python3.7/site-packages (from catboost) (1.1.4)\n",
      "Requirement already satisfied: plotly in /home/jacobstahl/anaconda3/lib/python3.7/site-packages (from catboost) (5.5.0)\n",
      "Requirement already satisfied: scipy in /home/jacobstahl/anaconda3/lib/python3.7/site-packages (from catboost) (1.6.1)\n",
      "Requirement already satisfied: python-dateutil>=2.7.3 in /home/jacobstahl/anaconda3/lib/python3.7/site-packages (from pandas>=0.24.0->catboost) (2.8.1)\n",
      "Requirement already satisfied: pytz>=2017.2 in /home/jacobstahl/anaconda3/lib/python3.7/site-packages (from pandas>=0.24.0->catboost) (2021.1)\n",
      "Requirement already satisfied: kiwisolver>=1.0.1 in /home/jacobstahl/anaconda3/lib/python3.7/site-packages (from matplotlib->catboost) (1.3.1)\n",
      "Requirement already satisfied: pillow>=6.2.0 in /home/jacobstahl/anaconda3/lib/python3.7/site-packages (from matplotlib->catboost) (8.1.0)\n",
      "Requirement already satisfied: cycler>=0.10 in /home/jacobstahl/anaconda3/lib/python3.7/site-packages (from matplotlib->catboost) (0.10.0)\n",
      "Requirement already satisfied: pyparsing>=2.2.1 in /home/jacobstahl/anaconda3/lib/python3.7/site-packages (from matplotlib->catboost) (2.4.7)\n",
      "Requirement already satisfied: tenacity>=6.2.0 in /home/jacobstahl/anaconda3/lib/python3.7/site-packages (from plotly->catboost) (8.0.1)\n",
      "Installing collected packages: graphviz, catboost\n",
      "Successfully installed catboost-1.0.4 graphviz-0.19.1\n",
      "0:\tlearn: 0.2241412\ttotal: 92.3ms\tremaining: 1m 32s\n",
      "1:\tlearn: 0.2241362\ttotal: 141ms\tremaining: 1m 10s\n",
      "2:\tlearn: 0.2241318\ttotal: 188ms\tremaining: 1m 2s\n",
      "3:\tlearn: 0.2241285\ttotal: 229ms\tremaining: 57s\n",
      "4:\tlearn: 0.2241240\ttotal: 275ms\tremaining: 54.7s\n",
      "5:\tlearn: 0.2241190\ttotal: 326ms\tremaining: 54s\n",
      "6:\tlearn: 0.2241153\ttotal: 376ms\tremaining: 53.4s\n",
      "7:\tlearn: 0.2241108\ttotal: 421ms\tremaining: 52.2s\n",
      "8:\tlearn: 0.2241067\ttotal: 471ms\tremaining: 51.8s\n",
      "9:\tlearn: 0.2241032\ttotal: 515ms\tremaining: 50.9s\n",
      "10:\tlearn: 0.2240990\ttotal: 561ms\tremaining: 50.4s\n",
      "11:\tlearn: 0.2240941\ttotal: 614ms\tremaining: 50.6s\n",
      "12:\tlearn: 0.2240895\ttotal: 659ms\tremaining: 50s\n",
      "13:\tlearn: 0.2240850\ttotal: 706ms\tremaining: 49.8s\n",
      "14:\tlearn: 0.2240801\ttotal: 750ms\tremaining: 49.2s\n",
      "15:\tlearn: 0.2240759\ttotal: 804ms\tremaining: 49.4s\n",
      "16:\tlearn: 0.2240723\ttotal: 857ms\tremaining: 49.6s\n",
      "17:\tlearn: 0.2240690\ttotal: 913ms\tremaining: 49.8s\n",
      "18:\tlearn: 0.2240656\ttotal: 961ms\tremaining: 49.6s\n",
      "19:\tlearn: 0.2240619\ttotal: 1.01s\tremaining: 49.3s\n",
      "20:\tlearn: 0.2240573\ttotal: 1.06s\tremaining: 49.3s\n",
      "21:\tlearn: 0.2240524\ttotal: 1.11s\tremaining: 49.4s\n",
      "22:\tlearn: 0.2240479\ttotal: 1.16s\tremaining: 49.3s\n",
      "23:\tlearn: 0.2240437\ttotal: 1.21s\tremaining: 49.3s\n",
      "24:\tlearn: 0.2240404\ttotal: 1.27s\tremaining: 49.6s\n",
      "25:\tlearn: 0.2240366\ttotal: 1.32s\tremaining: 49.6s\n",
      "26:\tlearn: 0.2240325\ttotal: 1.37s\tremaining: 49.4s\n",
      "27:\tlearn: 0.2240275\ttotal: 1.43s\tremaining: 49.6s\n",
      "28:\tlearn: 0.2240242\ttotal: 1.49s\tremaining: 49.8s\n",
      "29:\tlearn: 0.2240201\ttotal: 1.53s\tremaining: 49.6s\n",
      "30:\tlearn: 0.2240160\ttotal: 1.58s\tremaining: 49.4s\n",
      "31:\tlearn: 0.2240111\ttotal: 1.63s\tremaining: 49.4s\n",
      "32:\tlearn: 0.2240068\ttotal: 1.69s\tremaining: 49.4s\n",
      "33:\tlearn: 0.2240030\ttotal: 1.74s\tremaining: 49.3s\n",
      "34:\tlearn: 0.2239988\ttotal: 1.78s\tremaining: 49.1s\n",
      "35:\tlearn: 0.2239945\ttotal: 1.82s\tremaining: 48.8s\n",
      "36:\tlearn: 0.2239900\ttotal: 1.87s\tremaining: 48.6s\n",
      "37:\tlearn: 0.2239848\ttotal: 1.92s\tremaining: 48.5s\n",
      "38:\tlearn: 0.2239801\ttotal: 1.97s\tremaining: 48.4s\n",
      "39:\tlearn: 0.2239757\ttotal: 2.03s\tremaining: 48.7s\n",
      "40:\tlearn: 0.2239725\ttotal: 2.08s\tremaining: 48.6s\n",
      "41:\tlearn: 0.2239676\ttotal: 2.13s\tremaining: 48.5s\n",
      "42:\tlearn: 0.2239638\ttotal: 2.17s\tremaining: 48.4s\n",
      "43:\tlearn: 0.2239587\ttotal: 2.22s\tremaining: 48.2s\n",
      "44:\tlearn: 0.2239549\ttotal: 2.26s\tremaining: 48s\n",
      "45:\tlearn: 0.2239506\ttotal: 2.31s\tremaining: 47.9s\n",
      "46:\tlearn: 0.2239463\ttotal: 2.36s\tremaining: 47.9s\n",
      "47:\tlearn: 0.2239426\ttotal: 2.42s\tremaining: 47.9s\n",
      "48:\tlearn: 0.2239380\ttotal: 2.47s\tremaining: 47.9s\n",
      "49:\tlearn: 0.2239349\ttotal: 2.52s\tremaining: 47.8s\n",
      "50:\tlearn: 0.2239316\ttotal: 2.57s\tremaining: 47.8s\n",
      "51:\tlearn: 0.2239282\ttotal: 2.61s\tremaining: 47.6s\n",
      "52:\tlearn: 0.2239247\ttotal: 2.65s\tremaining: 47.4s\n",
      "53:\tlearn: 0.2239215\ttotal: 2.7s\tremaining: 47.2s\n",
      "54:\tlearn: 0.2239181\ttotal: 2.75s\tremaining: 47.2s\n",
      "55:\tlearn: 0.2239144\ttotal: 2.8s\tremaining: 47.2s\n",
      "56:\tlearn: 0.2239105\ttotal: 2.85s\tremaining: 47.2s\n",
      "57:\tlearn: 0.2239065\ttotal: 2.9s\tremaining: 47.1s\n",
      "58:\tlearn: 0.2239033\ttotal: 2.94s\tremaining: 46.9s\n",
      "59:\tlearn: 0.2239004\ttotal: 2.99s\tremaining: 46.9s\n",
      "60:\tlearn: 0.2238968\ttotal: 3.04s\tremaining: 46.8s\n",
      "61:\tlearn: 0.2238925\ttotal: 3.09s\tremaining: 46.7s\n",
      "62:\tlearn: 0.2238889\ttotal: 3.13s\tremaining: 46.6s\n",
      "63:\tlearn: 0.2238847\ttotal: 3.18s\tremaining: 46.5s\n",
      "64:\tlearn: 0.2238815\ttotal: 3.23s\tremaining: 46.5s\n",
      "65:\tlearn: 0.2238775\ttotal: 3.29s\tremaining: 46.6s\n",
      "66:\tlearn: 0.2238744\ttotal: 3.35s\tremaining: 46.7s\n",
      "67:\tlearn: 0.2238710\ttotal: 3.4s\tremaining: 46.6s\n",
      "68:\tlearn: 0.2238665\ttotal: 3.44s\tremaining: 46.5s\n",
      "69:\tlearn: 0.2238622\ttotal: 3.5s\tremaining: 46.4s\n",
      "70:\tlearn: 0.2238581\ttotal: 3.54s\tremaining: 46.3s\n",
      "71:\tlearn: 0.2238541\ttotal: 3.58s\tremaining: 46.1s\n",
      "72:\tlearn: 0.2238504\ttotal: 3.62s\tremaining: 46s\n",
      "73:\tlearn: 0.2238469\ttotal: 3.66s\tremaining: 45.9s\n",
      "74:\tlearn: 0.2238428\ttotal: 3.71s\tremaining: 45.8s\n",
      "75:\tlearn: 0.2238384\ttotal: 3.75s\tremaining: 45.6s\n",
      "76:\tlearn: 0.2238344\ttotal: 3.8s\tremaining: 45.6s\n",
      "77:\tlearn: 0.2238309\ttotal: 3.84s\tremaining: 45.4s\n",
      "78:\tlearn: 0.2238263\ttotal: 3.89s\tremaining: 45.4s\n",
      "79:\tlearn: 0.2238230\ttotal: 3.94s\tremaining: 45.3s\n",
      "80:\tlearn: 0.2238188\ttotal: 3.98s\tremaining: 45.2s\n",
      "81:\tlearn: 0.2238147\ttotal: 4.03s\tremaining: 45.1s\n",
      "82:\tlearn: 0.2238111\ttotal: 4.07s\tremaining: 45s\n",
      "83:\tlearn: 0.2238073\ttotal: 4.11s\tremaining: 44.8s\n",
      "84:\tlearn: 0.2238041\ttotal: 4.15s\tremaining: 44.7s\n",
      "85:\tlearn: 0.2238000\ttotal: 4.19s\tremaining: 44.5s\n",
      "86:\tlearn: 0.2237961\ttotal: 4.23s\tremaining: 44.4s\n",
      "87:\tlearn: 0.2237931\ttotal: 4.28s\tremaining: 44.3s\n",
      "88:\tlearn: 0.2237896\ttotal: 4.32s\tremaining: 44.2s\n",
      "89:\tlearn: 0.2237865\ttotal: 4.37s\tremaining: 44.2s\n",
      "90:\tlearn: 0.2237840\ttotal: 4.42s\tremaining: 44.1s\n",
      "91:\tlearn: 0.2237810\ttotal: 4.48s\tremaining: 44.2s\n",
      "92:\tlearn: 0.2237778\ttotal: 4.53s\tremaining: 44.1s\n",
      "93:\tlearn: 0.2237743\ttotal: 4.57s\tremaining: 44s\n",
      "94:\tlearn: 0.2237707\ttotal: 4.62s\tremaining: 44s\n",
      "95:\tlearn: 0.2237679\ttotal: 4.66s\tremaining: 43.9s\n",
      "96:\tlearn: 0.2237642\ttotal: 4.7s\tremaining: 43.8s\n",
      "97:\tlearn: 0.2237604\ttotal: 4.75s\tremaining: 43.7s\n",
      "98:\tlearn: 0.2237571\ttotal: 4.8s\tremaining: 43.7s\n",
      "99:\tlearn: 0.2237533\ttotal: 4.85s\tremaining: 43.7s\n",
      "100:\tlearn: 0.2237496\ttotal: 4.89s\tremaining: 43.5s\n",
      "101:\tlearn: 0.2237463\ttotal: 4.94s\tremaining: 43.5s\n",
      "102:\tlearn: 0.2237422\ttotal: 5s\tremaining: 43.5s\n",
      "103:\tlearn: 0.2237392\ttotal: 5.06s\tremaining: 43.6s\n",
      "104:\tlearn: 0.2237358\ttotal: 5.1s\tremaining: 43.5s\n",
      "105:\tlearn: 0.2237306\ttotal: 5.15s\tremaining: 43.4s\n",
      "106:\tlearn: 0.2237277\ttotal: 5.2s\tremaining: 43.4s\n",
      "107:\tlearn: 0.2237233\ttotal: 5.25s\tremaining: 43.4s\n",
      "108:\tlearn: 0.2237201\ttotal: 5.3s\tremaining: 43.4s\n",
      "109:\tlearn: 0.2237165\ttotal: 5.35s\tremaining: 43.3s\n",
      "110:\tlearn: 0.2237124\ttotal: 5.39s\tremaining: 43.2s\n",
      "111:\tlearn: 0.2237085\ttotal: 5.43s\tremaining: 43.1s\n",
      "112:\tlearn: 0.2237053\ttotal: 5.47s\tremaining: 42.9s\n",
      "113:\tlearn: 0.2237019\ttotal: 5.51s\tremaining: 42.8s\n",
      "114:\tlearn: 0.2236977\ttotal: 5.56s\tremaining: 42.8s\n",
      "115:\tlearn: 0.2236940\ttotal: 5.6s\tremaining: 42.7s\n",
      "116:\tlearn: 0.2236899\ttotal: 5.64s\tremaining: 42.6s\n",
      "117:\tlearn: 0.2236869\ttotal: 5.68s\tremaining: 42.5s\n",
      "118:\tlearn: 0.2236833\ttotal: 5.73s\tremaining: 42.4s\n",
      "119:\tlearn: 0.2236800\ttotal: 5.78s\tremaining: 42.4s\n",
      "120:\tlearn: 0.2236766\ttotal: 5.82s\tremaining: 42.3s\n",
      "121:\tlearn: 0.2236730\ttotal: 5.86s\tremaining: 42.2s\n",
      "122:\tlearn: 0.2236695\ttotal: 5.9s\tremaining: 42.1s\n",
      "123:\tlearn: 0.2236659\ttotal: 5.95s\tremaining: 42s\n",
      "124:\tlearn: 0.2236620\ttotal: 5.99s\tremaining: 42s\n",
      "125:\tlearn: 0.2236581\ttotal: 6.03s\tremaining: 41.9s\n",
      "126:\tlearn: 0.2236551\ttotal: 6.08s\tremaining: 41.8s\n",
      "127:\tlearn: 0.2236520\ttotal: 6.11s\tremaining: 41.6s\n",
      "128:\tlearn: 0.2236490\ttotal: 6.15s\tremaining: 41.5s\n",
      "129:\tlearn: 0.2236454\ttotal: 6.21s\tremaining: 41.5s\n",
      "130:\tlearn: 0.2236426\ttotal: 6.24s\tremaining: 41.4s\n",
      "131:\tlearn: 0.2236390\ttotal: 6.28s\tremaining: 41.3s\n",
      "132:\tlearn: 0.2236358\ttotal: 6.32s\tremaining: 41.2s\n",
      "133:\tlearn: 0.2236324\ttotal: 6.37s\tremaining: 41.1s\n",
      "134:\tlearn: 0.2236292\ttotal: 6.41s\tremaining: 41.1s\n",
      "135:\tlearn: 0.2236258\ttotal: 6.45s\tremaining: 41s\n",
      "136:\tlearn: 0.2236220\ttotal: 6.49s\tremaining: 40.9s\n",
      "137:\tlearn: 0.2236180\ttotal: 6.53s\tremaining: 40.8s\n",
      "138:\tlearn: 0.2236142\ttotal: 6.58s\tremaining: 40.7s\n",
      "139:\tlearn: 0.2236114\ttotal: 6.62s\tremaining: 40.6s\n",
      "140:\tlearn: 0.2236085\ttotal: 6.66s\tremaining: 40.6s\n",
      "141:\tlearn: 0.2236053\ttotal: 6.69s\tremaining: 40.4s\n",
      "142:\tlearn: 0.2236015\ttotal: 6.73s\tremaining: 40.3s\n",
      "143:\tlearn: 0.2235982\ttotal: 6.78s\tremaining: 40.3s\n",
      "144:\tlearn: 0.2235949\ttotal: 6.82s\tremaining: 40.2s\n",
      "145:\tlearn: 0.2235919\ttotal: 6.86s\tremaining: 40.1s\n",
      "146:\tlearn: 0.2235884\ttotal: 6.9s\tremaining: 40s\n",
      "147:\tlearn: 0.2235845\ttotal: 6.94s\tremaining: 39.9s\n",
      "148:\tlearn: 0.2235805\ttotal: 6.98s\tremaining: 39.9s\n",
      "149:\tlearn: 0.2235768\ttotal: 7.02s\tremaining: 39.8s\n",
      "150:\tlearn: 0.2235740\ttotal: 7.07s\tremaining: 39.7s\n",
      "151:\tlearn: 0.2235697\ttotal: 7.1s\tremaining: 39.6s\n",
      "152:\tlearn: 0.2235667\ttotal: 7.14s\tremaining: 39.6s\n",
      "153:\tlearn: 0.2235631\ttotal: 7.19s\tremaining: 39.5s\n",
      "154:\tlearn: 0.2235598\ttotal: 7.23s\tremaining: 39.4s\n",
      "155:\tlearn: 0.2235563\ttotal: 7.28s\tremaining: 39.4s\n",
      "156:\tlearn: 0.2235523\ttotal: 7.32s\tremaining: 39.3s\n",
      "157:\tlearn: 0.2235480\ttotal: 7.36s\tremaining: 39.2s\n",
      "158:\tlearn: 0.2235442\ttotal: 7.4s\tremaining: 39.2s\n",
      "159:\tlearn: 0.2235406\ttotal: 7.45s\tremaining: 39.1s\n",
      "160:\tlearn: 0.2235373\ttotal: 7.49s\tremaining: 39s\n",
      "161:\tlearn: 0.2235339\ttotal: 7.53s\tremaining: 39s\n",
      "162:\tlearn: 0.2235311\ttotal: 7.57s\tremaining: 38.9s\n",
      "163:\tlearn: 0.2235270\ttotal: 7.62s\tremaining: 38.8s\n",
      "164:\tlearn: 0.2235235\ttotal: 7.66s\tremaining: 38.8s\n",
      "165:\tlearn: 0.2235208\ttotal: 7.71s\tremaining: 38.7s\n",
      "166:\tlearn: 0.2235170\ttotal: 7.75s\tremaining: 38.7s\n",
      "167:\tlearn: 0.2235131\ttotal: 7.79s\tremaining: 38.6s\n",
      "168:\tlearn: 0.2235104\ttotal: 7.85s\tremaining: 38.6s\n",
      "169:\tlearn: 0.2235070\ttotal: 7.89s\tremaining: 38.5s\n",
      "170:\tlearn: 0.2235038\ttotal: 7.92s\tremaining: 38.4s\n",
      "171:\tlearn: 0.2235006\ttotal: 7.96s\tremaining: 38.3s\n",
      "172:\tlearn: 0.2234977\ttotal: 8s\tremaining: 38.2s\n",
      "173:\tlearn: 0.2234942\ttotal: 8.05s\tremaining: 38.2s\n",
      "174:\tlearn: 0.2234897\ttotal: 8.09s\tremaining: 38.1s\n",
      "175:\tlearn: 0.2234861\ttotal: 8.13s\tremaining: 38.1s\n",
      "176:\tlearn: 0.2234823\ttotal: 8.17s\tremaining: 38s\n",
      "177:\tlearn: 0.2234792\ttotal: 8.21s\tremaining: 37.9s\n",
      "178:\tlearn: 0.2234753\ttotal: 8.25s\tremaining: 37.8s\n",
      "179:\tlearn: 0.2234720\ttotal: 8.29s\tremaining: 37.8s\n",
      "180:\tlearn: 0.2234689\ttotal: 8.33s\tremaining: 37.7s\n",
      "181:\tlearn: 0.2234656\ttotal: 8.37s\tremaining: 37.6s\n",
      "182:\tlearn: 0.2234622\ttotal: 8.41s\tremaining: 37.6s\n",
      "183:\tlearn: 0.2234589\ttotal: 8.47s\tremaining: 37.5s\n",
      "184:\tlearn: 0.2234550\ttotal: 8.5s\tremaining: 37.5s\n",
      "185:\tlearn: 0.2234521\ttotal: 8.55s\tremaining: 37.4s\n",
      "186:\tlearn: 0.2234492\ttotal: 8.59s\tremaining: 37.3s\n",
      "187:\tlearn: 0.2234459\ttotal: 8.63s\tremaining: 37.3s\n",
      "188:\tlearn: 0.2234431\ttotal: 8.68s\tremaining: 37.2s\n",
      "189:\tlearn: 0.2234392\ttotal: 8.72s\tremaining: 37.2s\n",
      "190:\tlearn: 0.2234358\ttotal: 8.76s\tremaining: 37.1s\n",
      "191:\tlearn: 0.2234324\ttotal: 8.8s\tremaining: 37s\n",
      "192:\tlearn: 0.2234290\ttotal: 8.84s\tremaining: 37s\n",
      "193:\tlearn: 0.2234258\ttotal: 8.88s\tremaining: 36.9s\n",
      "194:\tlearn: 0.2234223\ttotal: 8.92s\tremaining: 36.8s\n",
      "195:\tlearn: 0.2234190\ttotal: 8.95s\tremaining: 36.7s\n",
      "196:\tlearn: 0.2234157\ttotal: 8.99s\tremaining: 36.7s\n",
      "197:\tlearn: 0.2234123\ttotal: 9.03s\tremaining: 36.6s\n",
      "198:\tlearn: 0.2234084\ttotal: 9.08s\tremaining: 36.5s\n",
      "199:\tlearn: 0.2234048\ttotal: 9.13s\tremaining: 36.5s\n",
      "200:\tlearn: 0.2234014\ttotal: 9.16s\tremaining: 36.4s\n",
      "201:\tlearn: 0.2233981\ttotal: 9.21s\tremaining: 36.4s\n",
      "202:\tlearn: 0.2233940\ttotal: 9.25s\tremaining: 36.3s\n",
      "203:\tlearn: 0.2233903\ttotal: 9.29s\tremaining: 36.2s\n",
      "204:\tlearn: 0.2233872\ttotal: 9.34s\tremaining: 36.2s\n",
      "205:\tlearn: 0.2233842\ttotal: 9.38s\tremaining: 36.2s\n",
      "206:\tlearn: 0.2233809\ttotal: 9.43s\tremaining: 36.1s\n",
      "207:\tlearn: 0.2233772\ttotal: 9.47s\tremaining: 36.1s\n",
      "208:\tlearn: 0.2233746\ttotal: 9.52s\tremaining: 36s\n",
      "209:\tlearn: 0.2233719\ttotal: 9.57s\tremaining: 36s\n",
      "210:\tlearn: 0.2233694\ttotal: 9.62s\tremaining: 36s\n",
      "211:\tlearn: 0.2233667\ttotal: 9.66s\tremaining: 35.9s\n",
      "212:\tlearn: 0.2233633\ttotal: 9.7s\tremaining: 35.8s\n",
      "213:\tlearn: 0.2233609\ttotal: 9.74s\tremaining: 35.8s\n",
      "214:\tlearn: 0.2233578\ttotal: 9.79s\tremaining: 35.8s\n",
      "215:\tlearn: 0.2233546\ttotal: 9.83s\tremaining: 35.7s\n",
      "216:\tlearn: 0.2233510\ttotal: 9.87s\tremaining: 35.6s\n",
      "217:\tlearn: 0.2233473\ttotal: 9.91s\tremaining: 35.6s\n",
      "218:\tlearn: 0.2233441\ttotal: 9.95s\tremaining: 35.5s\n",
      "219:\tlearn: 0.2233413\ttotal: 9.99s\tremaining: 35.4s\n",
      "220:\tlearn: 0.2233384\ttotal: 10s\tremaining: 35.4s\n",
      "221:\tlearn: 0.2233354\ttotal: 10.1s\tremaining: 35.3s\n",
      "222:\tlearn: 0.2233326\ttotal: 10.1s\tremaining: 35.2s\n",
      "223:\tlearn: 0.2233291\ttotal: 10.2s\tremaining: 35.2s\n",
      "224:\tlearn: 0.2233252\ttotal: 10.2s\tremaining: 35.1s\n",
      "225:\tlearn: 0.2233216\ttotal: 10.2s\tremaining: 35.1s\n",
      "226:\tlearn: 0.2233179\ttotal: 10.3s\tremaining: 35s\n",
      "227:\tlearn: 0.2233151\ttotal: 10.3s\tremaining: 35s\n",
      "228:\tlearn: 0.2233122\ttotal: 10.4s\tremaining: 34.9s\n",
      "229:\tlearn: 0.2233088\ttotal: 10.4s\tremaining: 34.9s\n",
      "230:\tlearn: 0.2233051\ttotal: 10.5s\tremaining: 34.8s\n",
      "231:\tlearn: 0.2233018\ttotal: 10.5s\tremaining: 34.8s\n",
      "232:\tlearn: 0.2232992\ttotal: 10.5s\tremaining: 34.7s\n",
      "233:\tlearn: 0.2232960\ttotal: 10.6s\tremaining: 34.6s\n",
      "234:\tlearn: 0.2232928\ttotal: 10.6s\tremaining: 34.6s\n",
      "235:\tlearn: 0.2232902\ttotal: 10.7s\tremaining: 34.5s\n",
      "236:\tlearn: 0.2232868\ttotal: 10.7s\tremaining: 34.5s\n",
      "237:\tlearn: 0.2232836\ttotal: 10.7s\tremaining: 34.4s\n",
      "238:\tlearn: 0.2232799\ttotal: 10.8s\tremaining: 34.3s\n",
      "239:\tlearn: 0.2232771\ttotal: 10.8s\tremaining: 34.3s\n",
      "240:\tlearn: 0.2232736\ttotal: 10.9s\tremaining: 34.2s\n",
      "241:\tlearn: 0.2232709\ttotal: 10.9s\tremaining: 34.2s\n",
      "242:\tlearn: 0.2232671\ttotal: 11s\tremaining: 34.1s\n",
      "243:\tlearn: 0.2232629\ttotal: 11s\tremaining: 34.1s\n",
      "244:\tlearn: 0.2232588\ttotal: 11s\tremaining: 34s\n",
      "245:\tlearn: 0.2232555\ttotal: 11.1s\tremaining: 34s\n",
      "246:\tlearn: 0.2232524\ttotal: 11.1s\tremaining: 33.9s\n",
      "247:\tlearn: 0.2232491\ttotal: 11.2s\tremaining: 33.9s\n",
      "248:\tlearn: 0.2232466\ttotal: 11.2s\tremaining: 33.8s\n",
      "249:\tlearn: 0.2232434\ttotal: 11.2s\tremaining: 33.7s\n",
      "250:\tlearn: 0.2232401\ttotal: 11.3s\tremaining: 33.7s\n",
      "251:\tlearn: 0.2232365\ttotal: 11.3s\tremaining: 33.6s\n",
      "252:\tlearn: 0.2232339\ttotal: 11.4s\tremaining: 33.6s\n",
      "253:\tlearn: 0.2232300\ttotal: 11.4s\tremaining: 33.5s\n",
      "254:\tlearn: 0.2232256\ttotal: 11.5s\tremaining: 33.5s\n",
      "255:\tlearn: 0.2232229\ttotal: 11.5s\tremaining: 33.4s\n",
      "256:\tlearn: 0.2232202\ttotal: 11.5s\tremaining: 33.4s\n",
      "257:\tlearn: 0.2232169\ttotal: 11.6s\tremaining: 33.3s\n",
      "258:\tlearn: 0.2232133\ttotal: 11.6s\tremaining: 33.3s\n",
      "259:\tlearn: 0.2232106\ttotal: 11.7s\tremaining: 33.2s\n",
      "260:\tlearn: 0.2232070\ttotal: 11.7s\tremaining: 33.2s\n",
      "261:\tlearn: 0.2232044\ttotal: 11.8s\tremaining: 33.2s\n",
      "262:\tlearn: 0.2232016\ttotal: 11.8s\tremaining: 33.1s\n",
      "263:\tlearn: 0.2231984\ttotal: 11.8s\tremaining: 33s\n",
      "264:\tlearn: 0.2231949\ttotal: 11.9s\tremaining: 33s\n",
      "265:\tlearn: 0.2231928\ttotal: 11.9s\tremaining: 32.9s\n",
      "266:\tlearn: 0.2231896\ttotal: 12s\tremaining: 32.9s\n",
      "267:\tlearn: 0.2231860\ttotal: 12s\tremaining: 32.8s\n",
      "268:\tlearn: 0.2231839\ttotal: 12.1s\tremaining: 32.8s\n",
      "269:\tlearn: 0.2231802\ttotal: 12.1s\tremaining: 32.7s\n",
      "270:\tlearn: 0.2231769\ttotal: 12.2s\tremaining: 32.7s\n",
      "271:\tlearn: 0.2231744\ttotal: 12.2s\tremaining: 32.6s\n",
      "272:\tlearn: 0.2231713\ttotal: 12.2s\tremaining: 32.6s\n",
      "273:\tlearn: 0.2231680\ttotal: 12.3s\tremaining: 32.5s\n",
      "274:\tlearn: 0.2231639\ttotal: 12.3s\tremaining: 32.4s\n",
      "275:\tlearn: 0.2231607\ttotal: 12.4s\tremaining: 32.4s\n",
      "276:\tlearn: 0.2231578\ttotal: 12.4s\tremaining: 32.4s\n",
      "277:\tlearn: 0.2231544\ttotal: 12.4s\tremaining: 32.3s\n",
      "278:\tlearn: 0.2231509\ttotal: 12.5s\tremaining: 32.2s\n",
      "279:\tlearn: 0.2231481\ttotal: 12.5s\tremaining: 32.2s\n",
      "280:\tlearn: 0.2231444\ttotal: 12.6s\tremaining: 32.2s\n",
      "281:\tlearn: 0.2231413\ttotal: 12.6s\tremaining: 32.1s\n",
      "282:\tlearn: 0.2231384\ttotal: 12.7s\tremaining: 32.1s\n",
      "283:\tlearn: 0.2231348\ttotal: 12.7s\tremaining: 32s\n",
      "284:\tlearn: 0.2231319\ttotal: 12.7s\tremaining: 31.9s\n",
      "285:\tlearn: 0.2231290\ttotal: 12.8s\tremaining: 31.9s\n",
      "286:\tlearn: 0.2231258\ttotal: 12.8s\tremaining: 31.8s\n",
      "287:\tlearn: 0.2231216\ttotal: 12.8s\tremaining: 31.8s\n",
      "288:\tlearn: 0.2231184\ttotal: 12.9s\tremaining: 31.7s\n",
      "289:\tlearn: 0.2231146\ttotal: 12.9s\tremaining: 31.6s\n",
      "290:\tlearn: 0.2231118\ttotal: 13s\tremaining: 31.6s\n",
      "291:\tlearn: 0.2231084\ttotal: 13s\tremaining: 31.6s\n",
      "292:\tlearn: 0.2231050\ttotal: 13.1s\tremaining: 31.5s\n",
      "293:\tlearn: 0.2231023\ttotal: 13.1s\tremaining: 31.5s\n",
      "294:\tlearn: 0.2230986\ttotal: 13.1s\tremaining: 31.4s\n",
      "295:\tlearn: 0.2230963\ttotal: 13.2s\tremaining: 31.4s\n",
      "296:\tlearn: 0.2230927\ttotal: 13.2s\tremaining: 31.3s\n",
      "297:\tlearn: 0.2230892\ttotal: 13.3s\tremaining: 31.3s\n",
      "298:\tlearn: 0.2230862\ttotal: 13.3s\tremaining: 31.2s\n",
      "299:\tlearn: 0.2230831\ttotal: 13.4s\tremaining: 31.2s\n",
      "300:\tlearn: 0.2230803\ttotal: 13.4s\tremaining: 31.1s\n",
      "301:\tlearn: 0.2230774\ttotal: 13.4s\tremaining: 31.1s\n",
      "302:\tlearn: 0.2230739\ttotal: 13.5s\tremaining: 31s\n",
      "303:\tlearn: 0.2230706\ttotal: 13.5s\tremaining: 31s\n",
      "304:\tlearn: 0.2230675\ttotal: 13.6s\tremaining: 30.9s\n",
      "305:\tlearn: 0.2230647\ttotal: 13.6s\tremaining: 30.9s\n",
      "306:\tlearn: 0.2230615\ttotal: 13.7s\tremaining: 30.8s\n",
      "307:\tlearn: 0.2230582\ttotal: 13.7s\tremaining: 30.8s\n",
      "308:\tlearn: 0.2230542\ttotal: 13.7s\tremaining: 30.7s\n",
      "309:\tlearn: 0.2230503\ttotal: 13.8s\tremaining: 30.7s\n",
      "310:\tlearn: 0.2230468\ttotal: 13.8s\tremaining: 30.6s\n",
      "311:\tlearn: 0.2230434\ttotal: 13.9s\tremaining: 30.6s\n",
      "312:\tlearn: 0.2230401\ttotal: 13.9s\tremaining: 30.5s\n",
      "313:\tlearn: 0.2230373\ttotal: 14s\tremaining: 30.5s\n",
      "314:\tlearn: 0.2230339\ttotal: 14s\tremaining: 30.4s\n",
      "315:\tlearn: 0.2230303\ttotal: 14s\tremaining: 30.4s\n",
      "316:\tlearn: 0.2230266\ttotal: 14.1s\tremaining: 30.3s\n",
      "317:\tlearn: 0.2230239\ttotal: 14.1s\tremaining: 30.3s\n",
      "318:\tlearn: 0.2230211\ttotal: 14.2s\tremaining: 30.2s\n",
      "319:\tlearn: 0.2230183\ttotal: 14.2s\tremaining: 30.2s\n",
      "320:\tlearn: 0.2230154\ttotal: 14.3s\tremaining: 30.2s\n",
      "321:\tlearn: 0.2230118\ttotal: 14.3s\tremaining: 30.1s\n",
      "322:\tlearn: 0.2230085\ttotal: 14.4s\tremaining: 30.1s\n",
      "323:\tlearn: 0.2230043\ttotal: 14.4s\tremaining: 30s\n",
      "324:\tlearn: 0.2230005\ttotal: 14.4s\tremaining: 30s\n",
      "325:\tlearn: 0.2229975\ttotal: 14.5s\tremaining: 29.9s\n",
      "326:\tlearn: 0.2229941\ttotal: 14.5s\tremaining: 29.9s\n",
      "327:\tlearn: 0.2229913\ttotal: 14.6s\tremaining: 29.9s\n",
      "328:\tlearn: 0.2229889\ttotal: 14.6s\tremaining: 29.8s\n",
      "329:\tlearn: 0.2229857\ttotal: 14.7s\tremaining: 29.8s\n",
      "330:\tlearn: 0.2229829\ttotal: 14.7s\tremaining: 29.8s\n",
      "331:\tlearn: 0.2229796\ttotal: 14.8s\tremaining: 29.7s\n",
      "332:\tlearn: 0.2229759\ttotal: 14.8s\tremaining: 29.7s\n",
      "333:\tlearn: 0.2229734\ttotal: 14.9s\tremaining: 29.6s\n",
      "334:\tlearn: 0.2229696\ttotal: 14.9s\tremaining: 29.6s\n",
      "335:\tlearn: 0.2229672\ttotal: 14.9s\tremaining: 29.5s\n",
      "336:\tlearn: 0.2229636\ttotal: 15s\tremaining: 29.5s\n",
      "337:\tlearn: 0.2229608\ttotal: 15s\tremaining: 29.4s\n",
      "338:\tlearn: 0.2229577\ttotal: 15.1s\tremaining: 29.3s\n",
      "339:\tlearn: 0.2229546\ttotal: 15.1s\tremaining: 29.3s\n",
      "340:\tlearn: 0.2229519\ttotal: 15.1s\tremaining: 29.2s\n",
      "341:\tlearn: 0.2229486\ttotal: 15.2s\tremaining: 29.2s\n",
      "342:\tlearn: 0.2229453\ttotal: 15.2s\tremaining: 29.1s\n",
      "343:\tlearn: 0.2229415\ttotal: 15.3s\tremaining: 29.1s\n",
      "344:\tlearn: 0.2229379\ttotal: 15.3s\tremaining: 29s\n",
      "345:\tlearn: 0.2229347\ttotal: 15.3s\tremaining: 29s\n",
      "346:\tlearn: 0.2229310\ttotal: 15.4s\tremaining: 28.9s\n",
      "347:\tlearn: 0.2229274\ttotal: 15.4s\tremaining: 28.9s\n",
      "348:\tlearn: 0.2229240\ttotal: 15.5s\tremaining: 28.8s\n",
      "349:\tlearn: 0.2229204\ttotal: 15.5s\tremaining: 28.8s\n",
      "350:\tlearn: 0.2229179\ttotal: 15.5s\tremaining: 28.7s\n",
      "351:\tlearn: 0.2229149\ttotal: 15.6s\tremaining: 28.7s\n",
      "352:\tlearn: 0.2229118\ttotal: 15.6s\tremaining: 28.6s\n",
      "353:\tlearn: 0.2229089\ttotal: 15.7s\tremaining: 28.6s\n",
      "354:\tlearn: 0.2229059\ttotal: 15.7s\tremaining: 28.5s\n",
      "355:\tlearn: 0.2229025\ttotal: 15.7s\tremaining: 28.5s\n",
      "356:\tlearn: 0.2228993\ttotal: 15.8s\tremaining: 28.4s\n",
      "357:\tlearn: 0.2228966\ttotal: 15.8s\tremaining: 28.4s\n",
      "358:\tlearn: 0.2228930\ttotal: 15.9s\tremaining: 28.3s\n",
      "359:\tlearn: 0.2228891\ttotal: 15.9s\tremaining: 28.3s\n",
      "360:\tlearn: 0.2228863\ttotal: 15.9s\tremaining: 28.2s\n",
      "361:\tlearn: 0.2228826\ttotal: 16s\tremaining: 28.2s\n",
      "362:\tlearn: 0.2228794\ttotal: 16s\tremaining: 28.1s\n",
      "363:\tlearn: 0.2228752\ttotal: 16.1s\tremaining: 28.1s\n",
      "364:\tlearn: 0.2228712\ttotal: 16.1s\tremaining: 28s\n",
      "365:\tlearn: 0.2228673\ttotal: 16.2s\tremaining: 28s\n",
      "366:\tlearn: 0.2228639\ttotal: 16.2s\tremaining: 27.9s\n",
      "367:\tlearn: 0.2228601\ttotal: 16.2s\tremaining: 27.9s\n",
      "368:\tlearn: 0.2228572\ttotal: 16.3s\tremaining: 27.8s\n",
      "369:\tlearn: 0.2228542\ttotal: 16.3s\tremaining: 27.8s\n",
      "370:\tlearn: 0.2228511\ttotal: 16.3s\tremaining: 27.7s\n",
      "371:\tlearn: 0.2228485\ttotal: 16.4s\tremaining: 27.7s\n",
      "372:\tlearn: 0.2228455\ttotal: 16.4s\tremaining: 27.6s\n",
      "373:\tlearn: 0.2228426\ttotal: 16.5s\tremaining: 27.6s\n",
      "374:\tlearn: 0.2228401\ttotal: 16.5s\tremaining: 27.5s\n",
      "375:\tlearn: 0.2228374\ttotal: 16.6s\tremaining: 27.5s\n",
      "376:\tlearn: 0.2228346\ttotal: 16.6s\tremaining: 27.4s\n",
      "377:\tlearn: 0.2228322\ttotal: 16.6s\tremaining: 27.4s\n",
      "378:\tlearn: 0.2228288\ttotal: 16.7s\tremaining: 27.3s\n",
      "379:\tlearn: 0.2228254\ttotal: 16.7s\tremaining: 27.3s\n",
      "380:\tlearn: 0.2228233\ttotal: 16.8s\tremaining: 27.2s\n",
      "381:\tlearn: 0.2228206\ttotal: 16.8s\tremaining: 27.2s\n",
      "382:\tlearn: 0.2228177\ttotal: 16.9s\tremaining: 27.2s\n",
      "383:\tlearn: 0.2228133\ttotal: 16.9s\tremaining: 27.1s\n",
      "384:\tlearn: 0.2228102\ttotal: 16.9s\tremaining: 27.1s\n",
      "385:\tlearn: 0.2228061\ttotal: 17s\tremaining: 27s\n",
      "386:\tlearn: 0.2228033\ttotal: 17s\tremaining: 27s\n",
      "387:\tlearn: 0.2227996\ttotal: 17.1s\tremaining: 26.9s\n",
      "388:\tlearn: 0.2227959\ttotal: 17.1s\tremaining: 26.9s\n",
      "389:\tlearn: 0.2227936\ttotal: 17.1s\tremaining: 26.8s\n",
      "390:\tlearn: 0.2227905\ttotal: 17.2s\tremaining: 26.8s\n",
      "391:\tlearn: 0.2227875\ttotal: 17.2s\tremaining: 26.7s\n",
      "392:\tlearn: 0.2227844\ttotal: 17.3s\tremaining: 26.7s\n",
      "393:\tlearn: 0.2227814\ttotal: 17.3s\tremaining: 26.6s\n",
      "394:\tlearn: 0.2227782\ttotal: 17.4s\tremaining: 26.6s\n",
      "395:\tlearn: 0.2227754\ttotal: 17.4s\tremaining: 26.6s\n",
      "396:\tlearn: 0.2227724\ttotal: 17.5s\tremaining: 26.5s\n",
      "397:\tlearn: 0.2227699\ttotal: 17.5s\tremaining: 26.5s\n",
      "398:\tlearn: 0.2227673\ttotal: 17.5s\tremaining: 26.4s\n",
      "399:\tlearn: 0.2227640\ttotal: 17.6s\tremaining: 26.4s\n",
      "400:\tlearn: 0.2227606\ttotal: 17.6s\tremaining: 26.3s\n",
      "401:\tlearn: 0.2227572\ttotal: 17.7s\tremaining: 26.3s\n",
      "402:\tlearn: 0.2227533\ttotal: 17.7s\tremaining: 26.2s\n",
      "403:\tlearn: 0.2227503\ttotal: 17.7s\tremaining: 26.2s\n",
      "404:\tlearn: 0.2227474\ttotal: 17.8s\tremaining: 26.1s\n",
      "405:\tlearn: 0.2227442\ttotal: 17.8s\tremaining: 26.1s\n",
      "406:\tlearn: 0.2227414\ttotal: 17.9s\tremaining: 26s\n",
      "407:\tlearn: 0.2227384\ttotal: 17.9s\tremaining: 26s\n",
      "408:\tlearn: 0.2227353\ttotal: 18s\tremaining: 25.9s\n",
      "409:\tlearn: 0.2227317\ttotal: 18s\tremaining: 25.9s\n",
      "410:\tlearn: 0.2227288\ttotal: 18s\tremaining: 25.9s\n",
      "411:\tlearn: 0.2227250\ttotal: 18.1s\tremaining: 25.8s\n",
      "412:\tlearn: 0.2227214\ttotal: 18.1s\tremaining: 25.8s\n",
      "413:\tlearn: 0.2227182\ttotal: 18.2s\tremaining: 25.7s\n",
      "414:\tlearn: 0.2227148\ttotal: 18.2s\tremaining: 25.7s\n",
      "415:\tlearn: 0.2227114\ttotal: 18.3s\tremaining: 25.6s\n",
      "416:\tlearn: 0.2227085\ttotal: 18.3s\tremaining: 25.6s\n",
      "417:\tlearn: 0.2227052\ttotal: 18.3s\tremaining: 25.5s\n",
      "418:\tlearn: 0.2227023\ttotal: 18.4s\tremaining: 25.5s\n",
      "419:\tlearn: 0.2226994\ttotal: 18.4s\tremaining: 25.4s\n",
      "420:\tlearn: 0.2226967\ttotal: 18.5s\tremaining: 25.4s\n",
      "421:\tlearn: 0.2226932\ttotal: 18.5s\tremaining: 25.3s\n",
      "422:\tlearn: 0.2226904\ttotal: 18.5s\tremaining: 25.3s\n",
      "423:\tlearn: 0.2226878\ttotal: 18.6s\tremaining: 25.3s\n",
      "424:\tlearn: 0.2226850\ttotal: 18.6s\tremaining: 25.2s\n",
      "425:\tlearn: 0.2226821\ttotal: 18.7s\tremaining: 25.2s\n",
      "426:\tlearn: 0.2226782\ttotal: 18.7s\tremaining: 25.1s\n",
      "427:\tlearn: 0.2226746\ttotal: 18.8s\tremaining: 25.1s\n",
      "428:\tlearn: 0.2226716\ttotal: 18.8s\tremaining: 25s\n",
      "429:\tlearn: 0.2226683\ttotal: 18.8s\tremaining: 25s\n",
      "430:\tlearn: 0.2226646\ttotal: 18.9s\tremaining: 24.9s\n",
      "431:\tlearn: 0.2226618\ttotal: 18.9s\tremaining: 24.9s\n",
      "432:\tlearn: 0.2226586\ttotal: 19s\tremaining: 24.8s\n",
      "433:\tlearn: 0.2226558\ttotal: 19s\tremaining: 24.8s\n",
      "434:\tlearn: 0.2226530\ttotal: 19s\tremaining: 24.7s\n",
      "435:\tlearn: 0.2226499\ttotal: 19.1s\tremaining: 24.7s\n",
      "436:\tlearn: 0.2226470\ttotal: 19.1s\tremaining: 24.7s\n",
      "437:\tlearn: 0.2226438\ttotal: 19.2s\tremaining: 24.6s\n",
      "438:\tlearn: 0.2226416\ttotal: 19.2s\tremaining: 24.6s\n",
      "439:\tlearn: 0.2226386\ttotal: 19.3s\tremaining: 24.5s\n",
      "440:\tlearn: 0.2226361\ttotal: 19.3s\tremaining: 24.5s\n",
      "441:\tlearn: 0.2226337\ttotal: 19.3s\tremaining: 24.4s\n",
      "442:\tlearn: 0.2226298\ttotal: 19.4s\tremaining: 24.4s\n",
      "443:\tlearn: 0.2226275\ttotal: 19.4s\tremaining: 24.3s\n",
      "444:\tlearn: 0.2226250\ttotal: 19.5s\tremaining: 24.3s\n",
      "445:\tlearn: 0.2226219\ttotal: 19.5s\tremaining: 24.3s\n",
      "446:\tlearn: 0.2226191\ttotal: 19.6s\tremaining: 24.2s\n",
      "447:\tlearn: 0.2226157\ttotal: 19.6s\tremaining: 24.2s\n",
      "448:\tlearn: 0.2226131\ttotal: 19.7s\tremaining: 24.1s\n",
      "449:\tlearn: 0.2226101\ttotal: 19.7s\tremaining: 24.1s\n",
      "450:\tlearn: 0.2226063\ttotal: 19.8s\tremaining: 24s\n",
      "451:\tlearn: 0.2226031\ttotal: 19.8s\tremaining: 24s\n",
      "452:\tlearn: 0.2226000\ttotal: 19.8s\tremaining: 23.9s\n",
      "453:\tlearn: 0.2225972\ttotal: 19.9s\tremaining: 23.9s\n",
      "454:\tlearn: 0.2225937\ttotal: 19.9s\tremaining: 23.8s\n",
      "455:\tlearn: 0.2225913\ttotal: 20s\tremaining: 23.8s\n",
      "456:\tlearn: 0.2225881\ttotal: 20s\tremaining: 23.8s\n",
      "457:\tlearn: 0.2225850\ttotal: 20s\tremaining: 23.7s\n",
      "458:\tlearn: 0.2225815\ttotal: 20.1s\tremaining: 23.7s\n",
      "459:\tlearn: 0.2225783\ttotal: 20.1s\tremaining: 23.6s\n",
      "460:\tlearn: 0.2225757\ttotal: 20.2s\tremaining: 23.6s\n",
      "461:\tlearn: 0.2225731\ttotal: 20.2s\tremaining: 23.5s\n",
      "462:\tlearn: 0.2225703\ttotal: 20.2s\tremaining: 23.5s\n",
      "463:\tlearn: 0.2225660\ttotal: 20.3s\tremaining: 23.4s\n",
      "464:\tlearn: 0.2225634\ttotal: 20.3s\tremaining: 23.4s\n",
      "465:\tlearn: 0.2225599\ttotal: 20.4s\tremaining: 23.4s\n",
      "466:\tlearn: 0.2225565\ttotal: 20.4s\tremaining: 23.3s\n",
      "467:\tlearn: 0.2225533\ttotal: 20.5s\tremaining: 23.3s\n",
      "468:\tlearn: 0.2225500\ttotal: 20.5s\tremaining: 23.2s\n",
      "469:\tlearn: 0.2225475\ttotal: 20.5s\tremaining: 23.2s\n",
      "470:\tlearn: 0.2225447\ttotal: 20.6s\tremaining: 23.1s\n",
      "471:\tlearn: 0.2225418\ttotal: 20.6s\tremaining: 23.1s\n",
      "472:\tlearn: 0.2225388\ttotal: 20.7s\tremaining: 23s\n",
      "473:\tlearn: 0.2225358\ttotal: 20.7s\tremaining: 23s\n",
      "474:\tlearn: 0.2225319\ttotal: 20.8s\tremaining: 22.9s\n",
      "475:\tlearn: 0.2225294\ttotal: 20.8s\tremaining: 22.9s\n",
      "476:\tlearn: 0.2225268\ttotal: 20.8s\tremaining: 22.9s\n",
      "477:\tlearn: 0.2225240\ttotal: 20.9s\tremaining: 22.8s\n",
      "478:\tlearn: 0.2225213\ttotal: 20.9s\tremaining: 22.8s\n",
      "479:\tlearn: 0.2225179\ttotal: 21s\tremaining: 22.7s\n",
      "480:\tlearn: 0.2225152\ttotal: 21s\tremaining: 22.7s\n",
      "481:\tlearn: 0.2225125\ttotal: 21.1s\tremaining: 22.6s\n",
      "482:\tlearn: 0.2225089\ttotal: 21.1s\tremaining: 22.6s\n",
      "483:\tlearn: 0.2225054\ttotal: 21.2s\tremaining: 22.6s\n",
      "484:\tlearn: 0.2225017\ttotal: 21.2s\tremaining: 22.5s\n",
      "485:\tlearn: 0.2224980\ttotal: 21.2s\tremaining: 22.5s\n",
      "486:\tlearn: 0.2224950\ttotal: 21.3s\tremaining: 22.4s\n",
      "487:\tlearn: 0.2224920\ttotal: 21.3s\tremaining: 22.4s\n",
      "488:\tlearn: 0.2224893\ttotal: 21.4s\tremaining: 22.3s\n",
      "489:\tlearn: 0.2224864\ttotal: 21.4s\tremaining: 22.3s\n",
      "490:\tlearn: 0.2224836\ttotal: 21.5s\tremaining: 22.3s\n",
      "491:\tlearn: 0.2224805\ttotal: 21.5s\tremaining: 22.2s\n",
      "492:\tlearn: 0.2224784\ttotal: 21.6s\tremaining: 22.2s\n",
      "493:\tlearn: 0.2224753\ttotal: 21.6s\tremaining: 22.1s\n",
      "494:\tlearn: 0.2224724\ttotal: 21.6s\tremaining: 22.1s\n",
      "495:\tlearn: 0.2224693\ttotal: 21.7s\tremaining: 22s\n",
      "496:\tlearn: 0.2224664\ttotal: 21.7s\tremaining: 22s\n",
      "497:\tlearn: 0.2224628\ttotal: 21.8s\tremaining: 22s\n",
      "498:\tlearn: 0.2224594\ttotal: 21.8s\tremaining: 21.9s\n",
      "499:\tlearn: 0.2224552\ttotal: 21.9s\tremaining: 21.9s\n",
      "500:\tlearn: 0.2224516\ttotal: 21.9s\tremaining: 21.8s\n",
      "501:\tlearn: 0.2224491\ttotal: 22s\tremaining: 21.8s\n",
      "502:\tlearn: 0.2224462\ttotal: 22s\tremaining: 21.7s\n",
      "503:\tlearn: 0.2224425\ttotal: 22s\tremaining: 21.7s\n",
      "504:\tlearn: 0.2224395\ttotal: 22.1s\tremaining: 21.6s\n",
      "505:\tlearn: 0.2224364\ttotal: 22.1s\tremaining: 21.6s\n",
      "506:\tlearn: 0.2224339\ttotal: 22.2s\tremaining: 21.6s\n",
      "507:\tlearn: 0.2224305\ttotal: 22.2s\tremaining: 21.5s\n",
      "508:\tlearn: 0.2224280\ttotal: 22.3s\tremaining: 21.5s\n",
      "509:\tlearn: 0.2224247\ttotal: 22.3s\tremaining: 21.4s\n",
      "510:\tlearn: 0.2224204\ttotal: 22.3s\tremaining: 21.4s\n",
      "511:\tlearn: 0.2224168\ttotal: 22.4s\tremaining: 21.3s\n",
      "512:\tlearn: 0.2224133\ttotal: 22.4s\tremaining: 21.3s\n",
      "513:\tlearn: 0.2224099\ttotal: 22.5s\tremaining: 21.2s\n",
      "514:\tlearn: 0.2224068\ttotal: 22.5s\tremaining: 21.2s\n",
      "515:\tlearn: 0.2224035\ttotal: 22.6s\tremaining: 21.2s\n",
      "516:\tlearn: 0.2224002\ttotal: 22.6s\tremaining: 21.1s\n",
      "517:\tlearn: 0.2223968\ttotal: 22.6s\tremaining: 21.1s\n",
      "518:\tlearn: 0.2223942\ttotal: 22.7s\tremaining: 21s\n",
      "519:\tlearn: 0.2223912\ttotal: 22.7s\tremaining: 21s\n",
      "520:\tlearn: 0.2223880\ttotal: 22.8s\tremaining: 20.9s\n",
      "521:\tlearn: 0.2223855\ttotal: 22.8s\tremaining: 20.9s\n",
      "522:\tlearn: 0.2223817\ttotal: 22.8s\tremaining: 20.8s\n",
      "523:\tlearn: 0.2223777\ttotal: 22.9s\tremaining: 20.8s\n",
      "524:\tlearn: 0.2223742\ttotal: 22.9s\tremaining: 20.8s\n",
      "525:\tlearn: 0.2223717\ttotal: 23s\tremaining: 20.7s\n",
      "526:\tlearn: 0.2223680\ttotal: 23s\tremaining: 20.7s\n",
      "527:\tlearn: 0.2223652\ttotal: 23.1s\tremaining: 20.6s\n",
      "528:\tlearn: 0.2223625\ttotal: 23.1s\tremaining: 20.6s\n",
      "529:\tlearn: 0.2223596\ttotal: 23.2s\tremaining: 20.5s\n",
      "530:\tlearn: 0.2223559\ttotal: 23.2s\tremaining: 20.5s\n",
      "531:\tlearn: 0.2223528\ttotal: 23.2s\tremaining: 20.5s\n",
      "532:\tlearn: 0.2223491\ttotal: 23.3s\tremaining: 20.4s\n",
      "533:\tlearn: 0.2223466\ttotal: 23.3s\tremaining: 20.4s\n",
      "534:\tlearn: 0.2223437\ttotal: 23.4s\tremaining: 20.3s\n",
      "535:\tlearn: 0.2223402\ttotal: 23.4s\tremaining: 20.3s\n",
      "536:\tlearn: 0.2223363\ttotal: 23.5s\tremaining: 20.2s\n",
      "537:\tlearn: 0.2223329\ttotal: 23.5s\tremaining: 20.2s\n",
      "538:\tlearn: 0.2223306\ttotal: 23.5s\tremaining: 20.1s\n",
      "539:\tlearn: 0.2223276\ttotal: 23.6s\tremaining: 20.1s\n",
      "540:\tlearn: 0.2223242\ttotal: 23.6s\tremaining: 20.1s\n",
      "541:\tlearn: 0.2223220\ttotal: 23.7s\tremaining: 20s\n",
      "542:\tlearn: 0.2223186\ttotal: 23.7s\tremaining: 20s\n",
      "543:\tlearn: 0.2223154\ttotal: 23.8s\tremaining: 19.9s\n",
      "544:\tlearn: 0.2223124\ttotal: 23.8s\tremaining: 19.9s\n",
      "545:\tlearn: 0.2223094\ttotal: 23.9s\tremaining: 19.8s\n",
      "546:\tlearn: 0.2223071\ttotal: 23.9s\tremaining: 19.8s\n",
      "547:\tlearn: 0.2223045\ttotal: 23.9s\tremaining: 19.7s\n",
      "548:\tlearn: 0.2223015\ttotal: 24s\tremaining: 19.7s\n",
      "549:\tlearn: 0.2222969\ttotal: 24s\tremaining: 19.7s\n",
      "550:\tlearn: 0.2222938\ttotal: 24.1s\tremaining: 19.6s\n",
      "551:\tlearn: 0.2222907\ttotal: 24.1s\tremaining: 19.6s\n",
      "552:\tlearn: 0.2222879\ttotal: 24.2s\tremaining: 19.5s\n",
      "553:\tlearn: 0.2222850\ttotal: 24.2s\tremaining: 19.5s\n",
      "554:\tlearn: 0.2222819\ttotal: 24.2s\tremaining: 19.4s\n",
      "555:\tlearn: 0.2222790\ttotal: 24.3s\tremaining: 19.4s\n",
      "556:\tlearn: 0.2222757\ttotal: 24.3s\tremaining: 19.4s\n",
      "557:\tlearn: 0.2222726\ttotal: 24.4s\tremaining: 19.3s\n",
      "558:\tlearn: 0.2222697\ttotal: 24.4s\tremaining: 19.3s\n",
      "559:\tlearn: 0.2222675\ttotal: 24.5s\tremaining: 19.2s\n",
      "560:\tlearn: 0.2222637\ttotal: 24.5s\tremaining: 19.2s\n",
      "561:\tlearn: 0.2222604\ttotal: 24.6s\tremaining: 19.1s\n",
      "562:\tlearn: 0.2222576\ttotal: 24.6s\tremaining: 19.1s\n",
      "563:\tlearn: 0.2222547\ttotal: 24.6s\tremaining: 19.1s\n",
      "564:\tlearn: 0.2222514\ttotal: 24.7s\tremaining: 19s\n",
      "565:\tlearn: 0.2222487\ttotal: 24.7s\tremaining: 19s\n",
      "566:\tlearn: 0.2222460\ttotal: 24.8s\tremaining: 18.9s\n",
      "567:\tlearn: 0.2222431\ttotal: 24.8s\tremaining: 18.9s\n",
      "568:\tlearn: 0.2222399\ttotal: 24.9s\tremaining: 18.8s\n",
      "569:\tlearn: 0.2222363\ttotal: 24.9s\tremaining: 18.8s\n",
      "570:\tlearn: 0.2222337\ttotal: 25s\tremaining: 18.8s\n",
      "571:\tlearn: 0.2222313\ttotal: 25s\tremaining: 18.7s\n",
      "572:\tlearn: 0.2222286\ttotal: 25.1s\tremaining: 18.7s\n",
      "573:\tlearn: 0.2222251\ttotal: 25.1s\tremaining: 18.6s\n",
      "574:\tlearn: 0.2222217\ttotal: 25.1s\tremaining: 18.6s\n",
      "575:\tlearn: 0.2222189\ttotal: 25.2s\tremaining: 18.5s\n",
      "576:\tlearn: 0.2222152\ttotal: 25.2s\tremaining: 18.5s\n",
      "577:\tlearn: 0.2222125\ttotal: 25.3s\tremaining: 18.5s\n",
      "578:\tlearn: 0.2222097\ttotal: 25.3s\tremaining: 18.4s\n",
      "579:\tlearn: 0.2222058\ttotal: 25.4s\tremaining: 18.4s\n",
      "580:\tlearn: 0.2222036\ttotal: 25.4s\tremaining: 18.3s\n",
      "581:\tlearn: 0.2222013\ttotal: 25.5s\tremaining: 18.3s\n",
      "582:\tlearn: 0.2221980\ttotal: 25.5s\tremaining: 18.2s\n",
      "583:\tlearn: 0.2221953\ttotal: 25.5s\tremaining: 18.2s\n",
      "584:\tlearn: 0.2221928\ttotal: 25.6s\tremaining: 18.1s\n",
      "585:\tlearn: 0.2221896\ttotal: 25.6s\tremaining: 18.1s\n",
      "586:\tlearn: 0.2221869\ttotal: 25.7s\tremaining: 18.1s\n",
      "587:\tlearn: 0.2221839\ttotal: 25.7s\tremaining: 18s\n",
      "588:\tlearn: 0.2221808\ttotal: 25.8s\tremaining: 18s\n",
      "589:\tlearn: 0.2221780\ttotal: 25.8s\tremaining: 17.9s\n",
      "590:\tlearn: 0.2221752\ttotal: 25.8s\tremaining: 17.9s\n",
      "591:\tlearn: 0.2221727\ttotal: 25.9s\tremaining: 17.8s\n",
      "592:\tlearn: 0.2221701\ttotal: 25.9s\tremaining: 17.8s\n",
      "593:\tlearn: 0.2221665\ttotal: 26s\tremaining: 17.8s\n",
      "594:\tlearn: 0.2221630\ttotal: 26s\tremaining: 17.7s\n",
      "595:\tlearn: 0.2221606\ttotal: 26.1s\tremaining: 17.7s\n",
      "596:\tlearn: 0.2221576\ttotal: 26.1s\tremaining: 17.6s\n",
      "597:\tlearn: 0.2221542\ttotal: 26.1s\tremaining: 17.6s\n",
      "598:\tlearn: 0.2221504\ttotal: 26.2s\tremaining: 17.5s\n",
      "599:\tlearn: 0.2221477\ttotal: 26.2s\tremaining: 17.5s\n",
      "600:\tlearn: 0.2221448\ttotal: 26.3s\tremaining: 17.4s\n",
      "601:\tlearn: 0.2221416\ttotal: 26.3s\tremaining: 17.4s\n",
      "602:\tlearn: 0.2221389\ttotal: 26.4s\tremaining: 17.4s\n",
      "603:\tlearn: 0.2221365\ttotal: 26.4s\tremaining: 17.3s\n",
      "604:\tlearn: 0.2221333\ttotal: 26.4s\tremaining: 17.3s\n",
      "605:\tlearn: 0.2221303\ttotal: 26.5s\tremaining: 17.2s\n",
      "606:\tlearn: 0.2221277\ttotal: 26.5s\tremaining: 17.2s\n",
      "607:\tlearn: 0.2221241\ttotal: 26.6s\tremaining: 17.1s\n",
      "608:\tlearn: 0.2221218\ttotal: 26.6s\tremaining: 17.1s\n",
      "609:\tlearn: 0.2221186\ttotal: 26.7s\tremaining: 17s\n",
      "610:\tlearn: 0.2221159\ttotal: 26.7s\tremaining: 17s\n",
      "611:\tlearn: 0.2221126\ttotal: 26.8s\tremaining: 17s\n",
      "612:\tlearn: 0.2221098\ttotal: 26.8s\tremaining: 16.9s\n",
      "613:\tlearn: 0.2221069\ttotal: 26.8s\tremaining: 16.9s\n",
      "614:\tlearn: 0.2221042\ttotal: 26.9s\tremaining: 16.8s\n",
      "615:\tlearn: 0.2221013\ttotal: 26.9s\tremaining: 16.8s\n",
      "616:\tlearn: 0.2220980\ttotal: 27s\tremaining: 16.7s\n",
      "617:\tlearn: 0.2220949\ttotal: 27s\tremaining: 16.7s\n",
      "618:\tlearn: 0.2220913\ttotal: 27.1s\tremaining: 16.7s\n",
      "619:\tlearn: 0.2220883\ttotal: 27.1s\tremaining: 16.6s\n",
      "620:\tlearn: 0.2220846\ttotal: 27.1s\tremaining: 16.6s\n",
      "621:\tlearn: 0.2220813\ttotal: 27.2s\tremaining: 16.5s\n",
      "622:\tlearn: 0.2220780\ttotal: 27.2s\tremaining: 16.5s\n",
      "623:\tlearn: 0.2220738\ttotal: 27.3s\tremaining: 16.4s\n",
      "624:\tlearn: 0.2220706\ttotal: 27.3s\tremaining: 16.4s\n",
      "625:\tlearn: 0.2220674\ttotal: 27.4s\tremaining: 16.3s\n",
      "626:\tlearn: 0.2220644\ttotal: 27.4s\tremaining: 16.3s\n",
      "627:\tlearn: 0.2220615\ttotal: 27.4s\tremaining: 16.3s\n",
      "628:\tlearn: 0.2220581\ttotal: 27.5s\tremaining: 16.2s\n",
      "629:\tlearn: 0.2220549\ttotal: 27.5s\tremaining: 16.2s\n",
      "630:\tlearn: 0.2220519\ttotal: 27.6s\tremaining: 16.1s\n",
      "631:\tlearn: 0.2220484\ttotal: 27.6s\tremaining: 16.1s\n",
      "632:\tlearn: 0.2220456\ttotal: 27.7s\tremaining: 16s\n",
      "633:\tlearn: 0.2220433\ttotal: 27.7s\tremaining: 16s\n",
      "634:\tlearn: 0.2220404\ttotal: 27.8s\tremaining: 16s\n",
      "635:\tlearn: 0.2220377\ttotal: 27.8s\tremaining: 15.9s\n",
      "636:\tlearn: 0.2220347\ttotal: 27.8s\tremaining: 15.9s\n",
      "637:\tlearn: 0.2220318\ttotal: 27.9s\tremaining: 15.8s\n",
      "638:\tlearn: 0.2220286\ttotal: 27.9s\tremaining: 15.8s\n",
      "639:\tlearn: 0.2220262\ttotal: 28s\tremaining: 15.7s\n",
      "640:\tlearn: 0.2220225\ttotal: 28s\tremaining: 15.7s\n",
      "641:\tlearn: 0.2220200\ttotal: 28.1s\tremaining: 15.7s\n",
      "642:\tlearn: 0.2220166\ttotal: 28.1s\tremaining: 15.6s\n",
      "643:\tlearn: 0.2220139\ttotal: 28.2s\tremaining: 15.6s\n",
      "644:\tlearn: 0.2220106\ttotal: 28.2s\tremaining: 15.5s\n",
      "645:\tlearn: 0.2220069\ttotal: 28.2s\tremaining: 15.5s\n",
      "646:\tlearn: 0.2220046\ttotal: 28.3s\tremaining: 15.4s\n",
      "647:\tlearn: 0.2220021\ttotal: 28.3s\tremaining: 15.4s\n",
      "648:\tlearn: 0.2219994\ttotal: 28.4s\tremaining: 15.3s\n",
      "649:\tlearn: 0.2219970\ttotal: 28.4s\tremaining: 15.3s\n",
      "650:\tlearn: 0.2219936\ttotal: 28.5s\tremaining: 15.3s\n",
      "651:\tlearn: 0.2219909\ttotal: 28.5s\tremaining: 15.2s\n",
      "652:\tlearn: 0.2219881\ttotal: 28.5s\tremaining: 15.2s\n",
      "653:\tlearn: 0.2219854\ttotal: 28.6s\tremaining: 15.1s\n",
      "654:\tlearn: 0.2219826\ttotal: 28.6s\tremaining: 15.1s\n",
      "655:\tlearn: 0.2219788\ttotal: 28.7s\tremaining: 15s\n",
      "656:\tlearn: 0.2219764\ttotal: 28.7s\tremaining: 15s\n",
      "657:\tlearn: 0.2219735\ttotal: 28.8s\tremaining: 14.9s\n",
      "658:\tlearn: 0.2219699\ttotal: 28.8s\tremaining: 14.9s\n",
      "659:\tlearn: 0.2219664\ttotal: 28.8s\tremaining: 14.9s\n",
      "660:\tlearn: 0.2219631\ttotal: 28.9s\tremaining: 14.8s\n",
      "661:\tlearn: 0.2219599\ttotal: 28.9s\tremaining: 14.8s\n",
      "662:\tlearn: 0.2219571\ttotal: 29s\tremaining: 14.7s\n",
      "663:\tlearn: 0.2219534\ttotal: 29s\tremaining: 14.7s\n",
      "664:\tlearn: 0.2219501\ttotal: 29.1s\tremaining: 14.6s\n",
      "665:\tlearn: 0.2219471\ttotal: 29.1s\tremaining: 14.6s\n",
      "666:\tlearn: 0.2219438\ttotal: 29.1s\tremaining: 14.5s\n",
      "667:\tlearn: 0.2219406\ttotal: 29.2s\tremaining: 14.5s\n",
      "668:\tlearn: 0.2219382\ttotal: 29.2s\tremaining: 14.5s\n",
      "669:\tlearn: 0.2219347\ttotal: 29.3s\tremaining: 14.4s\n",
      "670:\tlearn: 0.2219312\ttotal: 29.3s\tremaining: 14.4s\n",
      "671:\tlearn: 0.2219281\ttotal: 29.3s\tremaining: 14.3s\n",
      "672:\tlearn: 0.2219257\ttotal: 29.4s\tremaining: 14.3s\n",
      "673:\tlearn: 0.2219231\ttotal: 29.4s\tremaining: 14.2s\n",
      "674:\tlearn: 0.2219198\ttotal: 29.5s\tremaining: 14.2s\n",
      "675:\tlearn: 0.2219162\ttotal: 29.5s\tremaining: 14.1s\n",
      "676:\tlearn: 0.2219134\ttotal: 29.6s\tremaining: 14.1s\n",
      "677:\tlearn: 0.2219107\ttotal: 29.6s\tremaining: 14.1s\n",
      "678:\tlearn: 0.2219075\ttotal: 29.6s\tremaining: 14s\n",
      "679:\tlearn: 0.2219045\ttotal: 29.7s\tremaining: 14s\n",
      "680:\tlearn: 0.2219012\ttotal: 29.7s\tremaining: 13.9s\n",
      "681:\tlearn: 0.2218982\ttotal: 29.8s\tremaining: 13.9s\n",
      "682:\tlearn: 0.2218952\ttotal: 29.8s\tremaining: 13.8s\n",
      "683:\tlearn: 0.2218922\ttotal: 29.8s\tremaining: 13.8s\n",
      "684:\tlearn: 0.2218895\ttotal: 29.9s\tremaining: 13.7s\n",
      "685:\tlearn: 0.2218871\ttotal: 29.9s\tremaining: 13.7s\n",
      "686:\tlearn: 0.2218833\ttotal: 30s\tremaining: 13.7s\n",
      "687:\tlearn: 0.2218797\ttotal: 30s\tremaining: 13.6s\n",
      "688:\tlearn: 0.2218768\ttotal: 30s\tremaining: 13.6s\n",
      "689:\tlearn: 0.2218735\ttotal: 30.1s\tremaining: 13.5s\n",
      "690:\tlearn: 0.2218693\ttotal: 30.1s\tremaining: 13.5s\n",
      "691:\tlearn: 0.2218671\ttotal: 30.2s\tremaining: 13.4s\n",
      "692:\tlearn: 0.2218631\ttotal: 30.2s\tremaining: 13.4s\n",
      "693:\tlearn: 0.2218602\ttotal: 30.2s\tremaining: 13.3s\n",
      "694:\tlearn: 0.2218575\ttotal: 30.3s\tremaining: 13.3s\n",
      "695:\tlearn: 0.2218547\ttotal: 30.3s\tremaining: 13.2s\n",
      "696:\tlearn: 0.2218518\ttotal: 30.4s\tremaining: 13.2s\n",
      "697:\tlearn: 0.2218485\ttotal: 30.4s\tremaining: 13.2s\n",
      "698:\tlearn: 0.2218459\ttotal: 30.5s\tremaining: 13.1s\n",
      "699:\tlearn: 0.2218435\ttotal: 30.5s\tremaining: 13.1s\n",
      "700:\tlearn: 0.2218403\ttotal: 30.5s\tremaining: 13s\n",
      "701:\tlearn: 0.2218373\ttotal: 30.6s\tremaining: 13s\n",
      "702:\tlearn: 0.2218351\ttotal: 30.6s\tremaining: 12.9s\n",
      "703:\tlearn: 0.2218317\ttotal: 30.7s\tremaining: 12.9s\n",
      "704:\tlearn: 0.2218284\ttotal: 30.7s\tremaining: 12.8s\n",
      "705:\tlearn: 0.2218252\ttotal: 30.7s\tremaining: 12.8s\n",
      "706:\tlearn: 0.2218210\ttotal: 30.8s\tremaining: 12.8s\n",
      "707:\tlearn: 0.2218181\ttotal: 30.8s\tremaining: 12.7s\n",
      "708:\tlearn: 0.2218138\ttotal: 30.9s\tremaining: 12.7s\n",
      "709:\tlearn: 0.2218102\ttotal: 30.9s\tremaining: 12.6s\n",
      "710:\tlearn: 0.2218068\ttotal: 30.9s\tremaining: 12.6s\n",
      "711:\tlearn: 0.2218036\ttotal: 31s\tremaining: 12.5s\n",
      "712:\tlearn: 0.2218009\ttotal: 31s\tremaining: 12.5s\n",
      "713:\tlearn: 0.2217985\ttotal: 31.1s\tremaining: 12.4s\n",
      "714:\tlearn: 0.2217952\ttotal: 31.1s\tremaining: 12.4s\n",
      "715:\tlearn: 0.2217920\ttotal: 31.2s\tremaining: 12.4s\n",
      "716:\tlearn: 0.2217894\ttotal: 31.2s\tremaining: 12.3s\n",
      "717:\tlearn: 0.2217864\ttotal: 31.2s\tremaining: 12.3s\n",
      "718:\tlearn: 0.2217840\ttotal: 31.3s\tremaining: 12.2s\n",
      "719:\tlearn: 0.2217807\ttotal: 31.3s\tremaining: 12.2s\n",
      "720:\tlearn: 0.2217773\ttotal: 31.4s\tremaining: 12.1s\n",
      "721:\tlearn: 0.2217743\ttotal: 31.4s\tremaining: 12.1s\n",
      "722:\tlearn: 0.2217715\ttotal: 31.4s\tremaining: 12s\n",
      "723:\tlearn: 0.2217688\ttotal: 31.5s\tremaining: 12s\n",
      "724:\tlearn: 0.2217661\ttotal: 31.5s\tremaining: 12s\n",
      "725:\tlearn: 0.2217631\ttotal: 31.6s\tremaining: 11.9s\n",
      "726:\tlearn: 0.2217604\ttotal: 31.6s\tremaining: 11.9s\n",
      "727:\tlearn: 0.2217571\ttotal: 31.7s\tremaining: 11.8s\n",
      "728:\tlearn: 0.2217537\ttotal: 31.7s\tremaining: 11.8s\n",
      "729:\tlearn: 0.2217505\ttotal: 31.8s\tremaining: 11.7s\n",
      "730:\tlearn: 0.2217481\ttotal: 31.8s\tremaining: 11.7s\n",
      "731:\tlearn: 0.2217457\ttotal: 31.8s\tremaining: 11.7s\n",
      "732:\tlearn: 0.2217422\ttotal: 31.9s\tremaining: 11.6s\n",
      "733:\tlearn: 0.2217382\ttotal: 31.9s\tremaining: 11.6s\n",
      "734:\tlearn: 0.2217346\ttotal: 32s\tremaining: 11.5s\n",
      "735:\tlearn: 0.2217312\ttotal: 32s\tremaining: 11.5s\n",
      "736:\tlearn: 0.2217284\ttotal: 32.1s\tremaining: 11.4s\n",
      "737:\tlearn: 0.2217257\ttotal: 32.1s\tremaining: 11.4s\n",
      "738:\tlearn: 0.2217220\ttotal: 32.2s\tremaining: 11.4s\n",
      "739:\tlearn: 0.2217192\ttotal: 32.2s\tremaining: 11.3s\n",
      "740:\tlearn: 0.2217158\ttotal: 32.2s\tremaining: 11.3s\n",
      "741:\tlearn: 0.2217130\ttotal: 32.3s\tremaining: 11.2s\n",
      "742:\tlearn: 0.2217104\ttotal: 32.3s\tremaining: 11.2s\n",
      "743:\tlearn: 0.2217079\ttotal: 32.4s\tremaining: 11.1s\n",
      "744:\tlearn: 0.2217053\ttotal: 32.4s\tremaining: 11.1s\n",
      "745:\tlearn: 0.2217023\ttotal: 32.5s\tremaining: 11s\n",
      "746:\tlearn: 0.2217001\ttotal: 32.5s\tremaining: 11s\n",
      "747:\tlearn: 0.2216964\ttotal: 32.5s\tremaining: 11s\n",
      "748:\tlearn: 0.2216939\ttotal: 32.6s\tremaining: 10.9s\n",
      "749:\tlearn: 0.2216907\ttotal: 32.6s\tremaining: 10.9s\n",
      "750:\tlearn: 0.2216871\ttotal: 32.7s\tremaining: 10.8s\n",
      "751:\tlearn: 0.2216846\ttotal: 32.7s\tremaining: 10.8s\n",
      "752:\tlearn: 0.2216817\ttotal: 32.8s\tremaining: 10.8s\n",
      "753:\tlearn: 0.2216786\ttotal: 32.8s\tremaining: 10.7s\n",
      "754:\tlearn: 0.2216759\ttotal: 32.9s\tremaining: 10.7s\n",
      "755:\tlearn: 0.2216719\ttotal: 32.9s\tremaining: 10.6s\n",
      "756:\tlearn: 0.2216693\ttotal: 32.9s\tremaining: 10.6s\n",
      "757:\tlearn: 0.2216666\ttotal: 33s\tremaining: 10.5s\n",
      "758:\tlearn: 0.2216638\ttotal: 33s\tremaining: 10.5s\n",
      "759:\tlearn: 0.2216601\ttotal: 33.1s\tremaining: 10.4s\n",
      "760:\tlearn: 0.2216576\ttotal: 33.1s\tremaining: 10.4s\n",
      "761:\tlearn: 0.2216536\ttotal: 33.1s\tremaining: 10.4s\n",
      "762:\tlearn: 0.2216514\ttotal: 33.2s\tremaining: 10.3s\n",
      "763:\tlearn: 0.2216478\ttotal: 33.2s\tremaining: 10.3s\n",
      "764:\tlearn: 0.2216451\ttotal: 33.3s\tremaining: 10.2s\n",
      "765:\tlearn: 0.2216426\ttotal: 33.3s\tremaining: 10.2s\n",
      "766:\tlearn: 0.2216392\ttotal: 33.4s\tremaining: 10.1s\n",
      "767:\tlearn: 0.2216364\ttotal: 33.4s\tremaining: 10.1s\n",
      "768:\tlearn: 0.2216330\ttotal: 33.5s\tremaining: 10.1s\n",
      "769:\tlearn: 0.2216305\ttotal: 33.5s\tremaining: 10s\n",
      "770:\tlearn: 0.2216278\ttotal: 33.5s\tremaining: 9.96s\n",
      "771:\tlearn: 0.2216245\ttotal: 33.6s\tremaining: 9.92s\n",
      "772:\tlearn: 0.2216218\ttotal: 33.6s\tremaining: 9.88s\n",
      "773:\tlearn: 0.2216184\ttotal: 33.7s\tremaining: 9.83s\n",
      "774:\tlearn: 0.2216161\ttotal: 33.7s\tremaining: 9.79s\n",
      "775:\tlearn: 0.2216134\ttotal: 33.7s\tremaining: 9.74s\n",
      "776:\tlearn: 0.2216098\ttotal: 33.8s\tremaining: 9.7s\n",
      "777:\tlearn: 0.2216072\ttotal: 33.8s\tremaining: 9.65s\n",
      "778:\tlearn: 0.2216041\ttotal: 33.9s\tremaining: 9.61s\n",
      "779:\tlearn: 0.2216007\ttotal: 33.9s\tremaining: 9.57s\n",
      "780:\tlearn: 0.2215978\ttotal: 34s\tremaining: 9.52s\n",
      "781:\tlearn: 0.2215940\ttotal: 34s\tremaining: 9.48s\n",
      "782:\tlearn: 0.2215913\ttotal: 34.1s\tremaining: 9.44s\n",
      "783:\tlearn: 0.2215882\ttotal: 34.1s\tremaining: 9.39s\n",
      "784:\tlearn: 0.2215858\ttotal: 34.1s\tremaining: 9.35s\n",
      "785:\tlearn: 0.2215836\ttotal: 34.2s\tremaining: 9.31s\n",
      "786:\tlearn: 0.2215801\ttotal: 34.2s\tremaining: 9.27s\n",
      "787:\tlearn: 0.2215769\ttotal: 34.3s\tremaining: 9.22s\n",
      "788:\tlearn: 0.2215739\ttotal: 34.3s\tremaining: 9.18s\n",
      "789:\tlearn: 0.2215711\ttotal: 34.4s\tremaining: 9.14s\n",
      "790:\tlearn: 0.2215682\ttotal: 34.4s\tremaining: 9.09s\n",
      "791:\tlearn: 0.2215653\ttotal: 34.5s\tremaining: 9.05s\n",
      "792:\tlearn: 0.2215611\ttotal: 34.5s\tremaining: 9.01s\n",
      "793:\tlearn: 0.2215577\ttotal: 34.5s\tremaining: 8.96s\n",
      "794:\tlearn: 0.2215548\ttotal: 34.6s\tremaining: 8.92s\n",
      "795:\tlearn: 0.2215517\ttotal: 34.6s\tremaining: 8.87s\n",
      "796:\tlearn: 0.2215489\ttotal: 34.7s\tremaining: 8.83s\n",
      "797:\tlearn: 0.2215462\ttotal: 34.7s\tremaining: 8.78s\n",
      "798:\tlearn: 0.2215434\ttotal: 34.7s\tremaining: 8.74s\n",
      "799:\tlearn: 0.2215402\ttotal: 34.8s\tremaining: 8.7s\n",
      "800:\tlearn: 0.2215372\ttotal: 34.8s\tremaining: 8.65s\n",
      "801:\tlearn: 0.2215347\ttotal: 34.9s\tremaining: 8.61s\n",
      "802:\tlearn: 0.2215312\ttotal: 34.9s\tremaining: 8.56s\n",
      "803:\tlearn: 0.2215284\ttotal: 34.9s\tremaining: 8.52s\n",
      "804:\tlearn: 0.2215257\ttotal: 35s\tremaining: 8.47s\n",
      "805:\tlearn: 0.2215237\ttotal: 35s\tremaining: 8.43s\n",
      "806:\tlearn: 0.2215213\ttotal: 35.1s\tremaining: 8.39s\n",
      "807:\tlearn: 0.2215179\ttotal: 35.1s\tremaining: 8.35s\n",
      "808:\tlearn: 0.2215155\ttotal: 35.2s\tremaining: 8.3s\n",
      "809:\tlearn: 0.2215115\ttotal: 35.2s\tremaining: 8.26s\n",
      "810:\tlearn: 0.2215083\ttotal: 35.3s\tremaining: 8.22s\n",
      "811:\tlearn: 0.2215049\ttotal: 35.3s\tremaining: 8.17s\n",
      "812:\tlearn: 0.2215016\ttotal: 35.3s\tremaining: 8.13s\n",
      "813:\tlearn: 0.2214988\ttotal: 35.4s\tremaining: 8.09s\n",
      "814:\tlearn: 0.2214955\ttotal: 35.4s\tremaining: 8.04s\n",
      "815:\tlearn: 0.2214933\ttotal: 35.5s\tremaining: 8s\n",
      "816:\tlearn: 0.2214905\ttotal: 35.5s\tremaining: 7.96s\n",
      "817:\tlearn: 0.2214871\ttotal: 35.6s\tremaining: 7.91s\n",
      "818:\tlearn: 0.2214851\ttotal: 35.6s\tremaining: 7.87s\n",
      "819:\tlearn: 0.2214818\ttotal: 35.6s\tremaining: 7.82s\n",
      "820:\tlearn: 0.2214791\ttotal: 35.7s\tremaining: 7.78s\n",
      "821:\tlearn: 0.2214768\ttotal: 35.7s\tremaining: 7.74s\n",
      "822:\tlearn: 0.2214725\ttotal: 35.8s\tremaining: 7.69s\n",
      "823:\tlearn: 0.2214695\ttotal: 35.8s\tremaining: 7.65s\n",
      "824:\tlearn: 0.2214670\ttotal: 35.8s\tremaining: 7.6s\n",
      "825:\tlearn: 0.2214638\ttotal: 35.9s\tremaining: 7.56s\n",
      "826:\tlearn: 0.2214607\ttotal: 35.9s\tremaining: 7.51s\n",
      "827:\tlearn: 0.2214572\ttotal: 36s\tremaining: 7.47s\n",
      "828:\tlearn: 0.2214549\ttotal: 36s\tremaining: 7.43s\n",
      "829:\tlearn: 0.2214518\ttotal: 36.1s\tremaining: 7.38s\n",
      "830:\tlearn: 0.2214493\ttotal: 36.1s\tremaining: 7.34s\n",
      "831:\tlearn: 0.2214468\ttotal: 36.1s\tremaining: 7.29s\n",
      "832:\tlearn: 0.2214433\ttotal: 36.2s\tremaining: 7.25s\n",
      "833:\tlearn: 0.2214407\ttotal: 36.2s\tremaining: 7.21s\n",
      "834:\tlearn: 0.2214382\ttotal: 36.3s\tremaining: 7.16s\n",
      "835:\tlearn: 0.2214349\ttotal: 36.3s\tremaining: 7.12s\n",
      "836:\tlearn: 0.2214327\ttotal: 36.3s\tremaining: 7.08s\n",
      "837:\tlearn: 0.2214302\ttotal: 36.4s\tremaining: 7.03s\n",
      "838:\tlearn: 0.2214271\ttotal: 36.4s\tremaining: 6.99s\n",
      "839:\tlearn: 0.2214245\ttotal: 36.5s\tremaining: 6.95s\n",
      "840:\tlearn: 0.2214217\ttotal: 36.5s\tremaining: 6.9s\n",
      "841:\tlearn: 0.2214187\ttotal: 36.6s\tremaining: 6.86s\n",
      "842:\tlearn: 0.2214154\ttotal: 36.6s\tremaining: 6.82s\n",
      "843:\tlearn: 0.2214130\ttotal: 36.6s\tremaining: 6.77s\n",
      "844:\tlearn: 0.2214104\ttotal: 36.7s\tremaining: 6.73s\n",
      "845:\tlearn: 0.2214076\ttotal: 36.7s\tremaining: 6.69s\n",
      "846:\tlearn: 0.2214041\ttotal: 36.8s\tremaining: 6.64s\n",
      "847:\tlearn: 0.2214012\ttotal: 36.8s\tremaining: 6.6s\n",
      "848:\tlearn: 0.2213988\ttotal: 36.9s\tremaining: 6.55s\n",
      "849:\tlearn: 0.2213953\ttotal: 36.9s\tremaining: 6.51s\n",
      "850:\tlearn: 0.2213921\ttotal: 36.9s\tremaining: 6.47s\n",
      "851:\tlearn: 0.2213895\ttotal: 37s\tremaining: 6.42s\n",
      "852:\tlearn: 0.2213869\ttotal: 37s\tremaining: 6.38s\n",
      "853:\tlearn: 0.2213839\ttotal: 37.1s\tremaining: 6.34s\n",
      "854:\tlearn: 0.2213810\ttotal: 37.1s\tremaining: 6.29s\n",
      "855:\tlearn: 0.2213783\ttotal: 37.2s\tremaining: 6.25s\n",
      "856:\tlearn: 0.2213750\ttotal: 37.2s\tremaining: 6.21s\n",
      "857:\tlearn: 0.2213718\ttotal: 37.2s\tremaining: 6.16s\n",
      "858:\tlearn: 0.2213693\ttotal: 37.3s\tremaining: 6.12s\n",
      "859:\tlearn: 0.2213656\ttotal: 37.3s\tremaining: 6.07s\n",
      "860:\tlearn: 0.2213630\ttotal: 37.4s\tremaining: 6.03s\n",
      "861:\tlearn: 0.2213594\ttotal: 37.4s\tremaining: 5.99s\n",
      "862:\tlearn: 0.2213561\ttotal: 37.4s\tremaining: 5.94s\n",
      "863:\tlearn: 0.2213525\ttotal: 37.5s\tremaining: 5.9s\n",
      "864:\tlearn: 0.2213490\ttotal: 37.5s\tremaining: 5.86s\n",
      "865:\tlearn: 0.2213450\ttotal: 37.6s\tremaining: 5.81s\n",
      "866:\tlearn: 0.2213423\ttotal: 37.6s\tremaining: 5.77s\n",
      "867:\tlearn: 0.2213395\ttotal: 37.6s\tremaining: 5.72s\n",
      "868:\tlearn: 0.2213367\ttotal: 37.7s\tremaining: 5.68s\n",
      "869:\tlearn: 0.2213343\ttotal: 37.7s\tremaining: 5.64s\n",
      "870:\tlearn: 0.2213309\ttotal: 37.8s\tremaining: 5.59s\n",
      "871:\tlearn: 0.2213277\ttotal: 37.8s\tremaining: 5.55s\n",
      "872:\tlearn: 0.2213253\ttotal: 37.8s\tremaining: 5.51s\n",
      "873:\tlearn: 0.2213228\ttotal: 37.9s\tremaining: 5.46s\n",
      "874:\tlearn: 0.2213195\ttotal: 37.9s\tremaining: 5.42s\n",
      "875:\tlearn: 0.2213171\ttotal: 38s\tremaining: 5.38s\n",
      "876:\tlearn: 0.2213146\ttotal: 38s\tremaining: 5.33s\n",
      "877:\tlearn: 0.2213114\ttotal: 38.1s\tremaining: 5.29s\n",
      "878:\tlearn: 0.2213088\ttotal: 38.1s\tremaining: 5.25s\n",
      "879:\tlearn: 0.2213065\ttotal: 38.2s\tremaining: 5.2s\n",
      "880:\tlearn: 0.2213034\ttotal: 38.2s\tremaining: 5.16s\n",
      "881:\tlearn: 0.2213001\ttotal: 38.2s\tremaining: 5.12s\n",
      "882:\tlearn: 0.2212969\ttotal: 38.3s\tremaining: 5.07s\n",
      "883:\tlearn: 0.2212943\ttotal: 38.3s\tremaining: 5.03s\n",
      "884:\tlearn: 0.2212917\ttotal: 38.4s\tremaining: 4.99s\n",
      "885:\tlearn: 0.2212896\ttotal: 38.4s\tremaining: 4.94s\n",
      "886:\tlearn: 0.2212865\ttotal: 38.5s\tremaining: 4.9s\n",
      "887:\tlearn: 0.2212835\ttotal: 38.5s\tremaining: 4.86s\n",
      "888:\tlearn: 0.2212802\ttotal: 38.5s\tremaining: 4.81s\n",
      "889:\tlearn: 0.2212775\ttotal: 38.6s\tremaining: 4.77s\n",
      "890:\tlearn: 0.2212745\ttotal: 38.6s\tremaining: 4.72s\n",
      "891:\tlearn: 0.2212715\ttotal: 38.7s\tremaining: 4.68s\n",
      "892:\tlearn: 0.2212692\ttotal: 38.7s\tremaining: 4.64s\n",
      "893:\tlearn: 0.2212664\ttotal: 38.8s\tremaining: 4.59s\n",
      "894:\tlearn: 0.2212633\ttotal: 38.8s\tremaining: 4.55s\n",
      "895:\tlearn: 0.2212598\ttotal: 38.8s\tremaining: 4.51s\n",
      "896:\tlearn: 0.2212569\ttotal: 38.9s\tremaining: 4.46s\n",
      "897:\tlearn: 0.2212540\ttotal: 38.9s\tremaining: 4.42s\n",
      "898:\tlearn: 0.2212508\ttotal: 39s\tremaining: 4.38s\n",
      "899:\tlearn: 0.2212483\ttotal: 39s\tremaining: 4.33s\n",
      "900:\tlearn: 0.2212448\ttotal: 39.1s\tremaining: 4.29s\n",
      "901:\tlearn: 0.2212418\ttotal: 39.1s\tremaining: 4.25s\n",
      "902:\tlearn: 0.2212387\ttotal: 39.1s\tremaining: 4.21s\n",
      "903:\tlearn: 0.2212360\ttotal: 39.2s\tremaining: 4.16s\n",
      "904:\tlearn: 0.2212337\ttotal: 39.3s\tremaining: 4.12s\n",
      "905:\tlearn: 0.2212306\ttotal: 39.3s\tremaining: 4.08s\n",
      "906:\tlearn: 0.2212276\ttotal: 39.3s\tremaining: 4.03s\n",
      "907:\tlearn: 0.2212253\ttotal: 39.4s\tremaining: 3.99s\n",
      "908:\tlearn: 0.2212221\ttotal: 39.4s\tremaining: 3.95s\n",
      "909:\tlearn: 0.2212184\ttotal: 39.5s\tremaining: 3.9s\n",
      "910:\tlearn: 0.2212154\ttotal: 39.5s\tremaining: 3.86s\n",
      "911:\tlearn: 0.2212129\ttotal: 39.5s\tremaining: 3.81s\n",
      "912:\tlearn: 0.2212105\ttotal: 39.6s\tremaining: 3.77s\n",
      "913:\tlearn: 0.2212078\ttotal: 39.6s\tremaining: 3.73s\n",
      "914:\tlearn: 0.2212051\ttotal: 39.7s\tremaining: 3.69s\n",
      "915:\tlearn: 0.2212031\ttotal: 39.7s\tremaining: 3.64s\n",
      "916:\tlearn: 0.2212000\ttotal: 39.8s\tremaining: 3.6s\n",
      "917:\tlearn: 0.2211975\ttotal: 39.8s\tremaining: 3.56s\n",
      "918:\tlearn: 0.2211945\ttotal: 39.8s\tremaining: 3.51s\n",
      "919:\tlearn: 0.2211909\ttotal: 39.9s\tremaining: 3.47s\n",
      "920:\tlearn: 0.2211882\ttotal: 39.9s\tremaining: 3.42s\n",
      "921:\tlearn: 0.2211841\ttotal: 40s\tremaining: 3.38s\n",
      "922:\tlearn: 0.2211798\ttotal: 40s\tremaining: 3.34s\n",
      "923:\tlearn: 0.2211766\ttotal: 40s\tremaining: 3.29s\n",
      "924:\tlearn: 0.2211738\ttotal: 40.1s\tremaining: 3.25s\n",
      "925:\tlearn: 0.2211701\ttotal: 40.1s\tremaining: 3.21s\n",
      "926:\tlearn: 0.2211665\ttotal: 40.2s\tremaining: 3.16s\n",
      "927:\tlearn: 0.2211627\ttotal: 40.2s\tremaining: 3.12s\n",
      "928:\tlearn: 0.2211592\ttotal: 40.3s\tremaining: 3.08s\n",
      "929:\tlearn: 0.2211562\ttotal: 40.3s\tremaining: 3.03s\n",
      "930:\tlearn: 0.2211528\ttotal: 40.3s\tremaining: 2.99s\n",
      "931:\tlearn: 0.2211498\ttotal: 40.4s\tremaining: 2.95s\n",
      "932:\tlearn: 0.2211470\ttotal: 40.4s\tremaining: 2.9s\n",
      "933:\tlearn: 0.2211436\ttotal: 40.5s\tremaining: 2.86s\n",
      "934:\tlearn: 0.2211410\ttotal: 40.5s\tremaining: 2.81s\n",
      "935:\tlearn: 0.2211382\ttotal: 40.5s\tremaining: 2.77s\n",
      "936:\tlearn: 0.2211358\ttotal: 40.6s\tremaining: 2.73s\n",
      "937:\tlearn: 0.2211331\ttotal: 40.6s\tremaining: 2.68s\n",
      "938:\tlearn: 0.2211313\ttotal: 40.7s\tremaining: 2.64s\n",
      "939:\tlearn: 0.2211284\ttotal: 40.7s\tremaining: 2.6s\n",
      "940:\tlearn: 0.2211249\ttotal: 40.7s\tremaining: 2.55s\n",
      "941:\tlearn: 0.2211218\ttotal: 40.8s\tremaining: 2.51s\n",
      "942:\tlearn: 0.2211188\ttotal: 40.8s\tremaining: 2.47s\n",
      "943:\tlearn: 0.2211156\ttotal: 40.9s\tremaining: 2.42s\n",
      "944:\tlearn: 0.2211131\ttotal: 40.9s\tremaining: 2.38s\n",
      "945:\tlearn: 0.2211104\ttotal: 40.9s\tremaining: 2.34s\n",
      "946:\tlearn: 0.2211065\ttotal: 41s\tremaining: 2.29s\n",
      "947:\tlearn: 0.2211038\ttotal: 41s\tremaining: 2.25s\n",
      "948:\tlearn: 0.2211017\ttotal: 41.1s\tremaining: 2.21s\n",
      "949:\tlearn: 0.2210985\ttotal: 41.1s\tremaining: 2.16s\n",
      "950:\tlearn: 0.2210959\ttotal: 41.1s\tremaining: 2.12s\n",
      "951:\tlearn: 0.2210933\ttotal: 41.2s\tremaining: 2.08s\n",
      "952:\tlearn: 0.2210907\ttotal: 41.2s\tremaining: 2.03s\n",
      "953:\tlearn: 0.2210875\ttotal: 41.3s\tremaining: 1.99s\n",
      "954:\tlearn: 0.2210836\ttotal: 41.3s\tremaining: 1.95s\n",
      "955:\tlearn: 0.2210806\ttotal: 41.4s\tremaining: 1.9s\n",
      "956:\tlearn: 0.2210770\ttotal: 41.4s\tremaining: 1.86s\n",
      "957:\tlearn: 0.2210736\ttotal: 41.4s\tremaining: 1.82s\n",
      "958:\tlearn: 0.2210702\ttotal: 41.5s\tremaining: 1.77s\n",
      "959:\tlearn: 0.2210677\ttotal: 41.5s\tremaining: 1.73s\n",
      "960:\tlearn: 0.2210646\ttotal: 41.6s\tremaining: 1.69s\n",
      "961:\tlearn: 0.2210612\ttotal: 41.6s\tremaining: 1.64s\n",
      "962:\tlearn: 0.2210587\ttotal: 41.7s\tremaining: 1.6s\n",
      "963:\tlearn: 0.2210552\ttotal: 41.7s\tremaining: 1.56s\n",
      "964:\tlearn: 0.2210523\ttotal: 41.7s\tremaining: 1.51s\n",
      "965:\tlearn: 0.2210496\ttotal: 41.8s\tremaining: 1.47s\n",
      "966:\tlearn: 0.2210466\ttotal: 41.8s\tremaining: 1.43s\n",
      "967:\tlearn: 0.2210440\ttotal: 41.9s\tremaining: 1.38s\n",
      "968:\tlearn: 0.2210417\ttotal: 41.9s\tremaining: 1.34s\n",
      "969:\tlearn: 0.2210394\ttotal: 41.9s\tremaining: 1.3s\n",
      "970:\tlearn: 0.2210361\ttotal: 42s\tremaining: 1.25s\n",
      "971:\tlearn: 0.2210341\ttotal: 42s\tremaining: 1.21s\n",
      "972:\tlearn: 0.2210313\ttotal: 42.1s\tremaining: 1.17s\n",
      "973:\tlearn: 0.2210280\ttotal: 42.1s\tremaining: 1.12s\n",
      "974:\tlearn: 0.2210239\ttotal: 42.1s\tremaining: 1.08s\n",
      "975:\tlearn: 0.2210213\ttotal: 42.2s\tremaining: 1.04s\n",
      "976:\tlearn: 0.2210185\ttotal: 42.2s\tremaining: 994ms\n",
      "977:\tlearn: 0.2210154\ttotal: 42.3s\tremaining: 951ms\n",
      "978:\tlearn: 0.2210128\ttotal: 42.3s\tremaining: 908ms\n",
      "979:\tlearn: 0.2210098\ttotal: 42.3s\tremaining: 864ms\n",
      "980:\tlearn: 0.2210074\ttotal: 42.4s\tremaining: 821ms\n",
      "981:\tlearn: 0.2210048\ttotal: 42.4s\tremaining: 778ms\n",
      "982:\tlearn: 0.2210019\ttotal: 42.5s\tremaining: 734ms\n",
      "983:\tlearn: 0.2209989\ttotal: 42.5s\tremaining: 691ms\n",
      "984:\tlearn: 0.2209964\ttotal: 42.5s\tremaining: 648ms\n",
      "985:\tlearn: 0.2209934\ttotal: 42.6s\tremaining: 605ms\n",
      "986:\tlearn: 0.2209900\ttotal: 42.6s\tremaining: 561ms\n",
      "987:\tlearn: 0.2209870\ttotal: 42.7s\tremaining: 518ms\n",
      "988:\tlearn: 0.2209838\ttotal: 42.7s\tremaining: 475ms\n",
      "989:\tlearn: 0.2209800\ttotal: 42.8s\tremaining: 432ms\n",
      "990:\tlearn: 0.2209761\ttotal: 42.8s\tremaining: 389ms\n",
      "991:\tlearn: 0.2209730\ttotal: 42.8s\tremaining: 345ms\n",
      "992:\tlearn: 0.2209694\ttotal: 42.9s\tremaining: 302ms\n",
      "993:\tlearn: 0.2209668\ttotal: 42.9s\tremaining: 259ms\n",
      "994:\tlearn: 0.2209636\ttotal: 43s\tremaining: 216ms\n",
      "995:\tlearn: 0.2209610\ttotal: 43s\tremaining: 173ms\n",
      "996:\tlearn: 0.2209580\ttotal: 43s\tremaining: 130ms\n",
      "997:\tlearn: 0.2209554\ttotal: 43.1s\tremaining: 86.3ms\n",
      "998:\tlearn: 0.2209529\ttotal: 43.1s\tremaining: 43.2ms\n",
      "999:\tlearn: 0.2209501\ttotal: 43.2s\tremaining: 0us\n",
      "Requirement already satisfied: plotly in /home/jacobstahl/anaconda3/lib/python3.7/site-packages (5.5.0)\n",
      "Requirement already satisfied: six in /home/jacobstahl/anaconda3/lib/python3.7/site-packages (from plotly) (1.15.0)\n",
      "Requirement already satisfied: tenacity>=6.2.0 in /home/jacobstahl/anaconda3/lib/python3.7/site-packages (from plotly) (8.0.1)\n"
     ]
    },
    {
     "data": {
      "application/vnd.plotly.v1+json": {
       "config": {
        "plotlyServerURL": "https://plot.ly"
       },
       "data": [
        {
         "alignmentgroup": "True",
         "hovertemplate": "variable=0<br>era=%{x}<br>value=%{y}<extra></extra>",
         "legendgroup": "0",
         "marker": {
          "color": "#636efa"
         },
         "name": "0",
         "offsetgroup": "0",
         "orientation": "v",
         "showlegend": true,
         "textposition": "auto",
         "type": "bar",
         "x": [
          "0857",
          "0858",
          "0859",
          "0860",
          "0861",
          "0862",
          "0863",
          "0864",
          "0865",
          "0866",
          "0867",
          "0868",
          "0869",
          "0870",
          "0871",
          "0872",
          "0873",
          "0874",
          "0875",
          "0876",
          "0877",
          "0878",
          "0879",
          "0880",
          "0881",
          "0882",
          "0883",
          "0884",
          "0885",
          "0886",
          "0887",
          "0888",
          "0889",
          "0890",
          "0891",
          "0892",
          "0893",
          "0894",
          "0895",
          "0896",
          "0897",
          "0898",
          "0899",
          "0900",
          "0901",
          "0902",
          "0903",
          "0904",
          "0905",
          "0906",
          "0907",
          "0908",
          "0909",
          "0910",
          "0911",
          "0912",
          "0913",
          "0914",
          "0915",
          "0916",
          "0917",
          "0918",
          "0919",
          "0920",
          "0921",
          "0922",
          "0923",
          "0924",
          "0925",
          "0926",
          "0927",
          "0928",
          "0929",
          "0930",
          "0931",
          "0932",
          "0933",
          "0934",
          "0935",
          "0936",
          "0937",
          "0938",
          "0939",
          "0940",
          "0941",
          "0942",
          "0943",
          "0944",
          "0945",
          "0946",
          "0947",
          "0948",
          "0949",
          "0950",
          "0951",
          "0952",
          "0953",
          "0954",
          "0955",
          "0956",
          "0957",
          "0958",
          "0959",
          "0960",
          "0961"
         ],
         "xaxis": "x",
         "y": [
          0.025310645022330568,
          0.029201887434258594,
          0.02195430300103564,
          0.014523142041799202,
          0.002388216963591887,
          -0.014353917628572247,
          -0.03090904262849466,
          -0.039457571774901765,
          -0.04368374332373294,
          -0.051547684450149935,
          -0.011887579398597971,
          0.023198686657673207,
          0.039036685851422864,
          0.05343761354149334,
          0.002688446617966516,
          -0.006484458246197802,
          -0.027762259089857293,
          -0.008957509516336592,
          0.010265494002512735,
          0.0013098772580682027,
          0.030215744444413124,
          0.034180480400913364,
          0.0314549717486679,
          0.020954070638851303,
          0.012897962690806087,
          0.03140054581117591,
          0.030920794840830688,
          0.00558611275673622,
          0.00552528984859904,
          -0.006229199173064658,
          -0.002402323936765562,
          0.011653161715261217,
          0.008158464195597927,
          0.0018279546020138029,
          -0.009346599450584251,
          -0.016912666414138876,
          -0.03180252485771065,
          0.004271612056672217,
          0.01249134209613427,
          0.005642037359093006,
          0.015592758217320238,
          0.04592212571871062,
          0.053439066074886694,
          0.047680617618840425,
          0.03693250977166973,
          0.03727149799950526,
          0.03317181935282272,
          0.029935018413628677,
          0.03236920039178762,
          0.013665073070030813,
          -0.0011004227786194888,
          0.039467499720837976,
          0.03659015501816275,
          0.038025055698822315,
          0.0628998013056054,
          0.027236415161682164,
          0.015645973457325518,
          0.014032097074479721,
          0.0032942787156501996,
          0.00895434256996625,
          -0.001143190327610056,
          -0.018855160189511687,
          -0.016086919055498253,
          -0.04453883598455586,
          -0.03161785915054087,
          -0.010387919415627918,
          0.021888454124323577,
          0.04910423525920301,
          0.02372188348906741,
          0.016362048732808127,
          -0.003628596179901661,
          -0.04814047017414791,
          -0.04007423467317252,
          -0.016396653317329406,
          -0.01470189010385171,
          0.030282543659874147,
          0.034050610141118584,
          0.05694706224386291,
          0.0283374532993525,
          0.05211038548789804,
          0.04093161677292264,
          0.02061972712638068,
          0.05465122713678263,
          0.05393283693064987,
          0.04275018795619008,
          0.04451467458073355,
          0.03457254767934994,
          0.030926122855130352,
          0.060512318966728325,
          0.07179792099854522,
          0.0667383426188017,
          0.056262156957776414,
          0.0751374089245087,
          0.08275809927302162,
          0.07451615107081991,
          0.09893214155787855,
          0.045488299442928266,
          0.03478668747236702,
          0.04628500274952512,
          0.023857539682780145,
          0.03343370110694412,
          0.04118110481472336,
          0.042530919831630494,
          0.05196046997993975,
          0.04909491190772672
         ],
         "yaxis": "y"
        }
       ],
       "layout": {
        "barmode": "relative",
        "legend": {
         "title": {
          "text": "variable"
         },
         "tracegroupgap": 0
        },
        "margin": {
         "t": 60
        },
        "template": {
         "data": {
          "bar": [
           {
            "error_x": {
             "color": "#2a3f5f"
            },
            "error_y": {
             "color": "#2a3f5f"
            },
            "marker": {
             "line": {
              "color": "#E5ECF6",
              "width": 0.5
             }
            },
            "type": "bar"
           }
          ],
          "barpolar": [
           {
            "marker": {
             "line": {
              "color": "#E5ECF6",
              "width": 0.5
             }
            },
            "type": "barpolar"
           }
          ],
          "carpet": [
           {
            "aaxis": {
             "endlinecolor": "#2a3f5f",
             "gridcolor": "white",
             "linecolor": "white",
             "minorgridcolor": "white",
             "startlinecolor": "#2a3f5f"
            },
            "baxis": {
             "endlinecolor": "#2a3f5f",
             "gridcolor": "white",
             "linecolor": "white",
             "minorgridcolor": "white",
             "startlinecolor": "#2a3f5f"
            },
            "type": "carpet"
           }
          ],
          "choropleth": [
           {
            "colorbar": {
             "outlinewidth": 0,
             "ticks": ""
            },
            "type": "choropleth"
           }
          ],
          "contour": [
           {
            "colorbar": {
             "outlinewidth": 0,
             "ticks": ""
            },
            "colorscale": [
             [
              0,
              "#0d0887"
             ],
             [
              0.1111111111111111,
              "#46039f"
             ],
             [
              0.2222222222222222,
              "#7201a8"
             ],
             [
              0.3333333333333333,
              "#9c179e"
             ],
             [
              0.4444444444444444,
              "#bd3786"
             ],
             [
              0.5555555555555556,
              "#d8576b"
             ],
             [
              0.6666666666666666,
              "#ed7953"
             ],
             [
              0.7777777777777778,
              "#fb9f3a"
             ],
             [
              0.8888888888888888,
              "#fdca26"
             ],
             [
              1,
              "#f0f921"
             ]
            ],
            "type": "contour"
           }
          ],
          "contourcarpet": [
           {
            "colorbar": {
             "outlinewidth": 0,
             "ticks": ""
            },
            "type": "contourcarpet"
           }
          ],
          "heatmap": [
           {
            "colorbar": {
             "outlinewidth": 0,
             "ticks": ""
            },
            "colorscale": [
             [
              0,
              "#0d0887"
             ],
             [
              0.1111111111111111,
              "#46039f"
             ],
             [
              0.2222222222222222,
              "#7201a8"
             ],
             [
              0.3333333333333333,
              "#9c179e"
             ],
             [
              0.4444444444444444,
              "#bd3786"
             ],
             [
              0.5555555555555556,
              "#d8576b"
             ],
             [
              0.6666666666666666,
              "#ed7953"
             ],
             [
              0.7777777777777778,
              "#fb9f3a"
             ],
             [
              0.8888888888888888,
              "#fdca26"
             ],
             [
              1,
              "#f0f921"
             ]
            ],
            "type": "heatmap"
           }
          ],
          "heatmapgl": [
           {
            "colorbar": {
             "outlinewidth": 0,
             "ticks": ""
            },
            "colorscale": [
             [
              0,
              "#0d0887"
             ],
             [
              0.1111111111111111,
              "#46039f"
             ],
             [
              0.2222222222222222,
              "#7201a8"
             ],
             [
              0.3333333333333333,
              "#9c179e"
             ],
             [
              0.4444444444444444,
              "#bd3786"
             ],
             [
              0.5555555555555556,
              "#d8576b"
             ],
             [
              0.6666666666666666,
              "#ed7953"
             ],
             [
              0.7777777777777778,
              "#fb9f3a"
             ],
             [
              0.8888888888888888,
              "#fdca26"
             ],
             [
              1,
              "#f0f921"
             ]
            ],
            "type": "heatmapgl"
           }
          ],
          "histogram": [
           {
            "marker": {
             "colorbar": {
              "outlinewidth": 0,
              "ticks": ""
             }
            },
            "type": "histogram"
           }
          ],
          "histogram2d": [
           {
            "colorbar": {
             "outlinewidth": 0,
             "ticks": ""
            },
            "colorscale": [
             [
              0,
              "#0d0887"
             ],
             [
              0.1111111111111111,
              "#46039f"
             ],
             [
              0.2222222222222222,
              "#7201a8"
             ],
             [
              0.3333333333333333,
              "#9c179e"
             ],
             [
              0.4444444444444444,
              "#bd3786"
             ],
             [
              0.5555555555555556,
              "#d8576b"
             ],
             [
              0.6666666666666666,
              "#ed7953"
             ],
             [
              0.7777777777777778,
              "#fb9f3a"
             ],
             [
              0.8888888888888888,
              "#fdca26"
             ],
             [
              1,
              "#f0f921"
             ]
            ],
            "type": "histogram2d"
           }
          ],
          "histogram2dcontour": [
           {
            "colorbar": {
             "outlinewidth": 0,
             "ticks": ""
            },
            "colorscale": [
             [
              0,
              "#0d0887"
             ],
             [
              0.1111111111111111,
              "#46039f"
             ],
             [
              0.2222222222222222,
              "#7201a8"
             ],
             [
              0.3333333333333333,
              "#9c179e"
             ],
             [
              0.4444444444444444,
              "#bd3786"
             ],
             [
              0.5555555555555556,
              "#d8576b"
             ],
             [
              0.6666666666666666,
              "#ed7953"
             ],
             [
              0.7777777777777778,
              "#fb9f3a"
             ],
             [
              0.8888888888888888,
              "#fdca26"
             ],
             [
              1,
              "#f0f921"
             ]
            ],
            "type": "histogram2dcontour"
           }
          ],
          "mesh3d": [
           {
            "colorbar": {
             "outlinewidth": 0,
             "ticks": ""
            },
            "type": "mesh3d"
           }
          ],
          "parcoords": [
           {
            "line": {
             "colorbar": {
              "outlinewidth": 0,
              "ticks": ""
             }
            },
            "type": "parcoords"
           }
          ],
          "pie": [
           {
            "automargin": true,
            "type": "pie"
           }
          ],
          "scatter": [
           {
            "marker": {
             "colorbar": {
              "outlinewidth": 0,
              "ticks": ""
             }
            },
            "type": "scatter"
           }
          ],
          "scatter3d": [
           {
            "line": {
             "colorbar": {
              "outlinewidth": 0,
              "ticks": ""
             }
            },
            "marker": {
             "colorbar": {
              "outlinewidth": 0,
              "ticks": ""
             }
            },
            "type": "scatter3d"
           }
          ],
          "scattercarpet": [
           {
            "marker": {
             "colorbar": {
              "outlinewidth": 0,
              "ticks": ""
             }
            },
            "type": "scattercarpet"
           }
          ],
          "scattergeo": [
           {
            "marker": {
             "colorbar": {
              "outlinewidth": 0,
              "ticks": ""
             }
            },
            "type": "scattergeo"
           }
          ],
          "scattergl": [
           {
            "marker": {
             "colorbar": {
              "outlinewidth": 0,
              "ticks": ""
             }
            },
            "type": "scattergl"
           }
          ],
          "scattermapbox": [
           {
            "marker": {
             "colorbar": {
              "outlinewidth": 0,
              "ticks": ""
             }
            },
            "type": "scattermapbox"
           }
          ],
          "scatterpolar": [
           {
            "marker": {
             "colorbar": {
              "outlinewidth": 0,
              "ticks": ""
             }
            },
            "type": "scatterpolar"
           }
          ],
          "scatterpolargl": [
           {
            "marker": {
             "colorbar": {
              "outlinewidth": 0,
              "ticks": ""
             }
            },
            "type": "scatterpolargl"
           }
          ],
          "scatterternary": [
           {
            "marker": {
             "colorbar": {
              "outlinewidth": 0,
              "ticks": ""
             }
            },
            "type": "scatterternary"
           }
          ],
          "surface": [
           {
            "colorbar": {
             "outlinewidth": 0,
             "ticks": ""
            },
            "colorscale": [
             [
              0,
              "#0d0887"
             ],
             [
              0.1111111111111111,
              "#46039f"
             ],
             [
              0.2222222222222222,
              "#7201a8"
             ],
             [
              0.3333333333333333,
              "#9c179e"
             ],
             [
              0.4444444444444444,
              "#bd3786"
             ],
             [
              0.5555555555555556,
              "#d8576b"
             ],
             [
              0.6666666666666666,
              "#ed7953"
             ],
             [
              0.7777777777777778,
              "#fb9f3a"
             ],
             [
              0.8888888888888888,
              "#fdca26"
             ],
             [
              1,
              "#f0f921"
             ]
            ],
            "type": "surface"
           }
          ],
          "table": [
           {
            "cells": {
             "fill": {
              "color": "#EBF0F8"
             },
             "line": {
              "color": "white"
             }
            },
            "header": {
             "fill": {
              "color": "#C8D4E3"
             },
             "line": {
              "color": "white"
             }
            },
            "type": "table"
           }
          ]
         },
         "layout": {
          "annotationdefaults": {
           "arrowcolor": "#2a3f5f",
           "arrowhead": 0,
           "arrowwidth": 1
          },
          "autotypenumbers": "strict",
          "coloraxis": {
           "colorbar": {
            "outlinewidth": 0,
            "ticks": ""
           }
          },
          "colorscale": {
           "diverging": [
            [
             0,
             "#8e0152"
            ],
            [
             0.1,
             "#c51b7d"
            ],
            [
             0.2,
             "#de77ae"
            ],
            [
             0.3,
             "#f1b6da"
            ],
            [
             0.4,
             "#fde0ef"
            ],
            [
             0.5,
             "#f7f7f7"
            ],
            [
             0.6,
             "#e6f5d0"
            ],
            [
             0.7,
             "#b8e186"
            ],
            [
             0.8,
             "#7fbc41"
            ],
            [
             0.9,
             "#4d9221"
            ],
            [
             1,
             "#276419"
            ]
           ],
           "sequential": [
            [
             0,
             "#0d0887"
            ],
            [
             0.1111111111111111,
             "#46039f"
            ],
            [
             0.2222222222222222,
             "#7201a8"
            ],
            [
             0.3333333333333333,
             "#9c179e"
            ],
            [
             0.4444444444444444,
             "#bd3786"
            ],
            [
             0.5555555555555556,
             "#d8576b"
            ],
            [
             0.6666666666666666,
             "#ed7953"
            ],
            [
             0.7777777777777778,
             "#fb9f3a"
            ],
            [
             0.8888888888888888,
             "#fdca26"
            ],
            [
             1,
             "#f0f921"
            ]
           ],
           "sequentialminus": [
            [
             0,
             "#0d0887"
            ],
            [
             0.1111111111111111,
             "#46039f"
            ],
            [
             0.2222222222222222,
             "#7201a8"
            ],
            [
             0.3333333333333333,
             "#9c179e"
            ],
            [
             0.4444444444444444,
             "#bd3786"
            ],
            [
             0.5555555555555556,
             "#d8576b"
            ],
            [
             0.6666666666666666,
             "#ed7953"
            ],
            [
             0.7777777777777778,
             "#fb9f3a"
            ],
            [
             0.8888888888888888,
             "#fdca26"
            ],
            [
             1,
             "#f0f921"
            ]
           ]
          },
          "colorway": [
           "#636efa",
           "#EF553B",
           "#00cc96",
           "#ab63fa",
           "#FFA15A",
           "#19d3f3",
           "#FF6692",
           "#B6E880",
           "#FF97FF",
           "#FECB52"
          ],
          "font": {
           "color": "#2a3f5f"
          },
          "geo": {
           "bgcolor": "white",
           "lakecolor": "white",
           "landcolor": "#E5ECF6",
           "showlakes": true,
           "showland": true,
           "subunitcolor": "white"
          },
          "hoverlabel": {
           "align": "left"
          },
          "hovermode": "closest",
          "mapbox": {
           "style": "light"
          },
          "paper_bgcolor": "white",
          "plot_bgcolor": "#E5ECF6",
          "polar": {
           "angularaxis": {
            "gridcolor": "white",
            "linecolor": "white",
            "ticks": ""
           },
           "bgcolor": "#E5ECF6",
           "radialaxis": {
            "gridcolor": "white",
            "linecolor": "white",
            "ticks": ""
           }
          },
          "scene": {
           "xaxis": {
            "backgroundcolor": "#E5ECF6",
            "gridcolor": "white",
            "gridwidth": 2,
            "linecolor": "white",
            "showbackground": true,
            "ticks": "",
            "zerolinecolor": "white"
           },
           "yaxis": {
            "backgroundcolor": "#E5ECF6",
            "gridcolor": "white",
            "gridwidth": 2,
            "linecolor": "white",
            "showbackground": true,
            "ticks": "",
            "zerolinecolor": "white"
           },
           "zaxis": {
            "backgroundcolor": "#E5ECF6",
            "gridcolor": "white",
            "gridwidth": 2,
            "linecolor": "white",
            "showbackground": true,
            "ticks": "",
            "zerolinecolor": "white"
           }
          },
          "shapedefaults": {
           "line": {
            "color": "#2a3f5f"
           }
          },
          "ternary": {
           "aaxis": {
            "gridcolor": "white",
            "linecolor": "white",
            "ticks": ""
           },
           "baxis": {
            "gridcolor": "white",
            "linecolor": "white",
            "ticks": ""
           },
           "bgcolor": "#E5ECF6",
           "caxis": {
            "gridcolor": "white",
            "linecolor": "white",
            "ticks": ""
           }
          },
          "title": {
           "x": 0.05
          },
          "xaxis": {
           "automargin": true,
           "gridcolor": "white",
           "linecolor": "white",
           "ticks": "",
           "title": {
            "standoff": 15
           },
           "zerolinecolor": "white",
           "zerolinewidth": 2
          },
          "yaxis": {
           "automargin": true,
           "gridcolor": "white",
           "linecolor": "white",
           "ticks": "",
           "title": {
            "standoff": 15
           },
           "zerolinecolor": "white",
           "zerolinewidth": 2
          }
         }
        },
        "xaxis": {
         "anchor": "y",
         "domain": [
          0,
          1
         ],
         "title": {
          "text": "era"
         }
        },
        "yaxis": {
         "anchor": "x",
         "domain": [
          0,
          1
         ],
         "title": {
          "text": "value"
         }
        }
       }
      }
     },
     "metadata": {},
     "output_type": "display_data"
    }
   ],
   "source": [
    "# lets train a catboost model to see if it can beat the linear regression model\n",
    "# https://catboost.ai/\n",
    "\n",
    "!pip install --upgrade catboost\n",
    "import catboost\n",
    "\n",
    "model = catboost.CatBoostRegressor(\n",
    "    iterations=1000,\n",
    "    learning_rate=0.01,\n",
    "    depth=6,\n",
    ")\n",
    "model.fit(training_set[feature_names], training_set[\"target\"])\n",
    "predictions = model.predict(validation_set[feature_names])\n",
    "\n",
    "# validation correlation by era\n",
    "validation_set[\"prediction\"] = predictions\n",
    "era_correlations = validation_set.groupby(\"era\").apply(\n",
    "    lambda era: np.corrcoef(era[\"prediction\"], era[\"target\"])[0, 1]\n",
    ")\n",
    "\n",
    "!pip install --upgrade plotly\n",
    "\n",
    "import plotly.express as px\n",
    "# plot era correlations bar graph\n",
    "\n",
    "fig = px.bar(era_correlations)\n",
    "fig.show()\n"
   ]
  },
  {
   "cell_type": "code",
   "execution_count": 25,
   "metadata": {},
   "outputs": [
    {
     "data": {
      "application/vnd.plotly.v1+json": {
       "config": {
        "plotlyServerURL": "https://plot.ly"
       },
       "data": [
        {
         "alignmentgroup": "True",
         "hovertemplate": "variable=0<br>era=%{x}<br>value=%{y}<extra></extra>",
         "legendgroup": "0",
         "marker": {
          "color": "#636efa"
         },
         "name": "0",
         "offsetgroup": "0",
         "orientation": "v",
         "showlegend": true,
         "textposition": "auto",
         "type": "bar",
         "x": [
          "0857",
          "0858",
          "0859",
          "0860",
          "0861",
          "0862",
          "0863",
          "0864",
          "0865",
          "0866",
          "0867",
          "0868",
          "0869",
          "0870",
          "0871",
          "0872",
          "0873",
          "0874",
          "0875",
          "0876",
          "0877",
          "0878",
          "0879",
          "0880",
          "0881",
          "0882",
          "0883",
          "0884",
          "0885",
          "0886",
          "0887",
          "0888",
          "0889",
          "0890",
          "0891",
          "0892",
          "0893",
          "0894",
          "0895",
          "0896",
          "0897",
          "0898",
          "0899",
          "0900",
          "0901",
          "0902",
          "0903",
          "0904",
          "0905",
          "0906",
          "0907",
          "0908",
          "0909",
          "0910",
          "0911",
          "0912",
          "0913",
          "0914",
          "0915",
          "0916",
          "0917",
          "0918",
          "0919",
          "0920",
          "0921",
          "0922",
          "0923",
          "0924",
          "0925",
          "0926",
          "0927",
          "0928",
          "0929",
          "0930",
          "0931",
          "0932",
          "0933",
          "0934",
          "0935",
          "0936",
          "0937",
          "0938",
          "0939",
          "0940",
          "0941",
          "0942",
          "0943",
          "0944",
          "0945",
          "0946",
          "0947",
          "0948",
          "0949",
          "0950",
          "0951",
          "0952",
          "0953",
          "0954",
          "0955",
          "0956",
          "0957",
          "0958",
          "0959",
          "0960",
          "0961"
         ],
         "xaxis": "x",
         "y": [
          0.025310645022330568,
          0.05451253245658916,
          0.0764668354576248,
          0.090989977499424,
          0.09337819446301589,
          0.07902427683444364,
          0.04811523420594899,
          0.008657662431047222,
          -0.03502608089268572,
          -0.08657376534283565,
          -0.09846134474143362,
          -0.07526265808376041,
          -0.03622597223233755,
          0.01721164130915579,
          0.019900087927122306,
          0.013415629680924504,
          -0.014346629408932788,
          -0.02330413892526938,
          -0.013038644922756646,
          -0.011728767664688442,
          0.018486976779724683,
          0.05266745718063805,
          0.08412242892930594,
          0.10507649956815723,
          0.11797446225896333,
          0.14937500807013923,
          0.18029580291096992,
          0.18588191566770615,
          0.1914072055163052,
          0.18517800634324053,
          0.18277568240647496,
          0.19442884412173617,
          0.2025873083173341,
          0.2044152629193479,
          0.19506866346876364,
          0.17815599705462476,
          0.1463534721969141,
          0.15062508425358634,
          0.16311642634972062,
          0.16875846370881362,
          0.18435122192613385,
          0.23027334764484447,
          0.28371241371973116,
          0.33139303133857156,
          0.3683255411102413,
          0.40559703910974654,
          0.43876885846256924,
          0.4687038768761979,
          0.5010730772679856,
          0.5147381503380164,
          0.513637727559397,
          0.5531052272802349,
          0.5896953822983977,
          0.62772043799722,
          0.6906202393028253,
          0.7178566544645075,
          0.7335026279218331,
          0.7475347249963128,
          0.750829003711963,
          0.7597833462819293,
          0.7586401559543193,
          0.7397849957648076,
          0.7236980767093093,
          0.6791592407247534,
          0.6475413815742126,
          0.6371534621585847,
          0.6590419162829083,
          0.7081461515421114,
          0.7318680350311788,
          0.7482300837639869,
          0.7446014875840853,
          0.6964610174099374,
          0.6563867827367649,
          0.6399901294194354,
          0.6252882393155837,
          0.6555707829754579,
          0.6896213931165764,
          0.7465684553604394,
          0.7749059086597918,
          0.8270162941476898,
          0.8679479109206125,
          0.8885676380469932,
          0.9432188651837758,
          0.9971517021144257,
          1.0399018900706158,
          1.0844165646513493,
          1.1189891123306992,
          1.1499152351858295,
          1.2104275541525578,
          1.282225475151103,
          1.3489638177699048,
          1.4052259747276812,
          1.48036338365219,
          1.5631214829252116,
          1.6376376339960315,
          1.73656977555391,
          1.7820580749968382,
          1.8168447624692052,
          1.8631297652187304,
          1.8869873049015105,
          1.9204210060084546,
          1.9616021108231778,
          2.0041330306548084,
          2.056093500634748,
          2.105188412542475
         ],
         "yaxis": "y"
        }
       ],
       "layout": {
        "barmode": "relative",
        "legend": {
         "title": {
          "text": "variable"
         },
         "tracegroupgap": 0
        },
        "margin": {
         "t": 60
        },
        "template": {
         "data": {
          "bar": [
           {
            "error_x": {
             "color": "#2a3f5f"
            },
            "error_y": {
             "color": "#2a3f5f"
            },
            "marker": {
             "line": {
              "color": "#E5ECF6",
              "width": 0.5
             }
            },
            "type": "bar"
           }
          ],
          "barpolar": [
           {
            "marker": {
             "line": {
              "color": "#E5ECF6",
              "width": 0.5
             }
            },
            "type": "barpolar"
           }
          ],
          "carpet": [
           {
            "aaxis": {
             "endlinecolor": "#2a3f5f",
             "gridcolor": "white",
             "linecolor": "white",
             "minorgridcolor": "white",
             "startlinecolor": "#2a3f5f"
            },
            "baxis": {
             "endlinecolor": "#2a3f5f",
             "gridcolor": "white",
             "linecolor": "white",
             "minorgridcolor": "white",
             "startlinecolor": "#2a3f5f"
            },
            "type": "carpet"
           }
          ],
          "choropleth": [
           {
            "colorbar": {
             "outlinewidth": 0,
             "ticks": ""
            },
            "type": "choropleth"
           }
          ],
          "contour": [
           {
            "colorbar": {
             "outlinewidth": 0,
             "ticks": ""
            },
            "colorscale": [
             [
              0,
              "#0d0887"
             ],
             [
              0.1111111111111111,
              "#46039f"
             ],
             [
              0.2222222222222222,
              "#7201a8"
             ],
             [
              0.3333333333333333,
              "#9c179e"
             ],
             [
              0.4444444444444444,
              "#bd3786"
             ],
             [
              0.5555555555555556,
              "#d8576b"
             ],
             [
              0.6666666666666666,
              "#ed7953"
             ],
             [
              0.7777777777777778,
              "#fb9f3a"
             ],
             [
              0.8888888888888888,
              "#fdca26"
             ],
             [
              1,
              "#f0f921"
             ]
            ],
            "type": "contour"
           }
          ],
          "contourcarpet": [
           {
            "colorbar": {
             "outlinewidth": 0,
             "ticks": ""
            },
            "type": "contourcarpet"
           }
          ],
          "heatmap": [
           {
            "colorbar": {
             "outlinewidth": 0,
             "ticks": ""
            },
            "colorscale": [
             [
              0,
              "#0d0887"
             ],
             [
              0.1111111111111111,
              "#46039f"
             ],
             [
              0.2222222222222222,
              "#7201a8"
             ],
             [
              0.3333333333333333,
              "#9c179e"
             ],
             [
              0.4444444444444444,
              "#bd3786"
             ],
             [
              0.5555555555555556,
              "#d8576b"
             ],
             [
              0.6666666666666666,
              "#ed7953"
             ],
             [
              0.7777777777777778,
              "#fb9f3a"
             ],
             [
              0.8888888888888888,
              "#fdca26"
             ],
             [
              1,
              "#f0f921"
             ]
            ],
            "type": "heatmap"
           }
          ],
          "heatmapgl": [
           {
            "colorbar": {
             "outlinewidth": 0,
             "ticks": ""
            },
            "colorscale": [
             [
              0,
              "#0d0887"
             ],
             [
              0.1111111111111111,
              "#46039f"
             ],
             [
              0.2222222222222222,
              "#7201a8"
             ],
             [
              0.3333333333333333,
              "#9c179e"
             ],
             [
              0.4444444444444444,
              "#bd3786"
             ],
             [
              0.5555555555555556,
              "#d8576b"
             ],
             [
              0.6666666666666666,
              "#ed7953"
             ],
             [
              0.7777777777777778,
              "#fb9f3a"
             ],
             [
              0.8888888888888888,
              "#fdca26"
             ],
             [
              1,
              "#f0f921"
             ]
            ],
            "type": "heatmapgl"
           }
          ],
          "histogram": [
           {
            "marker": {
             "colorbar": {
              "outlinewidth": 0,
              "ticks": ""
             }
            },
            "type": "histogram"
           }
          ],
          "histogram2d": [
           {
            "colorbar": {
             "outlinewidth": 0,
             "ticks": ""
            },
            "colorscale": [
             [
              0,
              "#0d0887"
             ],
             [
              0.1111111111111111,
              "#46039f"
             ],
             [
              0.2222222222222222,
              "#7201a8"
             ],
             [
              0.3333333333333333,
              "#9c179e"
             ],
             [
              0.4444444444444444,
              "#bd3786"
             ],
             [
              0.5555555555555556,
              "#d8576b"
             ],
             [
              0.6666666666666666,
              "#ed7953"
             ],
             [
              0.7777777777777778,
              "#fb9f3a"
             ],
             [
              0.8888888888888888,
              "#fdca26"
             ],
             [
              1,
              "#f0f921"
             ]
            ],
            "type": "histogram2d"
           }
          ],
          "histogram2dcontour": [
           {
            "colorbar": {
             "outlinewidth": 0,
             "ticks": ""
            },
            "colorscale": [
             [
              0,
              "#0d0887"
             ],
             [
              0.1111111111111111,
              "#46039f"
             ],
             [
              0.2222222222222222,
              "#7201a8"
             ],
             [
              0.3333333333333333,
              "#9c179e"
             ],
             [
              0.4444444444444444,
              "#bd3786"
             ],
             [
              0.5555555555555556,
              "#d8576b"
             ],
             [
              0.6666666666666666,
              "#ed7953"
             ],
             [
              0.7777777777777778,
              "#fb9f3a"
             ],
             [
              0.8888888888888888,
              "#fdca26"
             ],
             [
              1,
              "#f0f921"
             ]
            ],
            "type": "histogram2dcontour"
           }
          ],
          "mesh3d": [
           {
            "colorbar": {
             "outlinewidth": 0,
             "ticks": ""
            },
            "type": "mesh3d"
           }
          ],
          "parcoords": [
           {
            "line": {
             "colorbar": {
              "outlinewidth": 0,
              "ticks": ""
             }
            },
            "type": "parcoords"
           }
          ],
          "pie": [
           {
            "automargin": true,
            "type": "pie"
           }
          ],
          "scatter": [
           {
            "marker": {
             "colorbar": {
              "outlinewidth": 0,
              "ticks": ""
             }
            },
            "type": "scatter"
           }
          ],
          "scatter3d": [
           {
            "line": {
             "colorbar": {
              "outlinewidth": 0,
              "ticks": ""
             }
            },
            "marker": {
             "colorbar": {
              "outlinewidth": 0,
              "ticks": ""
             }
            },
            "type": "scatter3d"
           }
          ],
          "scattercarpet": [
           {
            "marker": {
             "colorbar": {
              "outlinewidth": 0,
              "ticks": ""
             }
            },
            "type": "scattercarpet"
           }
          ],
          "scattergeo": [
           {
            "marker": {
             "colorbar": {
              "outlinewidth": 0,
              "ticks": ""
             }
            },
            "type": "scattergeo"
           }
          ],
          "scattergl": [
           {
            "marker": {
             "colorbar": {
              "outlinewidth": 0,
              "ticks": ""
             }
            },
            "type": "scattergl"
           }
          ],
          "scattermapbox": [
           {
            "marker": {
             "colorbar": {
              "outlinewidth": 0,
              "ticks": ""
             }
            },
            "type": "scattermapbox"
           }
          ],
          "scatterpolar": [
           {
            "marker": {
             "colorbar": {
              "outlinewidth": 0,
              "ticks": ""
             }
            },
            "type": "scatterpolar"
           }
          ],
          "scatterpolargl": [
           {
            "marker": {
             "colorbar": {
              "outlinewidth": 0,
              "ticks": ""
             }
            },
            "type": "scatterpolargl"
           }
          ],
          "scatterternary": [
           {
            "marker": {
             "colorbar": {
              "outlinewidth": 0,
              "ticks": ""
             }
            },
            "type": "scatterternary"
           }
          ],
          "surface": [
           {
            "colorbar": {
             "outlinewidth": 0,
             "ticks": ""
            },
            "colorscale": [
             [
              0,
              "#0d0887"
             ],
             [
              0.1111111111111111,
              "#46039f"
             ],
             [
              0.2222222222222222,
              "#7201a8"
             ],
             [
              0.3333333333333333,
              "#9c179e"
             ],
             [
              0.4444444444444444,
              "#bd3786"
             ],
             [
              0.5555555555555556,
              "#d8576b"
             ],
             [
              0.6666666666666666,
              "#ed7953"
             ],
             [
              0.7777777777777778,
              "#fb9f3a"
             ],
             [
              0.8888888888888888,
              "#fdca26"
             ],
             [
              1,
              "#f0f921"
             ]
            ],
            "type": "surface"
           }
          ],
          "table": [
           {
            "cells": {
             "fill": {
              "color": "#EBF0F8"
             },
             "line": {
              "color": "white"
             }
            },
            "header": {
             "fill": {
              "color": "#C8D4E3"
             },
             "line": {
              "color": "white"
             }
            },
            "type": "table"
           }
          ]
         },
         "layout": {
          "annotationdefaults": {
           "arrowcolor": "#2a3f5f",
           "arrowhead": 0,
           "arrowwidth": 1
          },
          "autotypenumbers": "strict",
          "coloraxis": {
           "colorbar": {
            "outlinewidth": 0,
            "ticks": ""
           }
          },
          "colorscale": {
           "diverging": [
            [
             0,
             "#8e0152"
            ],
            [
             0.1,
             "#c51b7d"
            ],
            [
             0.2,
             "#de77ae"
            ],
            [
             0.3,
             "#f1b6da"
            ],
            [
             0.4,
             "#fde0ef"
            ],
            [
             0.5,
             "#f7f7f7"
            ],
            [
             0.6,
             "#e6f5d0"
            ],
            [
             0.7,
             "#b8e186"
            ],
            [
             0.8,
             "#7fbc41"
            ],
            [
             0.9,
             "#4d9221"
            ],
            [
             1,
             "#276419"
            ]
           ],
           "sequential": [
            [
             0,
             "#0d0887"
            ],
            [
             0.1111111111111111,
             "#46039f"
            ],
            [
             0.2222222222222222,
             "#7201a8"
            ],
            [
             0.3333333333333333,
             "#9c179e"
            ],
            [
             0.4444444444444444,
             "#bd3786"
            ],
            [
             0.5555555555555556,
             "#d8576b"
            ],
            [
             0.6666666666666666,
             "#ed7953"
            ],
            [
             0.7777777777777778,
             "#fb9f3a"
            ],
            [
             0.8888888888888888,
             "#fdca26"
            ],
            [
             1,
             "#f0f921"
            ]
           ],
           "sequentialminus": [
            [
             0,
             "#0d0887"
            ],
            [
             0.1111111111111111,
             "#46039f"
            ],
            [
             0.2222222222222222,
             "#7201a8"
            ],
            [
             0.3333333333333333,
             "#9c179e"
            ],
            [
             0.4444444444444444,
             "#bd3786"
            ],
            [
             0.5555555555555556,
             "#d8576b"
            ],
            [
             0.6666666666666666,
             "#ed7953"
            ],
            [
             0.7777777777777778,
             "#fb9f3a"
            ],
            [
             0.8888888888888888,
             "#fdca26"
            ],
            [
             1,
             "#f0f921"
            ]
           ]
          },
          "colorway": [
           "#636efa",
           "#EF553B",
           "#00cc96",
           "#ab63fa",
           "#FFA15A",
           "#19d3f3",
           "#FF6692",
           "#B6E880",
           "#FF97FF",
           "#FECB52"
          ],
          "font": {
           "color": "#2a3f5f"
          },
          "geo": {
           "bgcolor": "white",
           "lakecolor": "white",
           "landcolor": "#E5ECF6",
           "showlakes": true,
           "showland": true,
           "subunitcolor": "white"
          },
          "hoverlabel": {
           "align": "left"
          },
          "hovermode": "closest",
          "mapbox": {
           "style": "light"
          },
          "paper_bgcolor": "white",
          "plot_bgcolor": "#E5ECF6",
          "polar": {
           "angularaxis": {
            "gridcolor": "white",
            "linecolor": "white",
            "ticks": ""
           },
           "bgcolor": "#E5ECF6",
           "radialaxis": {
            "gridcolor": "white",
            "linecolor": "white",
            "ticks": ""
           }
          },
          "scene": {
           "xaxis": {
            "backgroundcolor": "#E5ECF6",
            "gridcolor": "white",
            "gridwidth": 2,
            "linecolor": "white",
            "showbackground": true,
            "ticks": "",
            "zerolinecolor": "white"
           },
           "yaxis": {
            "backgroundcolor": "#E5ECF6",
            "gridcolor": "white",
            "gridwidth": 2,
            "linecolor": "white",
            "showbackground": true,
            "ticks": "",
            "zerolinecolor": "white"
           },
           "zaxis": {
            "backgroundcolor": "#E5ECF6",
            "gridcolor": "white",
            "gridwidth": 2,
            "linecolor": "white",
            "showbackground": true,
            "ticks": "",
            "zerolinecolor": "white"
           }
          },
          "shapedefaults": {
           "line": {
            "color": "#2a3f5f"
           }
          },
          "ternary": {
           "aaxis": {
            "gridcolor": "white",
            "linecolor": "white",
            "ticks": ""
           },
           "baxis": {
            "gridcolor": "white",
            "linecolor": "white",
            "ticks": ""
           },
           "bgcolor": "#E5ECF6",
           "caxis": {
            "gridcolor": "white",
            "linecolor": "white",
            "ticks": ""
           }
          },
          "title": {
           "x": 0.05
          },
          "xaxis": {
           "automargin": true,
           "gridcolor": "white",
           "linecolor": "white",
           "ticks": "",
           "title": {
            "standoff": 15
           },
           "zerolinecolor": "white",
           "zerolinewidth": 2
          },
          "yaxis": {
           "automargin": true,
           "gridcolor": "white",
           "linecolor": "white",
           "ticks": "",
           "title": {
            "standoff": 15
           },
           "zerolinecolor": "white",
           "zerolinewidth": 2
          }
         }
        },
        "xaxis": {
         "anchor": "y",
         "domain": [
          0,
          1
         ],
         "title": {
          "text": "era"
         }
        },
        "yaxis": {
         "anchor": "x",
         "domain": [
          0,
          1
         ],
         "title": {
          "text": "value"
         }
        }
       }
      }
     },
     "metadata": {},
     "output_type": "display_data"
    }
   ],
   "source": [
    "# cumulative sum of era correlations\n",
    "# we can see that the catboost model is better than the linear regression model\n",
    "cum_sum = np.cumsum(era_correlations)\n",
    "\n",
    "fig = px.bar(cum_sum)\n",
    "fig.show()"
   ]
  }
 ],
 "metadata": {
  "interpreter": {
   "hash": "267346d9ef0f8ce9568b902ebd2ee251cdbd08c61c5c10b1ddcff464743f099a"
  },
  "kernelspec": {
   "display_name": "Python 3.8.10 64-bit (windows store)",
   "name": "python3"
  },
  "language_info": {
   "codemirror_mode": {
    "name": "ipython",
    "version": 3
   },
   "file_extension": ".py",
   "mimetype": "text/x-python",
   "name": "python",
   "nbconvert_exporter": "python",
   "pygments_lexer": "ipython3",
   "version": "3.8.10"
  },
  "orig_nbformat": 4
 },
 "nbformat": 4,
 "nbformat_minor": 2
}
